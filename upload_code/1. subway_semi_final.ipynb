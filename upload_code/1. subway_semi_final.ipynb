{
 "cells": [
  {
   "cell_type": "markdown",
   "metadata": {},
   "source": [
    "**OS path**\n",
    "- 학원 노트북용 --> C:/Users/Playdata/Playdata_anl/1st_Project/dataset/subway\n",
    "- 개인 노트북용 --> C:/Users/Brian/Desktop/playdata/Playdata_anl/1st_Project/dataset/subway"
   ]
  },
  {
   "cell_type": "markdown",
   "metadata": {},
   "source": [
    "### subway_boarding_2017~2019 데이터 셋 결합\n",
    "- subway_boarding_total 데이터 셋 생성"
   ]
  },
  {
   "cell_type": "code",
   "execution_count": 1,
   "metadata": {
    "ExecuteTime": {
     "end_time": "2020-07-08T03:29:14.651112Z",
     "start_time": "2020-07-08T03:26:24.109879Z"
    }
   },
   "outputs": [],
   "source": [
    "import pandas as pd\n",
    "\n",
    "subway_boarding_2017 = pd.read_excel(\"C:/Users/Playdata/Playdata_anl/1st_Project/dataset/subway/subway_boarding_2017.xlsx\")\n",
    "subway_boarding_2018 = pd.read_excel(\"C:/Users/Playdata/Playdata_anl/1st_Project/dataset/subway/subway_boarding_2018.xlsx\")\n",
    "subway_boarding_2019 = pd.read_excel(\"C:/Users/Playdata/Playdata_anl/1st_Project/dataset/subway/subway_boarding_2019.xlsx\")"
   ]
  },
  {
   "cell_type": "code",
   "execution_count": 2,
   "metadata": {
    "ExecuteTime": {
     "end_time": "2020-07-08T03:34:52.033760Z",
     "start_time": "2020-07-08T03:29:14.651112Z"
    }
   },
   "outputs": [
    {
     "data": {
      "application/vnd.jupyter.widget-view+json": {
       "model_id": "9f7fd54d39434a36acf54f835fc7f3e9",
       "version_major": 2,
       "version_minor": 0
      },
      "text/plain": [
       "HBox(children=(FloatProgress(value=0.0, max=200750.0), HTML(value='')))"
      ]
     },
     "metadata": {},
     "output_type": "display_data"
    },
    {
     "name": "stdout",
     "output_type": "stream",
     "text": [
      "\n"
     ]
    },
    {
     "data": {
      "text/plain": [
       "7호선    37230\n",
       "5호선    37230\n",
       "2호선    36500\n",
       "6호선    27010\n",
       "3호선    24090\n",
       "4호선    18980\n",
       "8호선    12410\n",
       "1호선     7300\n",
       "Name: line, dtype: int64"
      ]
     },
     "execution_count": 2,
     "metadata": {},
     "output_type": "execute_result"
    }
   ],
   "source": [
    "# subway_boarding_2017 데이터 셋의 line 변수 뒤에 \"호선\"을 붙여주기\n",
    "# 2018~2019년도 데이터 셋은 \"호선\"이 붙여져 있으므로 해 줄 필요 없음!!\n",
    "from tqdm.notebook import tqdm\n",
    "\n",
    "for i in tqdm(range(len(subway_boarding_2017))):\n",
    "    subway_boarding_2017['line'][i] = str(subway_boarding_2017['line'][i]) + \"호선\"\n",
    "    \n",
    "subway_boarding_2017['line'].value_counts()"
   ]
  },
  {
   "cell_type": "code",
   "execution_count": 3,
   "metadata": {
    "ExecuteTime": {
     "end_time": "2020-07-08T03:34:52.970909Z",
     "start_time": "2020-07-08T03:34:52.036754Z"
    }
   },
   "outputs": [],
   "source": [
    "# 2017~2019년도 데이터 셋 결합\n",
    "subway_boarding_total = pd.concat([subway_boarding_2017, subway_boarding_2018, subway_boarding_2019], axis = 0)"
   ]
  },
  {
   "cell_type": "code",
   "execution_count": 4,
   "metadata": {
    "ExecuteTime": {
     "end_time": "2020-07-08T03:34:52.978888Z",
     "start_time": "2020-07-08T03:34:52.973901Z"
    }
   },
   "outputs": [],
   "source": [
    "# xlsx 파일로 내보내기\n",
    "subway_boarding_total.to_excel(\"C:/Users/Brian/Desktop/playdata/Playdata_anl/1st_Project/dataset/subway/subway_boarding_total.xlsx\")"
   ]
  },
  {
   "cell_type": "code",
   "execution_count": 5,
   "metadata": {
    "ExecuteTime": {
     "end_time": "2020-07-08T03:34:53.752439Z",
     "start_time": "2020-07-08T03:34:52.981880Z"
    },
    "scrolled": true
   },
   "outputs": [
    {
     "name": "stdout",
     "output_type": "stream",
     "text": [
      "<class 'pandas.core.frame.DataFrame'>\n",
      "Int64Index: 602304 entries, 0 to 200803\n",
      "Data columns (total 26 columns):\n",
      " #   Column        Non-Null Count   Dtype         \n",
      "---  ------        --------------   -----         \n",
      " 0   date          602304 non-null  datetime64[ns]\n",
      " 1   line          602304 non-null  object        \n",
      " 2   station_num   602304 non-null  int64         \n",
      " 3   station_name  602304 non-null  object        \n",
      " 4   boarding      602304 non-null  object        \n",
      " 5   05~06         602304 non-null  int64         \n",
      " 6   06~07         602304 non-null  int64         \n",
      " 7   07~08         602304 non-null  int64         \n",
      " 8   08~09         602304 non-null  int64         \n",
      " 9   09~10         602304 non-null  int64         \n",
      " 10  10~11         602304 non-null  int64         \n",
      " 11  11~12         602304 non-null  int64         \n",
      " 12  12~13         602304 non-null  int64         \n",
      " 13  13~14         602304 non-null  int64         \n",
      " 14  14~15         602304 non-null  int64         \n",
      " 15  15~16         602304 non-null  int64         \n",
      " 16  16~17         602304 non-null  int64         \n",
      " 17  17~18         602304 non-null  int64         \n",
      " 18  18~19         602304 non-null  int64         \n",
      " 19  19~20         602304 non-null  int64         \n",
      " 20  20~21         602304 non-null  int64         \n",
      " 21  21~22         602304 non-null  int64         \n",
      " 22  22~23         602304 non-null  int64         \n",
      " 23  23~24         602304 non-null  int64         \n",
      " 24  00~01         602304 non-null  int64         \n",
      " 25  total         602304 non-null  int64         \n",
      "dtypes: datetime64[ns](1), int64(22), object(3)\n",
      "memory usage: 124.1+ MB\n"
     ]
    }
   ],
   "source": [
    "# date 변수의 타입을 datetime으로 변경\n",
    "subway_boarding_total['date'] = pd.to_datetime(subway_boarding_total['date'])\n",
    "subway_boarding_total.info()"
   ]
  },
  {
   "cell_type": "code",
   "execution_count": 6,
   "metadata": {
    "ExecuteTime": {
     "end_time": "2020-07-08T03:34:53.951904Z",
     "start_time": "2020-07-08T03:34:53.755431Z"
    }
   },
   "outputs": [],
   "source": [
    "# date를 기준으로 오름차순 정렬\n",
    "subway_boarding_total.sort_values(by = 'date', inplace = True)"
   ]
  },
  {
   "cell_type": "code",
   "execution_count": 7,
   "metadata": {
    "ExecuteTime": {
     "end_time": "2020-07-08T03:34:53.998798Z",
     "start_time": "2020-07-08T03:34:53.957908Z"
    }
   },
   "outputs": [
    {
     "data": {
      "text/html": [
       "<div>\n",
       "<style scoped>\n",
       "    .dataframe tbody tr th:only-of-type {\n",
       "        vertical-align: middle;\n",
       "    }\n",
       "\n",
       "    .dataframe tbody tr th {\n",
       "        vertical-align: top;\n",
       "    }\n",
       "\n",
       "    .dataframe thead th {\n",
       "        text-align: right;\n",
       "    }\n",
       "</style>\n",
       "<table border=\"1\" class=\"dataframe\">\n",
       "  <thead>\n",
       "    <tr style=\"text-align: right;\">\n",
       "      <th></th>\n",
       "      <th>date</th>\n",
       "      <th>line</th>\n",
       "      <th>station_num</th>\n",
       "      <th>station_name</th>\n",
       "      <th>boarding</th>\n",
       "      <th>05~06</th>\n",
       "      <th>06~07</th>\n",
       "      <th>07~08</th>\n",
       "      <th>08~09</th>\n",
       "      <th>09~10</th>\n",
       "      <th>...</th>\n",
       "      <th>16~17</th>\n",
       "      <th>17~18</th>\n",
       "      <th>18~19</th>\n",
       "      <th>19~20</th>\n",
       "      <th>20~21</th>\n",
       "      <th>21~22</th>\n",
       "      <th>22~23</th>\n",
       "      <th>23~24</th>\n",
       "      <th>00~01</th>\n",
       "      <th>total</th>\n",
       "    </tr>\n",
       "  </thead>\n",
       "  <tbody>\n",
       "    <tr>\n",
       "      <th>0</th>\n",
       "      <td>2017-01-01</td>\n",
       "      <td>1호선</td>\n",
       "      <td>150</td>\n",
       "      <td>서울역</td>\n",
       "      <td>승차</td>\n",
       "      <td>470</td>\n",
       "      <td>286</td>\n",
       "      <td>397</td>\n",
       "      <td>786</td>\n",
       "      <td>1421</td>\n",
       "      <td>...</td>\n",
       "      <td>3610</td>\n",
       "      <td>3858</td>\n",
       "      <td>3376</td>\n",
       "      <td>3384</td>\n",
       "      <td>2537</td>\n",
       "      <td>3914</td>\n",
       "      <td>2660</td>\n",
       "      <td>917</td>\n",
       "      <td>112</td>\n",
       "      <td>43267</td>\n",
       "    </tr>\n",
       "    <tr>\n",
       "      <th>375</th>\n",
       "      <td>2017-01-01</td>\n",
       "      <td>6호선</td>\n",
       "      <td>2629</td>\n",
       "      <td>삼각지</td>\n",
       "      <td>하차</td>\n",
       "      <td>36</td>\n",
       "      <td>72</td>\n",
       "      <td>53</td>\n",
       "      <td>99</td>\n",
       "      <td>134</td>\n",
       "      <td>...</td>\n",
       "      <td>173</td>\n",
       "      <td>163</td>\n",
       "      <td>141</td>\n",
       "      <td>121</td>\n",
       "      <td>124</td>\n",
       "      <td>131</td>\n",
       "      <td>142</td>\n",
       "      <td>88</td>\n",
       "      <td>7</td>\n",
       "      <td>2416</td>\n",
       "    </tr>\n",
       "    <tr>\n",
       "      <th>374</th>\n",
       "      <td>2017-01-01</td>\n",
       "      <td>6호선</td>\n",
       "      <td>2629</td>\n",
       "      <td>삼각지</td>\n",
       "      <td>승차</td>\n",
       "      <td>58</td>\n",
       "      <td>79</td>\n",
       "      <td>45</td>\n",
       "      <td>75</td>\n",
       "      <td>102</td>\n",
       "      <td>...</td>\n",
       "      <td>319</td>\n",
       "      <td>414</td>\n",
       "      <td>285</td>\n",
       "      <td>160</td>\n",
       "      <td>150</td>\n",
       "      <td>112</td>\n",
       "      <td>97</td>\n",
       "      <td>47</td>\n",
       "      <td>0</td>\n",
       "      <td>3350</td>\n",
       "    </tr>\n",
       "    <tr>\n",
       "      <th>373</th>\n",
       "      <td>2017-01-01</td>\n",
       "      <td>6호선</td>\n",
       "      <td>2628</td>\n",
       "      <td>효창공원앞</td>\n",
       "      <td>하차</td>\n",
       "      <td>24</td>\n",
       "      <td>92</td>\n",
       "      <td>79</td>\n",
       "      <td>94</td>\n",
       "      <td>169</td>\n",
       "      <td>...</td>\n",
       "      <td>220</td>\n",
       "      <td>217</td>\n",
       "      <td>197</td>\n",
       "      <td>220</td>\n",
       "      <td>155</td>\n",
       "      <td>156</td>\n",
       "      <td>150</td>\n",
       "      <td>99</td>\n",
       "      <td>8</td>\n",
       "      <td>2903</td>\n",
       "    </tr>\n",
       "    <tr>\n",
       "      <th>372</th>\n",
       "      <td>2017-01-01</td>\n",
       "      <td>6호선</td>\n",
       "      <td>2628</td>\n",
       "      <td>효창공원앞</td>\n",
       "      <td>승차</td>\n",
       "      <td>60</td>\n",
       "      <td>88</td>\n",
       "      <td>70</td>\n",
       "      <td>119</td>\n",
       "      <td>209</td>\n",
       "      <td>...</td>\n",
       "      <td>217</td>\n",
       "      <td>225</td>\n",
       "      <td>169</td>\n",
       "      <td>134</td>\n",
       "      <td>111</td>\n",
       "      <td>81</td>\n",
       "      <td>82</td>\n",
       "      <td>35</td>\n",
       "      <td>0</td>\n",
       "      <td>3082</td>\n",
       "    </tr>\n",
       "  </tbody>\n",
       "</table>\n",
       "<p>5 rows × 26 columns</p>\n",
       "</div>"
      ],
      "text/plain": [
       "          date line  station_num station_name boarding  05~06  06~07  07~08  \\\n",
       "0   2017-01-01  1호선          150          서울역       승차    470    286    397   \n",
       "375 2017-01-01  6호선         2629          삼각지       하차     36     72     53   \n",
       "374 2017-01-01  6호선         2629          삼각지       승차     58     79     45   \n",
       "373 2017-01-01  6호선         2628        효창공원앞       하차     24     92     79   \n",
       "372 2017-01-01  6호선         2628        효창공원앞       승차     60     88     70   \n",
       "\n",
       "     08~09  09~10  ...  16~17  17~18  18~19  19~20  20~21  21~22  22~23  \\\n",
       "0      786   1421  ...   3610   3858   3376   3384   2537   3914   2660   \n",
       "375     99    134  ...    173    163    141    121    124    131    142   \n",
       "374     75    102  ...    319    414    285    160    150    112     97   \n",
       "373     94    169  ...    220    217    197    220    155    156    150   \n",
       "372    119    209  ...    217    225    169    134    111     81     82   \n",
       "\n",
       "     23~24  00~01  total  \n",
       "0      917    112  43267  \n",
       "375     88      7   2416  \n",
       "374     47      0   3350  \n",
       "373     99      8   2903  \n",
       "372     35      0   3082  \n",
       "\n",
       "[5 rows x 26 columns]"
      ]
     },
     "execution_count": 7,
     "metadata": {},
     "output_type": "execute_result"
    }
   ],
   "source": [
    "subway_boarding_total.head()"
   ]
  },
  {
   "cell_type": "code",
   "execution_count": 8,
   "metadata": {
    "ExecuteTime": {
     "end_time": "2020-07-08T03:34:54.041665Z",
     "start_time": "2020-07-08T03:34:54.003765Z"
    }
   },
   "outputs": [
    {
     "data": {
      "text/html": [
       "<div>\n",
       "<style scoped>\n",
       "    .dataframe tbody tr th:only-of-type {\n",
       "        vertical-align: middle;\n",
       "    }\n",
       "\n",
       "    .dataframe tbody tr th {\n",
       "        vertical-align: top;\n",
       "    }\n",
       "\n",
       "    .dataframe thead th {\n",
       "        text-align: right;\n",
       "    }\n",
       "</style>\n",
       "<table border=\"1\" class=\"dataframe\">\n",
       "  <thead>\n",
       "    <tr style=\"text-align: right;\">\n",
       "      <th></th>\n",
       "      <th>date</th>\n",
       "      <th>line</th>\n",
       "      <th>station_num</th>\n",
       "      <th>station_name</th>\n",
       "      <th>boarding</th>\n",
       "      <th>05~06</th>\n",
       "      <th>06~07</th>\n",
       "      <th>07~08</th>\n",
       "      <th>08~09</th>\n",
       "      <th>09~10</th>\n",
       "      <th>...</th>\n",
       "      <th>16~17</th>\n",
       "      <th>17~18</th>\n",
       "      <th>18~19</th>\n",
       "      <th>19~20</th>\n",
       "      <th>20~21</th>\n",
       "      <th>21~22</th>\n",
       "      <th>22~23</th>\n",
       "      <th>23~24</th>\n",
       "      <th>00~01</th>\n",
       "      <th>total</th>\n",
       "    </tr>\n",
       "  </thead>\n",
       "  <tbody>\n",
       "    <tr>\n",
       "      <th>200436</th>\n",
       "      <td>2019-12-31</td>\n",
       "      <td>3호선</td>\n",
       "      <td>341</td>\n",
       "      <td>경찰병원</td>\n",
       "      <td>승차</td>\n",
       "      <td>69</td>\n",
       "      <td>218</td>\n",
       "      <td>802</td>\n",
       "      <td>998</td>\n",
       "      <td>542</td>\n",
       "      <td>...</td>\n",
       "      <td>562</td>\n",
       "      <td>668</td>\n",
       "      <td>653</td>\n",
       "      <td>293</td>\n",
       "      <td>233</td>\n",
       "      <td>191</td>\n",
       "      <td>166</td>\n",
       "      <td>74</td>\n",
       "      <td>17</td>\n",
       "      <td>8183</td>\n",
       "    </tr>\n",
       "    <tr>\n",
       "      <th>200437</th>\n",
       "      <td>2019-12-31</td>\n",
       "      <td>3호선</td>\n",
       "      <td>341</td>\n",
       "      <td>경찰병원</td>\n",
       "      <td>하차</td>\n",
       "      <td>13</td>\n",
       "      <td>108</td>\n",
       "      <td>253</td>\n",
       "      <td>1201</td>\n",
       "      <td>580</td>\n",
       "      <td>...</td>\n",
       "      <td>465</td>\n",
       "      <td>600</td>\n",
       "      <td>678</td>\n",
       "      <td>532</td>\n",
       "      <td>334</td>\n",
       "      <td>280</td>\n",
       "      <td>308</td>\n",
       "      <td>159</td>\n",
       "      <td>110</td>\n",
       "      <td>7879</td>\n",
       "    </tr>\n",
       "    <tr>\n",
       "      <th>200438</th>\n",
       "      <td>2019-12-31</td>\n",
       "      <td>3호선</td>\n",
       "      <td>342</td>\n",
       "      <td>오금</td>\n",
       "      <td>승차</td>\n",
       "      <td>120</td>\n",
       "      <td>243</td>\n",
       "      <td>922</td>\n",
       "      <td>1182</td>\n",
       "      <td>534</td>\n",
       "      <td>...</td>\n",
       "      <td>331</td>\n",
       "      <td>387</td>\n",
       "      <td>422</td>\n",
       "      <td>198</td>\n",
       "      <td>145</td>\n",
       "      <td>138</td>\n",
       "      <td>148</td>\n",
       "      <td>68</td>\n",
       "      <td>19</td>\n",
       "      <td>6745</td>\n",
       "    </tr>\n",
       "    <tr>\n",
       "      <th>200432</th>\n",
       "      <td>2019-12-31</td>\n",
       "      <td>3호선</td>\n",
       "      <td>339</td>\n",
       "      <td>수서</td>\n",
       "      <td>승차</td>\n",
       "      <td>170</td>\n",
       "      <td>438</td>\n",
       "      <td>1285</td>\n",
       "      <td>1621</td>\n",
       "      <td>1007</td>\n",
       "      <td>...</td>\n",
       "      <td>1412</td>\n",
       "      <td>1470</td>\n",
       "      <td>1708</td>\n",
       "      <td>990</td>\n",
       "      <td>827</td>\n",
       "      <td>605</td>\n",
       "      <td>586</td>\n",
       "      <td>297</td>\n",
       "      <td>112</td>\n",
       "      <td>18904</td>\n",
       "    </tr>\n",
       "    <tr>\n",
       "      <th>200803</th>\n",
       "      <td>2019-12-31</td>\n",
       "      <td>8호선</td>\n",
       "      <td>2827</td>\n",
       "      <td>모란</td>\n",
       "      <td>하차</td>\n",
       "      <td>15</td>\n",
       "      <td>99</td>\n",
       "      <td>140</td>\n",
       "      <td>386</td>\n",
       "      <td>189</td>\n",
       "      <td>...</td>\n",
       "      <td>306</td>\n",
       "      <td>277</td>\n",
       "      <td>403</td>\n",
       "      <td>279</td>\n",
       "      <td>213</td>\n",
       "      <td>195</td>\n",
       "      <td>186</td>\n",
       "      <td>130</td>\n",
       "      <td>407</td>\n",
       "      <td>4436</td>\n",
       "    </tr>\n",
       "  </tbody>\n",
       "</table>\n",
       "<p>5 rows × 26 columns</p>\n",
       "</div>"
      ],
      "text/plain": [
       "             date line  station_num station_name boarding  05~06  06~07  \\\n",
       "200436 2019-12-31  3호선          341         경찰병원       승차     69    218   \n",
       "200437 2019-12-31  3호선          341         경찰병원       하차     13    108   \n",
       "200438 2019-12-31  3호선          342           오금       승차    120    243   \n",
       "200432 2019-12-31  3호선          339           수서       승차    170    438   \n",
       "200803 2019-12-31  8호선         2827           모란       하차     15     99   \n",
       "\n",
       "        07~08  08~09  09~10  ...  16~17  17~18  18~19  19~20  20~21  21~22  \\\n",
       "200436    802    998    542  ...    562    668    653    293    233    191   \n",
       "200437    253   1201    580  ...    465    600    678    532    334    280   \n",
       "200438    922   1182    534  ...    331    387    422    198    145    138   \n",
       "200432   1285   1621   1007  ...   1412   1470   1708    990    827    605   \n",
       "200803    140    386    189  ...    306    277    403    279    213    195   \n",
       "\n",
       "        22~23  23~24  00~01  total  \n",
       "200436    166     74     17   8183  \n",
       "200437    308    159    110   7879  \n",
       "200438    148     68     19   6745  \n",
       "200432    586    297    112  18904  \n",
       "200803    186    130    407   4436  \n",
       "\n",
       "[5 rows x 26 columns]"
      ]
     },
     "execution_count": 8,
     "metadata": {},
     "output_type": "execute_result"
    }
   ],
   "source": [
    "subway_boarding_total.tail()"
   ]
  },
  {
   "cell_type": "markdown",
   "metadata": {},
   "source": [
    "**subway_area_final, subway_address_final 데이터 셋 불러오기**"
   ]
  },
  {
   "cell_type": "code",
   "execution_count": 9,
   "metadata": {
    "ExecuteTime": {
     "end_time": "2020-07-08T03:34:54.168326Z",
     "start_time": "2020-07-08T03:34:54.045656Z"
    }
   },
   "outputs": [],
   "source": [
    "subway_area = pd.read_excel(\"C:/Users/Playdata/Playdata_anl/1st_Project/dataset/subway/subway_area_final.xlsx\")\n",
    "subway_address = pd.read_excel(\"C:/Users/Playdata/Playdata_anl/1st_Project/dataset/subway/subway_address_final.xlsx\")"
   ]
  },
  {
   "cell_type": "markdown",
   "metadata": {},
   "source": [
    "### subway_area_final + subway_address_final (데이터 셋 결합)\n",
    "- subway_area_final 데이터 셋에는 \"신내\"역이 존재하지만, subway_address_final 데이터 셋에는 \"신내\"역이 존재하지 않는다.\n",
    "- 그래서 **subway_address_final.csv 파일에 \"신내\"역에 대한 주소를 찾아서 직접 넣어주었다!!**\n",
    "    - **<신내역 주소 출처>** - https://namu.wiki/w/%EC%8B%A0%EB%82%B4%EC%97%AD"
   ]
  },
  {
   "cell_type": "code",
   "execution_count": 10,
   "metadata": {
    "ExecuteTime": {
     "end_time": "2020-07-08T03:34:54.191267Z",
     "start_time": "2020-07-08T03:34:54.170320Z"
    }
   },
   "outputs": [
    {
     "data": {
      "text/html": [
       "<div>\n",
       "<style scoped>\n",
       "    .dataframe tbody tr th:only-of-type {\n",
       "        vertical-align: middle;\n",
       "    }\n",
       "\n",
       "    .dataframe tbody tr th {\n",
       "        vertical-align: top;\n",
       "    }\n",
       "\n",
       "    .dataframe thead th {\n",
       "        text-align: right;\n",
       "    }\n",
       "</style>\n",
       "<table border=\"1\" class=\"dataframe\">\n",
       "  <thead>\n",
       "    <tr style=\"text-align: right;\">\n",
       "      <th></th>\n",
       "      <th>line</th>\n",
       "      <th>station_name</th>\n",
       "      <th>type</th>\n",
       "      <th>area</th>\n",
       "    </tr>\n",
       "  </thead>\n",
       "  <tbody>\n",
       "    <tr>\n",
       "      <th>0</th>\n",
       "      <td>1</td>\n",
       "      <td>서울역</td>\n",
       "      <td>섬식</td>\n",
       "      <td>10805.00</td>\n",
       "    </tr>\n",
       "    <tr>\n",
       "      <th>1</th>\n",
       "      <td>1</td>\n",
       "      <td>시청</td>\n",
       "      <td>상대식</td>\n",
       "      <td>11317.00</td>\n",
       "    </tr>\n",
       "    <tr>\n",
       "      <th>2</th>\n",
       "      <td>1</td>\n",
       "      <td>종각</td>\n",
       "      <td>상대식</td>\n",
       "      <td>10410.24</td>\n",
       "    </tr>\n",
       "    <tr>\n",
       "      <th>3</th>\n",
       "      <td>1</td>\n",
       "      <td>종로3가</td>\n",
       "      <td>상대식</td>\n",
       "      <td>9311.00</td>\n",
       "    </tr>\n",
       "    <tr>\n",
       "      <th>4</th>\n",
       "      <td>1</td>\n",
       "      <td>종로5가</td>\n",
       "      <td>상대식</td>\n",
       "      <td>10465.00</td>\n",
       "    </tr>\n",
       "    <tr>\n",
       "      <th>...</th>\n",
       "      <td>...</td>\n",
       "      <td>...</td>\n",
       "      <td>...</td>\n",
       "      <td>...</td>\n",
       "    </tr>\n",
       "    <tr>\n",
       "      <th>286</th>\n",
       "      <td>9</td>\n",
       "      <td>송파나루</td>\n",
       "      <td>섬식</td>\n",
       "      <td>7833.29</td>\n",
       "    </tr>\n",
       "    <tr>\n",
       "      <th>287</th>\n",
       "      <td>9</td>\n",
       "      <td>한성백제</td>\n",
       "      <td>섬식</td>\n",
       "      <td>8954.96</td>\n",
       "    </tr>\n",
       "    <tr>\n",
       "      <th>288</th>\n",
       "      <td>9</td>\n",
       "      <td>올림픽공원(한국체대)</td>\n",
       "      <td>섬식</td>\n",
       "      <td>8372.08</td>\n",
       "    </tr>\n",
       "    <tr>\n",
       "      <th>289</th>\n",
       "      <td>9</td>\n",
       "      <td>둔촌오륜</td>\n",
       "      <td>섬식</td>\n",
       "      <td>7544.33</td>\n",
       "    </tr>\n",
       "    <tr>\n",
       "      <th>290</th>\n",
       "      <td>9</td>\n",
       "      <td>중앙보훈병원</td>\n",
       "      <td>복합식</td>\n",
       "      <td>8956.00</td>\n",
       "    </tr>\n",
       "  </tbody>\n",
       "</table>\n",
       "<p>291 rows × 4 columns</p>\n",
       "</div>"
      ],
      "text/plain": [
       "     line station_name type      area\n",
       "0       1          서울역   섬식  10805.00\n",
       "1       1           시청  상대식  11317.00\n",
       "2       1           종각  상대식  10410.24\n",
       "3       1         종로3가  상대식   9311.00\n",
       "4       1         종로5가  상대식  10465.00\n",
       "..    ...          ...  ...       ...\n",
       "286     9         송파나루   섬식   7833.29\n",
       "287     9         한성백제   섬식   8954.96\n",
       "288     9  올림픽공원(한국체대)   섬식   8372.08\n",
       "289     9         둔촌오륜   섬식   7544.33\n",
       "290     9       중앙보훈병원  복합식   8956.00\n",
       "\n",
       "[291 rows x 4 columns]"
      ]
     },
     "execution_count": 10,
     "metadata": {},
     "output_type": "execute_result"
    }
   ],
   "source": [
    "subway_area"
   ]
  },
  {
   "cell_type": "code",
   "execution_count": 11,
   "metadata": {
    "ExecuteTime": {
     "end_time": "2020-07-08T03:34:54.216197Z",
     "start_time": "2020-07-08T03:34:54.193259Z"
    }
   },
   "outputs": [
    {
     "data": {
      "text/html": [
       "<div>\n",
       "<style scoped>\n",
       "    .dataframe tbody tr th:only-of-type {\n",
       "        vertical-align: middle;\n",
       "    }\n",
       "\n",
       "    .dataframe tbody tr th {\n",
       "        vertical-align: top;\n",
       "    }\n",
       "\n",
       "    .dataframe thead th {\n",
       "        text-align: right;\n",
       "    }\n",
       "</style>\n",
       "<table border=\"1\" class=\"dataframe\">\n",
       "  <thead>\n",
       "    <tr style=\"text-align: right;\">\n",
       "      <th></th>\n",
       "      <th>line</th>\n",
       "      <th>station_name</th>\n",
       "      <th>type</th>\n",
       "      <th>area</th>\n",
       "    </tr>\n",
       "  </thead>\n",
       "  <tbody>\n",
       "    <tr>\n",
       "      <th>0</th>\n",
       "      <td>1</td>\n",
       "      <td>서울역</td>\n",
       "      <td>섬식</td>\n",
       "      <td>10805.00</td>\n",
       "    </tr>\n",
       "    <tr>\n",
       "      <th>1</th>\n",
       "      <td>1</td>\n",
       "      <td>시청</td>\n",
       "      <td>상대식</td>\n",
       "      <td>11317.00</td>\n",
       "    </tr>\n",
       "    <tr>\n",
       "      <th>2</th>\n",
       "      <td>1</td>\n",
       "      <td>종각</td>\n",
       "      <td>상대식</td>\n",
       "      <td>10410.24</td>\n",
       "    </tr>\n",
       "    <tr>\n",
       "      <th>3</th>\n",
       "      <td>1</td>\n",
       "      <td>종로3가</td>\n",
       "      <td>상대식</td>\n",
       "      <td>9311.00</td>\n",
       "    </tr>\n",
       "    <tr>\n",
       "      <th>4</th>\n",
       "      <td>1</td>\n",
       "      <td>종로5가</td>\n",
       "      <td>상대식</td>\n",
       "      <td>10465.00</td>\n",
       "    </tr>\n",
       "    <tr>\n",
       "      <th>...</th>\n",
       "      <td>...</td>\n",
       "      <td>...</td>\n",
       "      <td>...</td>\n",
       "      <td>...</td>\n",
       "    </tr>\n",
       "    <tr>\n",
       "      <th>273</th>\n",
       "      <td>8</td>\n",
       "      <td>남한산성입구(성남법원.검찰청)</td>\n",
       "      <td>상대식</td>\n",
       "      <td>5412.29</td>\n",
       "    </tr>\n",
       "    <tr>\n",
       "      <th>274</th>\n",
       "      <td>8</td>\n",
       "      <td>단대오거리</td>\n",
       "      <td>상대식</td>\n",
       "      <td>8133.22</td>\n",
       "    </tr>\n",
       "    <tr>\n",
       "      <th>275</th>\n",
       "      <td>8</td>\n",
       "      <td>신흥</td>\n",
       "      <td>상대식</td>\n",
       "      <td>4861.61</td>\n",
       "    </tr>\n",
       "    <tr>\n",
       "      <th>276</th>\n",
       "      <td>8</td>\n",
       "      <td>수진</td>\n",
       "      <td>상대식</td>\n",
       "      <td>5067.31</td>\n",
       "    </tr>\n",
       "    <tr>\n",
       "      <th>277</th>\n",
       "      <td>8</td>\n",
       "      <td>모란</td>\n",
       "      <td>상대식</td>\n",
       "      <td>9918.77</td>\n",
       "    </tr>\n",
       "  </tbody>\n",
       "</table>\n",
       "<p>278 rows × 4 columns</p>\n",
       "</div>"
      ],
      "text/plain": [
       "     line      station_name type      area\n",
       "0       1               서울역   섬식  10805.00\n",
       "1       1                시청  상대식  11317.00\n",
       "2       1                종각  상대식  10410.24\n",
       "3       1              종로3가  상대식   9311.00\n",
       "4       1              종로5가  상대식  10465.00\n",
       "..    ...               ...  ...       ...\n",
       "273     8  남한산성입구(성남법원.검찰청)  상대식   5412.29\n",
       "274     8             단대오거리  상대식   8133.22\n",
       "275     8                신흥  상대식   4861.61\n",
       "276     8                수진  상대식   5067.31\n",
       "277     8                모란  상대식   9918.77\n",
       "\n",
       "[278 rows x 4 columns]"
      ]
     },
     "execution_count": 11,
     "metadata": {},
     "output_type": "execute_result"
    }
   ],
   "source": [
    "subway_area_final = subway_area[subway_area['line'] != 9] # 9호선은 제외\n",
    "subway_area_final"
   ]
  },
  {
   "cell_type": "code",
   "execution_count": 12,
   "metadata": {
    "ExecuteTime": {
     "end_time": "2020-07-08T03:34:54.243126Z",
     "start_time": "2020-07-08T03:34:54.218192Z"
    },
    "scrolled": true
   },
   "outputs": [
    {
     "data": {
      "text/html": [
       "<div>\n",
       "<style scoped>\n",
       "    .dataframe tbody tr th:only-of-type {\n",
       "        vertical-align: middle;\n",
       "    }\n",
       "\n",
       "    .dataframe tbody tr th {\n",
       "        vertical-align: top;\n",
       "    }\n",
       "\n",
       "    .dataframe thead th {\n",
       "        text-align: right;\n",
       "    }\n",
       "</style>\n",
       "<table border=\"1\" class=\"dataframe\">\n",
       "  <thead>\n",
       "    <tr style=\"text-align: right;\">\n",
       "      <th></th>\n",
       "      <th>station_name</th>\n",
       "      <th>line</th>\n",
       "      <th>gu</th>\n",
       "      <th>dong</th>\n",
       "      <th>address</th>\n",
       "    </tr>\n",
       "  </thead>\n",
       "  <tbody>\n",
       "    <tr>\n",
       "      <th>0</th>\n",
       "      <td>가락시장</td>\n",
       "      <td>3</td>\n",
       "      <td>송파구</td>\n",
       "      <td>가락동</td>\n",
       "      <td>서울특별시 송파구 가락동 184-23 가락시장역</td>\n",
       "    </tr>\n",
       "    <tr>\n",
       "      <th>1</th>\n",
       "      <td>가락시장</td>\n",
       "      <td>8</td>\n",
       "      <td>송파구</td>\n",
       "      <td>가락동</td>\n",
       "      <td>서울특별시 송파구 가락동 184-23 가락시장역(3, 8호선)</td>\n",
       "    </tr>\n",
       "    <tr>\n",
       "      <th>2</th>\n",
       "      <td>가산디지털단지</td>\n",
       "      <td>7</td>\n",
       "      <td>금천구</td>\n",
       "      <td>가산동</td>\n",
       "      <td>서울특별시 금천구 가산동 54-3 가산디지털단지역</td>\n",
       "    </tr>\n",
       "    <tr>\n",
       "      <th>3</th>\n",
       "      <td>강남</td>\n",
       "      <td>2</td>\n",
       "      <td>강남</td>\n",
       "      <td>역삼동</td>\n",
       "      <td>서울특별시 강남구 역삼동 858 강남역</td>\n",
       "    </tr>\n",
       "    <tr>\n",
       "      <th>4</th>\n",
       "      <td>강남구청</td>\n",
       "      <td>7</td>\n",
       "      <td>강남구</td>\n",
       "      <td>삼성동</td>\n",
       "      <td>서울특별시 강남구 삼성동 111-44 강남구청역</td>\n",
       "    </tr>\n",
       "    <tr>\n",
       "      <th>...</th>\n",
       "      <td>...</td>\n",
       "      <td>...</td>\n",
       "      <td>...</td>\n",
       "      <td>...</td>\n",
       "      <td>...</td>\n",
       "    </tr>\n",
       "    <tr>\n",
       "      <th>274</th>\n",
       "      <td>홍제</td>\n",
       "      <td>3</td>\n",
       "      <td>서대문구</td>\n",
       "      <td>홍제동</td>\n",
       "      <td>서울특별시 서대문구 홍제동 161-1 홍제역</td>\n",
       "    </tr>\n",
       "    <tr>\n",
       "      <th>275</th>\n",
       "      <td>화곡</td>\n",
       "      <td>5</td>\n",
       "      <td>강서구</td>\n",
       "      <td>화곡동</td>\n",
       "      <td>서울특별시 강서구 화곡동 1089-54 화곡역</td>\n",
       "    </tr>\n",
       "    <tr>\n",
       "      <th>276</th>\n",
       "      <td>화랑대(서울여대입구)</td>\n",
       "      <td>6</td>\n",
       "      <td>노원구</td>\n",
       "      <td>공릉동</td>\n",
       "      <td>서울특별시 노원구 공릉동 285-2 화랑대역</td>\n",
       "    </tr>\n",
       "    <tr>\n",
       "      <th>277</th>\n",
       "      <td>회현(남대문시장)</td>\n",
       "      <td>4</td>\n",
       "      <td>중구</td>\n",
       "      <td>남창동</td>\n",
       "      <td>서울특별시 중구 남창동 64-1 회현역 4호선</td>\n",
       "    </tr>\n",
       "    <tr>\n",
       "      <th>278</th>\n",
       "      <td>효창공원앞</td>\n",
       "      <td>6</td>\n",
       "      <td>용산구</td>\n",
       "      <td>효창동</td>\n",
       "      <td>서울특별시 용산구 효창동 80 효창공원앞역</td>\n",
       "    </tr>\n",
       "  </tbody>\n",
       "</table>\n",
       "<p>279 rows × 5 columns</p>\n",
       "</div>"
      ],
      "text/plain": [
       "    station_name  line    gu dong                             address\n",
       "0           가락시장     3   송파구  가락동          서울특별시 송파구 가락동 184-23 가락시장역\n",
       "1           가락시장     8   송파구  가락동  서울특별시 송파구 가락동 184-23 가락시장역(3, 8호선)\n",
       "2        가산디지털단지     7   금천구  가산동         서울특별시 금천구 가산동 54-3 가산디지털단지역\n",
       "3             강남     2    강남  역삼동               서울특별시 강남구 역삼동 858 강남역\n",
       "4           강남구청     7   강남구  삼성동          서울특별시 강남구 삼성동 111-44 강남구청역\n",
       "..           ...   ...   ...  ...                                 ...\n",
       "274           홍제     3  서대문구  홍제동            서울특별시 서대문구 홍제동 161-1 홍제역\n",
       "275           화곡     5   강서구  화곡동           서울특별시 강서구 화곡동 1089-54 화곡역\n",
       "276  화랑대(서울여대입구)     6   노원구  공릉동            서울특별시 노원구 공릉동 285-2 화랑대역\n",
       "277    회현(남대문시장)     4    중구  남창동           서울특별시 중구 남창동 64-1 회현역 4호선\n",
       "278        효창공원앞     6   용산구  효창동             서울특별시 용산구 효창동 80 효창공원앞역\n",
       "\n",
       "[279 rows x 5 columns]"
      ]
     },
     "execution_count": 12,
     "metadata": {},
     "output_type": "execute_result"
    }
   ],
   "source": [
    "subway_address"
   ]
  },
  {
   "cell_type": "code",
   "execution_count": 13,
   "metadata": {
    "ExecuteTime": {
     "end_time": "2020-07-08T03:34:54.269058Z",
     "start_time": "2020-07-08T03:34:54.247116Z"
    }
   },
   "outputs": [
    {
     "data": {
      "text/html": [
       "<div>\n",
       "<style scoped>\n",
       "    .dataframe tbody tr th:only-of-type {\n",
       "        vertical-align: middle;\n",
       "    }\n",
       "\n",
       "    .dataframe tbody tr th {\n",
       "        vertical-align: top;\n",
       "    }\n",
       "\n",
       "    .dataframe thead th {\n",
       "        text-align: right;\n",
       "    }\n",
       "</style>\n",
       "<table border=\"1\" class=\"dataframe\">\n",
       "  <thead>\n",
       "    <tr style=\"text-align: right;\">\n",
       "      <th></th>\n",
       "      <th>station_name</th>\n",
       "      <th>line</th>\n",
       "      <th>gu</th>\n",
       "      <th>dong</th>\n",
       "      <th>address</th>\n",
       "    </tr>\n",
       "  </thead>\n",
       "  <tbody>\n",
       "    <tr>\n",
       "      <th>0</th>\n",
       "      <td>가락시장</td>\n",
       "      <td>3</td>\n",
       "      <td>송파구</td>\n",
       "      <td>가락동</td>\n",
       "      <td>서울특별시 송파구 가락동 184-23 가락시장역</td>\n",
       "    </tr>\n",
       "    <tr>\n",
       "      <th>1</th>\n",
       "      <td>가락시장</td>\n",
       "      <td>8</td>\n",
       "      <td>송파구</td>\n",
       "      <td>가락동</td>\n",
       "      <td>서울특별시 송파구 가락동 184-23 가락시장역(3, 8호선)</td>\n",
       "    </tr>\n",
       "    <tr>\n",
       "      <th>2</th>\n",
       "      <td>가산디지털단지</td>\n",
       "      <td>7</td>\n",
       "      <td>금천구</td>\n",
       "      <td>가산동</td>\n",
       "      <td>서울특별시 금천구 가산동 54-3 가산디지털단지역</td>\n",
       "    </tr>\n",
       "    <tr>\n",
       "      <th>3</th>\n",
       "      <td>강남</td>\n",
       "      <td>2</td>\n",
       "      <td>강남</td>\n",
       "      <td>역삼동</td>\n",
       "      <td>서울특별시 강남구 역삼동 858 강남역</td>\n",
       "    </tr>\n",
       "    <tr>\n",
       "      <th>4</th>\n",
       "      <td>강남구청</td>\n",
       "      <td>7</td>\n",
       "      <td>강남구</td>\n",
       "      <td>삼성동</td>\n",
       "      <td>서울특별시 강남구 삼성동 111-44 강남구청역</td>\n",
       "    </tr>\n",
       "    <tr>\n",
       "      <th>...</th>\n",
       "      <td>...</td>\n",
       "      <td>...</td>\n",
       "      <td>...</td>\n",
       "      <td>...</td>\n",
       "      <td>...</td>\n",
       "    </tr>\n",
       "    <tr>\n",
       "      <th>274</th>\n",
       "      <td>홍제</td>\n",
       "      <td>3</td>\n",
       "      <td>서대문구</td>\n",
       "      <td>홍제동</td>\n",
       "      <td>서울특별시 서대문구 홍제동 161-1 홍제역</td>\n",
       "    </tr>\n",
       "    <tr>\n",
       "      <th>275</th>\n",
       "      <td>화곡</td>\n",
       "      <td>5</td>\n",
       "      <td>강서구</td>\n",
       "      <td>화곡동</td>\n",
       "      <td>서울특별시 강서구 화곡동 1089-54 화곡역</td>\n",
       "    </tr>\n",
       "    <tr>\n",
       "      <th>276</th>\n",
       "      <td>화랑대(서울여대입구)</td>\n",
       "      <td>6</td>\n",
       "      <td>노원구</td>\n",
       "      <td>공릉동</td>\n",
       "      <td>서울특별시 노원구 공릉동 285-2 화랑대역</td>\n",
       "    </tr>\n",
       "    <tr>\n",
       "      <th>277</th>\n",
       "      <td>회현(남대문시장)</td>\n",
       "      <td>4</td>\n",
       "      <td>중구</td>\n",
       "      <td>남창동</td>\n",
       "      <td>서울특별시 중구 남창동 64-1 회현역 4호선</td>\n",
       "    </tr>\n",
       "    <tr>\n",
       "      <th>278</th>\n",
       "      <td>효창공원앞</td>\n",
       "      <td>6</td>\n",
       "      <td>용산구</td>\n",
       "      <td>효창동</td>\n",
       "      <td>서울특별시 용산구 효창동 80 효창공원앞역</td>\n",
       "    </tr>\n",
       "  </tbody>\n",
       "</table>\n",
       "<p>279 rows × 5 columns</p>\n",
       "</div>"
      ],
      "text/plain": [
       "    station_name  line    gu dong                             address\n",
       "0           가락시장     3   송파구  가락동          서울특별시 송파구 가락동 184-23 가락시장역\n",
       "1           가락시장     8   송파구  가락동  서울특별시 송파구 가락동 184-23 가락시장역(3, 8호선)\n",
       "2        가산디지털단지     7   금천구  가산동         서울특별시 금천구 가산동 54-3 가산디지털단지역\n",
       "3             강남     2    강남  역삼동               서울특별시 강남구 역삼동 858 강남역\n",
       "4           강남구청     7   강남구  삼성동          서울특별시 강남구 삼성동 111-44 강남구청역\n",
       "..           ...   ...   ...  ...                                 ...\n",
       "274           홍제     3  서대문구  홍제동            서울특별시 서대문구 홍제동 161-1 홍제역\n",
       "275           화곡     5   강서구  화곡동           서울특별시 강서구 화곡동 1089-54 화곡역\n",
       "276  화랑대(서울여대입구)     6   노원구  공릉동            서울특별시 노원구 공릉동 285-2 화랑대역\n",
       "277    회현(남대문시장)     4    중구  남창동           서울특별시 중구 남창동 64-1 회현역 4호선\n",
       "278        효창공원앞     6   용산구  효창동             서울특별시 용산구 효창동 80 효창공원앞역\n",
       "\n",
       "[279 rows x 5 columns]"
      ]
     },
     "execution_count": 13,
     "metadata": {},
     "output_type": "execute_result"
    }
   ],
   "source": [
    "subway_address_final = subway_address[subway_address['line'] != 9] # 9호선은 제외\n",
    "subway_address_final"
   ]
  },
  {
   "cell_type": "code",
   "execution_count": 14,
   "metadata": {
    "ExecuteTime": {
     "end_time": "2020-07-08T03:34:54.282021Z",
     "start_time": "2020-07-08T03:34:54.274044Z"
    }
   },
   "outputs": [
    {
     "data": {
      "text/plain": [
       "278"
      ]
     },
     "execution_count": 14,
     "metadata": {},
     "output_type": "execute_result"
    }
   ],
   "source": [
    "len(subway_area_final['station_name'])"
   ]
  },
  {
   "cell_type": "code",
   "execution_count": 15,
   "metadata": {
    "ExecuteTime": {
     "end_time": "2020-07-08T03:34:54.292993Z",
     "start_time": "2020-07-08T03:34:54.284016Z"
    }
   },
   "outputs": [
    {
     "data": {
      "text/plain": [
       "279"
      ]
     },
     "execution_count": 15,
     "metadata": {},
     "output_type": "execute_result"
    }
   ],
   "source": [
    "len(subway_address_final['station_name'])"
   ]
  },
  {
   "cell_type": "code",
   "execution_count": 16,
   "metadata": {
    "ExecuteTime": {
     "end_time": "2020-07-08T03:34:54.308949Z",
     "start_time": "2020-07-08T03:34:54.294986Z"
    },
    "scrolled": true
   },
   "outputs": [
    {
     "data": {
      "text/html": [
       "<div>\n",
       "<style scoped>\n",
       "    .dataframe tbody tr th:only-of-type {\n",
       "        vertical-align: middle;\n",
       "    }\n",
       "\n",
       "    .dataframe tbody tr th {\n",
       "        vertical-align: top;\n",
       "    }\n",
       "\n",
       "    .dataframe thead th {\n",
       "        text-align: right;\n",
       "    }\n",
       "</style>\n",
       "<table border=\"1\" class=\"dataframe\">\n",
       "  <thead>\n",
       "    <tr style=\"text-align: right;\">\n",
       "      <th></th>\n",
       "      <th>line</th>\n",
       "      <th>station_name</th>\n",
       "      <th>type</th>\n",
       "      <th>area</th>\n",
       "    </tr>\n",
       "  </thead>\n",
       "  <tbody>\n",
       "    <tr>\n",
       "      <th>128</th>\n",
       "      <td>5</td>\n",
       "      <td>까치산</td>\n",
       "      <td>상대식</td>\n",
       "      <td>7868.9</td>\n",
       "    </tr>\n",
       "  </tbody>\n",
       "</table>\n",
       "</div>"
      ],
      "text/plain": [
       "     line station_name type    area\n",
       "128     5          까치산  상대식  7868.9"
      ]
     },
     "execution_count": 16,
     "metadata": {},
     "output_type": "execute_result"
    }
   ],
   "source": [
    "subway_area_final[subway_area_final['station_name'] == '까치산']"
   ]
  },
  {
   "cell_type": "code",
   "execution_count": 17,
   "metadata": {
    "ExecuteTime": {
     "end_time": "2020-07-08T03:34:54.329893Z",
     "start_time": "2020-07-08T03:34:54.311941Z"
    }
   },
   "outputs": [
    {
     "data": {
      "text/html": [
       "<div>\n",
       "<style scoped>\n",
       "    .dataframe tbody tr th:only-of-type {\n",
       "        vertical-align: middle;\n",
       "    }\n",
       "\n",
       "    .dataframe tbody tr th {\n",
       "        vertical-align: top;\n",
       "    }\n",
       "\n",
       "    .dataframe thead th {\n",
       "        text-align: right;\n",
       "    }\n",
       "</style>\n",
       "<table border=\"1\" class=\"dataframe\">\n",
       "  <thead>\n",
       "    <tr style=\"text-align: right;\">\n",
       "      <th></th>\n",
       "      <th>station_name</th>\n",
       "      <th>line</th>\n",
       "      <th>gu</th>\n",
       "      <th>dong</th>\n",
       "      <th>address</th>\n",
       "    </tr>\n",
       "  </thead>\n",
       "  <tbody>\n",
       "    <tr>\n",
       "      <th>40</th>\n",
       "      <td>까치산</td>\n",
       "      <td>2</td>\n",
       "      <td>강서구</td>\n",
       "      <td>화곡동</td>\n",
       "      <td>서울특별시 강서구 화곡동 662-5 까치산역</td>\n",
       "    </tr>\n",
       "    <tr>\n",
       "      <th>41</th>\n",
       "      <td>까치산</td>\n",
       "      <td>5</td>\n",
       "      <td>강서구</td>\n",
       "      <td>화곡동</td>\n",
       "      <td>서울특별시 강서구 화곡동 662-5 까치산역(5호선)</td>\n",
       "    </tr>\n",
       "  </tbody>\n",
       "</table>\n",
       "</div>"
      ],
      "text/plain": [
       "   station_name  line   gu dong                        address\n",
       "40          까치산     2  강서구  화곡동       서울특별시 강서구 화곡동 662-5 까치산역\n",
       "41          까치산     5  강서구  화곡동  서울특별시 강서구 화곡동 662-5 까치산역(5호선)"
      ]
     },
     "execution_count": 17,
     "metadata": {},
     "output_type": "execute_result"
    }
   ],
   "source": [
    "subway_address_final[subway_address_final['station_name'] == '까치산']"
   ]
  },
  {
   "cell_type": "markdown",
   "metadata": {},
   "source": [
    "- subway_area_final 데이터 셋에는 \"까치산\"역이 1개 존재하는데, subway_address_final 데이터 셋에는 2개가 존재한다.\n",
    "- **\"까치산역은 2호선과 5호선이 개찰구를 공동으로 사용하므로 모든 이용객은 5호선의 것으로 집계된다\"**라는 정보에 의거하여, **2호선 까치산 역의 주소는 사용하지 않도록 하겠다.**\n",
    "    - **<근거 자료>** - https://namu.wiki/w/%EA%B9%8C%EC%B9%98%EC%82%B0%EC%97%AD"
   ]
  },
  {
   "cell_type": "code",
   "execution_count": 18,
   "metadata": {
    "ExecuteTime": {
     "end_time": "2020-07-08T03:34:54.341861Z",
     "start_time": "2020-07-08T03:34:54.331888Z"
    }
   },
   "outputs": [],
   "source": [
    "# 2호선 까치산역에 대한 주소 정보 제거\n",
    "drop_idx = subway_address_final[(subway_address_final['station_name'] == '까치산') & (subway_address_final['line'] == 2)].index\n",
    "subway_address_final.drop(drop_idx, inplace = True)"
   ]
  },
  {
   "cell_type": "code",
   "execution_count": 19,
   "metadata": {
    "ExecuteTime": {
     "end_time": "2020-07-08T03:34:54.357818Z",
     "start_time": "2020-07-08T03:34:54.344853Z"
    },
    "scrolled": true
   },
   "outputs": [
    {
     "data": {
      "text/html": [
       "<div>\n",
       "<style scoped>\n",
       "    .dataframe tbody tr th:only-of-type {\n",
       "        vertical-align: middle;\n",
       "    }\n",
       "\n",
       "    .dataframe tbody tr th {\n",
       "        vertical-align: top;\n",
       "    }\n",
       "\n",
       "    .dataframe thead th {\n",
       "        text-align: right;\n",
       "    }\n",
       "</style>\n",
       "<table border=\"1\" class=\"dataframe\">\n",
       "  <thead>\n",
       "    <tr style=\"text-align: right;\">\n",
       "      <th></th>\n",
       "      <th>station_name</th>\n",
       "      <th>line</th>\n",
       "      <th>gu</th>\n",
       "      <th>dong</th>\n",
       "      <th>address</th>\n",
       "    </tr>\n",
       "  </thead>\n",
       "  <tbody>\n",
       "    <tr>\n",
       "      <th>41</th>\n",
       "      <td>까치산</td>\n",
       "      <td>5</td>\n",
       "      <td>강서구</td>\n",
       "      <td>화곡동</td>\n",
       "      <td>서울특별시 강서구 화곡동 662-5 까치산역(5호선)</td>\n",
       "    </tr>\n",
       "  </tbody>\n",
       "</table>\n",
       "</div>"
      ],
      "text/plain": [
       "   station_name  line   gu dong                        address\n",
       "41          까치산     5  강서구  화곡동  서울특별시 강서구 화곡동 662-5 까치산역(5호선)"
      ]
     },
     "execution_count": 19,
     "metadata": {},
     "output_type": "execute_result"
    }
   ],
   "source": [
    "subway_address_final[subway_address_final['station_name'] == '까치산']"
   ]
  },
  {
   "cell_type": "code",
   "execution_count": 20,
   "metadata": {
    "ExecuteTime": {
     "end_time": "2020-07-08T03:34:54.366795Z",
     "start_time": "2020-07-08T03:34:54.359814Z"
    }
   },
   "outputs": [
    {
     "data": {
      "text/plain": [
       "(278, 278)"
      ]
     },
     "execution_count": 20,
     "metadata": {},
     "output_type": "execute_result"
    }
   ],
   "source": [
    "# 두 데이터 셋의 station_name 개수가 일치하는지 다시 확인\n",
    "len(subway_area_final['station_name']), len(subway_address_final['station_name'])"
   ]
  },
  {
   "cell_type": "markdown",
   "metadata": {
    "ExecuteTime": {
     "end_time": "2020-07-02T02:58:05.529378Z",
     "start_time": "2020-07-02T02:58:05.523393Z"
    }
   },
   "source": [
    "- 이제 subway_area_final 데이터 셋과 subway_address_final 데이터 셋을 합쳐주겠다."
   ]
  },
  {
   "cell_type": "code",
   "execution_count": 21,
   "metadata": {
    "ExecuteTime": {
     "end_time": "2020-07-08T03:34:54.380758Z",
     "start_time": "2020-07-08T03:34:54.368789Z"
    }
   },
   "outputs": [
    {
     "data": {
      "text/html": [
       "<div>\n",
       "<style scoped>\n",
       "    .dataframe tbody tr th:only-of-type {\n",
       "        vertical-align: middle;\n",
       "    }\n",
       "\n",
       "    .dataframe tbody tr th {\n",
       "        vertical-align: top;\n",
       "    }\n",
       "\n",
       "    .dataframe thead th {\n",
       "        text-align: right;\n",
       "    }\n",
       "</style>\n",
       "<table border=\"1\" class=\"dataframe\">\n",
       "  <thead>\n",
       "    <tr style=\"text-align: right;\">\n",
       "      <th></th>\n",
       "      <th>line</th>\n",
       "      <th>station_name</th>\n",
       "      <th>type</th>\n",
       "      <th>area</th>\n",
       "    </tr>\n",
       "  </thead>\n",
       "  <tbody>\n",
       "    <tr>\n",
       "      <th>0</th>\n",
       "      <td>1</td>\n",
       "      <td>서울역</td>\n",
       "      <td>섬식</td>\n",
       "      <td>10805.00</td>\n",
       "    </tr>\n",
       "    <tr>\n",
       "      <th>1</th>\n",
       "      <td>1</td>\n",
       "      <td>시청</td>\n",
       "      <td>상대식</td>\n",
       "      <td>11317.00</td>\n",
       "    </tr>\n",
       "    <tr>\n",
       "      <th>2</th>\n",
       "      <td>1</td>\n",
       "      <td>종각</td>\n",
       "      <td>상대식</td>\n",
       "      <td>10410.24</td>\n",
       "    </tr>\n",
       "    <tr>\n",
       "      <th>3</th>\n",
       "      <td>1</td>\n",
       "      <td>종로3가</td>\n",
       "      <td>상대식</td>\n",
       "      <td>9311.00</td>\n",
       "    </tr>\n",
       "    <tr>\n",
       "      <th>4</th>\n",
       "      <td>1</td>\n",
       "      <td>종로5가</td>\n",
       "      <td>상대식</td>\n",
       "      <td>10465.00</td>\n",
       "    </tr>\n",
       "  </tbody>\n",
       "</table>\n",
       "</div>"
      ],
      "text/plain": [
       "   line station_name type      area\n",
       "0     1          서울역   섬식  10805.00\n",
       "1     1           시청  상대식  11317.00\n",
       "2     1           종각  상대식  10410.24\n",
       "3     1         종로3가  상대식   9311.00\n",
       "4     1         종로5가  상대식  10465.00"
      ]
     },
     "execution_count": 21,
     "metadata": {},
     "output_type": "execute_result"
    }
   ],
   "source": [
    "subway_area_final.head()"
   ]
  },
  {
   "cell_type": "code",
   "execution_count": 22,
   "metadata": {
    "ExecuteTime": {
     "end_time": "2020-07-08T03:34:54.399707Z",
     "start_time": "2020-07-08T03:34:54.382754Z"
    }
   },
   "outputs": [
    {
     "data": {
      "text/html": [
       "<div>\n",
       "<style scoped>\n",
       "    .dataframe tbody tr th:only-of-type {\n",
       "        vertical-align: middle;\n",
       "    }\n",
       "\n",
       "    .dataframe tbody tr th {\n",
       "        vertical-align: top;\n",
       "    }\n",
       "\n",
       "    .dataframe thead th {\n",
       "        text-align: right;\n",
       "    }\n",
       "</style>\n",
       "<table border=\"1\" class=\"dataframe\">\n",
       "  <thead>\n",
       "    <tr style=\"text-align: right;\">\n",
       "      <th></th>\n",
       "      <th>station_name</th>\n",
       "      <th>line</th>\n",
       "      <th>gu</th>\n",
       "      <th>dong</th>\n",
       "      <th>address</th>\n",
       "    </tr>\n",
       "  </thead>\n",
       "  <tbody>\n",
       "    <tr>\n",
       "      <th>0</th>\n",
       "      <td>가락시장</td>\n",
       "      <td>3</td>\n",
       "      <td>송파구</td>\n",
       "      <td>가락동</td>\n",
       "      <td>서울특별시 송파구 가락동 184-23 가락시장역</td>\n",
       "    </tr>\n",
       "    <tr>\n",
       "      <th>1</th>\n",
       "      <td>가락시장</td>\n",
       "      <td>8</td>\n",
       "      <td>송파구</td>\n",
       "      <td>가락동</td>\n",
       "      <td>서울특별시 송파구 가락동 184-23 가락시장역(3, 8호선)</td>\n",
       "    </tr>\n",
       "    <tr>\n",
       "      <th>2</th>\n",
       "      <td>가산디지털단지</td>\n",
       "      <td>7</td>\n",
       "      <td>금천구</td>\n",
       "      <td>가산동</td>\n",
       "      <td>서울특별시 금천구 가산동 54-3 가산디지털단지역</td>\n",
       "    </tr>\n",
       "    <tr>\n",
       "      <th>3</th>\n",
       "      <td>강남</td>\n",
       "      <td>2</td>\n",
       "      <td>강남</td>\n",
       "      <td>역삼동</td>\n",
       "      <td>서울특별시 강남구 역삼동 858 강남역</td>\n",
       "    </tr>\n",
       "    <tr>\n",
       "      <th>4</th>\n",
       "      <td>강남구청</td>\n",
       "      <td>7</td>\n",
       "      <td>강남구</td>\n",
       "      <td>삼성동</td>\n",
       "      <td>서울특별시 강남구 삼성동 111-44 강남구청역</td>\n",
       "    </tr>\n",
       "  </tbody>\n",
       "</table>\n",
       "</div>"
      ],
      "text/plain": [
       "  station_name  line   gu dong                             address\n",
       "0         가락시장     3  송파구  가락동          서울특별시 송파구 가락동 184-23 가락시장역\n",
       "1         가락시장     8  송파구  가락동  서울특별시 송파구 가락동 184-23 가락시장역(3, 8호선)\n",
       "2      가산디지털단지     7  금천구  가산동         서울특별시 금천구 가산동 54-3 가산디지털단지역\n",
       "3           강남     2   강남  역삼동               서울특별시 강남구 역삼동 858 강남역\n",
       "4         강남구청     7  강남구  삼성동          서울특별시 강남구 삼성동 111-44 강남구청역"
      ]
     },
     "execution_count": 22,
     "metadata": {},
     "output_type": "execute_result"
    }
   ],
   "source": [
    "subway_address_final.head()"
   ]
  },
  {
   "cell_type": "code",
   "execution_count": 23,
   "metadata": {
    "ExecuteTime": {
     "end_time": "2020-07-08T03:34:54.449574Z",
     "start_time": "2020-07-08T03:34:54.406688Z"
    }
   },
   "outputs": [
    {
     "data": {
      "text/html": [
       "<div>\n",
       "<style scoped>\n",
       "    .dataframe tbody tr th:only-of-type {\n",
       "        vertical-align: middle;\n",
       "    }\n",
       "\n",
       "    .dataframe tbody tr th {\n",
       "        vertical-align: top;\n",
       "    }\n",
       "\n",
       "    .dataframe thead th {\n",
       "        text-align: right;\n",
       "    }\n",
       "</style>\n",
       "<table border=\"1\" class=\"dataframe\">\n",
       "  <thead>\n",
       "    <tr style=\"text-align: right;\">\n",
       "      <th></th>\n",
       "      <th>line</th>\n",
       "      <th>station_name</th>\n",
       "      <th>type</th>\n",
       "      <th>area</th>\n",
       "      <th>gu</th>\n",
       "      <th>dong</th>\n",
       "      <th>address</th>\n",
       "    </tr>\n",
       "  </thead>\n",
       "  <tbody>\n",
       "    <tr>\n",
       "      <th>0</th>\n",
       "      <td>1</td>\n",
       "      <td>서울역</td>\n",
       "      <td>섬식</td>\n",
       "      <td>10805.00</td>\n",
       "      <td>중구</td>\n",
       "      <td>봉래동</td>\n",
       "      <td>서울특별시 중구 봉래동2가 122 서울역(1호선)</td>\n",
       "    </tr>\n",
       "    <tr>\n",
       "      <th>1</th>\n",
       "      <td>1</td>\n",
       "      <td>시청</td>\n",
       "      <td>상대식</td>\n",
       "      <td>11317.00</td>\n",
       "      <td>중구</td>\n",
       "      <td>정동</td>\n",
       "      <td>서울특별시 중구 정동 5-5 시청역(1호선)</td>\n",
       "    </tr>\n",
       "    <tr>\n",
       "      <th>2</th>\n",
       "      <td>1</td>\n",
       "      <td>종각</td>\n",
       "      <td>상대식</td>\n",
       "      <td>10410.24</td>\n",
       "      <td>종로구</td>\n",
       "      <td>종로1가</td>\n",
       "      <td>서울특별시 종로구 종로1가 54 종각지하철역사</td>\n",
       "    </tr>\n",
       "    <tr>\n",
       "      <th>3</th>\n",
       "      <td>1</td>\n",
       "      <td>종로3가</td>\n",
       "      <td>상대식</td>\n",
       "      <td>9311.00</td>\n",
       "      <td>종로구</td>\n",
       "      <td>종로3가</td>\n",
       "      <td>서울특별시 종로3가 10-5  1호선 종로3가역(1호선)</td>\n",
       "    </tr>\n",
       "    <tr>\n",
       "      <th>4</th>\n",
       "      <td>1</td>\n",
       "      <td>종로5가</td>\n",
       "      <td>상대식</td>\n",
       "      <td>10465.00</td>\n",
       "      <td>종로구</td>\n",
       "      <td>종로5가</td>\n",
       "      <td>서울특별시 종로구 종로5가 82-1 1호선 종로5가역</td>\n",
       "    </tr>\n",
       "    <tr>\n",
       "      <th>...</th>\n",
       "      <td>...</td>\n",
       "      <td>...</td>\n",
       "      <td>...</td>\n",
       "      <td>...</td>\n",
       "      <td>...</td>\n",
       "      <td>...</td>\n",
       "      <td>...</td>\n",
       "    </tr>\n",
       "    <tr>\n",
       "      <th>273</th>\n",
       "      <td>8</td>\n",
       "      <td>남한산성입구(성남법원.검찰청)</td>\n",
       "      <td>상대식</td>\n",
       "      <td>5412.29</td>\n",
       "      <td>성남시</td>\n",
       "      <td>수정구 단대동</td>\n",
       "      <td>경기도 성남시 수정구 단대동 96 남한산성입구역</td>\n",
       "    </tr>\n",
       "    <tr>\n",
       "      <th>274</th>\n",
       "      <td>8</td>\n",
       "      <td>단대오거리</td>\n",
       "      <td>상대식</td>\n",
       "      <td>8133.22</td>\n",
       "      <td>성남시</td>\n",
       "      <td>수정구 신흥동</td>\n",
       "      <td>경기도 성남시 수정구 신흥동 2467 단대오거리역</td>\n",
       "    </tr>\n",
       "    <tr>\n",
       "      <th>275</th>\n",
       "      <td>8</td>\n",
       "      <td>신흥</td>\n",
       "      <td>상대식</td>\n",
       "      <td>4861.61</td>\n",
       "      <td>성남시</td>\n",
       "      <td>수정구 신흥동</td>\n",
       "      <td>경기도 성남시 수정구 신흥동 2467 신흥역</td>\n",
       "    </tr>\n",
       "    <tr>\n",
       "      <th>276</th>\n",
       "      <td>8</td>\n",
       "      <td>수진</td>\n",
       "      <td>상대식</td>\n",
       "      <td>5067.31</td>\n",
       "      <td>성남시</td>\n",
       "      <td>수정구 수진동</td>\n",
       "      <td>경기도 성남시 수정구 수진동 2205-1 수진역</td>\n",
       "    </tr>\n",
       "    <tr>\n",
       "      <th>277</th>\n",
       "      <td>8</td>\n",
       "      <td>모란</td>\n",
       "      <td>상대식</td>\n",
       "      <td>9918.77</td>\n",
       "      <td>성남시</td>\n",
       "      <td>수정구 수진동</td>\n",
       "      <td>경기도 성남시 수정구 수진동 4808 모란역</td>\n",
       "    </tr>\n",
       "  </tbody>\n",
       "</table>\n",
       "<p>278 rows × 7 columns</p>\n",
       "</div>"
      ],
      "text/plain": [
       "     line      station_name type      area   gu     dong  \\\n",
       "0       1               서울역   섬식  10805.00   중구      봉래동   \n",
       "1       1                시청  상대식  11317.00   중구       정동   \n",
       "2       1                종각  상대식  10410.24  종로구     종로1가   \n",
       "3       1              종로3가  상대식   9311.00  종로구     종로3가   \n",
       "4       1              종로5가  상대식  10465.00  종로구     종로5가   \n",
       "..    ...               ...  ...       ...  ...      ...   \n",
       "273     8  남한산성입구(성남법원.검찰청)  상대식   5412.29  성남시  수정구 단대동   \n",
       "274     8             단대오거리  상대식   8133.22  성남시  수정구 신흥동   \n",
       "275     8                신흥  상대식   4861.61  성남시  수정구 신흥동   \n",
       "276     8                수진  상대식   5067.31  성남시  수정구 수진동   \n",
       "277     8                모란  상대식   9918.77  성남시  수정구 수진동   \n",
       "\n",
       "                             address  \n",
       "0        서울특별시 중구 봉래동2가 122 서울역(1호선)  \n",
       "1           서울특별시 중구 정동 5-5 시청역(1호선)  \n",
       "2          서울특별시 종로구 종로1가 54 종각지하철역사  \n",
       "3    서울특별시 종로3가 10-5  1호선 종로3가역(1호선)  \n",
       "4      서울특별시 종로구 종로5가 82-1 1호선 종로5가역  \n",
       "..                               ...  \n",
       "273       경기도 성남시 수정구 단대동 96 남한산성입구역  \n",
       "274      경기도 성남시 수정구 신흥동 2467 단대오거리역  \n",
       "275         경기도 성남시 수정구 신흥동 2467 신흥역  \n",
       "276       경기도 성남시 수정구 수진동 2205-1 수진역  \n",
       "277         경기도 성남시 수정구 수진동 4808 모란역  \n",
       "\n",
       "[278 rows x 7 columns]"
      ]
     },
     "execution_count": 23,
     "metadata": {},
     "output_type": "execute_result"
    }
   ],
   "source": [
    "# station_name을 조인키로 inner join\n",
    "subway_area_address = pd.merge(subway_area_final, subway_address_final, how = 'inner', on = ['station_name', 'line'])\n",
    "subway_area_address"
   ]
  },
  {
   "cell_type": "code",
   "execution_count": 24,
   "metadata": {
    "ExecuteTime": {
     "end_time": "2020-07-08T03:34:54.467525Z",
     "start_time": "2020-07-08T03:34:54.453563Z"
    }
   },
   "outputs": [
    {
     "data": {
      "text/plain": [
       "line            0\n",
       "station_name    0\n",
       "type            0\n",
       "area            0\n",
       "gu              0\n",
       "dong            0\n",
       "address         0\n",
       "dtype: int64"
      ]
     },
     "execution_count": 24,
     "metadata": {},
     "output_type": "execute_result"
    }
   ],
   "source": [
    "subway_area_address.isnull().sum()"
   ]
  },
  {
   "cell_type": "code",
   "execution_count": 25,
   "metadata": {
    "ExecuteTime": {
     "end_time": "2020-07-08T03:34:54.479495Z",
     "start_time": "2020-07-08T03:34:54.470518Z"
    }
   },
   "outputs": [
    {
     "data": {
      "text/plain": [
       "278"
      ]
     },
     "execution_count": 25,
     "metadata": {},
     "output_type": "execute_result"
    }
   ],
   "source": [
    "len(subway_area_address['station_name'])"
   ]
  },
  {
   "cell_type": "markdown",
   "metadata": {},
   "source": [
    "- Inner join이 잘 이루어진 것을 확인할 수 있다."
   ]
  },
  {
   "cell_type": "markdown",
   "metadata": {},
   "source": [
    "### subway_boarding_total + subway_area_address (데이터 셋 결합)"
   ]
  },
  {
   "cell_type": "code",
   "execution_count": 26,
   "metadata": {
    "ExecuteTime": {
     "end_time": "2020-07-08T03:34:54.601169Z",
     "start_time": "2020-07-08T03:34:54.484480Z"
    }
   },
   "outputs": [
    {
     "data": {
      "application/vnd.jupyter.widget-view+json": {
       "model_id": "464199207d5d41488c2b80fa0c260733",
       "version_major": 2,
       "version_minor": 0
      },
      "text/plain": [
       "HBox(children=(FloatProgress(value=0.0, max=278.0), HTML(value='')))"
      ]
     },
     "metadata": {},
     "output_type": "display_data"
    },
    {
     "name": "stdout",
     "output_type": "stream",
     "text": [
      "\n"
     ]
    },
    {
     "data": {
      "text/plain": [
       "5호선    51\n",
       "7호선    51\n",
       "2호선    50\n",
       "6호선    39\n",
       "3호선    34\n",
       "4호선    26\n",
       "8호선    17\n",
       "1호선    10\n",
       "Name: line, dtype: int64"
      ]
     },
     "execution_count": 26,
     "metadata": {},
     "output_type": "execute_result"
    }
   ],
   "source": [
    "# subway_area_address 데이터 셋의 line 변수 뒤에 \"호선\"을 붙여주기\n",
    "from tqdm.notebook import tqdm\n",
    "\n",
    "for i in tqdm(range(len(subway_area_address))):\n",
    "    subway_area_address['line'][i] = str(subway_area_address['line'][i]) + \"호선\"\n",
    "    \n",
    "subway_area_address['line'].value_counts()"
   ]
  },
  {
   "cell_type": "code",
   "execution_count": 27,
   "metadata": {
    "ExecuteTime": {
     "end_time": "2020-07-08T03:34:54.610145Z",
     "start_time": "2020-07-08T03:34:54.603163Z"
    }
   },
   "outputs": [
    {
     "data": {
      "text/plain": [
       "243"
      ]
     },
     "execution_count": 27,
     "metadata": {},
     "output_type": "execute_result"
    }
   ],
   "source": [
    "len(set(subway_area_address['station_name']))"
   ]
  },
  {
   "cell_type": "code",
   "execution_count": 28,
   "metadata": {
    "ExecuteTime": {
     "end_time": "2020-07-08T03:34:54.730837Z",
     "start_time": "2020-07-08T03:34:54.613136Z"
    }
   },
   "outputs": [
    {
     "data": {
      "text/plain": [
       "242"
      ]
     },
     "execution_count": 28,
     "metadata": {},
     "output_type": "execute_result"
    }
   ],
   "source": [
    "len(set(subway_boarding_total['station_name']))"
   ]
  },
  {
   "cell_type": "markdown",
   "metadata": {},
   "source": [
    "- subway_area_address 데이터 셋과 subway_boarding_total 데이터 셋의 len이 서로 다르다...\n",
    "    - 확인해보니, subway_area_address 데이터 셋에는 \"신내\"역이 존재하는데 subway_boarding_total 데이터 셋에는 존재하지 않는다.\n",
    "    - **Inner join**을 해주면 **subway_boarding_total 데이터 셋에 존재하지 않는 \"신내\"역은 자연스레 사라질 것**이다!!"
   ]
  },
  {
   "cell_type": "code",
   "execution_count": 29,
   "metadata": {
    "ExecuteTime": {
     "end_time": "2020-07-08T03:34:54.755753Z",
     "start_time": "2020-07-08T03:34:54.735807Z"
    }
   },
   "outputs": [
    {
     "data": {
      "text/html": [
       "<div>\n",
       "<style scoped>\n",
       "    .dataframe tbody tr th:only-of-type {\n",
       "        vertical-align: middle;\n",
       "    }\n",
       "\n",
       "    .dataframe tbody tr th {\n",
       "        vertical-align: top;\n",
       "    }\n",
       "\n",
       "    .dataframe thead th {\n",
       "        text-align: right;\n",
       "    }\n",
       "</style>\n",
       "<table border=\"1\" class=\"dataframe\">\n",
       "  <thead>\n",
       "    <tr style=\"text-align: right;\">\n",
       "      <th></th>\n",
       "      <th>line</th>\n",
       "      <th>station_name</th>\n",
       "      <th>type</th>\n",
       "      <th>area</th>\n",
       "      <th>gu</th>\n",
       "      <th>dong</th>\n",
       "      <th>address</th>\n",
       "    </tr>\n",
       "  </thead>\n",
       "  <tbody>\n",
       "    <tr>\n",
       "      <th>209</th>\n",
       "      <td>6호선</td>\n",
       "      <td>신내</td>\n",
       "      <td>상대식</td>\n",
       "      <td>1069.48</td>\n",
       "      <td>중랑구</td>\n",
       "      <td>망우동</td>\n",
       "      <td>서울특별시 중랑구 신내동 19 신내역</td>\n",
       "    </tr>\n",
       "  </tbody>\n",
       "</table>\n",
       "</div>"
      ],
      "text/plain": [
       "    line station_name type     area   gu dong               address\n",
       "209  6호선           신내  상대식  1069.48  중랑구  망우동  서울특별시 중랑구 신내동 19 신내역"
      ]
     },
     "execution_count": 29,
     "metadata": {},
     "output_type": "execute_result"
    }
   ],
   "source": [
    "subway_area_address[subway_area_address['station_name'] == '신내']"
   ]
  },
  {
   "cell_type": "code",
   "execution_count": 30,
   "metadata": {
    "ExecuteTime": {
     "end_time": "2020-07-08T03:34:54.828561Z",
     "start_time": "2020-07-08T03:34:54.758747Z"
    },
    "scrolled": true
   },
   "outputs": [
    {
     "data": {
      "text/html": [
       "<div>\n",
       "<style scoped>\n",
       "    .dataframe tbody tr th:only-of-type {\n",
       "        vertical-align: middle;\n",
       "    }\n",
       "\n",
       "    .dataframe tbody tr th {\n",
       "        vertical-align: top;\n",
       "    }\n",
       "\n",
       "    .dataframe thead th {\n",
       "        text-align: right;\n",
       "    }\n",
       "</style>\n",
       "<table border=\"1\" class=\"dataframe\">\n",
       "  <thead>\n",
       "    <tr style=\"text-align: right;\">\n",
       "      <th></th>\n",
       "      <th>date</th>\n",
       "      <th>line</th>\n",
       "      <th>station_num</th>\n",
       "      <th>station_name</th>\n",
       "      <th>boarding</th>\n",
       "      <th>05~06</th>\n",
       "      <th>06~07</th>\n",
       "      <th>07~08</th>\n",
       "      <th>08~09</th>\n",
       "      <th>09~10</th>\n",
       "      <th>...</th>\n",
       "      <th>16~17</th>\n",
       "      <th>17~18</th>\n",
       "      <th>18~19</th>\n",
       "      <th>19~20</th>\n",
       "      <th>20~21</th>\n",
       "      <th>21~22</th>\n",
       "      <th>22~23</th>\n",
       "      <th>23~24</th>\n",
       "      <th>00~01</th>\n",
       "      <th>total</th>\n",
       "    </tr>\n",
       "  </thead>\n",
       "  <tbody>\n",
       "  </tbody>\n",
       "</table>\n",
       "<p>0 rows × 26 columns</p>\n",
       "</div>"
      ],
      "text/plain": [
       "Empty DataFrame\n",
       "Columns: [date, line, station_num, station_name, boarding, 05~06, 06~07, 07~08, 08~09, 09~10, 10~11, 11~12, 12~13, 13~14, 14~15, 15~16, 16~17, 17~18, 18~19, 19~20, 20~21, 21~22, 22~23, 23~24, 00~01, total]\n",
       "Index: []\n",
       "\n",
       "[0 rows x 26 columns]"
      ]
     },
     "execution_count": 30,
     "metadata": {},
     "output_type": "execute_result"
    }
   ],
   "source": [
    "subway_boarding_total[subway_boarding_total['station_name'] == '신내']"
   ]
  },
  {
   "cell_type": "code",
   "execution_count": 31,
   "metadata": {
    "ExecuteTime": {
     "end_time": "2020-07-08T03:34:56.265661Z",
     "start_time": "2020-07-08T03:34:54.830555Z"
    }
   },
   "outputs": [
    {
     "data": {
      "text/html": [
       "<div>\n",
       "<style scoped>\n",
       "    .dataframe tbody tr th:only-of-type {\n",
       "        vertical-align: middle;\n",
       "    }\n",
       "\n",
       "    .dataframe tbody tr th {\n",
       "        vertical-align: top;\n",
       "    }\n",
       "\n",
       "    .dataframe thead th {\n",
       "        text-align: right;\n",
       "    }\n",
       "</style>\n",
       "<table border=\"1\" class=\"dataframe\">\n",
       "  <thead>\n",
       "    <tr style=\"text-align: right;\">\n",
       "      <th></th>\n",
       "      <th>date</th>\n",
       "      <th>line</th>\n",
       "      <th>station_num</th>\n",
       "      <th>station_name</th>\n",
       "      <th>boarding</th>\n",
       "      <th>05~06</th>\n",
       "      <th>06~07</th>\n",
       "      <th>07~08</th>\n",
       "      <th>08~09</th>\n",
       "      <th>09~10</th>\n",
       "      <th>...</th>\n",
       "      <th>21~22</th>\n",
       "      <th>22~23</th>\n",
       "      <th>23~24</th>\n",
       "      <th>00~01</th>\n",
       "      <th>total</th>\n",
       "      <th>type</th>\n",
       "      <th>area</th>\n",
       "      <th>gu</th>\n",
       "      <th>dong</th>\n",
       "      <th>address</th>\n",
       "    </tr>\n",
       "  </thead>\n",
       "  <tbody>\n",
       "    <tr>\n",
       "      <th>0</th>\n",
       "      <td>2017-01-01</td>\n",
       "      <td>1호선</td>\n",
       "      <td>150</td>\n",
       "      <td>서울역</td>\n",
       "      <td>승차</td>\n",
       "      <td>470</td>\n",
       "      <td>286</td>\n",
       "      <td>397</td>\n",
       "      <td>786</td>\n",
       "      <td>1421</td>\n",
       "      <td>...</td>\n",
       "      <td>3914</td>\n",
       "      <td>2660</td>\n",
       "      <td>917</td>\n",
       "      <td>112</td>\n",
       "      <td>43267</td>\n",
       "      <td>섬식</td>\n",
       "      <td>10805.00</td>\n",
       "      <td>중구</td>\n",
       "      <td>봉래동</td>\n",
       "      <td>서울특별시 중구 봉래동2가 122 서울역(1호선)</td>\n",
       "    </tr>\n",
       "    <tr>\n",
       "      <th>1</th>\n",
       "      <td>2017-01-01</td>\n",
       "      <td>1호선</td>\n",
       "      <td>150</td>\n",
       "      <td>서울역</td>\n",
       "      <td>하차</td>\n",
       "      <td>278</td>\n",
       "      <td>880</td>\n",
       "      <td>859</td>\n",
       "      <td>964</td>\n",
       "      <td>1407</td>\n",
       "      <td>...</td>\n",
       "      <td>1618</td>\n",
       "      <td>962</td>\n",
       "      <td>551</td>\n",
       "      <td>179</td>\n",
       "      <td>32931</td>\n",
       "      <td>섬식</td>\n",
       "      <td>10805.00</td>\n",
       "      <td>중구</td>\n",
       "      <td>봉래동</td>\n",
       "      <td>서울특별시 중구 봉래동2가 122 서울역(1호선)</td>\n",
       "    </tr>\n",
       "    <tr>\n",
       "      <th>2</th>\n",
       "      <td>2017-01-02</td>\n",
       "      <td>1호선</td>\n",
       "      <td>150</td>\n",
       "      <td>서울역</td>\n",
       "      <td>하차</td>\n",
       "      <td>356</td>\n",
       "      <td>2366</td>\n",
       "      <td>4852</td>\n",
       "      <td>9813</td>\n",
       "      <td>4784</td>\n",
       "      <td>...</td>\n",
       "      <td>1243</td>\n",
       "      <td>1098</td>\n",
       "      <td>583</td>\n",
       "      <td>210</td>\n",
       "      <td>52036</td>\n",
       "      <td>섬식</td>\n",
       "      <td>10805.00</td>\n",
       "      <td>중구</td>\n",
       "      <td>봉래동</td>\n",
       "      <td>서울특별시 중구 봉래동2가 122 서울역(1호선)</td>\n",
       "    </tr>\n",
       "    <tr>\n",
       "      <th>3</th>\n",
       "      <td>2017-01-02</td>\n",
       "      <td>1호선</td>\n",
       "      <td>150</td>\n",
       "      <td>서울역</td>\n",
       "      <td>승차</td>\n",
       "      <td>411</td>\n",
       "      <td>536</td>\n",
       "      <td>2297</td>\n",
       "      <td>3665</td>\n",
       "      <td>2103</td>\n",
       "      <td>...</td>\n",
       "      <td>3606</td>\n",
       "      <td>1986</td>\n",
       "      <td>1094</td>\n",
       "      <td>188</td>\n",
       "      <td>60674</td>\n",
       "      <td>섬식</td>\n",
       "      <td>10805.00</td>\n",
       "      <td>중구</td>\n",
       "      <td>봉래동</td>\n",
       "      <td>서울특별시 중구 봉래동2가 122 서울역(1호선)</td>\n",
       "    </tr>\n",
       "    <tr>\n",
       "      <th>4</th>\n",
       "      <td>2017-01-03</td>\n",
       "      <td>1호선</td>\n",
       "      <td>150</td>\n",
       "      <td>서울역</td>\n",
       "      <td>하차</td>\n",
       "      <td>303</td>\n",
       "      <td>1719</td>\n",
       "      <td>4452</td>\n",
       "      <td>10406</td>\n",
       "      <td>4863</td>\n",
       "      <td>...</td>\n",
       "      <td>1334</td>\n",
       "      <td>1107</td>\n",
       "      <td>646</td>\n",
       "      <td>288</td>\n",
       "      <td>51327</td>\n",
       "      <td>섬식</td>\n",
       "      <td>10805.00</td>\n",
       "      <td>중구</td>\n",
       "      <td>봉래동</td>\n",
       "      <td>서울특별시 중구 봉래동2가 122 서울역(1호선)</td>\n",
       "    </tr>\n",
       "    <tr>\n",
       "      <th>...</th>\n",
       "      <td>...</td>\n",
       "      <td>...</td>\n",
       "      <td>...</td>\n",
       "      <td>...</td>\n",
       "      <td>...</td>\n",
       "      <td>...</td>\n",
       "      <td>...</td>\n",
       "      <td>...</td>\n",
       "      <td>...</td>\n",
       "      <td>...</td>\n",
       "      <td>...</td>\n",
       "      <td>...</td>\n",
       "      <td>...</td>\n",
       "      <td>...</td>\n",
       "      <td>...</td>\n",
       "      <td>...</td>\n",
       "      <td>...</td>\n",
       "      <td>...</td>\n",
       "      <td>...</td>\n",
       "      <td>...</td>\n",
       "      <td>...</td>\n",
       "    </tr>\n",
       "    <tr>\n",
       "      <th>602299</th>\n",
       "      <td>2019-12-26</td>\n",
       "      <td>6호선</td>\n",
       "      <td>2615</td>\n",
       "      <td>연신내</td>\n",
       "      <td>승차</td>\n",
       "      <td>0</td>\n",
       "      <td>0</td>\n",
       "      <td>0</td>\n",
       "      <td>0</td>\n",
       "      <td>0</td>\n",
       "      <td>...</td>\n",
       "      <td>0</td>\n",
       "      <td>0</td>\n",
       "      <td>0</td>\n",
       "      <td>0</td>\n",
       "      <td>0</td>\n",
       "      <td>상대식</td>\n",
       "      <td>8420.54</td>\n",
       "      <td>은평구</td>\n",
       "      <td>갈현동</td>\n",
       "      <td>서울특별시 은평구 갈현동 397 연신내역</td>\n",
       "    </tr>\n",
       "    <tr>\n",
       "      <th>602300</th>\n",
       "      <td>2019-12-27</td>\n",
       "      <td>6호선</td>\n",
       "      <td>2615</td>\n",
       "      <td>연신내</td>\n",
       "      <td>승차</td>\n",
       "      <td>0</td>\n",
       "      <td>0</td>\n",
       "      <td>0</td>\n",
       "      <td>0</td>\n",
       "      <td>0</td>\n",
       "      <td>...</td>\n",
       "      <td>0</td>\n",
       "      <td>0</td>\n",
       "      <td>0</td>\n",
       "      <td>0</td>\n",
       "      <td>0</td>\n",
       "      <td>상대식</td>\n",
       "      <td>8420.54</td>\n",
       "      <td>은평구</td>\n",
       "      <td>갈현동</td>\n",
       "      <td>서울특별시 은평구 갈현동 397 연신내역</td>\n",
       "    </tr>\n",
       "    <tr>\n",
       "      <th>602301</th>\n",
       "      <td>2019-12-27</td>\n",
       "      <td>6호선</td>\n",
       "      <td>2615</td>\n",
       "      <td>연신내</td>\n",
       "      <td>하차</td>\n",
       "      <td>0</td>\n",
       "      <td>0</td>\n",
       "      <td>0</td>\n",
       "      <td>0</td>\n",
       "      <td>0</td>\n",
       "      <td>...</td>\n",
       "      <td>0</td>\n",
       "      <td>0</td>\n",
       "      <td>0</td>\n",
       "      <td>0</td>\n",
       "      <td>0</td>\n",
       "      <td>상대식</td>\n",
       "      <td>8420.54</td>\n",
       "      <td>은평구</td>\n",
       "      <td>갈현동</td>\n",
       "      <td>서울특별시 은평구 갈현동 397 연신내역</td>\n",
       "    </tr>\n",
       "    <tr>\n",
       "      <th>602302</th>\n",
       "      <td>2019-12-28</td>\n",
       "      <td>6호선</td>\n",
       "      <td>2615</td>\n",
       "      <td>연신내</td>\n",
       "      <td>하차</td>\n",
       "      <td>0</td>\n",
       "      <td>0</td>\n",
       "      <td>0</td>\n",
       "      <td>0</td>\n",
       "      <td>0</td>\n",
       "      <td>...</td>\n",
       "      <td>0</td>\n",
       "      <td>0</td>\n",
       "      <td>0</td>\n",
       "      <td>0</td>\n",
       "      <td>0</td>\n",
       "      <td>상대식</td>\n",
       "      <td>8420.54</td>\n",
       "      <td>은평구</td>\n",
       "      <td>갈현동</td>\n",
       "      <td>서울특별시 은평구 갈현동 397 연신내역</td>\n",
       "    </tr>\n",
       "    <tr>\n",
       "      <th>602303</th>\n",
       "      <td>2019-12-28</td>\n",
       "      <td>6호선</td>\n",
       "      <td>2615</td>\n",
       "      <td>연신내</td>\n",
       "      <td>승차</td>\n",
       "      <td>0</td>\n",
       "      <td>0</td>\n",
       "      <td>0</td>\n",
       "      <td>0</td>\n",
       "      <td>0</td>\n",
       "      <td>...</td>\n",
       "      <td>0</td>\n",
       "      <td>0</td>\n",
       "      <td>0</td>\n",
       "      <td>0</td>\n",
       "      <td>0</td>\n",
       "      <td>상대식</td>\n",
       "      <td>8420.54</td>\n",
       "      <td>은평구</td>\n",
       "      <td>갈현동</td>\n",
       "      <td>서울특별시 은평구 갈현동 397 연신내역</td>\n",
       "    </tr>\n",
       "  </tbody>\n",
       "</table>\n",
       "<p>602304 rows × 31 columns</p>\n",
       "</div>"
      ],
      "text/plain": [
       "             date line  station_num station_name boarding  05~06  06~07  \\\n",
       "0      2017-01-01  1호선          150          서울역       승차    470    286   \n",
       "1      2017-01-01  1호선          150          서울역       하차    278    880   \n",
       "2      2017-01-02  1호선          150          서울역       하차    356   2366   \n",
       "3      2017-01-02  1호선          150          서울역       승차    411    536   \n",
       "4      2017-01-03  1호선          150          서울역       하차    303   1719   \n",
       "...           ...  ...          ...          ...      ...    ...    ...   \n",
       "602299 2019-12-26  6호선         2615          연신내       승차      0      0   \n",
       "602300 2019-12-27  6호선         2615          연신내       승차      0      0   \n",
       "602301 2019-12-27  6호선         2615          연신내       하차      0      0   \n",
       "602302 2019-12-28  6호선         2615          연신내       하차      0      0   \n",
       "602303 2019-12-28  6호선         2615          연신내       승차      0      0   \n",
       "\n",
       "        07~08  08~09  09~10  ...  21~22  22~23  23~24  00~01  total  type  \\\n",
       "0         397    786   1421  ...   3914   2660    917    112  43267    섬식   \n",
       "1         859    964   1407  ...   1618    962    551    179  32931    섬식   \n",
       "2        4852   9813   4784  ...   1243   1098    583    210  52036    섬식   \n",
       "3        2297   3665   2103  ...   3606   1986   1094    188  60674    섬식   \n",
       "4        4452  10406   4863  ...   1334   1107    646    288  51327    섬식   \n",
       "...       ...    ...    ...  ...    ...    ...    ...    ...    ...   ...   \n",
       "602299      0      0      0  ...      0      0      0      0      0   상대식   \n",
       "602300      0      0      0  ...      0      0      0      0      0   상대식   \n",
       "602301      0      0      0  ...      0      0      0      0      0   상대식   \n",
       "602302      0      0      0  ...      0      0      0      0      0   상대식   \n",
       "602303      0      0      0  ...      0      0      0      0      0   상대식   \n",
       "\n",
       "            area   gu  dong                      address  \n",
       "0       10805.00   중구   봉래동  서울특별시 중구 봉래동2가 122 서울역(1호선)  \n",
       "1       10805.00   중구   봉래동  서울특별시 중구 봉래동2가 122 서울역(1호선)  \n",
       "2       10805.00   중구   봉래동  서울특별시 중구 봉래동2가 122 서울역(1호선)  \n",
       "3       10805.00   중구   봉래동  서울특별시 중구 봉래동2가 122 서울역(1호선)  \n",
       "4       10805.00   중구   봉래동  서울특별시 중구 봉래동2가 122 서울역(1호선)  \n",
       "...          ...  ...   ...                          ...  \n",
       "602299   8420.54  은평구   갈현동       서울특별시 은평구 갈현동 397 연신내역  \n",
       "602300   8420.54  은평구   갈현동       서울특별시 은평구 갈현동 397 연신내역  \n",
       "602301   8420.54  은평구   갈현동       서울특별시 은평구 갈현동 397 연신내역  \n",
       "602302   8420.54  은평구   갈현동       서울특별시 은평구 갈현동 397 연신내역  \n",
       "602303   8420.54  은평구   갈현동       서울특별시 은평구 갈현동 397 연신내역  \n",
       "\n",
       "[602304 rows x 31 columns]"
      ]
     },
     "execution_count": 31,
     "metadata": {},
     "output_type": "execute_result"
    }
   ],
   "source": [
    "# station_name과 line을 조인키로 inner join\n",
    "subway_semi_final = pd.merge(subway_boarding_total, subway_area_address, how = 'inner', on = ['station_name', 'line'])\n",
    "subway_semi_final"
   ]
  },
  {
   "cell_type": "code",
   "execution_count": 32,
   "metadata": {
    "ExecuteTime": {
     "end_time": "2020-07-08T03:34:56.277591Z",
     "start_time": "2020-07-08T03:34:56.267633Z"
    }
   },
   "outputs": [
    {
     "data": {
      "text/plain": [
       "602304"
      ]
     },
     "execution_count": 32,
     "metadata": {},
     "output_type": "execute_result"
    }
   ],
   "source": [
    "len(subway_boarding_total)"
   ]
  },
  {
   "cell_type": "code",
   "execution_count": 33,
   "metadata": {
    "ExecuteTime": {
     "end_time": "2020-07-08T03:34:56.778286Z",
     "start_time": "2020-07-08T03:34:56.280584Z"
    }
   },
   "outputs": [
    {
     "data": {
      "text/plain": [
       "date            0\n",
       "line            0\n",
       "station_num     0\n",
       "station_name    0\n",
       "boarding        0\n",
       "05~06           0\n",
       "06~07           0\n",
       "07~08           0\n",
       "08~09           0\n",
       "09~10           0\n",
       "10~11           0\n",
       "11~12           0\n",
       "12~13           0\n",
       "13~14           0\n",
       "14~15           0\n",
       "15~16           0\n",
       "16~17           0\n",
       "17~18           0\n",
       "18~19           0\n",
       "19~20           0\n",
       "20~21           0\n",
       "21~22           0\n",
       "22~23           0\n",
       "23~24           0\n",
       "00~01           0\n",
       "total           0\n",
       "type            0\n",
       "area            0\n",
       "gu              0\n",
       "dong            0\n",
       "address         0\n",
       "dtype: int64"
      ]
     },
     "execution_count": 33,
     "metadata": {},
     "output_type": "execute_result"
    }
   ],
   "source": [
    "subway_semi_final.isnull().sum()"
   ]
  },
  {
   "cell_type": "markdown",
   "metadata": {},
   "source": [
    "- Inner join한 결과를 살펴보니, 결합이 잘 이루어진 것 같다!!\n",
    "    - 또한 **inner join 과정에서 \"신내\"역이 제거되었음**을 확인할 수 있다."
   ]
  },
  {
   "cell_type": "code",
   "execution_count": 34,
   "metadata": {
    "ExecuteTime": {
     "end_time": "2020-07-08T03:34:56.845122Z",
     "start_time": "2020-07-08T03:34:56.780246Z"
    }
   },
   "outputs": [
    {
     "data": {
      "text/html": [
       "<div>\n",
       "<style scoped>\n",
       "    .dataframe tbody tr th:only-of-type {\n",
       "        vertical-align: middle;\n",
       "    }\n",
       "\n",
       "    .dataframe tbody tr th {\n",
       "        vertical-align: top;\n",
       "    }\n",
       "\n",
       "    .dataframe thead th {\n",
       "        text-align: right;\n",
       "    }\n",
       "</style>\n",
       "<table border=\"1\" class=\"dataframe\">\n",
       "  <thead>\n",
       "    <tr style=\"text-align: right;\">\n",
       "      <th></th>\n",
       "      <th>date</th>\n",
       "      <th>line</th>\n",
       "      <th>station_num</th>\n",
       "      <th>station_name</th>\n",
       "      <th>boarding</th>\n",
       "      <th>05~06</th>\n",
       "      <th>06~07</th>\n",
       "      <th>07~08</th>\n",
       "      <th>08~09</th>\n",
       "      <th>09~10</th>\n",
       "      <th>...</th>\n",
       "      <th>21~22</th>\n",
       "      <th>22~23</th>\n",
       "      <th>23~24</th>\n",
       "      <th>00~01</th>\n",
       "      <th>total</th>\n",
       "      <th>type</th>\n",
       "      <th>area</th>\n",
       "      <th>gu</th>\n",
       "      <th>dong</th>\n",
       "      <th>address</th>\n",
       "    </tr>\n",
       "  </thead>\n",
       "  <tbody>\n",
       "  </tbody>\n",
       "</table>\n",
       "<p>0 rows × 31 columns</p>\n",
       "</div>"
      ],
      "text/plain": [
       "Empty DataFrame\n",
       "Columns: [date, line, station_num, station_name, boarding, 05~06, 06~07, 07~08, 08~09, 09~10, 10~11, 11~12, 12~13, 13~14, 14~15, 15~16, 16~17, 17~18, 18~19, 19~20, 20~21, 21~22, 22~23, 23~24, 00~01, total, type, area, gu, dong, address]\n",
       "Index: []\n",
       "\n",
       "[0 rows x 31 columns]"
      ]
     },
     "execution_count": 34,
     "metadata": {},
     "output_type": "execute_result"
    }
   ],
   "source": [
    "subway_semi_final[subway_semi_final['station_name'] == '신내']"
   ]
  },
  {
   "cell_type": "markdown",
   "metadata": {},
   "source": [
    "### subway_semi_final + subway_info_total (데이터 셋 결합)"
   ]
  },
  {
   "cell_type": "markdown",
   "metadata": {},
   "source": [
    "**두 개의 데이터 셋을 결합하기에 앞서, 아래의 과정을 진행해주겠다!!**\n",
    "- subway_info_total 데이터 셋의 line 변수가 숫자로 되어있다.\n",
    "- for문을 사용하여 뒤에 \"호선\"을 붙여주겠다."
   ]
  },
  {
   "cell_type": "code",
   "execution_count": 35,
   "metadata": {
    "ExecuteTime": {
     "end_time": "2020-07-08T03:34:56.881975Z",
     "start_time": "2020-07-08T03:34:56.847070Z"
    }
   },
   "outputs": [
    {
     "data": {
      "text/html": [
       "<div>\n",
       "<style scoped>\n",
       "    .dataframe tbody tr th:only-of-type {\n",
       "        vertical-align: middle;\n",
       "    }\n",
       "\n",
       "    .dataframe tbody tr th {\n",
       "        vertical-align: top;\n",
       "    }\n",
       "\n",
       "    .dataframe thead th {\n",
       "        text-align: right;\n",
       "    }\n",
       "</style>\n",
       "<table border=\"1\" class=\"dataframe\">\n",
       "  <thead>\n",
       "    <tr style=\"text-align: right;\">\n",
       "      <th></th>\n",
       "      <th>line</th>\n",
       "      <th>station_name</th>\n",
       "      <th>transfer</th>\n",
       "      <th>transfer_num</th>\n",
       "      <th>entrance</th>\n",
       "      <th>gate</th>\n",
       "    </tr>\n",
       "  </thead>\n",
       "  <tbody>\n",
       "    <tr>\n",
       "      <th>0</th>\n",
       "      <td>1</td>\n",
       "      <td>서울역</td>\n",
       "      <td>1,4,공항,경의</td>\n",
       "      <td>4</td>\n",
       "      <td>9</td>\n",
       "      <td>1, 2, 3, 4, 5, 6, 7, 8, 9,</td>\n",
       "    </tr>\n",
       "    <tr>\n",
       "      <th>1</th>\n",
       "      <td>1</td>\n",
       "      <td>시청</td>\n",
       "      <td>1,2</td>\n",
       "      <td>2</td>\n",
       "      <td>7</td>\n",
       "      <td>1, 2, 3, 4, 5, 6, 7,</td>\n",
       "    </tr>\n",
       "    <tr>\n",
       "      <th>2</th>\n",
       "      <td>1</td>\n",
       "      <td>종각</td>\n",
       "      <td>NaN</td>\n",
       "      <td>0</td>\n",
       "      <td>7</td>\n",
       "      <td>1, 2, 3, 3-1, 4, 5, 6,</td>\n",
       "    </tr>\n",
       "    <tr>\n",
       "      <th>3</th>\n",
       "      <td>1</td>\n",
       "      <td>종로3가</td>\n",
       "      <td>1,3,5</td>\n",
       "      <td>3</td>\n",
       "      <td>8</td>\n",
       "      <td>1, 2, 10, 11, 12, 13, 14, 15,</td>\n",
       "    </tr>\n",
       "    <tr>\n",
       "      <th>4</th>\n",
       "      <td>1</td>\n",
       "      <td>종로5가</td>\n",
       "      <td>NaN</td>\n",
       "      <td>0</td>\n",
       "      <td>8</td>\n",
       "      <td>1, 2, 3, 4, 5, 6, 7, 8,</td>\n",
       "    </tr>\n",
       "    <tr>\n",
       "      <th>...</th>\n",
       "      <td>...</td>\n",
       "      <td>...</td>\n",
       "      <td>...</td>\n",
       "      <td>...</td>\n",
       "      <td>...</td>\n",
       "      <td>...</td>\n",
       "    </tr>\n",
       "    <tr>\n",
       "      <th>272</th>\n",
       "      <td>8</td>\n",
       "      <td>남한산성입구(성남법원.검찰청)</td>\n",
       "      <td>NaN</td>\n",
       "      <td>0</td>\n",
       "      <td>4</td>\n",
       "      <td>1,2,3,4</td>\n",
       "    </tr>\n",
       "    <tr>\n",
       "      <th>273</th>\n",
       "      <td>8</td>\n",
       "      <td>단대오거리</td>\n",
       "      <td>NaN</td>\n",
       "      <td>0</td>\n",
       "      <td>7</td>\n",
       "      <td>1,2,3,4,5,6,7</td>\n",
       "    </tr>\n",
       "    <tr>\n",
       "      <th>274</th>\n",
       "      <td>8</td>\n",
       "      <td>신흥</td>\n",
       "      <td>NaN</td>\n",
       "      <td>0</td>\n",
       "      <td>4</td>\n",
       "      <td>1,2,3,4</td>\n",
       "    </tr>\n",
       "    <tr>\n",
       "      <th>275</th>\n",
       "      <td>8</td>\n",
       "      <td>수진</td>\n",
       "      <td>NaN</td>\n",
       "      <td>0</td>\n",
       "      <td>4</td>\n",
       "      <td>1,2,3,4</td>\n",
       "    </tr>\n",
       "    <tr>\n",
       "      <th>276</th>\n",
       "      <td>8</td>\n",
       "      <td>모란</td>\n",
       "      <td>8,분당</td>\n",
       "      <td>2</td>\n",
       "      <td>4</td>\n",
       "      <td>9,10,11,12</td>\n",
       "    </tr>\n",
       "  </tbody>\n",
       "</table>\n",
       "<p>277 rows × 6 columns</p>\n",
       "</div>"
      ],
      "text/plain": [
       "     line      station_name   transfer  transfer_num  entrance  \\\n",
       "0       1               서울역  1,4,공항,경의             4         9   \n",
       "1       1                시청        1,2             2         7   \n",
       "2       1                종각        NaN             0         7   \n",
       "3       1              종로3가      1,3,5             3         8   \n",
       "4       1              종로5가        NaN             0         8   \n",
       "..    ...               ...        ...           ...       ...   \n",
       "272     8  남한산성입구(성남법원.검찰청)        NaN             0         4   \n",
       "273     8             단대오거리        NaN             0         7   \n",
       "274     8                신흥        NaN             0         4   \n",
       "275     8                수진        NaN             0         4   \n",
       "276     8                모란       8,분당             2         4   \n",
       "\n",
       "                              gate  \n",
       "0       1, 2, 3, 4, 5, 6, 7, 8, 9,  \n",
       "1             1, 2, 3, 4, 5, 6, 7,  \n",
       "2           1, 2, 3, 3-1, 4, 5, 6,  \n",
       "3    1, 2, 10, 11, 12, 13, 14, 15,  \n",
       "4          1, 2, 3, 4, 5, 6, 7, 8,  \n",
       "..                             ...  \n",
       "272                        1,2,3,4  \n",
       "273                  1,2,3,4,5,6,7  \n",
       "274                        1,2,3,4  \n",
       "275                        1,2,3,4  \n",
       "276                     9,10,11,12  \n",
       "\n",
       "[277 rows x 6 columns]"
      ]
     },
     "execution_count": 35,
     "metadata": {},
     "output_type": "execute_result"
    }
   ],
   "source": [
    "subway_info_total = pd.read_csv(\"C:/Users/Playdata/Playdata_anl/1st_Project/dataset/subway/subway_info_total.csv\")\n",
    "subway_info_total"
   ]
  },
  {
   "cell_type": "code",
   "execution_count": 36,
   "metadata": {
    "ExecuteTime": {
     "end_time": "2020-07-08T03:34:56.978717Z",
     "start_time": "2020-07-08T03:34:56.884967Z"
    }
   },
   "outputs": [
    {
     "data": {
      "application/vnd.jupyter.widget-view+json": {
       "model_id": "bfebc847140d4798b4b6768fbcb0822a",
       "version_major": 2,
       "version_minor": 0
      },
      "text/plain": [
       "HBox(children=(FloatProgress(value=0.0, max=277.0), HTML(value='')))"
      ]
     },
     "metadata": {},
     "output_type": "display_data"
    },
    {
     "name": "stdout",
     "output_type": "stream",
     "text": [
      "\n"
     ]
    },
    {
     "data": {
      "text/plain": [
       "5호선    51\n",
       "7호선    51\n",
       "2호선    50\n",
       "6호선    38\n",
       "3호선    34\n",
       "4호선    26\n",
       "8호선    17\n",
       "1호선    10\n",
       "Name: line, dtype: int64"
      ]
     },
     "execution_count": 36,
     "metadata": {},
     "output_type": "execute_result"
    }
   ],
   "source": [
    "from tqdm.notebook import tqdm\n",
    "\n",
    "for i in tqdm(range(len(subway_info_total))):\n",
    "    subway_info_total['line'][i] = str(subway_info_total['line'][i]) + \"호선\"\n",
    "    \n",
    "subway_info_total['line'].value_counts()"
   ]
  },
  {
   "cell_type": "markdown",
   "metadata": {},
   "source": [
    "- **station_name과 line을 조인키**로 두 개의 데이터 셋 **inner join**"
   ]
  },
  {
   "cell_type": "code",
   "execution_count": 37,
   "metadata": {
    "ExecuteTime": {
     "end_time": "2020-07-08T03:34:57.051521Z",
     "start_time": "2020-07-08T03:34:56.980711Z"
    }
   },
   "outputs": [
    {
     "data": {
      "text/plain": [
       "242"
      ]
     },
     "execution_count": 37,
     "metadata": {},
     "output_type": "execute_result"
    }
   ],
   "source": [
    "len(set(subway_semi_final['station_name']))"
   ]
  },
  {
   "cell_type": "code",
   "execution_count": 38,
   "metadata": {
    "ExecuteTime": {
     "end_time": "2020-07-08T03:34:57.061494Z",
     "start_time": "2020-07-08T03:34:57.054515Z"
    }
   },
   "outputs": [
    {
     "data": {
      "text/plain": [
       "242"
      ]
     },
     "execution_count": 38,
     "metadata": {},
     "output_type": "execute_result"
    }
   ],
   "source": [
    "len(set(subway_info_total['station_name']))"
   ]
  },
  {
   "cell_type": "code",
   "execution_count": 48,
   "metadata": {
    "ExecuteTime": {
     "end_time": "2020-07-08T03:43:57.753745Z",
     "start_time": "2020-07-08T03:43:56.241525Z"
    }
   },
   "outputs": [
    {
     "data": {
      "text/html": [
       "<div>\n",
       "<style scoped>\n",
       "    .dataframe tbody tr th:only-of-type {\n",
       "        vertical-align: middle;\n",
       "    }\n",
       "\n",
       "    .dataframe tbody tr th {\n",
       "        vertical-align: top;\n",
       "    }\n",
       "\n",
       "    .dataframe thead th {\n",
       "        text-align: right;\n",
       "    }\n",
       "</style>\n",
       "<table border=\"1\" class=\"dataframe\">\n",
       "  <thead>\n",
       "    <tr style=\"text-align: right;\">\n",
       "      <th></th>\n",
       "      <th>date</th>\n",
       "      <th>line</th>\n",
       "      <th>station_num</th>\n",
       "      <th>station_name</th>\n",
       "      <th>boarding</th>\n",
       "      <th>05~06</th>\n",
       "      <th>06~07</th>\n",
       "      <th>07~08</th>\n",
       "      <th>08~09</th>\n",
       "      <th>09~10</th>\n",
       "      <th>...</th>\n",
       "      <th>total</th>\n",
       "      <th>type</th>\n",
       "      <th>area</th>\n",
       "      <th>gu</th>\n",
       "      <th>dong</th>\n",
       "      <th>address</th>\n",
       "      <th>transfer</th>\n",
       "      <th>transfer_num</th>\n",
       "      <th>entrance</th>\n",
       "      <th>gate</th>\n",
       "    </tr>\n",
       "  </thead>\n",
       "  <tbody>\n",
       "    <tr>\n",
       "      <th>0</th>\n",
       "      <td>2017-01-01</td>\n",
       "      <td>1호선</td>\n",
       "      <td>150</td>\n",
       "      <td>서울역</td>\n",
       "      <td>승차</td>\n",
       "      <td>470</td>\n",
       "      <td>286</td>\n",
       "      <td>397</td>\n",
       "      <td>786</td>\n",
       "      <td>1421</td>\n",
       "      <td>...</td>\n",
       "      <td>43267</td>\n",
       "      <td>섬식</td>\n",
       "      <td>10805.00</td>\n",
       "      <td>중구</td>\n",
       "      <td>봉래동</td>\n",
       "      <td>서울특별시 중구 봉래동2가 122 서울역(1호선)</td>\n",
       "      <td>1,4,공항,경의</td>\n",
       "      <td>4</td>\n",
       "      <td>9</td>\n",
       "      <td>1, 2, 3, 4, 5, 6, 7, 8, 9,</td>\n",
       "    </tr>\n",
       "    <tr>\n",
       "      <th>1</th>\n",
       "      <td>2017-01-01</td>\n",
       "      <td>1호선</td>\n",
       "      <td>150</td>\n",
       "      <td>서울역</td>\n",
       "      <td>하차</td>\n",
       "      <td>278</td>\n",
       "      <td>880</td>\n",
       "      <td>859</td>\n",
       "      <td>964</td>\n",
       "      <td>1407</td>\n",
       "      <td>...</td>\n",
       "      <td>32931</td>\n",
       "      <td>섬식</td>\n",
       "      <td>10805.00</td>\n",
       "      <td>중구</td>\n",
       "      <td>봉래동</td>\n",
       "      <td>서울특별시 중구 봉래동2가 122 서울역(1호선)</td>\n",
       "      <td>1,4,공항,경의</td>\n",
       "      <td>4</td>\n",
       "      <td>9</td>\n",
       "      <td>1, 2, 3, 4, 5, 6, 7, 8, 9,</td>\n",
       "    </tr>\n",
       "    <tr>\n",
       "      <th>2</th>\n",
       "      <td>2017-01-02</td>\n",
       "      <td>1호선</td>\n",
       "      <td>150</td>\n",
       "      <td>서울역</td>\n",
       "      <td>하차</td>\n",
       "      <td>356</td>\n",
       "      <td>2366</td>\n",
       "      <td>4852</td>\n",
       "      <td>9813</td>\n",
       "      <td>4784</td>\n",
       "      <td>...</td>\n",
       "      <td>52036</td>\n",
       "      <td>섬식</td>\n",
       "      <td>10805.00</td>\n",
       "      <td>중구</td>\n",
       "      <td>봉래동</td>\n",
       "      <td>서울특별시 중구 봉래동2가 122 서울역(1호선)</td>\n",
       "      <td>1,4,공항,경의</td>\n",
       "      <td>4</td>\n",
       "      <td>9</td>\n",
       "      <td>1, 2, 3, 4, 5, 6, 7, 8, 9,</td>\n",
       "    </tr>\n",
       "    <tr>\n",
       "      <th>3</th>\n",
       "      <td>2017-01-02</td>\n",
       "      <td>1호선</td>\n",
       "      <td>150</td>\n",
       "      <td>서울역</td>\n",
       "      <td>승차</td>\n",
       "      <td>411</td>\n",
       "      <td>536</td>\n",
       "      <td>2297</td>\n",
       "      <td>3665</td>\n",
       "      <td>2103</td>\n",
       "      <td>...</td>\n",
       "      <td>60674</td>\n",
       "      <td>섬식</td>\n",
       "      <td>10805.00</td>\n",
       "      <td>중구</td>\n",
       "      <td>봉래동</td>\n",
       "      <td>서울특별시 중구 봉래동2가 122 서울역(1호선)</td>\n",
       "      <td>1,4,공항,경의</td>\n",
       "      <td>4</td>\n",
       "      <td>9</td>\n",
       "      <td>1, 2, 3, 4, 5, 6, 7, 8, 9,</td>\n",
       "    </tr>\n",
       "    <tr>\n",
       "      <th>4</th>\n",
       "      <td>2017-01-03</td>\n",
       "      <td>1호선</td>\n",
       "      <td>150</td>\n",
       "      <td>서울역</td>\n",
       "      <td>하차</td>\n",
       "      <td>303</td>\n",
       "      <td>1719</td>\n",
       "      <td>4452</td>\n",
       "      <td>10406</td>\n",
       "      <td>4863</td>\n",
       "      <td>...</td>\n",
       "      <td>51327</td>\n",
       "      <td>섬식</td>\n",
       "      <td>10805.00</td>\n",
       "      <td>중구</td>\n",
       "      <td>봉래동</td>\n",
       "      <td>서울특별시 중구 봉래동2가 122 서울역(1호선)</td>\n",
       "      <td>1,4,공항,경의</td>\n",
       "      <td>4</td>\n",
       "      <td>9</td>\n",
       "      <td>1, 2, 3, 4, 5, 6, 7, 8, 9,</td>\n",
       "    </tr>\n",
       "    <tr>\n",
       "      <th>...</th>\n",
       "      <td>...</td>\n",
       "      <td>...</td>\n",
       "      <td>...</td>\n",
       "      <td>...</td>\n",
       "      <td>...</td>\n",
       "      <td>...</td>\n",
       "      <td>...</td>\n",
       "      <td>...</td>\n",
       "      <td>...</td>\n",
       "      <td>...</td>\n",
       "      <td>...</td>\n",
       "      <td>...</td>\n",
       "      <td>...</td>\n",
       "      <td>...</td>\n",
       "      <td>...</td>\n",
       "      <td>...</td>\n",
       "      <td>...</td>\n",
       "      <td>...</td>\n",
       "      <td>...</td>\n",
       "      <td>...</td>\n",
       "      <td>...</td>\n",
       "    </tr>\n",
       "    <tr>\n",
       "      <th>602299</th>\n",
       "      <td>2019-12-26</td>\n",
       "      <td>6호선</td>\n",
       "      <td>2615</td>\n",
       "      <td>연신내</td>\n",
       "      <td>승차</td>\n",
       "      <td>0</td>\n",
       "      <td>0</td>\n",
       "      <td>0</td>\n",
       "      <td>0</td>\n",
       "      <td>0</td>\n",
       "      <td>...</td>\n",
       "      <td>0</td>\n",
       "      <td>상대식</td>\n",
       "      <td>8420.54</td>\n",
       "      <td>은평구</td>\n",
       "      <td>갈현동</td>\n",
       "      <td>서울특별시 은평구 갈현동 397 연신내역</td>\n",
       "      <td>3,6</td>\n",
       "      <td>2</td>\n",
       "      <td>0</td>\n",
       "      <td></td>\n",
       "    </tr>\n",
       "    <tr>\n",
       "      <th>602300</th>\n",
       "      <td>2019-12-27</td>\n",
       "      <td>6호선</td>\n",
       "      <td>2615</td>\n",
       "      <td>연신내</td>\n",
       "      <td>승차</td>\n",
       "      <td>0</td>\n",
       "      <td>0</td>\n",
       "      <td>0</td>\n",
       "      <td>0</td>\n",
       "      <td>0</td>\n",
       "      <td>...</td>\n",
       "      <td>0</td>\n",
       "      <td>상대식</td>\n",
       "      <td>8420.54</td>\n",
       "      <td>은평구</td>\n",
       "      <td>갈현동</td>\n",
       "      <td>서울특별시 은평구 갈현동 397 연신내역</td>\n",
       "      <td>3,6</td>\n",
       "      <td>2</td>\n",
       "      <td>0</td>\n",
       "      <td></td>\n",
       "    </tr>\n",
       "    <tr>\n",
       "      <th>602301</th>\n",
       "      <td>2019-12-27</td>\n",
       "      <td>6호선</td>\n",
       "      <td>2615</td>\n",
       "      <td>연신내</td>\n",
       "      <td>하차</td>\n",
       "      <td>0</td>\n",
       "      <td>0</td>\n",
       "      <td>0</td>\n",
       "      <td>0</td>\n",
       "      <td>0</td>\n",
       "      <td>...</td>\n",
       "      <td>0</td>\n",
       "      <td>상대식</td>\n",
       "      <td>8420.54</td>\n",
       "      <td>은평구</td>\n",
       "      <td>갈현동</td>\n",
       "      <td>서울특별시 은평구 갈현동 397 연신내역</td>\n",
       "      <td>3,6</td>\n",
       "      <td>2</td>\n",
       "      <td>0</td>\n",
       "      <td></td>\n",
       "    </tr>\n",
       "    <tr>\n",
       "      <th>602302</th>\n",
       "      <td>2019-12-28</td>\n",
       "      <td>6호선</td>\n",
       "      <td>2615</td>\n",
       "      <td>연신내</td>\n",
       "      <td>하차</td>\n",
       "      <td>0</td>\n",
       "      <td>0</td>\n",
       "      <td>0</td>\n",
       "      <td>0</td>\n",
       "      <td>0</td>\n",
       "      <td>...</td>\n",
       "      <td>0</td>\n",
       "      <td>상대식</td>\n",
       "      <td>8420.54</td>\n",
       "      <td>은평구</td>\n",
       "      <td>갈현동</td>\n",
       "      <td>서울특별시 은평구 갈현동 397 연신내역</td>\n",
       "      <td>3,6</td>\n",
       "      <td>2</td>\n",
       "      <td>0</td>\n",
       "      <td></td>\n",
       "    </tr>\n",
       "    <tr>\n",
       "      <th>602303</th>\n",
       "      <td>2019-12-28</td>\n",
       "      <td>6호선</td>\n",
       "      <td>2615</td>\n",
       "      <td>연신내</td>\n",
       "      <td>승차</td>\n",
       "      <td>0</td>\n",
       "      <td>0</td>\n",
       "      <td>0</td>\n",
       "      <td>0</td>\n",
       "      <td>0</td>\n",
       "      <td>...</td>\n",
       "      <td>0</td>\n",
       "      <td>상대식</td>\n",
       "      <td>8420.54</td>\n",
       "      <td>은평구</td>\n",
       "      <td>갈현동</td>\n",
       "      <td>서울특별시 은평구 갈현동 397 연신내역</td>\n",
       "      <td>3,6</td>\n",
       "      <td>2</td>\n",
       "      <td>0</td>\n",
       "      <td></td>\n",
       "    </tr>\n",
       "  </tbody>\n",
       "</table>\n",
       "<p>602304 rows × 35 columns</p>\n",
       "</div>"
      ],
      "text/plain": [
       "             date line  station_num station_name boarding  05~06  06~07  \\\n",
       "0      2017-01-01  1호선          150          서울역       승차    470    286   \n",
       "1      2017-01-01  1호선          150          서울역       하차    278    880   \n",
       "2      2017-01-02  1호선          150          서울역       하차    356   2366   \n",
       "3      2017-01-02  1호선          150          서울역       승차    411    536   \n",
       "4      2017-01-03  1호선          150          서울역       하차    303   1719   \n",
       "...           ...  ...          ...          ...      ...    ...    ...   \n",
       "602299 2019-12-26  6호선         2615          연신내       승차      0      0   \n",
       "602300 2019-12-27  6호선         2615          연신내       승차      0      0   \n",
       "602301 2019-12-27  6호선         2615          연신내       하차      0      0   \n",
       "602302 2019-12-28  6호선         2615          연신내       하차      0      0   \n",
       "602303 2019-12-28  6호선         2615          연신내       승차      0      0   \n",
       "\n",
       "        07~08  08~09  09~10  ...  total  type      area   gu  dong  \\\n",
       "0         397    786   1421  ...  43267    섬식  10805.00   중구   봉래동   \n",
       "1         859    964   1407  ...  32931    섬식  10805.00   중구   봉래동   \n",
       "2        4852   9813   4784  ...  52036    섬식  10805.00   중구   봉래동   \n",
       "3        2297   3665   2103  ...  60674    섬식  10805.00   중구   봉래동   \n",
       "4        4452  10406   4863  ...  51327    섬식  10805.00   중구   봉래동   \n",
       "...       ...    ...    ...  ...    ...   ...       ...  ...   ...   \n",
       "602299      0      0      0  ...      0   상대식   8420.54  은평구   갈현동   \n",
       "602300      0      0      0  ...      0   상대식   8420.54  은평구   갈현동   \n",
       "602301      0      0      0  ...      0   상대식   8420.54  은평구   갈현동   \n",
       "602302      0      0      0  ...      0   상대식   8420.54  은평구   갈현동   \n",
       "602303      0      0      0  ...      0   상대식   8420.54  은평구   갈현동   \n",
       "\n",
       "                            address   transfer  transfer_num  entrance  \\\n",
       "0       서울특별시 중구 봉래동2가 122 서울역(1호선)  1,4,공항,경의             4         9   \n",
       "1       서울특별시 중구 봉래동2가 122 서울역(1호선)  1,4,공항,경의             4         9   \n",
       "2       서울특별시 중구 봉래동2가 122 서울역(1호선)  1,4,공항,경의             4         9   \n",
       "3       서울특별시 중구 봉래동2가 122 서울역(1호선)  1,4,공항,경의             4         9   \n",
       "4       서울특별시 중구 봉래동2가 122 서울역(1호선)  1,4,공항,경의             4         9   \n",
       "...                             ...        ...           ...       ...   \n",
       "602299       서울특별시 은평구 갈현동 397 연신내역        3,6             2         0   \n",
       "602300       서울특별시 은평구 갈현동 397 연신내역        3,6             2         0   \n",
       "602301       서울특별시 은평구 갈현동 397 연신내역        3,6             2         0   \n",
       "602302       서울특별시 은평구 갈현동 397 연신내역        3,6             2         0   \n",
       "602303       서울특별시 은평구 갈현동 397 연신내역        3,6             2         0   \n",
       "\n",
       "                              gate  \n",
       "0       1, 2, 3, 4, 5, 6, 7, 8, 9,  \n",
       "1       1, 2, 3, 4, 5, 6, 7, 8, 9,  \n",
       "2       1, 2, 3, 4, 5, 6, 7, 8, 9,  \n",
       "3       1, 2, 3, 4, 5, 6, 7, 8, 9,  \n",
       "4       1, 2, 3, 4, 5, 6, 7, 8, 9,  \n",
       "...                            ...  \n",
       "602299                              \n",
       "602300                              \n",
       "602301                              \n",
       "602302                              \n",
       "602303                              \n",
       "\n",
       "[602304 rows x 35 columns]"
      ]
     },
     "execution_count": 48,
     "metadata": {},
     "output_type": "execute_result"
    }
   ],
   "source": [
    "subway_semi_final2 = pd.merge(subway_semi_final, subway_info_total, how = 'inner', on = ['station_name', 'line'])\n",
    "subway_semi_final2"
   ]
  },
  {
   "cell_type": "code",
   "execution_count": 49,
   "metadata": {
    "ExecuteTime": {
     "end_time": "2020-07-08T03:44:03.449477Z",
     "start_time": "2020-07-08T03:44:03.443493Z"
    }
   },
   "outputs": [
    {
     "data": {
      "text/plain": [
       "602304"
      ]
     },
     "execution_count": 49,
     "metadata": {},
     "output_type": "execute_result"
    }
   ],
   "source": [
    "len(subway_semi_final)"
   ]
  },
  {
   "cell_type": "markdown",
   "metadata": {},
   "source": [
    "- Inner join이 잘 이루어진 것을 확인할 수 있다."
   ]
  },
  {
   "cell_type": "markdown",
   "metadata": {},
   "source": [
    "### 최종 데이터 셋 CSV 파일로 내보내기"
   ]
  },
  {
   "cell_type": "code",
   "execution_count": 50,
   "metadata": {
    "ExecuteTime": {
     "end_time": "2020-07-08T03:44:33.409585Z",
     "start_time": "2020-07-08T03:44:21.707017Z"
    }
   },
   "outputs": [],
   "source": [
    "subway_semi_final2.to_csv(\"C:/Users/Playdata/Playdata_anl/1st_Project/dataset/subway/subway_semi_final.csv\")"
   ]
  },
  {
   "cell_type": "markdown",
   "metadata": {},
   "source": [
    "**<참고> Inner join이 제대로 이루어지지 않은 것에 대한 원인 파악을 위한 코드**\n",
    "- 연도별로 inner join을 수행해 본 결과, 2019년도 데이터 셋의 \"충무로\"역에 문제가 있음을 발견했다.\n",
    "- 확인해보니, subway_info_total 데이터 셋에 3호선 \"충무로\"역이 존재하지 않았다.\n",
    "    - 따라서 **subway_info_total 데이터 셋에 3호선 \"충무로\"역을 직접 넣어주었다!!**"
   ]
  },
  {
   "cell_type": "code",
   "execution_count": null,
   "metadata": {
    "ExecuteTime": {
     "end_time": "2020-07-08T03:21:31.214653Z",
     "start_time": "2020-07-08T03:21:25.378844Z"
    }
   },
   "outputs": [],
   "source": [
    "# subway_semi_final['date'] = subway_semi_final['date'].astype(str)\n",
    "\n",
    "# subway_2017 = subway_semi_final[subway_semi_final['date'].str.contains('2017')]\n",
    "# subway_2018 = subway_semi_final[subway_semi_final['date'].str.contains('2018')]\n",
    "# subway_2019 = subway_semi_final[subway_semi_final['date'].str.contains('2019')]"
   ]
  },
  {
   "cell_type": "code",
   "execution_count": null,
   "metadata": {
    "ExecuteTime": {
     "end_time": "2020-07-08T03:21:32.630272Z",
     "start_time": "2020-07-08T03:21:31.836779Z"
    }
   },
   "outputs": [],
   "source": [
    "# subway_2017_final = pd.merge(subway_2017, subway_info_total, how = 'inner', on = ['station_name', 'line'])\n",
    "# subway_2018_final = pd.merge(subway_2018, subway_info_total, how = 'inner', on = ['station_name', 'line'])\n",
    "# subway_2019_final = pd.merge(subway_2019, subway_info_total, how = 'inner', on = ['station_name', 'line'])"
   ]
  },
  {
   "cell_type": "code",
   "execution_count": null,
   "metadata": {
    "ExecuteTime": {
     "end_time": "2020-07-08T03:21:33.258605Z",
     "start_time": "2020-07-08T03:21:33.251625Z"
    }
   },
   "outputs": [],
   "source": [
    "# len(subway_2017_final), len(subway_2017)"
   ]
  },
  {
   "cell_type": "code",
   "execution_count": null,
   "metadata": {
    "ExecuteTime": {
     "end_time": "2020-07-08T03:21:33.846535Z",
     "start_time": "2020-07-08T03:21:33.839554Z"
    }
   },
   "outputs": [],
   "source": [
    "# len(subway_2018_final), len(subway_2018)"
   ]
  },
  {
   "cell_type": "code",
   "execution_count": null,
   "metadata": {
    "ExecuteTime": {
     "end_time": "2020-07-08T03:21:34.326098Z",
     "start_time": "2020-07-08T03:21:34.319110Z"
    },
    "scrolled": true
   },
   "outputs": [],
   "source": [
    "# len(subway_2019_final), len(subway_2019)"
   ]
  }
 ],
 "metadata": {
  "kernelspec": {
   "display_name": "Python 3",
   "language": "python",
   "name": "python3"
  },
  "language_info": {
   "codemirror_mode": {
    "name": "ipython",
    "version": 3
   },
   "file_extension": ".py",
   "mimetype": "text/x-python",
   "name": "python",
   "nbconvert_exporter": "python",
   "pygments_lexer": "ipython3",
   "version": "3.7.6"
  },
  "toc": {
   "base_numbering": 1,
   "nav_menu": {},
   "number_sections": true,
   "sideBar": true,
   "skip_h1_title": false,
   "title_cell": "Table of Contents",
   "title_sidebar": "Contents",
   "toc_cell": false,
   "toc_position": {},
   "toc_section_display": true,
   "toc_window_display": false
  }
 },
 "nbformat": 4,
 "nbformat_minor": 4
}
