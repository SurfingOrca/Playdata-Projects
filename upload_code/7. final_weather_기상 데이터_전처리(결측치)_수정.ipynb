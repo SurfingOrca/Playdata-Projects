{
 "cells": [
  {
   "cell_type": "markdown",
   "metadata": {
    "toc": true
   },
   "source": [
    "<h1>Table of Contents<span class=\"tocSkip\"></span></h1>\n",
    "<div class=\"toc\"><ul class=\"toc-item\"><li><span><a href=\"#서울시-통합-날씨와-서울시-구별-날씨\" data-toc-modified-id=\"서울시-통합-날씨와-서울시-구별-날씨-1\"><span class=\"toc-item-num\">1&nbsp;&nbsp;</span>서울시 통합 날씨와 서울시 구별 날씨</a></span><ul class=\"toc-item\"><li><span><a href=\"#데이터-불러오기\" data-toc-modified-id=\"데이터-불러오기-1.1\"><span class=\"toc-item-num\">1.1&nbsp;&nbsp;</span>데이터 불러오기</a></span></li><li><span><a href=\"#사용할-컬럼만-남기기\" data-toc-modified-id=\"사용할-컬럼만-남기기-1.2\"><span class=\"toc-item-num\">1.2&nbsp;&nbsp;</span>사용할 컬럼만 남기기</a></span></li><li><span><a href=\"#seoul,-aws_gu-'일시'-기준으로-매칭\" data-toc-modified-id=\"seoul,-aws_gu-'일시'-기준으로-매칭-1.3\"><span class=\"toc-item-num\">1.3&nbsp;&nbsp;</span>seoul, aws_gu '일시' 기준으로 매칭</a></span></li><li><span><a href=\"#지점에-해당하는-주소,-구명-추가-('지점명'-기준으로-매칭)\" data-toc-modified-id=\"지점에-해당하는-주소,-구명-추가-('지점명'-기준으로-매칭)-1.4\"><span class=\"toc-item-num\">1.4&nbsp;&nbsp;</span>지점에 해당하는 주소, 구명 추가 ('지점명' 기준으로 매칭)</a></span></li></ul></li><li><span><a href=\"#특성별-결측값-처리\" data-toc-modified-id=\"특성별-결측값-처리-2\"><span class=\"toc-item-num\">2&nbsp;&nbsp;</span>특성별 결측값 처리</a></span><ul class=\"toc-item\"><li><span><a href=\"#기온-결측값-처리\" data-toc-modified-id=\"기온-결측값-처리-2.1\"><span class=\"toc-item-num\">2.1&nbsp;&nbsp;</span>기온 결측값 처리</a></span><ul class=\"toc-item\"><li><span><a href=\"#앞뒤-중-하나-or-둘다-null인-경우-처리-(seoul-data로-대체)\" data-toc-modified-id=\"앞뒤-중-하나-or-둘다-null인-경우-처리-(seoul-data로-대체)-2.1.1\"><span class=\"toc-item-num\">2.1.1&nbsp;&nbsp;</span>앞뒤 중 하나 or 둘다 null인 경우 처리 (seoul data로 대체)</a></span></li></ul></li><li><span><a href=\"#풍속-결측값-처리\" data-toc-modified-id=\"풍속-결측값-처리-2.2\"><span class=\"toc-item-num\">2.2&nbsp;&nbsp;</span>풍속 결측값 처리</a></span><ul class=\"toc-item\"><li><span><a href=\"#seoul-data로-대체\" data-toc-modified-id=\"seoul-data로-대체-2.2.1\"><span class=\"toc-item-num\">2.2.1&nbsp;&nbsp;</span>seoul data로 대체</a></span></li></ul></li><li><span><a href=\"#습도-결측값-처리\" data-toc-modified-id=\"습도-결측값-처리-2.3\"><span class=\"toc-item-num\">2.3&nbsp;&nbsp;</span>습도 결측값 처리</a></span></li><li><span><a href=\"#강수량-결측값-처리\" data-toc-modified-id=\"강수량-결측값-처리-2.4\"><span class=\"toc-item-num\">2.4&nbsp;&nbsp;</span>강수량 결측값 처리</a></span></li><li><span><a href=\"#일조-결측값-처리\" data-toc-modified-id=\"일조-결측값-처리-2.5\"><span class=\"toc-item-num\">2.5&nbsp;&nbsp;</span>일조 결측값 처리</a></span><ul class=\"toc-item\"><li><span><a href=\"#21:00:00~23:00:00,-00:00:00-~-05:00:00:-null-값-0으로-처리\" data-toc-modified-id=\"21:00:00~23:00:00,-00:00:00-~-05:00:00:-null-값-0으로-처리-2.5.1\"><span class=\"toc-item-num\">2.5.1&nbsp;&nbsp;</span>21:00:00~23:00:00, 00:00:00 ~ 05:00:00: null 값 0으로 처리</a></span></li><li><span><a href=\"#0~5와-나머지-시간도-0으로-처리\" data-toc-modified-id=\"0~5와-나머지-시간도-0으로-처리-2.5.2\"><span class=\"toc-item-num\">2.5.2&nbsp;&nbsp;</span>0~5와 나머지 시간도 0으로 처리</a></span></li></ul></li><li><span><a href=\"#적설-결측값-처리와-일별/시간별-눈옴-여부-특성-생성\" data-toc-modified-id=\"적설-결측값-처리와-일별/시간별-눈옴-여부-특성-생성-2.6\"><span class=\"toc-item-num\">2.6&nbsp;&nbsp;</span>적설 결측값 처리와 일별/시간별 눈옴 여부 특성 생성</a></span><ul class=\"toc-item\"><li><span><a href=\"#시간별-눈내림-여부---눈옴:-1,-안옴:-0\" data-toc-modified-id=\"시간별-눈내림-여부---눈옴:-1,-안옴:-0-2.6.1\"><span class=\"toc-item-num\">2.6.1&nbsp;&nbsp;</span>시간별 눈내림 여부 - 눈옴: 1, 안옴: 0</a></span></li><li><span><a href=\"#일별-눈내림-여부---눈옴:-1,-안옴:-0\" data-toc-modified-id=\"일별-눈내림-여부---눈옴:-1,-안옴:-0-2.6.2\"><span class=\"toc-item-num\">2.6.2&nbsp;&nbsp;</span>일별 눈내림 여부 - 눈옴: 1, 안옴: 0</a></span></li></ul></li></ul></li><li><span><a href=\"#진현님이-결측값-처리한-'전운량(10분위)'-data-merge\" data-toc-modified-id=\"진현님이-결측값-처리한-'전운량(10분위)'-data-merge-3\"><span class=\"toc-item-num\">3&nbsp;&nbsp;</span>진현님이 결측값 처리한 '전운량(10분위)' data merge</a></span></li><li><span><a href=\"#구별-날짜-데이터-결측값-처리\" data-toc-modified-id=\"구별-날짜-데이터-결측값-처리-4\"><span class=\"toc-item-num\">4&nbsp;&nbsp;</span>구별 날짜 데이터 결측값 처리</a></span><ul class=\"toc-item\"><li><span><a href=\"#구별로-모든-일자가-다-있는지-확인\" data-toc-modified-id=\"구별로-모든-일자가-다-있는지-확인-4.1\"><span class=\"toc-item-num\">4.1&nbsp;&nbsp;</span>구별로 모든 일자가 다 있는지 확인</a></span></li><li><span><a href=\"#각-구별로-어느-일자가-비었는지-확인\" data-toc-modified-id=\"각-구별로-어느-일자가-비었는지-확인-4.2\"><span class=\"toc-item-num\">4.2&nbsp;&nbsp;</span>각 구별로 어느 일자가 비었는지 확인</a></span><ul class=\"toc-item\"><li><span><a href=\"#없는-지점명,-일시(시간포함)-찾아서,-null_location_day에-index-0부터-차례대로-값-넣어주기!\" data-toc-modified-id=\"없는-지점명,-일시(시간포함)-찾아서,-null_location_day에-index-0부터-차례대로-값-넣어주기!-4.2.1\"><span class=\"toc-item-num\">4.2.1&nbsp;&nbsp;</span>없는 지점명, 일시(시간포함) 찾아서, null_location_day에 index 0부터 차례대로 값 넣어주기!</a></span></li></ul></li><li><span><a href=\"#구별-빈-날짜-data를-인접-구의-데이터로-대체\" data-toc-modified-id=\"구별-빈-날짜-data를-인접-구의-데이터로-대체-4.3\"><span class=\"toc-item-num\">4.3&nbsp;&nbsp;</span>구별 빈 날짜 data를 인접 구의 데이터로 대체</a></span><ul class=\"toc-item\"><li><span><a href=\"#온전한-데이터-만들고-나중에-행추가-방식으로-merge할-예정이라,-온전한-데이터-셋-형태-만들어주기\" data-toc-modified-id=\"온전한-데이터-만들고-나중에-행추가-방식으로-merge할-예정이라,-온전한-데이터-셋-형태-만들어주기-4.3.1\"><span class=\"toc-item-num\">4.3.1&nbsp;&nbsp;</span>온전한 데이터 만들고 나중에 행추가 방식으로 merge할 예정이라, 온전한 데이터 셋 형태 만들어주기</a></span></li><li><span><a href=\"#구별-인접-데이터로-대체\" data-toc-modified-id=\"구별-인접-데이터로-대체-4.3.2\"><span class=\"toc-item-num\">4.3.2&nbsp;&nbsp;</span>구별 인접 데이터로 대체</a></span></li></ul></li><li><span><a href=\"#concat\" data-toc-modified-id=\"concat-4.4\"><span class=\"toc-item-num\">4.4&nbsp;&nbsp;</span>concat</a></span></li><li><span><a href=\"#날씨에-행추가-방식으로-merge\" data-toc-modified-id=\"날씨에-행추가-방식으로-merge-4.5\"><span class=\"toc-item-num\">4.5&nbsp;&nbsp;</span>날씨에 행추가 방식으로 merge</a></span></li></ul></li><li><span><a href=\"#종로구-->-중구-data로-대체\" data-toc-modified-id=\"종로구-->-중구-data로-대체-5\"><span class=\"toc-item-num\">5&nbsp;&nbsp;</span>종로구 -&gt; 중구 data로 대체</a></span></li><li><span><a href=\"#최종-날씨-data-set\" data-toc-modified-id=\"최종-날씨-data-set-6\"><span class=\"toc-item-num\">6&nbsp;&nbsp;</span>최종 날씨 data set</a></span></li><li><span><a href=\"#특성간-상관관계-파악\" data-toc-modified-id=\"특성간-상관관계-파악-7\"><span class=\"toc-item-num\">7&nbsp;&nbsp;</span>특성간 상관관계 파악</a></span></li><li><span><a href=\"#눈내림여부(시간별)-drop\" data-toc-modified-id=\"눈내림여부(시간별)-drop-8\"><span class=\"toc-item-num\">8&nbsp;&nbsp;</span>눈내림여부(시간별) drop</a></span></li></ul></div>"
   ]
  },
  {
   "cell_type": "code",
   "execution_count": 1,
   "metadata": {
    "ExecuteTime": {
     "end_time": "2020-07-03T00:20:15.314659Z",
     "start_time": "2020-07-03T00:20:13.262212Z"
    }
   },
   "outputs": [],
   "source": [
    "# 필요한 라이브러리 import\n",
    "import pandas as pd\n",
    "import numpy as np\n",
    "import matplotlib as mpl\n",
    "import matplotlib.pyplot as plt\n",
    "import seaborn as sns\n",
    "from scipy import stats\n",
    "\n",
    "# 노트북 안에 그래프 그리기 위해\n",
    "%matplotlib inline\n",
    "\n",
    "# 그래프에서 '격자'있는 (숫자 범위가 눈에 잘 띄도록) ggplot sytle 사용\n",
    "plt.style.use('ggplot')\n",
    "\n",
    "# 그래프 마이너스 폰트 깨지는 문제 대처\n",
    "mpl.rcParams['axes.unicode_minus'] = False\n",
    "\n",
    "# 그래프에서 한글 폰트 깨지는 문제 대처\n",
    "plt.rc(\"font\", family=\"Malgun Gothic\")\n",
    "plt.rc(\"axes\", unicode_minus=False)\n",
    "from IPython.display import set_matplotlib_formats \n",
    "set_matplotlib_formats(\"retina\")"
   ]
  },
  {
   "cell_type": "markdown",
   "metadata": {
    "ExecuteTime": {
     "end_time": "2020-07-03T00:20:15.917001Z",
     "start_time": "2020-07-03T00:20:15.912018Z"
    }
   },
   "source": [
    "# 서울시 통합 날씨와 서울시 구별 날씨"
   ]
  },
  {
   "cell_type": "markdown",
   "metadata": {},
   "source": [
    "## 데이터 불러오기"
   ]
  },
  {
   "cell_type": "code",
   "execution_count": 178,
   "metadata": {
    "ExecuteTime": {
     "end_time": "2020-07-02T02:40:06.355525Z",
     "start_time": "2020-07-02T02:40:05.415625Z"
    }
   },
   "outputs": [],
   "source": [
    "aws_gu = pd.read_csv('2017 - 2019 aws data.csv', encoding = 'cp949')\n",
    "seoul = pd.read_csv('wheather_2017_2020.csv', encoding = 'cp949')"
   ]
  },
  {
   "cell_type": "code",
   "execution_count": 8,
   "metadata": {
    "ExecuteTime": {
     "end_time": "2020-07-02T00:30:11.541798Z",
     "start_time": "2020-07-02T00:30:11.517861Z"
    }
   },
   "outputs": [
    {
     "data": {
      "text/html": [
       "<div>\n",
       "<style scoped>\n",
       "    .dataframe tbody tr th:only-of-type {\n",
       "        vertical-align: middle;\n",
       "    }\n",
       "\n",
       "    .dataframe tbody tr th {\n",
       "        vertical-align: top;\n",
       "    }\n",
       "\n",
       "    .dataframe thead th {\n",
       "        text-align: right;\n",
       "    }\n",
       "</style>\n",
       "<table border=\"1\" class=\"dataframe\">\n",
       "  <thead>\n",
       "    <tr style=\"text-align: right;\">\n",
       "      <th></th>\n",
       "      <th>지점</th>\n",
       "      <th>지점명</th>\n",
       "      <th>일시</th>\n",
       "      <th>기온(°C)</th>\n",
       "      <th>풍향(deg)</th>\n",
       "      <th>풍속(m/s)</th>\n",
       "      <th>강수량(mm)</th>\n",
       "      <th>습도(%)</th>\n",
       "    </tr>\n",
       "  </thead>\n",
       "  <tbody>\n",
       "    <tr>\n",
       "      <th>0</th>\n",
       "      <td>116</td>\n",
       "      <td>관악(레)</td>\n",
       "      <td>2017-01-01 00:00</td>\n",
       "      <td>-0.4</td>\n",
       "      <td>228.4</td>\n",
       "      <td>3.2</td>\n",
       "      <td>0.0</td>\n",
       "      <td>97.9</td>\n",
       "    </tr>\n",
       "    <tr>\n",
       "      <th>1</th>\n",
       "      <td>116</td>\n",
       "      <td>관악(레)</td>\n",
       "      <td>2017-01-01 01:00</td>\n",
       "      <td>-0.4</td>\n",
       "      <td>217.4</td>\n",
       "      <td>3.2</td>\n",
       "      <td>0.0</td>\n",
       "      <td>97.9</td>\n",
       "    </tr>\n",
       "    <tr>\n",
       "      <th>2</th>\n",
       "      <td>116</td>\n",
       "      <td>관악(레)</td>\n",
       "      <td>2017-01-01 02:00</td>\n",
       "      <td>-0.6</td>\n",
       "      <td>236.8</td>\n",
       "      <td>2.8</td>\n",
       "      <td>0.0</td>\n",
       "      <td>97.9</td>\n",
       "    </tr>\n",
       "    <tr>\n",
       "      <th>3</th>\n",
       "      <td>116</td>\n",
       "      <td>관악(레)</td>\n",
       "      <td>2017-01-01 03:00</td>\n",
       "      <td>-0.6</td>\n",
       "      <td>232.7</td>\n",
       "      <td>2.6</td>\n",
       "      <td>0.0</td>\n",
       "      <td>93.4</td>\n",
       "    </tr>\n",
       "    <tr>\n",
       "      <th>4</th>\n",
       "      <td>116</td>\n",
       "      <td>관악(레)</td>\n",
       "      <td>2017-01-01 04:00</td>\n",
       "      <td>-0.9</td>\n",
       "      <td>251.1</td>\n",
       "      <td>2.9</td>\n",
       "      <td>0.0</td>\n",
       "      <td>93.6</td>\n",
       "    </tr>\n",
       "    <tr>\n",
       "      <th>...</th>\n",
       "      <td>...</td>\n",
       "      <td>...</td>\n",
       "      <td>...</td>\n",
       "      <td>...</td>\n",
       "      <td>...</td>\n",
       "      <td>...</td>\n",
       "      <td>...</td>\n",
       "      <td>...</td>\n",
       "    </tr>\n",
       "    <tr>\n",
       "      <th>750595</th>\n",
       "      <td>889</td>\n",
       "      <td>현충원</td>\n",
       "      <td>2018-12-31 19:00</td>\n",
       "      <td>-2.8</td>\n",
       "      <td>248.5</td>\n",
       "      <td>1.3</td>\n",
       "      <td>0.0</td>\n",
       "      <td>41.3</td>\n",
       "    </tr>\n",
       "    <tr>\n",
       "      <th>750596</th>\n",
       "      <td>889</td>\n",
       "      <td>현충원</td>\n",
       "      <td>2018-12-31 20:00</td>\n",
       "      <td>-4.4</td>\n",
       "      <td>237.6</td>\n",
       "      <td>0.7</td>\n",
       "      <td>0.0</td>\n",
       "      <td>41.5</td>\n",
       "    </tr>\n",
       "    <tr>\n",
       "      <th>750597</th>\n",
       "      <td>889</td>\n",
       "      <td>현충원</td>\n",
       "      <td>2018-12-31 21:00</td>\n",
       "      <td>-6.6</td>\n",
       "      <td>224.0</td>\n",
       "      <td>0.5</td>\n",
       "      <td>0.0</td>\n",
       "      <td>53.6</td>\n",
       "    </tr>\n",
       "    <tr>\n",
       "      <th>750598</th>\n",
       "      <td>889</td>\n",
       "      <td>현충원</td>\n",
       "      <td>2018-12-31 22:00</td>\n",
       "      <td>-7.1</td>\n",
       "      <td>224.0</td>\n",
       "      <td>0.8</td>\n",
       "      <td>0.0</td>\n",
       "      <td>60.7</td>\n",
       "    </tr>\n",
       "    <tr>\n",
       "      <th>750599</th>\n",
       "      <td>889</td>\n",
       "      <td>현충원</td>\n",
       "      <td>2018-12-31 23:00</td>\n",
       "      <td>-6.4</td>\n",
       "      <td>0.0</td>\n",
       "      <td>0.2</td>\n",
       "      <td>0.0</td>\n",
       "      <td>61.4</td>\n",
       "    </tr>\n",
       "  </tbody>\n",
       "</table>\n",
       "<p>750600 rows × 8 columns</p>\n",
       "</div>"
      ],
      "text/plain": [
       "         지점    지점명                일시  기온(°C)  풍향(deg)  풍속(m/s)  강수량(mm)  습도(%)\n",
       "0       116  관악(레)  2017-01-01 00:00    -0.4    228.4      3.2      0.0   97.9\n",
       "1       116  관악(레)  2017-01-01 01:00    -0.4    217.4      3.2      0.0   97.9\n",
       "2       116  관악(레)  2017-01-01 02:00    -0.6    236.8      2.8      0.0   97.9\n",
       "3       116  관악(레)  2017-01-01 03:00    -0.6    232.7      2.6      0.0   93.4\n",
       "4       116  관악(레)  2017-01-01 04:00    -0.9    251.1      2.9      0.0   93.6\n",
       "...     ...    ...               ...     ...      ...      ...      ...    ...\n",
       "750595  889    현충원  2018-12-31 19:00    -2.8    248.5      1.3      0.0   41.3\n",
       "750596  889    현충원  2018-12-31 20:00    -4.4    237.6      0.7      0.0   41.5\n",
       "750597  889    현충원  2018-12-31 21:00    -6.6    224.0      0.5      0.0   53.6\n",
       "750598  889    현충원  2018-12-31 22:00    -7.1    224.0      0.8      0.0   60.7\n",
       "750599  889    현충원  2018-12-31 23:00    -6.4      0.0      0.2      0.0   61.4\n",
       "\n",
       "[750600 rows x 8 columns]"
      ]
     },
     "execution_count": 8,
     "metadata": {},
     "output_type": "execute_result"
    }
   ],
   "source": [
    "aws_gu"
   ]
  },
  {
   "cell_type": "code",
   "execution_count": 9,
   "metadata": {
    "ExecuteTime": {
     "end_time": "2020-07-02T00:30:11.969681Z",
     "start_time": "2020-07-02T00:30:11.949734Z"
    }
   },
   "outputs": [
    {
     "data": {
      "text/html": [
       "<div>\n",
       "<style scoped>\n",
       "    .dataframe tbody tr th:only-of-type {\n",
       "        vertical-align: middle;\n",
       "    }\n",
       "\n",
       "    .dataframe tbody tr th {\n",
       "        vertical-align: top;\n",
       "    }\n",
       "\n",
       "    .dataframe thead th {\n",
       "        text-align: right;\n",
       "    }\n",
       "</style>\n",
       "<table border=\"1\" class=\"dataframe\">\n",
       "  <thead>\n",
       "    <tr style=\"text-align: right;\">\n",
       "      <th></th>\n",
       "      <th>Unnamed: 0</th>\n",
       "      <th>일시</th>\n",
       "      <th>기온(°C)</th>\n",
       "      <th>강수량(mm)</th>\n",
       "      <th>풍속(m/s)</th>\n",
       "      <th>습도(%)</th>\n",
       "      <th>일조(hr)</th>\n",
       "      <th>적설(cm)</th>\n",
       "      <th>전운량(10분위)</th>\n",
       "    </tr>\n",
       "  </thead>\n",
       "  <tbody>\n",
       "    <tr>\n",
       "      <th>0</th>\n",
       "      <td>0</td>\n",
       "      <td>2020-01-01 01:00</td>\n",
       "      <td>-5.9</td>\n",
       "      <td>NaN</td>\n",
       "      <td>1.7</td>\n",
       "      <td>40.0</td>\n",
       "      <td>NaN</td>\n",
       "      <td>NaN</td>\n",
       "      <td>9.0</td>\n",
       "    </tr>\n",
       "    <tr>\n",
       "      <th>1</th>\n",
       "      <td>1</td>\n",
       "      <td>2020-01-01 02:00</td>\n",
       "      <td>-5.7</td>\n",
       "      <td>NaN</td>\n",
       "      <td>0.1</td>\n",
       "      <td>42.0</td>\n",
       "      <td>NaN</td>\n",
       "      <td>NaN</td>\n",
       "      <td>9.0</td>\n",
       "    </tr>\n",
       "    <tr>\n",
       "      <th>2</th>\n",
       "      <td>2</td>\n",
       "      <td>2020-01-01 03:00</td>\n",
       "      <td>-5.6</td>\n",
       "      <td>0.0</td>\n",
       "      <td>0.0</td>\n",
       "      <td>46.0</td>\n",
       "      <td>NaN</td>\n",
       "      <td>NaN</td>\n",
       "      <td>9.0</td>\n",
       "    </tr>\n",
       "    <tr>\n",
       "      <th>3</th>\n",
       "      <td>3</td>\n",
       "      <td>2020-01-01 04:00</td>\n",
       "      <td>-5.4</td>\n",
       "      <td>NaN</td>\n",
       "      <td>0.0</td>\n",
       "      <td>50.0</td>\n",
       "      <td>NaN</td>\n",
       "      <td>NaN</td>\n",
       "      <td>8.0</td>\n",
       "    </tr>\n",
       "    <tr>\n",
       "      <th>4</th>\n",
       "      <td>4</td>\n",
       "      <td>2020-01-01 05:00</td>\n",
       "      <td>-5.2</td>\n",
       "      <td>NaN</td>\n",
       "      <td>0.0</td>\n",
       "      <td>55.0</td>\n",
       "      <td>NaN</td>\n",
       "      <td>NaN</td>\n",
       "      <td>9.0</td>\n",
       "    </tr>\n",
       "    <tr>\n",
       "      <th>...</th>\n",
       "      <td>...</td>\n",
       "      <td>...</td>\n",
       "      <td>...</td>\n",
       "      <td>...</td>\n",
       "      <td>...</td>\n",
       "      <td>...</td>\n",
       "      <td>...</td>\n",
       "      <td>...</td>\n",
       "      <td>...</td>\n",
       "    </tr>\n",
       "    <tr>\n",
       "      <th>30571</th>\n",
       "      <td>8755</td>\n",
       "      <td>2017-12-31 19:00</td>\n",
       "      <td>0.0</td>\n",
       "      <td>NaN</td>\n",
       "      <td>2.2</td>\n",
       "      <td>31.0</td>\n",
       "      <td>NaN</td>\n",
       "      <td>NaN</td>\n",
       "      <td>NaN</td>\n",
       "    </tr>\n",
       "    <tr>\n",
       "      <th>30572</th>\n",
       "      <td>8756</td>\n",
       "      <td>2017-12-31 20:00</td>\n",
       "      <td>-1.0</td>\n",
       "      <td>NaN</td>\n",
       "      <td>0.9</td>\n",
       "      <td>32.0</td>\n",
       "      <td>NaN</td>\n",
       "      <td>NaN</td>\n",
       "      <td>NaN</td>\n",
       "    </tr>\n",
       "    <tr>\n",
       "      <th>30573</th>\n",
       "      <td>8757</td>\n",
       "      <td>2017-12-31 21:00</td>\n",
       "      <td>-1.6</td>\n",
       "      <td>NaN</td>\n",
       "      <td>1.0</td>\n",
       "      <td>35.0</td>\n",
       "      <td>NaN</td>\n",
       "      <td>NaN</td>\n",
       "      <td>0.0</td>\n",
       "    </tr>\n",
       "    <tr>\n",
       "      <th>30574</th>\n",
       "      <td>8758</td>\n",
       "      <td>2017-12-31 22:00</td>\n",
       "      <td>-2.1</td>\n",
       "      <td>NaN</td>\n",
       "      <td>1.7</td>\n",
       "      <td>36.0</td>\n",
       "      <td>NaN</td>\n",
       "      <td>NaN</td>\n",
       "      <td>NaN</td>\n",
       "    </tr>\n",
       "    <tr>\n",
       "      <th>30575</th>\n",
       "      <td>8759</td>\n",
       "      <td>2017-12-31 23:00</td>\n",
       "      <td>-2.6</td>\n",
       "      <td>NaN</td>\n",
       "      <td>0.6</td>\n",
       "      <td>40.0</td>\n",
       "      <td>NaN</td>\n",
       "      <td>NaN</td>\n",
       "      <td>NaN</td>\n",
       "    </tr>\n",
       "  </tbody>\n",
       "</table>\n",
       "<p>30576 rows × 9 columns</p>\n",
       "</div>"
      ],
      "text/plain": [
       "       Unnamed: 0                일시  기온(°C)  강수량(mm)  풍속(m/s)  습도(%)  일조(hr)  \\\n",
       "0               0  2020-01-01 01:00    -5.9      NaN      1.7   40.0     NaN   \n",
       "1               1  2020-01-01 02:00    -5.7      NaN      0.1   42.0     NaN   \n",
       "2               2  2020-01-01 03:00    -5.6      0.0      0.0   46.0     NaN   \n",
       "3               3  2020-01-01 04:00    -5.4      NaN      0.0   50.0     NaN   \n",
       "4               4  2020-01-01 05:00    -5.2      NaN      0.0   55.0     NaN   \n",
       "...           ...               ...     ...      ...      ...    ...     ...   \n",
       "30571        8755  2017-12-31 19:00     0.0      NaN      2.2   31.0     NaN   \n",
       "30572        8756  2017-12-31 20:00    -1.0      NaN      0.9   32.0     NaN   \n",
       "30573        8757  2017-12-31 21:00    -1.6      NaN      1.0   35.0     NaN   \n",
       "30574        8758  2017-12-31 22:00    -2.1      NaN      1.7   36.0     NaN   \n",
       "30575        8759  2017-12-31 23:00    -2.6      NaN      0.6   40.0     NaN   \n",
       "\n",
       "       적설(cm)  전운량(10분위)  \n",
       "0         NaN        9.0  \n",
       "1         NaN        9.0  \n",
       "2         NaN        9.0  \n",
       "3         NaN        8.0  \n",
       "4         NaN        9.0  \n",
       "...       ...        ...  \n",
       "30571     NaN        NaN  \n",
       "30572     NaN        NaN  \n",
       "30573     NaN        0.0  \n",
       "30574     NaN        NaN  \n",
       "30575     NaN        NaN  \n",
       "\n",
       "[30576 rows x 9 columns]"
      ]
     },
     "execution_count": 9,
     "metadata": {},
     "output_type": "execute_result"
    }
   ],
   "source": [
    "seoul"
   ]
  },
  {
   "cell_type": "code",
   "execution_count": 20,
   "metadata": {
    "ExecuteTime": {
     "end_time": "2020-07-02T00:39:53.042696Z",
     "start_time": "2020-07-02T00:39:53.001770Z"
    }
   },
   "outputs": [
    {
     "data": {
      "text/plain": [
       "'2019-12-31 23:00'"
      ]
     },
     "execution_count": 20,
     "metadata": {},
     "output_type": "execute_result"
    }
   ],
   "source": [
    "# 서울 2020 data 삭제\n",
    "index1 = seoul[seoul['일시'].str.contains('2020')].index\n",
    "seoul.drop(index1, inplace = True)\n",
    "seoul['일시'].max()"
   ]
  },
  {
   "cell_type": "markdown",
   "metadata": {},
   "source": [
    "## 사용할 컬럼만 남기기\n",
    "- **seoul data: 일시, 습도, 일조, 전운량, 적설**\n",
    "- **gu data: 지점, 지점명, 일시, 기온, 강수량, 풍속**       \n",
    "=> 구별 날씨의 **습도 null 값**이 264,066개로 전체 데이터의 1/3 수준이라, 서울 통합 데이터의 습도 사용 (서울 데이터의 습도 null값은 21개)"
   ]
  },
  {
   "cell_type": "code",
   "execution_count": 46,
   "metadata": {
    "ExecuteTime": {
     "end_time": "2020-07-02T01:13:32.650573Z",
     "start_time": "2020-07-02T01:13:32.631658Z"
    }
   },
   "outputs": [
    {
     "data": {
      "text/html": [
       "<div>\n",
       "<style scoped>\n",
       "    .dataframe tbody tr th:only-of-type {\n",
       "        vertical-align: middle;\n",
       "    }\n",
       "\n",
       "    .dataframe tbody tr th {\n",
       "        vertical-align: top;\n",
       "    }\n",
       "\n",
       "    .dataframe thead th {\n",
       "        text-align: right;\n",
       "    }\n",
       "</style>\n",
       "<table border=\"1\" class=\"dataframe\">\n",
       "  <thead>\n",
       "    <tr style=\"text-align: right;\">\n",
       "      <th></th>\n",
       "      <th>일시</th>\n",
       "      <th>습도(%)</th>\n",
       "      <th>일조(hr)</th>\n",
       "      <th>적설(cm)</th>\n",
       "      <th>전운량(10분위)</th>\n",
       "    </tr>\n",
       "  </thead>\n",
       "  <tbody>\n",
       "    <tr>\n",
       "      <th>4296</th>\n",
       "      <td>2019-01-01 00:00</td>\n",
       "      <td>54.0</td>\n",
       "      <td>NaN</td>\n",
       "      <td>NaN</td>\n",
       "      <td>0.0</td>\n",
       "    </tr>\n",
       "    <tr>\n",
       "      <th>4297</th>\n",
       "      <td>2019-01-01 01:00</td>\n",
       "      <td>56.0</td>\n",
       "      <td>NaN</td>\n",
       "      <td>NaN</td>\n",
       "      <td>0.0</td>\n",
       "    </tr>\n",
       "    <tr>\n",
       "      <th>4298</th>\n",
       "      <td>2019-01-01 02:00</td>\n",
       "      <td>60.0</td>\n",
       "      <td>NaN</td>\n",
       "      <td>NaN</td>\n",
       "      <td>0.0</td>\n",
       "    </tr>\n",
       "    <tr>\n",
       "      <th>4299</th>\n",
       "      <td>2019-01-01 03:00</td>\n",
       "      <td>62.0</td>\n",
       "      <td>NaN</td>\n",
       "      <td>NaN</td>\n",
       "      <td>1.0</td>\n",
       "    </tr>\n",
       "    <tr>\n",
       "      <th>4300</th>\n",
       "      <td>2019-01-01 04:00</td>\n",
       "      <td>57.0</td>\n",
       "      <td>NaN</td>\n",
       "      <td>NaN</td>\n",
       "      <td>3.0</td>\n",
       "    </tr>\n",
       "  </tbody>\n",
       "</table>\n",
       "</div>"
      ],
      "text/plain": [
       "                    일시  습도(%)  일조(hr)  적설(cm)  전운량(10분위)\n",
       "4296  2019-01-01 00:00   54.0     NaN     NaN        0.0\n",
       "4297  2019-01-01 01:00   56.0     NaN     NaN        0.0\n",
       "4298  2019-01-01 02:00   60.0     NaN     NaN        0.0\n",
       "4299  2019-01-01 03:00   62.0     NaN     NaN        1.0\n",
       "4300  2019-01-01 04:00   57.0     NaN     NaN        3.0"
      ]
     },
     "execution_count": 46,
     "metadata": {},
     "output_type": "execute_result"
    }
   ],
   "source": [
    "seoul.drop(['기온(°C)','강수량(mm)','풍속(m/s)'], axis=1, inplace = True)\n",
    "seoul.head()"
   ]
  },
  {
   "cell_type": "code",
   "execution_count": 22,
   "metadata": {
    "ExecuteTime": {
     "end_time": "2020-07-02T00:44:08.274179Z",
     "start_time": "2020-07-02T00:44:08.213331Z"
    }
   },
   "outputs": [
    {
     "data": {
      "text/html": [
       "<div>\n",
       "<style scoped>\n",
       "    .dataframe tbody tr th:only-of-type {\n",
       "        vertical-align: middle;\n",
       "    }\n",
       "\n",
       "    .dataframe tbody tr th {\n",
       "        vertical-align: top;\n",
       "    }\n",
       "\n",
       "    .dataframe thead th {\n",
       "        text-align: right;\n",
       "    }\n",
       "</style>\n",
       "<table border=\"1\" class=\"dataframe\">\n",
       "  <thead>\n",
       "    <tr style=\"text-align: right;\">\n",
       "      <th></th>\n",
       "      <th>지점</th>\n",
       "      <th>지점명</th>\n",
       "      <th>일시</th>\n",
       "      <th>기온(°C)</th>\n",
       "      <th>풍속(m/s)</th>\n",
       "      <th>강수량(mm)</th>\n",
       "    </tr>\n",
       "  </thead>\n",
       "  <tbody>\n",
       "    <tr>\n",
       "      <th>0</th>\n",
       "      <td>116</td>\n",
       "      <td>관악(레)</td>\n",
       "      <td>2017-01-01 00:00</td>\n",
       "      <td>-0.4</td>\n",
       "      <td>3.2</td>\n",
       "      <td>0.0</td>\n",
       "    </tr>\n",
       "    <tr>\n",
       "      <th>1</th>\n",
       "      <td>116</td>\n",
       "      <td>관악(레)</td>\n",
       "      <td>2017-01-01 01:00</td>\n",
       "      <td>-0.4</td>\n",
       "      <td>3.2</td>\n",
       "      <td>0.0</td>\n",
       "    </tr>\n",
       "    <tr>\n",
       "      <th>2</th>\n",
       "      <td>116</td>\n",
       "      <td>관악(레)</td>\n",
       "      <td>2017-01-01 02:00</td>\n",
       "      <td>-0.6</td>\n",
       "      <td>2.8</td>\n",
       "      <td>0.0</td>\n",
       "    </tr>\n",
       "    <tr>\n",
       "      <th>3</th>\n",
       "      <td>116</td>\n",
       "      <td>관악(레)</td>\n",
       "      <td>2017-01-01 03:00</td>\n",
       "      <td>-0.6</td>\n",
       "      <td>2.6</td>\n",
       "      <td>0.0</td>\n",
       "    </tr>\n",
       "    <tr>\n",
       "      <th>4</th>\n",
       "      <td>116</td>\n",
       "      <td>관악(레)</td>\n",
       "      <td>2017-01-01 04:00</td>\n",
       "      <td>-0.9</td>\n",
       "      <td>2.9</td>\n",
       "      <td>0.0</td>\n",
       "    </tr>\n",
       "  </tbody>\n",
       "</table>\n",
       "</div>"
      ],
      "text/plain": [
       "    지점    지점명                일시  기온(°C)  풍속(m/s)  강수량(mm)\n",
       "0  116  관악(레)  2017-01-01 00:00    -0.4      3.2      0.0\n",
       "1  116  관악(레)  2017-01-01 01:00    -0.4      3.2      0.0\n",
       "2  116  관악(레)  2017-01-01 02:00    -0.6      2.8      0.0\n",
       "3  116  관악(레)  2017-01-01 03:00    -0.6      2.6      0.0\n",
       "4  116  관악(레)  2017-01-01 04:00    -0.9      2.9      0.0"
      ]
     },
     "execution_count": 22,
     "metadata": {},
     "output_type": "execute_result"
    }
   ],
   "source": [
    "# aws_gu: 습도, 풍향 삭제\n",
    "aws_gu.drop(['풍향(deg)', '습도(%)'], axis = 1, inplace = True)\n",
    "aws_gu.head()"
   ]
  },
  {
   "cell_type": "markdown",
   "metadata": {},
   "source": [
    "- 북악산,관악(레), 한강, 현충원, 관악 삭제\n",
    "    - 서울시가 아닌 경기도에 속해있거나, 산에 위치한 측정 지점은 고도가 너무 높아, 우리가 생활하는 날씨를 대표하지 못할 것으로 판단되어 삭제함"
   ]
  },
  {
   "cell_type": "code",
   "execution_count": 34,
   "metadata": {
    "ExecuteTime": {
     "end_time": "2020-07-02T00:56:37.095702Z",
     "start_time": "2020-07-02T00:56:36.693957Z"
    }
   },
   "outputs": [
    {
     "data": {
      "text/plain": [
       "(121718,)"
      ]
     },
     "execution_count": 34,
     "metadata": {},
     "output_type": "execute_result"
    }
   ],
   "source": [
    "# 북악산,관악(레), 한강, 현충원, 관악 삭제\n",
    "index2 = aws_gu[aws_gu['지점명'].str.contains('북악산|관악(레)|한강|현충원|관악')].index\n",
    "index2.shape"
   ]
  },
  {
   "cell_type": "markdown",
   "metadata": {},
   "source": [
    "## seoul, aws_gu '일시' 기준으로 매칭"
   ]
  },
  {
   "cell_type": "code",
   "execution_count": 47,
   "metadata": {
    "ExecuteTime": {
     "end_time": "2020-07-02T01:16:28.543864Z",
     "start_time": "2020-07-02T01:16:28.537881Z"
    }
   },
   "outputs": [
    {
     "name": "stdout",
     "output_type": "stream",
     "text": [
      "(26280, 5)\n",
      "(628882, 6)\n"
     ]
    }
   ],
   "source": [
    "print(seoul.shape)\n",
    "print(aws_gu.shape)"
   ]
  },
  {
   "cell_type": "code",
   "execution_count": 50,
   "metadata": {
    "ExecuteTime": {
     "end_time": "2020-07-02T01:17:23.875805Z",
     "start_time": "2020-07-02T01:17:23.667362Z"
    }
   },
   "outputs": [
    {
     "data": {
      "text/html": [
       "<div>\n",
       "<style scoped>\n",
       "    .dataframe tbody tr th:only-of-type {\n",
       "        vertical-align: middle;\n",
       "    }\n",
       "\n",
       "    .dataframe tbody tr th {\n",
       "        vertical-align: top;\n",
       "    }\n",
       "\n",
       "    .dataframe thead th {\n",
       "        text-align: right;\n",
       "    }\n",
       "</style>\n",
       "<table border=\"1\" class=\"dataframe\">\n",
       "  <thead>\n",
       "    <tr style=\"text-align: right;\">\n",
       "      <th></th>\n",
       "      <th>지점</th>\n",
       "      <th>지점명</th>\n",
       "      <th>일시</th>\n",
       "      <th>기온(°C)</th>\n",
       "      <th>풍속(m/s)</th>\n",
       "      <th>강수량(mm)</th>\n",
       "      <th>습도(%)</th>\n",
       "      <th>일조(hr)</th>\n",
       "      <th>적설(cm)</th>\n",
       "      <th>전운량(10분위)</th>\n",
       "    </tr>\n",
       "  </thead>\n",
       "  <tbody>\n",
       "    <tr>\n",
       "      <th>0</th>\n",
       "      <td>400</td>\n",
       "      <td>강남</td>\n",
       "      <td>2017-01-01 00:00</td>\n",
       "      <td>1.7</td>\n",
       "      <td>1.3</td>\n",
       "      <td>0.0</td>\n",
       "      <td>79.0</td>\n",
       "      <td>NaN</td>\n",
       "      <td>NaN</td>\n",
       "      <td>7.0</td>\n",
       "    </tr>\n",
       "    <tr>\n",
       "      <th>1</th>\n",
       "      <td>400</td>\n",
       "      <td>강남</td>\n",
       "      <td>2017-01-01 01:00</td>\n",
       "      <td>1.4</td>\n",
       "      <td>1.3</td>\n",
       "      <td>0.0</td>\n",
       "      <td>78.0</td>\n",
       "      <td>NaN</td>\n",
       "      <td>NaN</td>\n",
       "      <td>NaN</td>\n",
       "    </tr>\n",
       "    <tr>\n",
       "      <th>2</th>\n",
       "      <td>400</td>\n",
       "      <td>강남</td>\n",
       "      <td>2017-01-01 02:00</td>\n",
       "      <td>1.2</td>\n",
       "      <td>1.6</td>\n",
       "      <td>0.0</td>\n",
       "      <td>81.0</td>\n",
       "      <td>NaN</td>\n",
       "      <td>NaN</td>\n",
       "      <td>NaN</td>\n",
       "    </tr>\n",
       "    <tr>\n",
       "      <th>3</th>\n",
       "      <td>400</td>\n",
       "      <td>강남</td>\n",
       "      <td>2017-01-01 03:00</td>\n",
       "      <td>0.5</td>\n",
       "      <td>1.5</td>\n",
       "      <td>0.0</td>\n",
       "      <td>84.0</td>\n",
       "      <td>NaN</td>\n",
       "      <td>NaN</td>\n",
       "      <td>0.0</td>\n",
       "    </tr>\n",
       "    <tr>\n",
       "      <th>4</th>\n",
       "      <td>400</td>\n",
       "      <td>강남</td>\n",
       "      <td>2017-01-01 04:00</td>\n",
       "      <td>0.6</td>\n",
       "      <td>0.5</td>\n",
       "      <td>0.0</td>\n",
       "      <td>85.0</td>\n",
       "      <td>NaN</td>\n",
       "      <td>NaN</td>\n",
       "      <td>0.0</td>\n",
       "    </tr>\n",
       "  </tbody>\n",
       "</table>\n",
       "</div>"
      ],
      "text/plain": [
       "    지점 지점명                일시  기온(°C)  풍속(m/s)  강수량(mm)  습도(%)  일조(hr)  적설(cm)  \\\n",
       "0  400  강남  2017-01-01 00:00     1.7      1.3      0.0   79.0     NaN     NaN   \n",
       "1  400  강남  2017-01-01 01:00     1.4      1.3      0.0   78.0     NaN     NaN   \n",
       "2  400  강남  2017-01-01 02:00     1.2      1.6      0.0   81.0     NaN     NaN   \n",
       "3  400  강남  2017-01-01 03:00     0.5      1.5      0.0   84.0     NaN     NaN   \n",
       "4  400  강남  2017-01-01 04:00     0.6      0.5      0.0   85.0     NaN     NaN   \n",
       "\n",
       "   전운량(10분위)  \n",
       "0        7.0  \n",
       "1        NaN  \n",
       "2        NaN  \n",
       "3        0.0  \n",
       "4        0.0  "
      ]
     },
     "execution_count": 50,
     "metadata": {},
     "output_type": "execute_result"
    }
   ],
   "source": [
    "weather = pd.merge(aws_gu, seoul, how = 'left', on = '일시')\n",
    "weather.head()"
   ]
  },
  {
   "cell_type": "code",
   "execution_count": 51,
   "metadata": {
    "ExecuteTime": {
     "end_time": "2020-07-02T01:18:08.769184Z",
     "start_time": "2020-07-02T01:18:08.764196Z"
    }
   },
   "outputs": [
    {
     "name": "stdout",
     "output_type": "stream",
     "text": [
      "(628882, 6)\n",
      "(628882, 10)\n"
     ]
    }
   ],
   "source": [
    "print(aws_gu.shape)\n",
    "print(weather.shape)"
   ]
  },
  {
   "cell_type": "code",
   "execution_count": 52,
   "metadata": {
    "ExecuteTime": {
     "end_time": "2020-07-02T01:18:23.846727Z",
     "start_time": "2020-07-02T01:18:23.721066Z"
    }
   },
   "outputs": [
    {
     "data": {
      "text/plain": [
       "지점                0\n",
       "지점명               0\n",
       "일시                0\n",
       "기온(°C)          757\n",
       "풍속(m/s)        1470\n",
       "강수량(mm)        4457\n",
       "습도(%)           504\n",
       "일조(hr)       286321\n",
       "적설(cm)       610023\n",
       "전운량(10분위)     73009\n",
       "dtype: int64"
      ]
     },
     "execution_count": 52,
     "metadata": {},
     "output_type": "execute_result"
    }
   ],
   "source": [
    "weather.isnull().sum()"
   ]
  },
  {
   "cell_type": "markdown",
   "metadata": {},
   "source": [
    "## 지점에 해당하는 주소, 구명 추가 ('지점명' 기준으로 매칭)"
   ]
  },
  {
   "cell_type": "code",
   "execution_count": 53,
   "metadata": {
    "ExecuteTime": {
     "end_time": "2020-07-02T01:24:14.372131Z",
     "start_time": "2020-07-02T01:24:14.356168Z"
    }
   },
   "outputs": [
    {
     "data": {
      "text/html": [
       "<div>\n",
       "<style scoped>\n",
       "    .dataframe tbody tr th:only-of-type {\n",
       "        vertical-align: middle;\n",
       "    }\n",
       "\n",
       "    .dataframe tbody tr th {\n",
       "        vertical-align: top;\n",
       "    }\n",
       "\n",
       "    .dataframe thead th {\n",
       "        text-align: right;\n",
       "    }\n",
       "</style>\n",
       "<table border=\"1\" class=\"dataframe\">\n",
       "  <thead>\n",
       "    <tr style=\"text-align: right;\">\n",
       "      <th></th>\n",
       "      <th>지점명</th>\n",
       "      <th>주소</th>\n",
       "      <th>구</th>\n",
       "    </tr>\n",
       "  </thead>\n",
       "  <tbody>\n",
       "    <tr>\n",
       "      <th>0</th>\n",
       "      <td>성동</td>\n",
       "      <td>서울특별시 성동구 성수동1가</td>\n",
       "      <td>성동구</td>\n",
       "    </tr>\n",
       "    <tr>\n",
       "      <th>1</th>\n",
       "      <td>동대문</td>\n",
       "      <td>서울특별시 동대문구 전농동</td>\n",
       "      <td>동대문구</td>\n",
       "    </tr>\n",
       "    <tr>\n",
       "      <th>2</th>\n",
       "      <td>노원</td>\n",
       "      <td>서울특별시 노원구 공릉동</td>\n",
       "      <td>노원구</td>\n",
       "    </tr>\n",
       "    <tr>\n",
       "      <th>3</th>\n",
       "      <td>기상청</td>\n",
       "      <td>서울특별시 동작구 신대방동</td>\n",
       "      <td>동작구</td>\n",
       "    </tr>\n",
       "    <tr>\n",
       "      <th>4</th>\n",
       "      <td>서초</td>\n",
       "      <td>서울특별시 서초구 서초동</td>\n",
       "      <td>서초구</td>\n",
       "    </tr>\n",
       "  </tbody>\n",
       "</table>\n",
       "</div>"
      ],
      "text/plain": [
       "   지점명               주소     구\n",
       "0   성동  서울특별시 성동구 성수동1가   성동구\n",
       "1  동대문   서울특별시 동대문구 전농동  동대문구\n",
       "2   노원    서울특별시 노원구 공릉동   노원구\n",
       "3  기상청   서울특별시 동작구 신대방동   동작구\n",
       "4   서초    서울특별시 서초구 서초동   서초구"
      ]
     },
     "execution_count": 53,
     "metadata": {},
     "output_type": "execute_result"
    }
   ],
   "source": [
    "address = pd.read_csv('날씨_지점별 주소.csv', encoding = 'utf-8')\n",
    "address.head()"
   ]
  },
  {
   "cell_type": "code",
   "execution_count": 93,
   "metadata": {
    "ExecuteTime": {
     "end_time": "2020-07-02T01:56:48.378979Z",
     "start_time": "2020-07-02T01:56:48.183182Z"
    }
   },
   "outputs": [
    {
     "data": {
      "text/html": [
       "<div>\n",
       "<style scoped>\n",
       "    .dataframe tbody tr th:only-of-type {\n",
       "        vertical-align: middle;\n",
       "    }\n",
       "\n",
       "    .dataframe tbody tr th {\n",
       "        vertical-align: top;\n",
       "    }\n",
       "\n",
       "    .dataframe thead th {\n",
       "        text-align: right;\n",
       "    }\n",
       "</style>\n",
       "<table border=\"1\" class=\"dataframe\">\n",
       "  <thead>\n",
       "    <tr style=\"text-align: right;\">\n",
       "      <th></th>\n",
       "      <th>Unnamed: 0</th>\n",
       "      <th>지점</th>\n",
       "      <th>지점명</th>\n",
       "      <th>일시</th>\n",
       "      <th>기온(°C)</th>\n",
       "      <th>풍속(m/s)</th>\n",
       "      <th>강수량(mm)</th>\n",
       "      <th>습도(%)</th>\n",
       "      <th>일조(hr)</th>\n",
       "      <th>적설(cm)</th>\n",
       "      <th>전운량(10분위)</th>\n",
       "      <th>주소</th>\n",
       "      <th>구</th>\n",
       "    </tr>\n",
       "  </thead>\n",
       "  <tbody>\n",
       "    <tr>\n",
       "      <th>0</th>\n",
       "      <td>0</td>\n",
       "      <td>400</td>\n",
       "      <td>강남</td>\n",
       "      <td>2017-01-01 00:00</td>\n",
       "      <td>1.7</td>\n",
       "      <td>1.3</td>\n",
       "      <td>0.0</td>\n",
       "      <td>79.0</td>\n",
       "      <td>NaN</td>\n",
       "      <td>NaN</td>\n",
       "      <td>7.0</td>\n",
       "      <td>서울특별시 강남구 일원동</td>\n",
       "      <td>강남구</td>\n",
       "    </tr>\n",
       "    <tr>\n",
       "      <th>1</th>\n",
       "      <td>1</td>\n",
       "      <td>400</td>\n",
       "      <td>강남</td>\n",
       "      <td>2017-01-01 01:00</td>\n",
       "      <td>1.4</td>\n",
       "      <td>1.3</td>\n",
       "      <td>0.0</td>\n",
       "      <td>78.0</td>\n",
       "      <td>NaN</td>\n",
       "      <td>NaN</td>\n",
       "      <td>NaN</td>\n",
       "      <td>서울특별시 강남구 일원동</td>\n",
       "      <td>강남구</td>\n",
       "    </tr>\n",
       "    <tr>\n",
       "      <th>2</th>\n",
       "      <td>2</td>\n",
       "      <td>400</td>\n",
       "      <td>강남</td>\n",
       "      <td>2017-01-01 02:00</td>\n",
       "      <td>1.2</td>\n",
       "      <td>1.6</td>\n",
       "      <td>0.0</td>\n",
       "      <td>81.0</td>\n",
       "      <td>NaN</td>\n",
       "      <td>NaN</td>\n",
       "      <td>NaN</td>\n",
       "      <td>서울특별시 강남구 일원동</td>\n",
       "      <td>강남구</td>\n",
       "    </tr>\n",
       "    <tr>\n",
       "      <th>3</th>\n",
       "      <td>3</td>\n",
       "      <td>400</td>\n",
       "      <td>강남</td>\n",
       "      <td>2017-01-01 03:00</td>\n",
       "      <td>0.5</td>\n",
       "      <td>1.5</td>\n",
       "      <td>0.0</td>\n",
       "      <td>84.0</td>\n",
       "      <td>NaN</td>\n",
       "      <td>NaN</td>\n",
       "      <td>0.0</td>\n",
       "      <td>서울특별시 강남구 일원동</td>\n",
       "      <td>강남구</td>\n",
       "    </tr>\n",
       "    <tr>\n",
       "      <th>4</th>\n",
       "      <td>4</td>\n",
       "      <td>400</td>\n",
       "      <td>강남</td>\n",
       "      <td>2017-01-01 04:00</td>\n",
       "      <td>0.6</td>\n",
       "      <td>0.5</td>\n",
       "      <td>0.0</td>\n",
       "      <td>85.0</td>\n",
       "      <td>NaN</td>\n",
       "      <td>NaN</td>\n",
       "      <td>0.0</td>\n",
       "      <td>서울특별시 강남구 일원동</td>\n",
       "      <td>강남구</td>\n",
       "    </tr>\n",
       "  </tbody>\n",
       "</table>\n",
       "</div>"
      ],
      "text/plain": [
       "   Unnamed: 0   지점 지점명                일시  기온(°C)  풍속(m/s)  강수량(mm)  습도(%)  \\\n",
       "0           0  400  강남  2017-01-01 00:00     1.7      1.3      0.0   79.0   \n",
       "1           1  400  강남  2017-01-01 01:00     1.4      1.3      0.0   78.0   \n",
       "2           2  400  강남  2017-01-01 02:00     1.2      1.6      0.0   81.0   \n",
       "3           3  400  강남  2017-01-01 03:00     0.5      1.5      0.0   84.0   \n",
       "4           4  400  강남  2017-01-01 04:00     0.6      0.5      0.0   85.0   \n",
       "\n",
       "   일조(hr)  적설(cm)  전운량(10분위)             주소    구  \n",
       "0     NaN     NaN        7.0  서울특별시 강남구 일원동  강남구  \n",
       "1     NaN     NaN        NaN  서울특별시 강남구 일원동  강남구  \n",
       "2     NaN     NaN        NaN  서울특별시 강남구 일원동  강남구  \n",
       "3     NaN     NaN        0.0  서울특별시 강남구 일원동  강남구  \n",
       "4     NaN     NaN        0.0  서울특별시 강남구 일원동  강남구  "
      ]
     },
     "execution_count": 93,
     "metadata": {},
     "output_type": "execute_result"
    }
   ],
   "source": [
    "# 병합\n",
    "weather_address = pd.merge(weather, address, how = 'left', on = '지점명')\n",
    "weather_address.head()"
   ]
  },
  {
   "cell_type": "code",
   "execution_count": 94,
   "metadata": {
    "ExecuteTime": {
     "end_time": "2020-07-02T01:56:52.138577Z",
     "start_time": "2020-07-02T01:56:52.132594Z"
    }
   },
   "outputs": [
    {
     "data": {
      "text/plain": [
       "(628882, 13)"
      ]
     },
     "execution_count": 94,
     "metadata": {},
     "output_type": "execute_result"
    }
   ],
   "source": [
    "weather_address.shape"
   ]
  },
  {
   "cell_type": "code",
   "execution_count": 100,
   "metadata": {
    "ExecuteTime": {
     "end_time": "2020-07-02T02:00:49.278850Z",
     "start_time": "2020-07-02T02:00:49.206138Z"
    }
   },
   "outputs": [],
   "source": [
    "weather_address.drop(['Unnamed: 0'], axis = 1, inplace = True)"
   ]
  },
  {
   "cell_type": "code",
   "execution_count": 101,
   "metadata": {
    "ExecuteTime": {
     "end_time": "2020-07-02T02:00:50.125582Z",
     "start_time": "2020-07-02T02:00:49.980372Z"
    }
   },
   "outputs": [
    {
     "data": {
      "text/plain": [
       "지점                0\n",
       "지점명               0\n",
       "일시                0\n",
       "기온(°C)          757\n",
       "풍속(m/s)        1470\n",
       "강수량(mm)        4457\n",
       "습도(%)           504\n",
       "일조(hr)       286321\n",
       "적설(cm)       610023\n",
       "전운량(10분위)     73009\n",
       "주소                0\n",
       "구                 0\n",
       "dtype: int64"
      ]
     },
     "execution_count": 101,
     "metadata": {},
     "output_type": "execute_result"
    }
   ],
   "source": [
    "weather_address.isnull().sum()"
   ]
  },
  {
   "cell_type": "code",
   "execution_count": 102,
   "metadata": {
    "ExecuteTime": {
     "end_time": "2020-07-02T02:00:57.044298Z",
     "start_time": "2020-07-02T02:00:56.809270Z"
    }
   },
   "outputs": [
    {
     "data": {
      "text/html": [
       "<div>\n",
       "<style scoped>\n",
       "    .dataframe tbody tr th:only-of-type {\n",
       "        vertical-align: middle;\n",
       "    }\n",
       "\n",
       "    .dataframe tbody tr th {\n",
       "        vertical-align: top;\n",
       "    }\n",
       "\n",
       "    .dataframe thead th {\n",
       "        text-align: right;\n",
       "    }\n",
       "</style>\n",
       "<table border=\"1\" class=\"dataframe\">\n",
       "  <thead>\n",
       "    <tr style=\"text-align: right;\">\n",
       "      <th></th>\n",
       "      <th>지점</th>\n",
       "      <th>기온(°C)</th>\n",
       "      <th>풍속(m/s)</th>\n",
       "      <th>강수량(mm)</th>\n",
       "      <th>습도(%)</th>\n",
       "      <th>일조(hr)</th>\n",
       "      <th>적설(cm)</th>\n",
       "      <th>전운량(10분위)</th>\n",
       "    </tr>\n",
       "  </thead>\n",
       "  <tbody>\n",
       "    <tr>\n",
       "      <th>count</th>\n",
       "      <td>628882.000000</td>\n",
       "      <td>628125.000000</td>\n",
       "      <td>627412.000000</td>\n",
       "      <td>624425.000000</td>\n",
       "      <td>628378.000000</td>\n",
       "      <td>342561.000000</td>\n",
       "      <td>18859.000000</td>\n",
       "      <td>555873.000000</td>\n",
       "    </tr>\n",
       "    <tr>\n",
       "      <th>mean</th>\n",
       "      <td>415.636445</td>\n",
       "      <td>13.312429</td>\n",
       "      <td>1.584657</td>\n",
       "      <td>0.128245</td>\n",
       "      <td>57.324485</td>\n",
       "      <td>0.543451</td>\n",
       "      <td>1.681600</td>\n",
       "      <td>4.907927</td>\n",
       "    </tr>\n",
       "    <tr>\n",
       "      <th>std</th>\n",
       "      <td>20.991874</td>\n",
       "      <td>11.065782</td>\n",
       "      <td>1.071489</td>\n",
       "      <td>1.123433</td>\n",
       "      <td>20.240079</td>\n",
       "      <td>0.451504</td>\n",
       "      <td>1.442131</td>\n",
       "      <td>4.062089</td>\n",
       "    </tr>\n",
       "    <tr>\n",
       "      <th>min</th>\n",
       "      <td>400.000000</td>\n",
       "      <td>-23.400000</td>\n",
       "      <td>0.000000</td>\n",
       "      <td>0.000000</td>\n",
       "      <td>7.000000</td>\n",
       "      <td>0.000000</td>\n",
       "      <td>0.000000</td>\n",
       "      <td>0.000000</td>\n",
       "    </tr>\n",
       "    <tr>\n",
       "      <th>25%</th>\n",
       "      <td>406.000000</td>\n",
       "      <td>4.100000</td>\n",
       "      <td>0.800000</td>\n",
       "      <td>0.000000</td>\n",
       "      <td>42.000000</td>\n",
       "      <td>0.000000</td>\n",
       "      <td>0.600000</td>\n",
       "      <td>0.000000</td>\n",
       "    </tr>\n",
       "    <tr>\n",
       "      <th>50%</th>\n",
       "      <td>412.000000</td>\n",
       "      <td>14.300000</td>\n",
       "      <td>1.400000</td>\n",
       "      <td>0.000000</td>\n",
       "      <td>56.000000</td>\n",
       "      <td>0.700000</td>\n",
       "      <td>1.300000</td>\n",
       "      <td>6.000000</td>\n",
       "    </tr>\n",
       "    <tr>\n",
       "      <th>75%</th>\n",
       "      <td>419.000000</td>\n",
       "      <td>22.700000</td>\n",
       "      <td>2.200000</td>\n",
       "      <td>0.000000</td>\n",
       "      <td>73.000000</td>\n",
       "      <td>1.000000</td>\n",
       "      <td>2.300000</td>\n",
       "      <td>9.000000</td>\n",
       "    </tr>\n",
       "    <tr>\n",
       "      <th>max</th>\n",
       "      <td>510.000000</td>\n",
       "      <td>40.500000</td>\n",
       "      <td>16.800000</td>\n",
       "      <td>76.000000</td>\n",
       "      <td>100.000000</td>\n",
       "      <td>1.000000</td>\n",
       "      <td>8.800000</td>\n",
       "      <td>10.000000</td>\n",
       "    </tr>\n",
       "  </tbody>\n",
       "</table>\n",
       "</div>"
      ],
      "text/plain": [
       "                  지점         기온(°C)        풍속(m/s)        강수량(mm)  \\\n",
       "count  628882.000000  628125.000000  627412.000000  624425.000000   \n",
       "mean      415.636445      13.312429       1.584657       0.128245   \n",
       "std        20.991874      11.065782       1.071489       1.123433   \n",
       "min       400.000000     -23.400000       0.000000       0.000000   \n",
       "25%       406.000000       4.100000       0.800000       0.000000   \n",
       "50%       412.000000      14.300000       1.400000       0.000000   \n",
       "75%       419.000000      22.700000       2.200000       0.000000   \n",
       "max       510.000000      40.500000      16.800000      76.000000   \n",
       "\n",
       "               습도(%)         일조(hr)        적설(cm)      전운량(10분위)  \n",
       "count  628378.000000  342561.000000  18859.000000  555873.000000  \n",
       "mean       57.324485       0.543451      1.681600       4.907927  \n",
       "std        20.240079       0.451504      1.442131       4.062089  \n",
       "min         7.000000       0.000000      0.000000       0.000000  \n",
       "25%        42.000000       0.000000      0.600000       0.000000  \n",
       "50%        56.000000       0.700000      1.300000       6.000000  \n",
       "75%        73.000000       1.000000      2.300000       9.000000  \n",
       "max       100.000000       1.000000      8.800000      10.000000  "
      ]
     },
     "execution_count": 102,
     "metadata": {},
     "output_type": "execute_result"
    }
   ],
   "source": [
    "weather_address.describe()"
   ]
  },
  {
   "cell_type": "code",
   "execution_count": 104,
   "metadata": {
    "ExecuteTime": {
     "end_time": "2020-07-02T02:01:10.718330Z",
     "start_time": "2020-07-02T02:01:10.661482Z"
    }
   },
   "outputs": [],
   "source": [
    "# 결측값 처리에 사용될 복사본 생성\n",
    "tmp_w = weather_address.copy()"
   ]
  },
  {
   "cell_type": "code",
   "execution_count": 119,
   "metadata": {
    "ExecuteTime": {
     "end_time": "2020-07-02T02:12:51.544688Z",
     "start_time": "2020-07-02T02:12:51.462871Z"
    }
   },
   "outputs": [
    {
     "data": {
      "text/html": [
       "<div>\n",
       "<style scoped>\n",
       "    .dataframe tbody tr th:only-of-type {\n",
       "        vertical-align: middle;\n",
       "    }\n",
       "\n",
       "    .dataframe tbody tr th {\n",
       "        vertical-align: top;\n",
       "    }\n",
       "\n",
       "    .dataframe thead th {\n",
       "        text-align: right;\n",
       "    }\n",
       "</style>\n",
       "<table border=\"1\" class=\"dataframe\">\n",
       "  <thead>\n",
       "    <tr style=\"text-align: right;\">\n",
       "      <th></th>\n",
       "      <th>지점</th>\n",
       "      <th>지점명</th>\n",
       "      <th>일시</th>\n",
       "      <th>기온</th>\n",
       "      <th>풍속(m/s)</th>\n",
       "      <th>강수량(mm)</th>\n",
       "      <th>습도(%)</th>\n",
       "      <th>일조(hr)</th>\n",
       "      <th>적설(cm)</th>\n",
       "      <th>전운량(10분위)</th>\n",
       "      <th>주소</th>\n",
       "      <th>구</th>\n",
       "    </tr>\n",
       "  </thead>\n",
       "  <tbody>\n",
       "    <tr>\n",
       "      <th>0</th>\n",
       "      <td>400</td>\n",
       "      <td>강남</td>\n",
       "      <td>2017-01-01 00:00</td>\n",
       "      <td>1.7</td>\n",
       "      <td>1.3</td>\n",
       "      <td>0.0</td>\n",
       "      <td>79.0</td>\n",
       "      <td>NaN</td>\n",
       "      <td>NaN</td>\n",
       "      <td>7.0</td>\n",
       "      <td>서울특별시 강남구 일원동</td>\n",
       "      <td>강남구</td>\n",
       "    </tr>\n",
       "    <tr>\n",
       "      <th>1</th>\n",
       "      <td>400</td>\n",
       "      <td>강남</td>\n",
       "      <td>2017-01-01 01:00</td>\n",
       "      <td>1.4</td>\n",
       "      <td>1.3</td>\n",
       "      <td>0.0</td>\n",
       "      <td>78.0</td>\n",
       "      <td>NaN</td>\n",
       "      <td>NaN</td>\n",
       "      <td>NaN</td>\n",
       "      <td>서울특별시 강남구 일원동</td>\n",
       "      <td>강남구</td>\n",
       "    </tr>\n",
       "    <tr>\n",
       "      <th>2</th>\n",
       "      <td>400</td>\n",
       "      <td>강남</td>\n",
       "      <td>2017-01-01 02:00</td>\n",
       "      <td>1.2</td>\n",
       "      <td>1.6</td>\n",
       "      <td>0.0</td>\n",
       "      <td>81.0</td>\n",
       "      <td>NaN</td>\n",
       "      <td>NaN</td>\n",
       "      <td>NaN</td>\n",
       "      <td>서울특별시 강남구 일원동</td>\n",
       "      <td>강남구</td>\n",
       "    </tr>\n",
       "    <tr>\n",
       "      <th>3</th>\n",
       "      <td>400</td>\n",
       "      <td>강남</td>\n",
       "      <td>2017-01-01 03:00</td>\n",
       "      <td>0.5</td>\n",
       "      <td>1.5</td>\n",
       "      <td>0.0</td>\n",
       "      <td>84.0</td>\n",
       "      <td>NaN</td>\n",
       "      <td>NaN</td>\n",
       "      <td>0.0</td>\n",
       "      <td>서울특별시 강남구 일원동</td>\n",
       "      <td>강남구</td>\n",
       "    </tr>\n",
       "    <tr>\n",
       "      <th>4</th>\n",
       "      <td>400</td>\n",
       "      <td>강남</td>\n",
       "      <td>2017-01-01 04:00</td>\n",
       "      <td>0.6</td>\n",
       "      <td>0.5</td>\n",
       "      <td>0.0</td>\n",
       "      <td>85.0</td>\n",
       "      <td>NaN</td>\n",
       "      <td>NaN</td>\n",
       "      <td>0.0</td>\n",
       "      <td>서울특별시 강남구 일원동</td>\n",
       "      <td>강남구</td>\n",
       "    </tr>\n",
       "  </tbody>\n",
       "</table>\n",
       "</div>"
      ],
      "text/plain": [
       "    지점 지점명                일시   기온  풍속(m/s)  강수량(mm)  습도(%)  일조(hr)  적설(cm)  \\\n",
       "0  400  강남  2017-01-01 00:00  1.7      1.3      0.0   79.0     NaN     NaN   \n",
       "1  400  강남  2017-01-01 01:00  1.4      1.3      0.0   78.0     NaN     NaN   \n",
       "2  400  강남  2017-01-01 02:00  1.2      1.6      0.0   81.0     NaN     NaN   \n",
       "3  400  강남  2017-01-01 03:00  0.5      1.5      0.0   84.0     NaN     NaN   \n",
       "4  400  강남  2017-01-01 04:00  0.6      0.5      0.0   85.0     NaN     NaN   \n",
       "\n",
       "   전운량(10분위)             주소    구  \n",
       "0        7.0  서울특별시 강남구 일원동  강남구  \n",
       "1        NaN  서울특별시 강남구 일원동  강남구  \n",
       "2        NaN  서울특별시 강남구 일원동  강남구  \n",
       "3        0.0  서울특별시 강남구 일원동  강남구  \n",
       "4        0.0  서울특별시 강남구 일원동  강남구  "
      ]
     },
     "execution_count": 119,
     "metadata": {},
     "output_type": "execute_result"
    }
   ],
   "source": [
    "# 기온컬럼 이름 변경\n",
    "tmp_w.rename(columns = {'기온(°C)' : '기온'}, inplace = True)\n",
    "tmp_w.head()"
   ]
  },
  {
   "cell_type": "code",
   "execution_count": 106,
   "metadata": {
    "ExecuteTime": {
     "end_time": "2020-07-02T02:01:11.903138Z",
     "start_time": "2020-07-02T02:01:11.732513Z"
    }
   },
   "outputs": [
    {
     "data": {
      "text/plain": [
       "지점                0\n",
       "지점명               0\n",
       "일시                0\n",
       "기온(°C)          757\n",
       "풍속(m/s)        1470\n",
       "강수량(mm)        4457\n",
       "습도(%)           504\n",
       "일조(hr)       286321\n",
       "적설(cm)       610023\n",
       "전운량(10분위)     73009\n",
       "주소                0\n",
       "구                 0\n",
       "dtype: int64"
      ]
     },
     "execution_count": 106,
     "metadata": {},
     "output_type": "execute_result"
    }
   ],
   "source": [
    "tmp_w.isnull().sum()"
   ]
  },
  {
   "cell_type": "markdown",
   "metadata": {},
   "source": [
    "# 특성별 결측값 처리"
   ]
  },
  {
   "cell_type": "markdown",
   "metadata": {},
   "source": [
    "## 기온 결측값 처리\n",
    "1. null 값 전후 기온의 평균으로 대체\n",
    "2. 전후 모두 null이면, 해당 일자(날짜+시간)의 서울 기온 값으로 대체함"
   ]
  },
  {
   "cell_type": "code",
   "execution_count": 146,
   "metadata": {
    "ExecuteTime": {
     "end_time": "2020-07-02T02:23:01.534284Z",
     "start_time": "2020-07-02T02:23:01.523347Z"
    }
   },
   "outputs": [
    {
     "data": {
      "text/plain": [
       "13354     2017-01-17 10:00\n",
       "24643     2017-02-07 02:00\n",
       "25481     2017-03-14 00:00\n",
       "25496     2017-03-14 15:00\n",
       "29211     2017-02-17 11:00\n",
       "                ...       \n",
       "625391    2018-08-07 15:00\n",
       "625392    2018-08-07 16:00\n",
       "625393    2018-08-07 17:00\n",
       "627859    2018-11-18 11:00\n",
       "628566    2018-12-18 20:00\n",
       "Name: 일시, Length: 756, dtype: object"
      ]
     },
     "execution_count": 146,
     "metadata": {},
     "output_type": "execute_result"
    }
   ],
   "source": [
    "tmp_w[tmp_w['기온'].isnull()]['일시']"
   ]
  },
  {
   "cell_type": "code",
   "execution_count": 144,
   "metadata": {
    "ExecuteTime": {
     "end_time": "2020-07-02T02:22:19.709608Z",
     "start_time": "2020-07-02T02:22:19.698638Z"
    }
   },
   "outputs": [
    {
     "data": {
      "text/plain": [
       "Int64Index([ 13354,  24643,  25481,  25496,  29211,  62266,  68509,  74558,\n",
       "             75470,  75808,\n",
       "            ...\n",
       "            619201, 619202, 619203, 622726, 622727, 625391, 625392, 625393,\n",
       "            627859, 628566],\n",
       "           dtype='int64', length=756)"
      ]
     },
     "execution_count": 144,
     "metadata": {},
     "output_type": "execute_result"
    }
   ],
   "source": [
    "index3 = tmp_w[tmp_w['기온'].isnull()]['일시'].index\n",
    "index3"
   ]
  },
  {
   "cell_type": "code",
   "execution_count": 148,
   "metadata": {
    "ExecuteTime": {
     "end_time": "2020-07-02T02:24:13.634046Z",
     "start_time": "2020-07-02T02:24:07.233049Z"
    }
   },
   "outputs": [],
   "source": [
    "for i in index3:\n",
    "    a = round((tmp_w.loc[i-1,'기온'] + tmp_w.loc[i+1,'기온'])/2,1)\n",
    "    tmp_w.loc[tmp_w.index == i,'기온'] = a"
   ]
  },
  {
   "cell_type": "code",
   "execution_count": 149,
   "metadata": {
    "ExecuteTime": {
     "end_time": "2020-07-02T02:24:28.180014Z",
     "start_time": "2020-07-02T02:24:28.036362Z"
    }
   },
   "outputs": [
    {
     "data": {
      "text/plain": [
       "지점                0\n",
       "지점명               0\n",
       "일시                0\n",
       "기온              522\n",
       "풍속(m/s)        1470\n",
       "강수량(mm)        4457\n",
       "습도(%)           504\n",
       "일조(hr)       286321\n",
       "적설(cm)       610023\n",
       "전운량(10분위)     73009\n",
       "주소                0\n",
       "구                 0\n",
       "dtype: int64"
      ]
     },
     "execution_count": 149,
     "metadata": {},
     "output_type": "execute_result"
    }
   ],
   "source": [
    "tmp_w.isnull().sum()"
   ]
  },
  {
   "cell_type": "markdown",
   "metadata": {},
   "source": [
    "- 앞뒤 평균 대체 작업 후, 아직 null 값 존재 -> 앞뒤 중 하나 또는 둘다 null인 경우임"
   ]
  },
  {
   "cell_type": "markdown",
   "metadata": {},
   "source": [
    "### 앞뒤 중 하나 or 둘다 null인 경우 처리 (seoul data로 대체)"
   ]
  },
  {
   "cell_type": "code",
   "execution_count": 172,
   "metadata": {
    "ExecuteTime": {
     "end_time": "2020-07-02T02:37:15.509907Z",
     "start_time": "2020-07-02T02:37:15.498903Z"
    }
   },
   "outputs": [
    {
     "data": {
      "text/plain": [
       "Int64Index([ 75834,  75835,  77049,  77050,  78009,  78010,  80193,  80194,\n",
       "             82377,  82378,\n",
       "            ...\n",
       "            619199, 619200, 619201, 619202, 619203, 622726, 622727, 625391,\n",
       "            625392, 625393],\n",
       "           dtype='int64', length=522)"
      ]
     },
     "execution_count": 172,
     "metadata": {},
     "output_type": "execute_result"
    }
   ],
   "source": [
    "index5 = tmp_w[tmp_w['기온'].isnull()].index\n",
    "index5"
   ]
  },
  {
   "cell_type": "code",
   "execution_count": 198,
   "metadata": {
    "ExecuteTime": {
     "end_time": "2020-07-02T02:45:08.004189Z",
     "start_time": "2020-07-02T02:45:07.994216Z"
    }
   },
   "outputs": [
    {
     "data": {
      "text/plain": [
       "30.3"
      ]
     },
     "execution_count": 198,
     "metadata": {},
     "output_type": "execute_result"
    }
   ],
   "source": [
    "b = seoul[seoul['일시'] == tmp_w.loc[75834, '일시']]['기온(°C)']\n",
    "c = list(b)[0]\n",
    "c"
   ]
  },
  {
   "cell_type": "code",
   "execution_count": 200,
   "metadata": {
    "ExecuteTime": {
     "end_time": "2020-07-02T02:47:51.920969Z",
     "start_time": "2020-07-02T02:47:46.167050Z"
    }
   },
   "outputs": [],
   "source": [
    "for i in index5:\n",
    "    b = seoul[seoul['일시'] == tmp_w.loc[i,'일시']]['기온(°C)']\n",
    "    c = list(b)[0]\n",
    "    tmp_w.loc[tmp_w.index == i,'기온'] = c"
   ]
  },
  {
   "cell_type": "code",
   "execution_count": 201,
   "metadata": {
    "ExecuteTime": {
     "end_time": "2020-07-02T02:47:57.060586Z",
     "start_time": "2020-07-02T02:47:56.915333Z"
    }
   },
   "outputs": [
    {
     "data": {
      "text/plain": [
       "지점                0\n",
       "지점명               0\n",
       "일시                0\n",
       "기온                0\n",
       "풍속(m/s)        1470\n",
       "강수량(mm)        4457\n",
       "습도(%)           504\n",
       "일조(hr)       286321\n",
       "적설(cm)       610023\n",
       "전운량(10분위)     73009\n",
       "주소                0\n",
       "구                 0\n",
       "dtype: int64"
      ]
     },
     "execution_count": 201,
     "metadata": {},
     "output_type": "execute_result"
    }
   ],
   "source": [
    "tmp_w.isnull().sum()"
   ]
  },
  {
   "cell_type": "markdown",
   "metadata": {},
   "source": [
    "## 풍속 결측값 처리\n",
    "1. null 값 전후 풍속의 평균으로 대체 \n",
    "2. 전후 모두 null이면, 해당 일자(날짜+시간)의 서울  풍속 값으로 대체함"
   ]
  },
  {
   "cell_type": "code",
   "execution_count": 205,
   "metadata": {
    "ExecuteTime": {
     "end_time": "2020-07-02T02:57:40.133384Z",
     "start_time": "2020-07-02T02:57:40.121453Z"
    }
   },
   "outputs": [
    {
     "data": {
      "text/plain": [
       "Int64Index([   109,    110,   2792,   2793,   2861,   2862,   2863,   2864,\n",
       "              2865,   2866,\n",
       "            ...\n",
       "            622726, 627346, 627347, 627348, 627349, 627350, 627351, 627352,\n",
       "            627859, 628566],\n",
       "           dtype='int64', length=1470)"
      ]
     },
     "execution_count": 205,
     "metadata": {},
     "output_type": "execute_result"
    }
   ],
   "source": [
    "index6 = tmp_w[tmp_w['풍속(m/s)'].isnull()].index\n",
    "index6"
   ]
  },
  {
   "cell_type": "code",
   "execution_count": 206,
   "metadata": {
    "ExecuteTime": {
     "end_time": "2020-07-02T02:58:28.780454Z",
     "start_time": "2020-07-02T02:58:15.624794Z"
    }
   },
   "outputs": [],
   "source": [
    "for i in index6:\n",
    "    a = round((tmp_w.loc[i-1,'풍속(m/s)'] + tmp_w.loc[i+1,'풍속(m/s)'])/2,1)\n",
    "    tmp_w.loc[tmp_w.index == i,'풍속(m/s)'] = a"
   ]
  },
  {
   "cell_type": "code",
   "execution_count": 208,
   "metadata": {
    "ExecuteTime": {
     "end_time": "2020-07-02T02:58:59.338221Z",
     "start_time": "2020-07-02T02:58:59.198858Z"
    }
   },
   "outputs": [
    {
     "data": {
      "text/plain": [
       "지점                0\n",
       "지점명               0\n",
       "일시                0\n",
       "기온                0\n",
       "풍속(m/s)         841\n",
       "강수량(mm)        4457\n",
       "습도(%)           504\n",
       "일조(hr)       286321\n",
       "적설(cm)       610023\n",
       "전운량(10분위)     73009\n",
       "주소                0\n",
       "구                 0\n",
       "dtype: int64"
      ]
     },
     "execution_count": 208,
     "metadata": {},
     "output_type": "execute_result"
    }
   ],
   "source": [
    "tmp_w.isnull().sum()  # 841개 남음"
   ]
  },
  {
   "cell_type": "markdown",
   "metadata": {},
   "source": [
    "### seoul data로 대체"
   ]
  },
  {
   "cell_type": "code",
   "execution_count": 210,
   "metadata": {
    "ExecuteTime": {
     "end_time": "2020-07-02T03:00:46.664987Z",
     "start_time": "2020-07-02T03:00:46.655014Z"
    }
   },
   "outputs": [
    {
     "data": {
      "text/plain": [
       "Int64Index([   109,    110,   2792,   2793,   2861,   2862,   2863,   2864,\n",
       "              2865,   2866,\n",
       "            ...\n",
       "            622190, 622191, 622192, 627346, 627347, 627348, 627349, 627350,\n",
       "            627351, 627352],\n",
       "           dtype='int64', length=841)"
      ]
     },
     "execution_count": 210,
     "metadata": {},
     "output_type": "execute_result"
    }
   ],
   "source": [
    "index7 = tmp_w[tmp_w['풍속(m/s)'].isnull()].index\n",
    "index7"
   ]
  },
  {
   "cell_type": "code",
   "execution_count": 256,
   "metadata": {
    "ExecuteTime": {
     "end_time": "2020-07-02T03:28:30.754632Z",
     "start_time": "2020-07-02T03:28:21.472907Z"
    }
   },
   "outputs": [],
   "source": [
    "for i in index7:\n",
    "    b = seoul[seoul['일시'] == tmp_w.loc[i,'일시']]['풍속(m/s)']\n",
    "    c = list(b)[0]\n",
    "    tmp_w.loc[tmp_w.index == i,'풍속(m/s)'] = c"
   ]
  },
  {
   "cell_type": "code",
   "execution_count": 284,
   "metadata": {
    "ExecuteTime": {
     "end_time": "2020-07-02T04:58:54.972036Z",
     "start_time": "2020-07-02T04:58:54.832372Z"
    }
   },
   "outputs": [
    {
     "data": {
      "text/plain": [
       "지점                0\n",
       "지점명               0\n",
       "일시                0\n",
       "기온                0\n",
       "풍속(m/s)           0\n",
       "강수량(mm)        4457\n",
       "습도(%)           504\n",
       "일조(hr)       286321\n",
       "적설(cm)       610023\n",
       "전운량(10분위)     73009\n",
       "주소                0\n",
       "구                 0\n",
       "dtype: int64"
      ]
     },
     "execution_count": 284,
     "metadata": {},
     "output_type": "execute_result"
    }
   ],
   "source": [
    "tmp_w.isnull().sum()"
   ]
  },
  {
   "cell_type": "markdown",
   "metadata": {},
   "source": [
    "## 습도 결측값 처리\n",
    "- 해당 일시의 평균값으로 대체"
   ]
  },
  {
   "cell_type": "code",
   "execution_count": 272,
   "metadata": {
    "ExecuteTime": {
     "end_time": "2020-07-02T04:50:25.666510Z",
     "start_time": "2020-07-02T04:50:25.656537Z"
    }
   },
   "outputs": [],
   "source": [
    "s_day = tmp_w[tmp_w['습도(%)'].isnull()]['일시'].value_counts()\n",
    "s_day = pd.DataFrame(s_day)\n",
    "s_day.columns = ['수']"
   ]
  },
  {
   "cell_type": "code",
   "execution_count": 274,
   "metadata": {
    "ExecuteTime": {
     "end_time": "2020-07-02T04:50:32.192091Z",
     "start_time": "2020-07-02T04:50:32.182119Z"
    }
   },
   "outputs": [
    {
     "data": {
      "text/html": [
       "<div>\n",
       "<style scoped>\n",
       "    .dataframe tbody tr th:only-of-type {\n",
       "        vertical-align: middle;\n",
       "    }\n",
       "\n",
       "    .dataframe tbody tr th {\n",
       "        vertical-align: top;\n",
       "    }\n",
       "\n",
       "    .dataframe thead th {\n",
       "        text-align: right;\n",
       "    }\n",
       "</style>\n",
       "<table border=\"1\" class=\"dataframe\">\n",
       "  <thead>\n",
       "    <tr style=\"text-align: right;\">\n",
       "      <th></th>\n",
       "      <th>수</th>\n",
       "    </tr>\n",
       "  </thead>\n",
       "  <tbody>\n",
       "    <tr>\n",
       "      <th>2018-05-27 07:00</th>\n",
       "      <td>24</td>\n",
       "    </tr>\n",
       "    <tr>\n",
       "      <th>2017-10-12 15:00</th>\n",
       "      <td>24</td>\n",
       "    </tr>\n",
       "    <tr>\n",
       "      <th>2018-05-22 03:00</th>\n",
       "      <td>24</td>\n",
       "    </tr>\n",
       "    <tr>\n",
       "      <th>2017-10-12 17:00</th>\n",
       "      <td>24</td>\n",
       "    </tr>\n",
       "    <tr>\n",
       "      <th>2018-05-27 05:00</th>\n",
       "      <td>24</td>\n",
       "    </tr>\n",
       "  </tbody>\n",
       "</table>\n",
       "</div>"
      ],
      "text/plain": [
       "                   수\n",
       "2018-05-27 07:00  24\n",
       "2017-10-12 15:00  24\n",
       "2018-05-22 03:00  24\n",
       "2017-10-12 17:00  24\n",
       "2018-05-27 05:00  24"
      ]
     },
     "execution_count": 274,
     "metadata": {},
     "output_type": "execute_result"
    }
   ],
   "source": [
    "s_day.head()"
   ]
  },
  {
   "cell_type": "markdown",
   "metadata": {},
   "source": [
    "- 일시별 습도 평균값 dataframe columns 추가"
   ]
  },
  {
   "cell_type": "code",
   "execution_count": 287,
   "metadata": {
    "ExecuteTime": {
     "end_time": "2020-07-02T05:01:02.160888Z",
     "start_time": "2020-07-02T05:01:02.146961Z"
    }
   },
   "outputs": [
    {
     "data": {
      "text/html": [
       "<div>\n",
       "<style scoped>\n",
       "    .dataframe tbody tr th:only-of-type {\n",
       "        vertical-align: middle;\n",
       "    }\n",
       "\n",
       "    .dataframe tbody tr th {\n",
       "        vertical-align: top;\n",
       "    }\n",
       "\n",
       "    .dataframe thead th {\n",
       "        text-align: right;\n",
       "    }\n",
       "</style>\n",
       "<table border=\"1\" class=\"dataframe\">\n",
       "  <thead>\n",
       "    <tr style=\"text-align: right;\">\n",
       "      <th></th>\n",
       "      <th>수</th>\n",
       "      <th>풍속 평균</th>\n",
       "      <th>습도 평균</th>\n",
       "    </tr>\n",
       "  </thead>\n",
       "  <tbody>\n",
       "    <tr>\n",
       "      <th>2018-05-27 07:00</th>\n",
       "      <td>24</td>\n",
       "      <td>1.2</td>\n",
       "      <td>0</td>\n",
       "    </tr>\n",
       "    <tr>\n",
       "      <th>2017-10-12 15:00</th>\n",
       "      <td>24</td>\n",
       "      <td>1.4</td>\n",
       "      <td>0</td>\n",
       "    </tr>\n",
       "    <tr>\n",
       "      <th>2018-05-22 03:00</th>\n",
       "      <td>24</td>\n",
       "      <td>0.8</td>\n",
       "      <td>0</td>\n",
       "    </tr>\n",
       "    <tr>\n",
       "      <th>2017-10-12 17:00</th>\n",
       "      <td>24</td>\n",
       "      <td>1.1</td>\n",
       "      <td>0</td>\n",
       "    </tr>\n",
       "    <tr>\n",
       "      <th>2018-05-27 05:00</th>\n",
       "      <td>24</td>\n",
       "      <td>1.2</td>\n",
       "      <td>0</td>\n",
       "    </tr>\n",
       "  </tbody>\n",
       "</table>\n",
       "</div>"
      ],
      "text/plain": [
       "                   수  풍속 평균  습도 평균\n",
       "2018-05-27 07:00  24    1.2      0\n",
       "2017-10-12 15:00  24    1.4      0\n",
       "2018-05-22 03:00  24    0.8      0\n",
       "2017-10-12 17:00  24    1.1      0\n",
       "2018-05-27 05:00  24    1.2      0"
      ]
     },
     "execution_count": 287,
     "metadata": {},
     "output_type": "execute_result"
    }
   ],
   "source": [
    "s_day['습도 평균'] = 0\n",
    "s_day.head()"
   ]
  },
  {
   "cell_type": "code",
   "execution_count": 276,
   "metadata": {
    "ExecuteTime": {
     "end_time": "2020-07-02T04:52:20.216701Z",
     "start_time": "2020-07-02T04:52:20.210720Z"
    }
   },
   "outputs": [
    {
     "data": {
      "text/plain": [
       "Index(['2018-05-27 07:00', '2017-10-12 15:00', '2018-05-22 03:00',\n",
       "       '2017-10-12 17:00', '2018-05-27 05:00', '2018-05-28 04:00',\n",
       "       '2018-05-21 07:00', '2018-05-22 06:00', '2018-05-22 05:00',\n",
       "       '2018-05-21 05:00', '2018-05-21 04:00', '2018-05-28 07:00',\n",
       "       '2018-05-28 05:00', '2018-05-19 07:00', '2018-05-21 02:00',\n",
       "       '2017-09-26 17:00', '2018-05-21 03:00', '2018-05-21 06:00',\n",
       "       '2018-05-22 04:00', '2017-10-12 16:00', '2018-05-28 06:00'],\n",
       "      dtype='object')"
      ]
     },
     "execution_count": 276,
     "metadata": {},
     "output_type": "execute_result"
    }
   ],
   "source": [
    "s_day.index"
   ]
  },
  {
   "cell_type": "code",
   "execution_count": 289,
   "metadata": {
    "ExecuteTime": {
     "end_time": "2020-07-02T05:01:28.696963Z",
     "start_time": "2020-07-02T05:01:27.679304Z"
    }
   },
   "outputs": [],
   "source": [
    "for i in s_day.index:\n",
    "    a = round(aws_gu[aws_gu['일시'] == i]['습도(%)'].mean(),1)\n",
    "    s_day.loc[s_day.index == i, '습도 평균'] = a"
   ]
  },
  {
   "cell_type": "code",
   "execution_count": 290,
   "metadata": {
    "ExecuteTime": {
     "end_time": "2020-07-02T05:01:29.243941Z",
     "start_time": "2020-07-02T05:01:29.231939Z"
    }
   },
   "outputs": [
    {
     "data": {
      "text/html": [
       "<div>\n",
       "<style scoped>\n",
       "    .dataframe tbody tr th:only-of-type {\n",
       "        vertical-align: middle;\n",
       "    }\n",
       "\n",
       "    .dataframe tbody tr th {\n",
       "        vertical-align: top;\n",
       "    }\n",
       "\n",
       "    .dataframe thead th {\n",
       "        text-align: right;\n",
       "    }\n",
       "</style>\n",
       "<table border=\"1\" class=\"dataframe\">\n",
       "  <thead>\n",
       "    <tr style=\"text-align: right;\">\n",
       "      <th></th>\n",
       "      <th>수</th>\n",
       "      <th>풍속 평균</th>\n",
       "      <th>습도 평균</th>\n",
       "    </tr>\n",
       "  </thead>\n",
       "  <tbody>\n",
       "    <tr>\n",
       "      <th>2018-05-27 07:00</th>\n",
       "      <td>24</td>\n",
       "      <td>1.2</td>\n",
       "      <td>68.1</td>\n",
       "    </tr>\n",
       "    <tr>\n",
       "      <th>2017-10-12 15:00</th>\n",
       "      <td>24</td>\n",
       "      <td>1.4</td>\n",
       "      <td>68.7</td>\n",
       "    </tr>\n",
       "    <tr>\n",
       "      <th>2018-05-22 03:00</th>\n",
       "      <td>24</td>\n",
       "      <td>0.8</td>\n",
       "      <td>82.6</td>\n",
       "    </tr>\n",
       "    <tr>\n",
       "      <th>2017-10-12 17:00</th>\n",
       "      <td>24</td>\n",
       "      <td>1.1</td>\n",
       "      <td>67.6</td>\n",
       "    </tr>\n",
       "    <tr>\n",
       "      <th>2018-05-27 05:00</th>\n",
       "      <td>24</td>\n",
       "      <td>1.2</td>\n",
       "      <td>71.9</td>\n",
       "    </tr>\n",
       "    <tr>\n",
       "      <th>2018-05-28 04:00</th>\n",
       "      <td>24</td>\n",
       "      <td>0.8</td>\n",
       "      <td>71.3</td>\n",
       "    </tr>\n",
       "    <tr>\n",
       "      <th>2018-05-21 07:00</th>\n",
       "      <td>24</td>\n",
       "      <td>1.3</td>\n",
       "      <td>42.9</td>\n",
       "    </tr>\n",
       "    <tr>\n",
       "      <th>2018-05-22 06:00</th>\n",
       "      <td>24</td>\n",
       "      <td>1.1</td>\n",
       "      <td>84.8</td>\n",
       "    </tr>\n",
       "    <tr>\n",
       "      <th>2018-05-22 05:00</th>\n",
       "      <td>24</td>\n",
       "      <td>1.0</td>\n",
       "      <td>84.6</td>\n",
       "    </tr>\n",
       "    <tr>\n",
       "      <th>2018-05-21 05:00</th>\n",
       "      <td>24</td>\n",
       "      <td>1.3</td>\n",
       "      <td>49.2</td>\n",
       "    </tr>\n",
       "    <tr>\n",
       "      <th>2018-05-21 04:00</th>\n",
       "      <td>24</td>\n",
       "      <td>1.6</td>\n",
       "      <td>46.7</td>\n",
       "    </tr>\n",
       "    <tr>\n",
       "      <th>2018-05-28 07:00</th>\n",
       "      <td>24</td>\n",
       "      <td>0.9</td>\n",
       "      <td>72.4</td>\n",
       "    </tr>\n",
       "    <tr>\n",
       "      <th>2018-05-28 05:00</th>\n",
       "      <td>24</td>\n",
       "      <td>0.8</td>\n",
       "      <td>73.6</td>\n",
       "    </tr>\n",
       "    <tr>\n",
       "      <th>2018-05-19 07:00</th>\n",
       "      <td>24</td>\n",
       "      <td>2.4</td>\n",
       "      <td>71.1</td>\n",
       "    </tr>\n",
       "    <tr>\n",
       "      <th>2018-05-21 02:00</th>\n",
       "      <td>24</td>\n",
       "      <td>1.8</td>\n",
       "      <td>44.6</td>\n",
       "    </tr>\n",
       "    <tr>\n",
       "      <th>2017-09-26 17:00</th>\n",
       "      <td>24</td>\n",
       "      <td>1.2</td>\n",
       "      <td>54.1</td>\n",
       "    </tr>\n",
       "    <tr>\n",
       "      <th>2018-05-21 03:00</th>\n",
       "      <td>24</td>\n",
       "      <td>1.6</td>\n",
       "      <td>45.9</td>\n",
       "    </tr>\n",
       "    <tr>\n",
       "      <th>2018-05-21 06:00</th>\n",
       "      <td>24</td>\n",
       "      <td>1.3</td>\n",
       "      <td>50.1</td>\n",
       "    </tr>\n",
       "    <tr>\n",
       "      <th>2018-05-22 04:00</th>\n",
       "      <td>24</td>\n",
       "      <td>1.1</td>\n",
       "      <td>83.5</td>\n",
       "    </tr>\n",
       "    <tr>\n",
       "      <th>2017-10-12 16:00</th>\n",
       "      <td>24</td>\n",
       "      <td>1.3</td>\n",
       "      <td>67.8</td>\n",
       "    </tr>\n",
       "    <tr>\n",
       "      <th>2018-05-28 06:00</th>\n",
       "      <td>24</td>\n",
       "      <td>0.8</td>\n",
       "      <td>76.2</td>\n",
       "    </tr>\n",
       "  </tbody>\n",
       "</table>\n",
       "</div>"
      ],
      "text/plain": [
       "                   수  풍속 평균  습도 평균\n",
       "2018-05-27 07:00  24    1.2   68.1\n",
       "2017-10-12 15:00  24    1.4   68.7\n",
       "2018-05-22 03:00  24    0.8   82.6\n",
       "2017-10-12 17:00  24    1.1   67.6\n",
       "2018-05-27 05:00  24    1.2   71.9\n",
       "2018-05-28 04:00  24    0.8   71.3\n",
       "2018-05-21 07:00  24    1.3   42.9\n",
       "2018-05-22 06:00  24    1.1   84.8\n",
       "2018-05-22 05:00  24    1.0   84.6\n",
       "2018-05-21 05:00  24    1.3   49.2\n",
       "2018-05-21 04:00  24    1.6   46.7\n",
       "2018-05-28 07:00  24    0.9   72.4\n",
       "2018-05-28 05:00  24    0.8   73.6\n",
       "2018-05-19 07:00  24    2.4   71.1\n",
       "2018-05-21 02:00  24    1.8   44.6\n",
       "2017-09-26 17:00  24    1.2   54.1\n",
       "2018-05-21 03:00  24    1.6   45.9\n",
       "2018-05-21 06:00  24    1.3   50.1\n",
       "2018-05-22 04:00  24    1.1   83.5\n",
       "2017-10-12 16:00  24    1.3   67.8\n",
       "2018-05-28 06:00  24    0.8   76.2"
      ]
     },
     "execution_count": 290,
     "metadata": {},
     "output_type": "execute_result"
    }
   ],
   "source": [
    "s_day"
   ]
  },
  {
   "cell_type": "code",
   "execution_count": 293,
   "metadata": {
    "ExecuteTime": {
     "end_time": "2020-07-02T05:08:30.935754Z",
     "start_time": "2020-07-02T05:08:30.925814Z"
    }
   },
   "outputs": [
    {
     "data": {
      "text/plain": [
       "Int64Index([106320, 108528, 110695, 112893, 115101, 117277, 119485, 121693,\n",
       "            123901, 126109,\n",
       "            ...\n",
       "            623531, 623532, 623533, 623534, 623653, 623655, 623676, 623677,\n",
       "            623678, 623679],\n",
       "           dtype='int64', length=504)"
      ]
     },
     "execution_count": 293,
     "metadata": {},
     "output_type": "execute_result"
    }
   ],
   "source": [
    "index_8 = tmp_w[tmp_w['습도(%)'].isnull()].index\n",
    "index_8"
   ]
  },
  {
   "cell_type": "code",
   "execution_count": 301,
   "metadata": {
    "ExecuteTime": {
     "end_time": "2020-07-02T05:15:36.730035Z",
     "start_time": "2020-07-02T05:15:32.071180Z"
    }
   },
   "outputs": [],
   "source": [
    "for i in index_8:\n",
    "    b = s_day[s_day.index == tmp_w.loc[i, '일시']]['습도 평균']\n",
    "    c = list(b)[0]\n",
    "    tmp_w.loc[tmp_w.index == i, '습도(%)'] = c"
   ]
  },
  {
   "cell_type": "code",
   "execution_count": 303,
   "metadata": {
    "ExecuteTime": {
     "end_time": "2020-07-02T05:15:53.558862Z",
     "start_time": "2020-07-02T05:15:53.412254Z"
    }
   },
   "outputs": [
    {
     "data": {
      "text/plain": [
       "지점                0\n",
       "지점명               0\n",
       "일시                0\n",
       "기온                0\n",
       "풍속(m/s)           0\n",
       "강수량(mm)        4457\n",
       "습도(%)             0\n",
       "일조(hr)       286321\n",
       "적설(cm)       610023\n",
       "전운량(10분위)     73009\n",
       "주소                0\n",
       "구                 0\n",
       "dtype: int64"
      ]
     },
     "execution_count": 303,
     "metadata": {},
     "output_type": "execute_result"
    }
   ],
   "source": [
    "tmp_w.isnull().sum()"
   ]
  },
  {
   "cell_type": "markdown",
   "metadata": {},
   "source": [
    "## 강수량 결측값 처리\n",
    "1. null 값 전후 강수량의 평균으로 대체하려고 했으나, 전후 모두 null인 경우가 대부분이라, 의미 없었음\n",
    "2. 따라서, 해당 일자(날짜+시간)의 모든 구의 강수량 평균 값으로 대체함"
   ]
  },
  {
   "cell_type": "code",
   "execution_count": 81,
   "metadata": {
    "ExecuteTime": {
     "end_time": "2020-07-02T15:41:52.932964Z",
     "start_time": "2020-07-02T15:41:52.912018Z"
    }
   },
   "outputs": [
    {
     "data": {
      "text/plain": [
       "2018-02-23 22:00    8\n",
       "2018-02-23 16:00    8\n",
       "2018-02-23 15:00    8\n",
       "2018-02-23 20:00    8\n",
       "2018-02-24 00:00    8\n",
       "                   ..\n",
       "2019-09-06 13:00    1\n",
       "2018-01-31 00:00    1\n",
       "2019-12-22 14:00    1\n",
       "2017-12-03 12:00    1\n",
       "2018-01-13 00:00    1\n",
       "Name: 일시, Length: 2799, dtype: int64"
      ]
     },
     "execution_count": 81,
     "metadata": {},
     "output_type": "execute_result"
    }
   ],
   "source": [
    "rain_null_day = tmp_w[tmp_w['강수량(mm)'].isnull()]['일시'].value_counts()\n",
    "rain_null_day"
   ]
  },
  {
   "cell_type": "code",
   "execution_count": 82,
   "metadata": {
    "ExecuteTime": {
     "end_time": "2020-07-02T15:41:53.820121Z",
     "start_time": "2020-07-02T15:41:53.783191Z"
    }
   },
   "outputs": [
    {
     "data": {
      "text/html": [
       "<div>\n",
       "<style scoped>\n",
       "    .dataframe tbody tr th:only-of-type {\n",
       "        vertical-align: middle;\n",
       "    }\n",
       "\n",
       "    .dataframe tbody tr th {\n",
       "        vertical-align: top;\n",
       "    }\n",
       "\n",
       "    .dataframe thead th {\n",
       "        text-align: right;\n",
       "    }\n",
       "</style>\n",
       "<table border=\"1\" class=\"dataframe\">\n",
       "  <thead>\n",
       "    <tr style=\"text-align: right;\">\n",
       "      <th></th>\n",
       "      <th>일시</th>\n",
       "    </tr>\n",
       "  </thead>\n",
       "  <tbody>\n",
       "    <tr>\n",
       "      <th>2018-02-23 22:00</th>\n",
       "      <td>8</td>\n",
       "    </tr>\n",
       "    <tr>\n",
       "      <th>2018-02-23 16:00</th>\n",
       "      <td>8</td>\n",
       "    </tr>\n",
       "    <tr>\n",
       "      <th>2018-02-23 15:00</th>\n",
       "      <td>8</td>\n",
       "    </tr>\n",
       "    <tr>\n",
       "      <th>2018-02-23 20:00</th>\n",
       "      <td>8</td>\n",
       "    </tr>\n",
       "    <tr>\n",
       "      <th>2018-02-24 00:00</th>\n",
       "      <td>8</td>\n",
       "    </tr>\n",
       "    <tr>\n",
       "      <th>...</th>\n",
       "      <td>...</td>\n",
       "    </tr>\n",
       "    <tr>\n",
       "      <th>2019-09-06 13:00</th>\n",
       "      <td>1</td>\n",
       "    </tr>\n",
       "    <tr>\n",
       "      <th>2018-01-31 00:00</th>\n",
       "      <td>1</td>\n",
       "    </tr>\n",
       "    <tr>\n",
       "      <th>2019-12-22 14:00</th>\n",
       "      <td>1</td>\n",
       "    </tr>\n",
       "    <tr>\n",
       "      <th>2017-12-03 12:00</th>\n",
       "      <td>1</td>\n",
       "    </tr>\n",
       "    <tr>\n",
       "      <th>2018-01-13 00:00</th>\n",
       "      <td>1</td>\n",
       "    </tr>\n",
       "  </tbody>\n",
       "</table>\n",
       "<p>2799 rows × 1 columns</p>\n",
       "</div>"
      ],
      "text/plain": [
       "                  일시\n",
       "2018-02-23 22:00   8\n",
       "2018-02-23 16:00   8\n",
       "2018-02-23 15:00   8\n",
       "2018-02-23 20:00   8\n",
       "2018-02-24 00:00   8\n",
       "...               ..\n",
       "2019-09-06 13:00   1\n",
       "2018-01-31 00:00   1\n",
       "2019-12-22 14:00   1\n",
       "2017-12-03 12:00   1\n",
       "2018-01-13 00:00   1\n",
       "\n",
       "[2799 rows x 1 columns]"
      ]
     },
     "execution_count": 82,
     "metadata": {},
     "output_type": "execute_result"
    }
   ],
   "source": [
    "rain_null_day = pd.DataFrame(rain_null_day)\n",
    "rain_null_day"
   ]
  },
  {
   "cell_type": "code",
   "execution_count": 86,
   "metadata": {
    "ExecuteTime": {
     "end_time": "2020-07-02T15:42:35.059526Z",
     "start_time": "2020-07-02T15:42:35.041578Z"
    }
   },
   "outputs": [
    {
     "data": {
      "text/html": [
       "<div>\n",
       "<style scoped>\n",
       "    .dataframe tbody tr th:only-of-type {\n",
       "        vertical-align: middle;\n",
       "    }\n",
       "\n",
       "    .dataframe tbody tr th {\n",
       "        vertical-align: top;\n",
       "    }\n",
       "\n",
       "    .dataframe thead th {\n",
       "        text-align: right;\n",
       "    }\n",
       "</style>\n",
       "<table border=\"1\" class=\"dataframe\">\n",
       "  <thead>\n",
       "    <tr style=\"text-align: right;\">\n",
       "      <th></th>\n",
       "      <th>index</th>\n",
       "      <th>일시</th>\n",
       "    </tr>\n",
       "  </thead>\n",
       "  <tbody>\n",
       "    <tr>\n",
       "      <th>0</th>\n",
       "      <td>2018-02-23 22:00</td>\n",
       "      <td>8</td>\n",
       "    </tr>\n",
       "    <tr>\n",
       "      <th>1</th>\n",
       "      <td>2018-02-23 16:00</td>\n",
       "      <td>8</td>\n",
       "    </tr>\n",
       "    <tr>\n",
       "      <th>2</th>\n",
       "      <td>2018-02-23 15:00</td>\n",
       "      <td>8</td>\n",
       "    </tr>\n",
       "    <tr>\n",
       "      <th>3</th>\n",
       "      <td>2018-02-23 20:00</td>\n",
       "      <td>8</td>\n",
       "    </tr>\n",
       "    <tr>\n",
       "      <th>4</th>\n",
       "      <td>2018-02-24 00:00</td>\n",
       "      <td>8</td>\n",
       "    </tr>\n",
       "    <tr>\n",
       "      <th>...</th>\n",
       "      <td>...</td>\n",
       "      <td>...</td>\n",
       "    </tr>\n",
       "    <tr>\n",
       "      <th>2794</th>\n",
       "      <td>2019-09-06 13:00</td>\n",
       "      <td>1</td>\n",
       "    </tr>\n",
       "    <tr>\n",
       "      <th>2795</th>\n",
       "      <td>2018-01-31 00:00</td>\n",
       "      <td>1</td>\n",
       "    </tr>\n",
       "    <tr>\n",
       "      <th>2796</th>\n",
       "      <td>2019-12-22 14:00</td>\n",
       "      <td>1</td>\n",
       "    </tr>\n",
       "    <tr>\n",
       "      <th>2797</th>\n",
       "      <td>2017-12-03 12:00</td>\n",
       "      <td>1</td>\n",
       "    </tr>\n",
       "    <tr>\n",
       "      <th>2798</th>\n",
       "      <td>2018-01-13 00:00</td>\n",
       "      <td>1</td>\n",
       "    </tr>\n",
       "  </tbody>\n",
       "</table>\n",
       "<p>2799 rows × 2 columns</p>\n",
       "</div>"
      ],
      "text/plain": [
       "                 index  일시\n",
       "0     2018-02-23 22:00   8\n",
       "1     2018-02-23 16:00   8\n",
       "2     2018-02-23 15:00   8\n",
       "3     2018-02-23 20:00   8\n",
       "4     2018-02-24 00:00   8\n",
       "...                ...  ..\n",
       "2794  2019-09-06 13:00   1\n",
       "2795  2018-01-31 00:00   1\n",
       "2796  2019-12-22 14:00   1\n",
       "2797  2017-12-03 12:00   1\n",
       "2798  2018-01-13 00:00   1\n",
       "\n",
       "[2799 rows x 2 columns]"
      ]
     },
     "execution_count": 86,
     "metadata": {},
     "output_type": "execute_result"
    }
   ],
   "source": [
    "rain_null_day = rain_null_day.reset_index()\n",
    "rain_null_day"
   ]
  },
  {
   "cell_type": "code",
   "execution_count": 87,
   "metadata": {
    "ExecuteTime": {
     "end_time": "2020-07-02T15:42:47.631599Z",
     "start_time": "2020-07-02T15:42:47.626614Z"
    }
   },
   "outputs": [],
   "source": [
    "rain_null_day.columns = ['일시', '개수']"
   ]
  },
  {
   "cell_type": "code",
   "execution_count": 88,
   "metadata": {
    "ExecuteTime": {
     "end_time": "2020-07-02T15:42:48.758476Z",
     "start_time": "2020-07-02T15:42:48.738530Z"
    }
   },
   "outputs": [
    {
     "data": {
      "text/html": [
       "<div>\n",
       "<style scoped>\n",
       "    .dataframe tbody tr th:only-of-type {\n",
       "        vertical-align: middle;\n",
       "    }\n",
       "\n",
       "    .dataframe tbody tr th {\n",
       "        vertical-align: top;\n",
       "    }\n",
       "\n",
       "    .dataframe thead th {\n",
       "        text-align: right;\n",
       "    }\n",
       "</style>\n",
       "<table border=\"1\" class=\"dataframe\">\n",
       "  <thead>\n",
       "    <tr style=\"text-align: right;\">\n",
       "      <th></th>\n",
       "      <th>일시</th>\n",
       "      <th>개수</th>\n",
       "    </tr>\n",
       "  </thead>\n",
       "  <tbody>\n",
       "    <tr>\n",
       "      <th>0</th>\n",
       "      <td>2018-02-23 22:00</td>\n",
       "      <td>8</td>\n",
       "    </tr>\n",
       "    <tr>\n",
       "      <th>1</th>\n",
       "      <td>2018-02-23 16:00</td>\n",
       "      <td>8</td>\n",
       "    </tr>\n",
       "    <tr>\n",
       "      <th>2</th>\n",
       "      <td>2018-02-23 15:00</td>\n",
       "      <td>8</td>\n",
       "    </tr>\n",
       "    <tr>\n",
       "      <th>3</th>\n",
       "      <td>2018-02-23 20:00</td>\n",
       "      <td>8</td>\n",
       "    </tr>\n",
       "    <tr>\n",
       "      <th>4</th>\n",
       "      <td>2018-02-24 00:00</td>\n",
       "      <td>8</td>\n",
       "    </tr>\n",
       "    <tr>\n",
       "      <th>...</th>\n",
       "      <td>...</td>\n",
       "      <td>...</td>\n",
       "    </tr>\n",
       "    <tr>\n",
       "      <th>2794</th>\n",
       "      <td>2019-09-06 13:00</td>\n",
       "      <td>1</td>\n",
       "    </tr>\n",
       "    <tr>\n",
       "      <th>2795</th>\n",
       "      <td>2018-01-31 00:00</td>\n",
       "      <td>1</td>\n",
       "    </tr>\n",
       "    <tr>\n",
       "      <th>2796</th>\n",
       "      <td>2019-12-22 14:00</td>\n",
       "      <td>1</td>\n",
       "    </tr>\n",
       "    <tr>\n",
       "      <th>2797</th>\n",
       "      <td>2017-12-03 12:00</td>\n",
       "      <td>1</td>\n",
       "    </tr>\n",
       "    <tr>\n",
       "      <th>2798</th>\n",
       "      <td>2018-01-13 00:00</td>\n",
       "      <td>1</td>\n",
       "    </tr>\n",
       "  </tbody>\n",
       "</table>\n",
       "<p>2799 rows × 2 columns</p>\n",
       "</div>"
      ],
      "text/plain": [
       "                    일시  개수\n",
       "0     2018-02-23 22:00   8\n",
       "1     2018-02-23 16:00   8\n",
       "2     2018-02-23 15:00   8\n",
       "3     2018-02-23 20:00   8\n",
       "4     2018-02-24 00:00   8\n",
       "...                ...  ..\n",
       "2794  2019-09-06 13:00   1\n",
       "2795  2018-01-31 00:00   1\n",
       "2796  2019-12-22 14:00   1\n",
       "2797  2017-12-03 12:00   1\n",
       "2798  2018-01-13 00:00   1\n",
       "\n",
       "[2799 rows x 2 columns]"
      ]
     },
     "execution_count": 88,
     "metadata": {},
     "output_type": "execute_result"
    }
   ],
   "source": [
    "rain_null_day"
   ]
  },
  {
   "cell_type": "code",
   "execution_count": 89,
   "metadata": {
    "ExecuteTime": {
     "end_time": "2020-07-02T15:42:55.301785Z",
     "start_time": "2020-07-02T15:42:55.294835Z"
    }
   },
   "outputs": [],
   "source": [
    "rain_null_day['평균'] = 0.0"
   ]
  },
  {
   "cell_type": "code",
   "execution_count": 163,
   "metadata": {
    "ExecuteTime": {
     "end_time": "2020-07-02T16:23:30.517551Z",
     "start_time": "2020-07-02T16:23:30.501596Z"
    }
   },
   "outputs": [
    {
     "data": {
      "text/html": [
       "<div>\n",
       "<style scoped>\n",
       "    .dataframe tbody tr th:only-of-type {\n",
       "        vertical-align: middle;\n",
       "    }\n",
       "\n",
       "    .dataframe tbody tr th {\n",
       "        vertical-align: top;\n",
       "    }\n",
       "\n",
       "    .dataframe thead th {\n",
       "        text-align: right;\n",
       "    }\n",
       "</style>\n",
       "<table border=\"1\" class=\"dataframe\">\n",
       "  <thead>\n",
       "    <tr style=\"text-align: right;\">\n",
       "      <th></th>\n",
       "      <th>일시</th>\n",
       "      <th>개수</th>\n",
       "      <th>평균</th>\n",
       "    </tr>\n",
       "  </thead>\n",
       "  <tbody>\n",
       "    <tr>\n",
       "      <th>0</th>\n",
       "      <td>2018-02-23 22:00</td>\n",
       "      <td>8</td>\n",
       "      <td>0.0</td>\n",
       "    </tr>\n",
       "    <tr>\n",
       "      <th>1</th>\n",
       "      <td>2018-02-23 16:00</td>\n",
       "      <td>8</td>\n",
       "      <td>0.0</td>\n",
       "    </tr>\n",
       "    <tr>\n",
       "      <th>2</th>\n",
       "      <td>2018-02-23 15:00</td>\n",
       "      <td>8</td>\n",
       "      <td>0.0</td>\n",
       "    </tr>\n",
       "    <tr>\n",
       "      <th>3</th>\n",
       "      <td>2018-02-23 20:00</td>\n",
       "      <td>8</td>\n",
       "      <td>0.0</td>\n",
       "    </tr>\n",
       "    <tr>\n",
       "      <th>4</th>\n",
       "      <td>2018-02-24 00:00</td>\n",
       "      <td>8</td>\n",
       "      <td>0.0</td>\n",
       "    </tr>\n",
       "  </tbody>\n",
       "</table>\n",
       "</div>"
      ],
      "text/plain": [
       "                 일시  개수   평균\n",
       "0  2018-02-23 22:00   8  0.0\n",
       "1  2018-02-23 16:00   8  0.0\n",
       "2  2018-02-23 15:00   8  0.0\n",
       "3  2018-02-23 20:00   8  0.0\n",
       "4  2018-02-24 00:00   8  0.0"
      ]
     },
     "execution_count": 163,
     "metadata": {},
     "output_type": "execute_result"
    }
   ],
   "source": [
    "rain_null_day.head()"
   ]
  },
  {
   "cell_type": "code",
   "execution_count": 166,
   "metadata": {
    "ExecuteTime": {
     "end_time": "2020-07-02T16:24:51.101918Z",
     "start_time": "2020-07-02T16:24:51.083963Z"
    }
   },
   "outputs": [
    {
     "data": {
      "text/plain": [
       "Int64Index([ 17575,  17576,  17577,  17578,  17579,  17580,  17581,  17582,\n",
       "             17583,  17584,\n",
       "            ...\n",
       "            628441, 628442, 628443, 628444, 628445, 628446, 628447, 628448,\n",
       "            628449, 628450],\n",
       "           dtype='int64', length=4457)"
      ]
     },
     "execution_count": 166,
     "metadata": {},
     "output_type": "execute_result"
    }
   ],
   "source": [
    "index_rain2 = tmp_w2[tmp_w2['강수량(mm)'].isnull()].index\n",
    "index_rain2  # 4457"
   ]
  },
  {
   "cell_type": "code",
   "execution_count": 168,
   "metadata": {
    "ExecuteTime": {
     "end_time": "2020-07-02T16:28:56.023163Z",
     "start_time": "2020-07-02T16:27:57.880442Z"
    }
   },
   "outputs": [],
   "source": [
    "for i in index_rain2:\n",
    "    m = rain_null_day[rain_null_day['일시'] == tmp_w2.loc[i,'일시']]['평균']\n",
    "    c = list(m)[0]\n",
    "    tmp_w2.loc[i,'강수량(mm)'] = c"
   ]
  },
  {
   "cell_type": "code",
   "execution_count": 170,
   "metadata": {
    "ExecuteTime": {
     "end_time": "2020-07-02T16:29:04.677003Z",
     "start_time": "2020-07-02T16:29:04.472551Z"
    }
   },
   "outputs": [
    {
     "data": {
      "text/plain": [
       "Unnamed: 0         0\n",
       "지점                 0\n",
       "지점명                0\n",
       "일시                 0\n",
       "기온                 0\n",
       "풍속(m/s)            0\n",
       "강수량(mm)            0\n",
       "습도(%)              0\n",
       "일조(hr)        286321\n",
       "적설(cm)        610023\n",
       "전운량(10분위)      73009\n",
       "주소                 0\n",
       "구                  0\n",
       "눈내림                0\n",
       "눈내림2               0\n",
       "dtype: int64"
      ]
     },
     "execution_count": 170,
     "metadata": {},
     "output_type": "execute_result"
    }
   ],
   "source": [
    "tmp_w2.isnull().sum()"
   ]
  },
  {
   "cell_type": "markdown",
   "metadata": {},
   "source": [
    "## 일조 결측값 처리\n",
    "1. 21:00~23:00, 00:00_05:00 null값은 0으로 대체(해가 뜨지 않은 것으로 확실시 되는 시간)\n",
    "2. 나머지시간은 해당 시간의 모든 구 일조량 평균/중앙값 등으로 대체하려고 했으나, 서울 통합 데이터에서 가져와서 해당 시간 값 모두 null임. 따라서, 나머지 시간 null 값 0으로 처리\""
   ]
  },
  {
   "cell_type": "code",
   "execution_count": 9,
   "metadata": {
    "ExecuteTime": {
     "end_time": "2020-07-03T00:23:53.271687Z",
     "start_time": "2020-07-03T00:23:53.168961Z"
    }
   },
   "outputs": [
    {
     "data": {
      "text/plain": [
       "2018-06-11 03:00    24\n",
       "2018-03-03 02:00    24\n",
       "2017-04-02 00:00    24\n",
       "2017-07-18 00:00    24\n",
       "2017-12-06 19:00    24\n",
       "                    ..\n",
       "2018-11-24 23:00    20\n",
       "2018-11-24 22:00    20\n",
       "2018-11-24 19:00    20\n",
       "2018-06-04 21:00    17\n",
       "2018-06-04 22:00    17\n",
       "Name: 일시, Length: 11963, dtype: int64"
      ]
     },
     "execution_count": 9,
     "metadata": {},
     "output_type": "execute_result"
    }
   ],
   "source": [
    "tmp_w2[tmp_w2['일조(hr)'].isnull()]['일시'].value_counts()"
   ]
  },
  {
   "cell_type": "code",
   "execution_count": null,
   "metadata": {},
   "outputs": [],
   "source": []
  },
  {
   "cell_type": "code",
   "execution_count": 10,
   "metadata": {
    "ExecuteTime": {
     "end_time": "2020-07-03T00:25:58.504250Z",
     "start_time": "2020-07-03T00:25:58.499294Z"
    }
   },
   "outputs": [],
   "source": [
    "import datetime"
   ]
  },
  {
   "cell_type": "code",
   "execution_count": 13,
   "metadata": {
    "ExecuteTime": {
     "end_time": "2020-07-03T00:26:52.324106Z",
     "start_time": "2020-07-03T00:26:51.914148Z"
    }
   },
   "outputs": [],
   "source": [
    "tmp_w2['일시'] = pd.to_datetime(tmp_w2['일시'])\n",
    "tmp_w2['시간'] = tmp_w2['일시'].dt.time"
   ]
  },
  {
   "cell_type": "code",
   "execution_count": 23,
   "metadata": {
    "ExecuteTime": {
     "end_time": "2020-07-03T00:29:49.849442Z",
     "start_time": "2020-07-03T00:29:49.829446Z"
    }
   },
   "outputs": [
    {
     "data": {
      "text/html": [
       "<div>\n",
       "<style scoped>\n",
       "    .dataframe tbody tr th:only-of-type {\n",
       "        vertical-align: middle;\n",
       "    }\n",
       "\n",
       "    .dataframe tbody tr th {\n",
       "        vertical-align: top;\n",
       "    }\n",
       "\n",
       "    .dataframe thead th {\n",
       "        text-align: right;\n",
       "    }\n",
       "</style>\n",
       "<table border=\"1\" class=\"dataframe\">\n",
       "  <thead>\n",
       "    <tr style=\"text-align: right;\">\n",
       "      <th></th>\n",
       "      <th>지점</th>\n",
       "      <th>지점명</th>\n",
       "      <th>일시</th>\n",
       "      <th>기온</th>\n",
       "      <th>풍속(m/s)</th>\n",
       "      <th>강수량(mm)</th>\n",
       "      <th>습도(%)</th>\n",
       "      <th>일조(hr)</th>\n",
       "      <th>적설(cm)</th>\n",
       "      <th>전운량(10분위)</th>\n",
       "      <th>주소</th>\n",
       "      <th>구</th>\n",
       "      <th>눈내림</th>\n",
       "      <th>눈내림2</th>\n",
       "      <th>시간</th>\n",
       "    </tr>\n",
       "  </thead>\n",
       "  <tbody>\n",
       "    <tr>\n",
       "      <th>0</th>\n",
       "      <td>400</td>\n",
       "      <td>강남</td>\n",
       "      <td>2017-01-01 00:00:00</td>\n",
       "      <td>1.7</td>\n",
       "      <td>1.3</td>\n",
       "      <td>0.0</td>\n",
       "      <td>79.0</td>\n",
       "      <td>NaN</td>\n",
       "      <td>NaN</td>\n",
       "      <td>7.0</td>\n",
       "      <td>서울특별시 강남구 일원동</td>\n",
       "      <td>강남구</td>\n",
       "      <td>5</td>\n",
       "      <td>0</td>\n",
       "      <td>00:00:00</td>\n",
       "    </tr>\n",
       "    <tr>\n",
       "      <th>1</th>\n",
       "      <td>400</td>\n",
       "      <td>강남</td>\n",
       "      <td>2017-01-01 01:00:00</td>\n",
       "      <td>1.4</td>\n",
       "      <td>1.3</td>\n",
       "      <td>0.0</td>\n",
       "      <td>78.0</td>\n",
       "      <td>NaN</td>\n",
       "      <td>NaN</td>\n",
       "      <td>NaN</td>\n",
       "      <td>서울특별시 강남구 일원동</td>\n",
       "      <td>강남구</td>\n",
       "      <td>0</td>\n",
       "      <td>0</td>\n",
       "      <td>01:00:00</td>\n",
       "    </tr>\n",
       "    <tr>\n",
       "      <th>2</th>\n",
       "      <td>400</td>\n",
       "      <td>강남</td>\n",
       "      <td>2017-01-01 02:00:00</td>\n",
       "      <td>1.2</td>\n",
       "      <td>1.6</td>\n",
       "      <td>0.0</td>\n",
       "      <td>81.0</td>\n",
       "      <td>NaN</td>\n",
       "      <td>NaN</td>\n",
       "      <td>NaN</td>\n",
       "      <td>서울특별시 강남구 일원동</td>\n",
       "      <td>강남구</td>\n",
       "      <td>0</td>\n",
       "      <td>0</td>\n",
       "      <td>02:00:00</td>\n",
       "    </tr>\n",
       "    <tr>\n",
       "      <th>3</th>\n",
       "      <td>400</td>\n",
       "      <td>강남</td>\n",
       "      <td>2017-01-01 03:00:00</td>\n",
       "      <td>0.5</td>\n",
       "      <td>1.5</td>\n",
       "      <td>0.0</td>\n",
       "      <td>84.0</td>\n",
       "      <td>NaN</td>\n",
       "      <td>NaN</td>\n",
       "      <td>0.0</td>\n",
       "      <td>서울특별시 강남구 일원동</td>\n",
       "      <td>강남구</td>\n",
       "      <td>0</td>\n",
       "      <td>0</td>\n",
       "      <td>03:00:00</td>\n",
       "    </tr>\n",
       "    <tr>\n",
       "      <th>4</th>\n",
       "      <td>400</td>\n",
       "      <td>강남</td>\n",
       "      <td>2017-01-01 04:00:00</td>\n",
       "      <td>0.6</td>\n",
       "      <td>0.5</td>\n",
       "      <td>0.0</td>\n",
       "      <td>85.0</td>\n",
       "      <td>NaN</td>\n",
       "      <td>NaN</td>\n",
       "      <td>0.0</td>\n",
       "      <td>서울특별시 강남구 일원동</td>\n",
       "      <td>강남구</td>\n",
       "      <td>0</td>\n",
       "      <td>0</td>\n",
       "      <td>04:00:00</td>\n",
       "    </tr>\n",
       "  </tbody>\n",
       "</table>\n",
       "</div>"
      ],
      "text/plain": [
       "    지점 지점명                  일시   기온  풍속(m/s)  강수량(mm)  습도(%)  일조(hr)  적설(cm)  \\\n",
       "0  400  강남 2017-01-01 00:00:00  1.7      1.3      0.0   79.0     NaN     NaN   \n",
       "1  400  강남 2017-01-01 01:00:00  1.4      1.3      0.0   78.0     NaN     NaN   \n",
       "2  400  강남 2017-01-01 02:00:00  1.2      1.6      0.0   81.0     NaN     NaN   \n",
       "3  400  강남 2017-01-01 03:00:00  0.5      1.5      0.0   84.0     NaN     NaN   \n",
       "4  400  강남 2017-01-01 04:00:00  0.6      0.5      0.0   85.0     NaN     NaN   \n",
       "\n",
       "   전운량(10분위)             주소    구  눈내림  눈내림2        시간  \n",
       "0        7.0  서울특별시 강남구 일원동  강남구    5     0  00:00:00  \n",
       "1        NaN  서울특별시 강남구 일원동  강남구    0     0  01:00:00  \n",
       "2        NaN  서울특별시 강남구 일원동  강남구    0     0  02:00:00  \n",
       "3        0.0  서울특별시 강남구 일원동  강남구    0     0  03:00:00  \n",
       "4        0.0  서울특별시 강남구 일원동  강남구    0     0  04:00:00  "
      ]
     },
     "execution_count": 23,
     "metadata": {},
     "output_type": "execute_result"
    }
   ],
   "source": [
    "tmp_w2.head()"
   ]
  },
  {
   "cell_type": "code",
   "execution_count": 27,
   "metadata": {
    "ExecuteTime": {
     "end_time": "2020-07-03T00:33:03.102610Z",
     "start_time": "2020-07-03T00:33:03.012851Z"
    }
   },
   "outputs": [
    {
     "data": {
      "text/plain": [
       "23:00:00    26215\n",
       "21:00:00    26213\n",
       "22:00:00    26211\n",
       "01:00:00    26210\n",
       "00:00:00    26210\n",
       "02:00:00    26206\n",
       "03:00:00    26205\n",
       "04:00:00    26204\n",
       "05:00:00    26200\n",
       "06:00:00    16362\n",
       "20:00:00    15586\n",
       "07:00:00     8713\n",
       "19:00:00     8426\n",
       "17:00:00      190\n",
       "15:00:00      190\n",
       "12:00:00      168\n",
       "16:00:00      166\n",
       "13:00:00      144\n",
       "14:00:00      119\n",
       "11:00:00       96\n",
       "18:00:00       95\n",
       "08:00:00       72\n",
       "09:00:00       72\n",
       "10:00:00       48\n",
       "Name: 시간, dtype: int64"
      ]
     },
     "execution_count": 27,
     "metadata": {},
     "output_type": "execute_result"
    }
   ],
   "source": [
    "tmp_w2[tmp_w2['일조(hr)'].isnull()]['시간'].value_counts()"
   ]
  },
  {
   "cell_type": "code",
   "execution_count": 33,
   "metadata": {
    "ExecuteTime": {
     "end_time": "2020-07-03T00:36:21.508159Z",
     "start_time": "2020-07-03T00:36:20.920129Z"
    }
   },
   "outputs": [],
   "source": [
    "tmp_w2['시간'] = tmp_w2['시간'].astype(str)"
   ]
  },
  {
   "cell_type": "markdown",
   "metadata": {},
   "source": [
    "### 21:00:00~23:00:00, 00:00:00 ~ 05:00:00: null 값 0으로 처리"
   ]
  },
  {
   "cell_type": "code",
   "execution_count": 61,
   "metadata": {
    "ExecuteTime": {
     "end_time": "2020-07-03T00:50:34.622626Z",
     "start_time": "2020-07-03T00:50:34.609662Z"
    }
   },
   "outputs": [
    {
     "data": {
      "text/html": [
       "<div>\n",
       "<style scoped>\n",
       "    .dataframe tbody tr th:only-of-type {\n",
       "        vertical-align: middle;\n",
       "    }\n",
       "\n",
       "    .dataframe tbody tr th {\n",
       "        vertical-align: top;\n",
       "    }\n",
       "\n",
       "    .dataframe thead th {\n",
       "        text-align: right;\n",
       "    }\n",
       "</style>\n",
       "<table border=\"1\" class=\"dataframe\">\n",
       "  <thead>\n",
       "    <tr style=\"text-align: right;\">\n",
       "      <th></th>\n",
       "      <th>일조(hr)</th>\n",
       "    </tr>\n",
       "  </thead>\n",
       "  <tbody>\n",
       "    <tr>\n",
       "      <th>21</th>\n",
       "      <td>True</td>\n",
       "    </tr>\n",
       "    <tr>\n",
       "      <th>22</th>\n",
       "      <td>True</td>\n",
       "    </tr>\n",
       "    <tr>\n",
       "      <th>23</th>\n",
       "      <td>True</td>\n",
       "    </tr>\n",
       "    <tr>\n",
       "      <th>45</th>\n",
       "      <td>True</td>\n",
       "    </tr>\n",
       "    <tr>\n",
       "      <th>46</th>\n",
       "      <td>True</td>\n",
       "    </tr>\n",
       "    <tr>\n",
       "      <th>...</th>\n",
       "      <td>...</td>\n",
       "    </tr>\n",
       "    <tr>\n",
       "      <th>628856</th>\n",
       "      <td>True</td>\n",
       "    </tr>\n",
       "    <tr>\n",
       "      <th>628857</th>\n",
       "      <td>True</td>\n",
       "    </tr>\n",
       "    <tr>\n",
       "      <th>628879</th>\n",
       "      <td>True</td>\n",
       "    </tr>\n",
       "    <tr>\n",
       "      <th>628880</th>\n",
       "      <td>True</td>\n",
       "    </tr>\n",
       "    <tr>\n",
       "      <th>628881</th>\n",
       "      <td>True</td>\n",
       "    </tr>\n",
       "  </tbody>\n",
       "</table>\n",
       "<p>78639 rows × 1 columns</p>\n",
       "</div>"
      ],
      "text/plain": [
       "        일조(hr)\n",
       "21        True\n",
       "22        True\n",
       "23        True\n",
       "45        True\n",
       "46        True\n",
       "...        ...\n",
       "628856    True\n",
       "628857    True\n",
       "628879    True\n",
       "628880    True\n",
       "628881    True\n",
       "\n",
       "[78639 rows x 1 columns]"
      ]
     },
     "execution_count": 61,
     "metadata": {},
     "output_type": "execute_result"
    }
   ],
   "source": [
    "a= tmp_w2[tmp_w2['시간'] >= '21:00:00']['일조(hr)'].isnull()\n",
    "a = pd.DataFrame(a)\n",
    "a"
   ]
  },
  {
   "cell_type": "code",
   "execution_count": 62,
   "metadata": {
    "ExecuteTime": {
     "end_time": "2020-07-03T00:50:35.686810Z",
     "start_time": "2020-07-03T00:50:35.675838Z"
    }
   },
   "outputs": [
    {
     "data": {
      "text/plain": [
       "Int64Index([    21,     22,     23,     45,     46,     47,     69,     70,\n",
       "                71,     93,\n",
       "            ...\n",
       "            628809, 628831, 628832, 628833, 628855, 628856, 628857, 628879,\n",
       "            628880, 628881],\n",
       "           dtype='int64', length=78639)"
      ]
     },
     "execution_count": 62,
     "metadata": {},
     "output_type": "execute_result"
    }
   ],
   "source": [
    "index_num = a[a['일조(hr)'] == True].index\n",
    "index_num"
   ]
  },
  {
   "cell_type": "code",
   "execution_count": 63,
   "metadata": {
    "ExecuteTime": {
     "end_time": "2020-07-03T01:00:52.743490Z",
     "start_time": "2020-07-03T00:51:03.783879Z"
    }
   },
   "outputs": [],
   "source": [
    "for i in index_num:\n",
    "    tmp_w2.loc[i, '일조(hr)'] = 0"
   ]
  },
  {
   "cell_type": "code",
   "execution_count": 64,
   "metadata": {
    "ExecuteTime": {
     "end_time": "2020-07-03T01:04:46.009960Z",
     "start_time": "2020-07-03T01:04:45.926185Z"
    }
   },
   "outputs": [
    {
     "data": {
      "text/plain": [
       "0.0    78639\n",
       "Name: 일조(hr), dtype: int64"
      ]
     },
     "execution_count": 64,
     "metadata": {},
     "output_type": "execute_result"
    }
   ],
   "source": [
    "tmp_w2[tmp_w2['시간'] >= '21:00:00']['일조(hr)'].value_counts()"
   ]
  },
  {
   "cell_type": "markdown",
   "metadata": {},
   "source": [
    "### 0~5와 나머지 시간도 0으로 처리\n",
    "-평균, 중앙값도 어처피 다 nan임"
   ]
  },
  {
   "cell_type": "code",
   "execution_count": 92,
   "metadata": {
    "ExecuteTime": {
     "end_time": "2020-07-03T01:24:36.736397Z",
     "start_time": "2020-07-03T01:24:36.722436Z"
    }
   },
   "outputs": [
    {
     "data": {
      "text/html": [
       "<div>\n",
       "<style scoped>\n",
       "    .dataframe tbody tr th:only-of-type {\n",
       "        vertical-align: middle;\n",
       "    }\n",
       "\n",
       "    .dataframe tbody tr th {\n",
       "        vertical-align: top;\n",
       "    }\n",
       "\n",
       "    .dataframe thead th {\n",
       "        text-align: right;\n",
       "    }\n",
       "</style>\n",
       "<table border=\"1\" class=\"dataframe\">\n",
       "  <thead>\n",
       "    <tr style=\"text-align: right;\">\n",
       "      <th></th>\n",
       "      <th>일조(hr)</th>\n",
       "    </tr>\n",
       "  </thead>\n",
       "  <tbody>\n",
       "    <tr>\n",
       "      <th>0</th>\n",
       "      <td>True</td>\n",
       "    </tr>\n",
       "    <tr>\n",
       "      <th>1</th>\n",
       "      <td>True</td>\n",
       "    </tr>\n",
       "    <tr>\n",
       "      <th>2</th>\n",
       "      <td>True</td>\n",
       "    </tr>\n",
       "    <tr>\n",
       "      <th>3</th>\n",
       "      <td>True</td>\n",
       "    </tr>\n",
       "    <tr>\n",
       "      <th>4</th>\n",
       "      <td>True</td>\n",
       "    </tr>\n",
       "    <tr>\n",
       "      <th>...</th>\n",
       "      <td>...</td>\n",
       "    </tr>\n",
       "    <tr>\n",
       "      <th>628859</th>\n",
       "      <td>True</td>\n",
       "    </tr>\n",
       "    <tr>\n",
       "      <th>628860</th>\n",
       "      <td>True</td>\n",
       "    </tr>\n",
       "    <tr>\n",
       "      <th>628861</th>\n",
       "      <td>True</td>\n",
       "    </tr>\n",
       "    <tr>\n",
       "      <th>628862</th>\n",
       "      <td>True</td>\n",
       "    </tr>\n",
       "    <tr>\n",
       "      <th>628863</th>\n",
       "      <td>True</td>\n",
       "    </tr>\n",
       "  </tbody>\n",
       "</table>\n",
       "<p>157235 rows × 1 columns</p>\n",
       "</div>"
      ],
      "text/plain": [
       "        일조(hr)\n",
       "0         True\n",
       "1         True\n",
       "2         True\n",
       "3         True\n",
       "4         True\n",
       "...        ...\n",
       "628859    True\n",
       "628860    True\n",
       "628861    True\n",
       "628862    True\n",
       "628863    True\n",
       "\n",
       "[157235 rows x 1 columns]"
      ]
     },
     "execution_count": 92,
     "metadata": {},
     "output_type": "execute_result"
    }
   ],
   "source": [
    "a= tmp_w2[tmp_w2['시간'] <= '05:00:00']['일조(hr)'].isnull()\n",
    "a = pd.DataFrame(a)\n",
    "a"
   ]
  },
  {
   "cell_type": "code",
   "execution_count": 93,
   "metadata": {
    "ExecuteTime": {
     "end_time": "2020-07-03T01:24:44.028635Z",
     "start_time": "2020-07-03T01:24:44.015670Z"
    }
   },
   "outputs": [
    {
     "data": {
      "text/plain": [
       "Int64Index([     0,      1,      2,      3,      4,      5,     24,     25,\n",
       "                26,     27,\n",
       "            ...\n",
       "            628836, 628837, 628838, 628839, 628858, 628859, 628860, 628861,\n",
       "            628862, 628863],\n",
       "           dtype='int64', length=157235)"
      ]
     },
     "execution_count": 93,
     "metadata": {},
     "output_type": "execute_result"
    }
   ],
   "source": [
    "index_num2 = a[a['일조(hr)'] == True].index\n",
    "index_num2"
   ]
  },
  {
   "cell_type": "code",
   "execution_count": 102,
   "metadata": {
    "ExecuteTime": {
     "end_time": "2020-07-03T01:29:44.368390Z",
     "start_time": "2020-07-03T01:29:44.281623Z"
    },
    "scrolled": true
   },
   "outputs": [
    {
     "data": {
      "text/plain": [
       "0.0    157235\n",
       "Name: 일조(hr), dtype: int64"
      ]
     },
     "execution_count": 102,
     "metadata": {},
     "output_type": "execute_result"
    }
   ],
   "source": [
    "tmp_w2.loc[tmp_w2['시간'] <= '05:00:00', '일조(hr)'] = 0\n",
    "tmp_w2[tmp_w2['시간'] <= '05:00:00']['일조(hr)'].value_counts()"
   ]
  },
  {
   "cell_type": "code",
   "execution_count": 117,
   "metadata": {
    "ExecuteTime": {
     "end_time": "2020-07-03T01:52:03.768029Z",
     "start_time": "2020-07-03T01:52:03.752407Z"
    }
   },
   "outputs": [],
   "source": [
    "sun_day['평균'] = 0"
   ]
  },
  {
   "cell_type": "code",
   "execution_count": 133,
   "metadata": {
    "ExecuteTime": {
     "end_time": "2020-07-03T02:14:19.809533Z",
     "start_time": "2020-07-03T02:14:19.801520Z"
    }
   },
   "outputs": [
    {
     "data": {
      "text/plain": [
       "50447"
      ]
     },
     "execution_count": 133,
     "metadata": {},
     "output_type": "execute_result"
    }
   ],
   "source": [
    "tmp_w2['일조(hr)'].isnull().sum()"
   ]
  },
  {
   "cell_type": "code",
   "execution_count": 136,
   "metadata": {
    "ExecuteTime": {
     "end_time": "2020-07-03T02:18:20.562002Z",
     "start_time": "2020-07-03T02:18:20.545021Z"
    }
   },
   "outputs": [],
   "source": [
    "tmp_w2.loc[tmp_w2['일조(hr)'].isnull(), '일조(hr)'] = 0"
   ]
  },
  {
   "cell_type": "code",
   "execution_count": 137,
   "metadata": {
    "ExecuteTime": {
     "end_time": "2020-07-03T02:18:25.169106Z",
     "start_time": "2020-07-03T02:18:25.160129Z"
    }
   },
   "outputs": [
    {
     "data": {
      "text/plain": [
       "0"
      ]
     },
     "execution_count": 137,
     "metadata": {},
     "output_type": "execute_result"
    }
   ],
   "source": [
    "tmp_w2['일조(hr)'].isnull().sum()"
   ]
  },
  {
   "cell_type": "markdown",
   "metadata": {},
   "source": [
    "## 적설 결측값 처리와 일별/시간별 눈옴 여부 특성 생성"
   ]
  },
  {
   "cell_type": "code",
   "execution_count": 136,
   "metadata": {
    "ExecuteTime": {
     "end_time": "2020-07-03T02:18:20.562002Z",
     "start_time": "2020-07-03T02:18:20.545021Z"
    }
   },
   "outputs": [],
   "source": [
    "tmp_w2.loc[tmp_w2['적설(cm)'].isnull(), '적설(cm)'] = 0"
   ]
  },
  {
   "cell_type": "code",
   "execution_count": null,
   "metadata": {},
   "outputs": [],
   "source": [
    "tmp_w2.loc[tmp_w2['적설(cm)'].isnull(), '적설(cm)'] = 0"
   ]
  },
  {
   "cell_type": "markdown",
   "metadata": {},
   "source": [
    "### 시간별 눈내림 여부 - 눈옴: 1, 안옴: 0"
   ]
  },
  {
   "cell_type": "code",
   "execution_count": null,
   "metadata": {},
   "outputs": [],
   "source": []
  },
  {
   "cell_type": "code",
   "execution_count": 335,
   "metadata": {
    "ExecuteTime": {
     "end_time": "2020-07-02T07:48:56.609798Z",
     "start_time": "2020-07-02T07:48:56.599824Z"
    }
   },
   "outputs": [],
   "source": [
    "tmp_w['눈내림'] = ''"
   ]
  },
  {
   "cell_type": "code",
   "execution_count": 339,
   "metadata": {
    "ExecuteTime": {
     "end_time": "2020-07-02T07:55:01.487231Z",
     "start_time": "2020-07-02T07:55:01.474301Z"
    }
   },
   "outputs": [
    {
     "data": {
      "text/plain": [
       "Int64Index([   266,    267,    268,    269,    270,    271,    297,    298,\n",
       "               299,    300,\n",
       "            ...\n",
       "            628025, 628026, 628027, 628434, 628435, 628436, 628437, 628438,\n",
       "            628439, 628508],\n",
       "           dtype='int64', length=18691)"
      ]
     },
     "execution_count": 339,
     "metadata": {},
     "output_type": "execute_result"
    }
   ],
   "source": [
    "index_9 = tmp_w[tmp_w['적설(cm)'] > 0].index\n",
    "index_9"
   ]
  },
  {
   "cell_type": "code",
   "execution_count": 340,
   "metadata": {
    "ExecuteTime": {
     "end_time": "2020-07-02T07:59:39.388498Z",
     "start_time": "2020-07-02T07:56:08.110041Z"
    }
   },
   "outputs": [],
   "source": [
    "for i in index_9:\n",
    "    tmp_w.loc[i, '눈내림'] = 1"
   ]
  },
  {
   "cell_type": "code",
   "execution_count": 352,
   "metadata": {
    "ExecuteTime": {
     "end_time": "2020-07-02T08:02:11.070018Z",
     "start_time": "2020-07-02T08:02:11.003195Z"
    }
   },
   "outputs": [
    {
     "data": {
      "text/plain": [
       "     610191\n",
       "1     18691\n",
       "Name: 눈내림, dtype: int64"
      ]
     },
     "execution_count": 352,
     "metadata": {},
     "output_type": "execute_result"
    }
   ],
   "source": [
    "tmp_w['눈내림'].value_counts()"
   ]
  },
  {
   "cell_type": "code",
   "execution_count": 355,
   "metadata": {
    "ExecuteTime": {
     "end_time": "2020-07-02T08:05:03.992934Z",
     "start_time": "2020-07-02T08:05:03.927111Z"
    }
   },
   "outputs": [],
   "source": [
    "tmp_w.loc[tmp_w['눈내림'] == '', '눈내림'] = 0"
   ]
  },
  {
   "cell_type": "code",
   "execution_count": 357,
   "metadata": {
    "ExecuteTime": {
     "end_time": "2020-07-02T08:05:11.292754Z",
     "start_time": "2020-07-02T08:05:11.224904Z"
    }
   },
   "outputs": [
    {
     "data": {
      "text/plain": [
       "0    610191\n",
       "1     18691\n",
       "Name: 눈내림, dtype: int64"
      ]
     },
     "execution_count": 357,
     "metadata": {},
     "output_type": "execute_result"
    }
   ],
   "source": [
    "tmp_w['눈내림'].value_counts()"
   ]
  },
  {
   "cell_type": "markdown",
   "metadata": {},
   "source": [
    "### 일별 눈내림 여부 - 눈옴: 1, 안옴: 0"
   ]
  },
  {
   "cell_type": "code",
   "execution_count": 358,
   "metadata": {
    "ExecuteTime": {
     "end_time": "2020-07-02T08:10:53.965493Z",
     "start_time": "2020-07-02T08:10:53.953561Z"
    }
   },
   "outputs": [],
   "source": [
    "tmp_w['눈내림2'] = ''"
   ]
  },
  {
   "cell_type": "code",
   "execution_count": 371,
   "metadata": {
    "ExecuteTime": {
     "end_time": "2020-07-02T08:20:59.638721Z",
     "start_time": "2020-07-02T08:20:59.621752Z"
    }
   },
   "outputs": [],
   "source": [
    "s = tmp_w[tmp_w['적설(cm)'] > 0]['일시'].value_counts()\n",
    "ss = s.index"
   ]
  },
  {
   "cell_type": "code",
   "execution_count": 375,
   "metadata": {
    "ExecuteTime": {
     "end_time": "2020-07-02T08:21:25.555044Z",
     "start_time": "2020-07-02T08:21:25.549095Z"
    }
   },
   "outputs": [
    {
     "data": {
      "text/plain": [
       "'2017-01-22'"
      ]
     },
     "execution_count": 375,
     "metadata": {},
     "output_type": "execute_result"
    }
   ],
   "source": [
    "ss[0][:10]"
   ]
  },
  {
   "cell_type": "code",
   "execution_count": 376,
   "metadata": {
    "ExecuteTime": {
     "end_time": "2020-07-02T08:22:13.689382Z",
     "start_time": "2020-07-02T08:22:13.683397Z"
    }
   },
   "outputs": [],
   "source": [
    "list1 = []\n",
    "for i in ss:\n",
    "    list1.append(i[:10])"
   ]
  },
  {
   "cell_type": "code",
   "execution_count": 385,
   "metadata": {
    "ExecuteTime": {
     "end_time": "2020-07-02T08:26:52.065253Z",
     "start_time": "2020-07-02T08:26:31.587764Z"
    }
   },
   "outputs": [],
   "source": [
    "for i in list1:\n",
    "    tmp_w.loc[tmp_w['일시'].str.contains(i), '눈내림2'] = 1"
   ]
  },
  {
   "cell_type": "code",
   "execution_count": 386,
   "metadata": {
    "ExecuteTime": {
     "end_time": "2020-07-02T08:27:05.237231Z",
     "start_time": "2020-07-02T08:27:05.166419Z"
    }
   },
   "outputs": [
    {
     "data": {
      "text/plain": [
       "     599628\n",
       "1     29254\n",
       "Name: 눈내림2, dtype: int64"
      ]
     },
     "execution_count": 386,
     "metadata": {},
     "output_type": "execute_result"
    }
   ],
   "source": [
    "tmp_w['눈내림2'].value_counts()"
   ]
  },
  {
   "cell_type": "code",
   "execution_count": 387,
   "metadata": {
    "ExecuteTime": {
     "end_time": "2020-07-02T08:27:17.174685Z",
     "start_time": "2020-07-02T08:27:17.117839Z"
    }
   },
   "outputs": [],
   "source": [
    "tmp_w.loc[tmp_w['눈내림2'] == '', '눈내림2'] = 0"
   ]
  },
  {
   "cell_type": "code",
   "execution_count": 388,
   "metadata": {
    "ExecuteTime": {
     "end_time": "2020-07-02T08:27:20.019797Z",
     "start_time": "2020-07-02T08:27:19.954968Z"
    }
   },
   "outputs": [
    {
     "data": {
      "text/plain": [
       "0    599628\n",
       "1     29254\n",
       "Name: 눈내림2, dtype: int64"
      ]
     },
     "execution_count": 388,
     "metadata": {},
     "output_type": "execute_result"
    }
   ],
   "source": [
    "tmp_w['눈내림2'].value_counts()"
   ]
  },
  {
   "cell_type": "code",
   "execution_count": 389,
   "metadata": {
    "ExecuteTime": {
     "end_time": "2020-07-02T08:27:51.287188Z",
     "start_time": "2020-07-02T08:27:51.262252Z"
    }
   },
   "outputs": [
    {
     "data": {
      "text/html": [
       "<div>\n",
       "<style scoped>\n",
       "    .dataframe tbody tr th:only-of-type {\n",
       "        vertical-align: middle;\n",
       "    }\n",
       "\n",
       "    .dataframe tbody tr th {\n",
       "        vertical-align: top;\n",
       "    }\n",
       "\n",
       "    .dataframe thead th {\n",
       "        text-align: right;\n",
       "    }\n",
       "</style>\n",
       "<table border=\"1\" class=\"dataframe\">\n",
       "  <thead>\n",
       "    <tr style=\"text-align: right;\">\n",
       "      <th></th>\n",
       "      <th>지점</th>\n",
       "      <th>지점명</th>\n",
       "      <th>일시</th>\n",
       "      <th>기온</th>\n",
       "      <th>풍속(m/s)</th>\n",
       "      <th>강수량(mm)</th>\n",
       "      <th>습도(%)</th>\n",
       "      <th>일조(hr)</th>\n",
       "      <th>적설(cm)</th>\n",
       "      <th>전운량(10분위)</th>\n",
       "      <th>주소</th>\n",
       "      <th>구</th>\n",
       "      <th>눈내림</th>\n",
       "      <th>눈내림2</th>\n",
       "    </tr>\n",
       "  </thead>\n",
       "  <tbody>\n",
       "    <tr>\n",
       "      <th>0</th>\n",
       "      <td>400</td>\n",
       "      <td>강남</td>\n",
       "      <td>2017-01-01 00:00</td>\n",
       "      <td>1.7</td>\n",
       "      <td>1.3</td>\n",
       "      <td>0.0</td>\n",
       "      <td>79.0</td>\n",
       "      <td>NaN</td>\n",
       "      <td>NaN</td>\n",
       "      <td>7.0</td>\n",
       "      <td>서울특별시 강남구 일원동</td>\n",
       "      <td>강남구</td>\n",
       "      <td>0</td>\n",
       "      <td>0</td>\n",
       "    </tr>\n",
       "    <tr>\n",
       "      <th>1</th>\n",
       "      <td>400</td>\n",
       "      <td>강남</td>\n",
       "      <td>2017-01-01 01:00</td>\n",
       "      <td>1.4</td>\n",
       "      <td>1.3</td>\n",
       "      <td>0.0</td>\n",
       "      <td>78.0</td>\n",
       "      <td>NaN</td>\n",
       "      <td>NaN</td>\n",
       "      <td>NaN</td>\n",
       "      <td>서울특별시 강남구 일원동</td>\n",
       "      <td>강남구</td>\n",
       "      <td>0</td>\n",
       "      <td>0</td>\n",
       "    </tr>\n",
       "    <tr>\n",
       "      <th>2</th>\n",
       "      <td>400</td>\n",
       "      <td>강남</td>\n",
       "      <td>2017-01-01 02:00</td>\n",
       "      <td>1.2</td>\n",
       "      <td>1.6</td>\n",
       "      <td>0.0</td>\n",
       "      <td>81.0</td>\n",
       "      <td>NaN</td>\n",
       "      <td>NaN</td>\n",
       "      <td>NaN</td>\n",
       "      <td>서울특별시 강남구 일원동</td>\n",
       "      <td>강남구</td>\n",
       "      <td>0</td>\n",
       "      <td>0</td>\n",
       "    </tr>\n",
       "    <tr>\n",
       "      <th>3</th>\n",
       "      <td>400</td>\n",
       "      <td>강남</td>\n",
       "      <td>2017-01-01 03:00</td>\n",
       "      <td>0.5</td>\n",
       "      <td>1.5</td>\n",
       "      <td>0.0</td>\n",
       "      <td>84.0</td>\n",
       "      <td>NaN</td>\n",
       "      <td>NaN</td>\n",
       "      <td>0.0</td>\n",
       "      <td>서울특별시 강남구 일원동</td>\n",
       "      <td>강남구</td>\n",
       "      <td>0</td>\n",
       "      <td>0</td>\n",
       "    </tr>\n",
       "    <tr>\n",
       "      <th>4</th>\n",
       "      <td>400</td>\n",
       "      <td>강남</td>\n",
       "      <td>2017-01-01 04:00</td>\n",
       "      <td>0.6</td>\n",
       "      <td>0.5</td>\n",
       "      <td>0.0</td>\n",
       "      <td>85.0</td>\n",
       "      <td>NaN</td>\n",
       "      <td>NaN</td>\n",
       "      <td>0.0</td>\n",
       "      <td>서울특별시 강남구 일원동</td>\n",
       "      <td>강남구</td>\n",
       "      <td>0</td>\n",
       "      <td>0</td>\n",
       "    </tr>\n",
       "  </tbody>\n",
       "</table>\n",
       "</div>"
      ],
      "text/plain": [
       "    지점 지점명                일시   기온  풍속(m/s)  강수량(mm)  습도(%)  일조(hr)  적설(cm)  \\\n",
       "0  400  강남  2017-01-01 00:00  1.7      1.3      0.0   79.0     NaN     NaN   \n",
       "1  400  강남  2017-01-01 01:00  1.4      1.3      0.0   78.0     NaN     NaN   \n",
       "2  400  강남  2017-01-01 02:00  1.2      1.6      0.0   81.0     NaN     NaN   \n",
       "3  400  강남  2017-01-01 03:00  0.5      1.5      0.0   84.0     NaN     NaN   \n",
       "4  400  강남  2017-01-01 04:00  0.6      0.5      0.0   85.0     NaN     NaN   \n",
       "\n",
       "   전운량(10분위)             주소    구 눈내림 눈내림2  \n",
       "0        7.0  서울특별시 강남구 일원동  강남구   0    0  \n",
       "1        NaN  서울특별시 강남구 일원동  강남구   0    0  \n",
       "2        NaN  서울특별시 강남구 일원동  강남구   0    0  \n",
       "3        0.0  서울특별시 강남구 일원동  강남구   0    0  \n",
       "4        0.0  서울특별시 강남구 일원동  강남구   0    0  "
      ]
     },
     "execution_count": 389,
     "metadata": {},
     "output_type": "execute_result"
    }
   ],
   "source": [
    "tmp_w.head()"
   ]
  },
  {
   "cell_type": "markdown",
   "metadata": {},
   "source": [
    "# 진현님이 결측값 처리한 '전운량(10분위)' data merge\n",
    "- 서울 통 데이터라, 구별 구분없이, '일시'기준으로만 매칭해서 merge하면됨!"
   ]
  },
  {
   "cell_type": "code",
   "execution_count": 5,
   "metadata": {
    "ExecuteTime": {
     "end_time": "2020-07-05T07:55:27.411449Z",
     "start_time": "2020-07-05T07:55:25.100629Z"
    }
   },
   "outputs": [
    {
     "data": {
      "text/html": [
       "<div>\n",
       "<style scoped>\n",
       "    .dataframe tbody tr th:only-of-type {\n",
       "        vertical-align: middle;\n",
       "    }\n",
       "\n",
       "    .dataframe tbody tr th {\n",
       "        vertical-align: top;\n",
       "    }\n",
       "\n",
       "    .dataframe thead th {\n",
       "        text-align: right;\n",
       "    }\n",
       "</style>\n",
       "<table border=\"1\" class=\"dataframe\">\n",
       "  <thead>\n",
       "    <tr style=\"text-align: right;\">\n",
       "      <th></th>\n",
       "      <th>Unnamed: 0</th>\n",
       "      <th>지점</th>\n",
       "      <th>지점명</th>\n",
       "      <th>일시</th>\n",
       "      <th>기온</th>\n",
       "      <th>풍속(m/s)</th>\n",
       "      <th>강수량(mm)</th>\n",
       "      <th>습도(%)</th>\n",
       "      <th>일조(hr)</th>\n",
       "      <th>적설(cm)</th>\n",
       "      <th>전운량(10분위)</th>\n",
       "      <th>주소</th>\n",
       "      <th>구</th>\n",
       "      <th>눈내림</th>\n",
       "      <th>눈내림2</th>\n",
       "    </tr>\n",
       "  </thead>\n",
       "  <tbody>\n",
       "    <tr>\n",
       "      <th>0</th>\n",
       "      <td>0</td>\n",
       "      <td>400</td>\n",
       "      <td>강남</td>\n",
       "      <td>2017-01-01 0:00</td>\n",
       "      <td>1.7</td>\n",
       "      <td>1.3</td>\n",
       "      <td>0.0</td>\n",
       "      <td>79.0</td>\n",
       "      <td>NaN</td>\n",
       "      <td>NaN</td>\n",
       "      <td>7.0</td>\n",
       "      <td>서울특별시 강남구 일원동</td>\n",
       "      <td>강남구</td>\n",
       "      <td>5</td>\n",
       "      <td>0</td>\n",
       "    </tr>\n",
       "    <tr>\n",
       "      <th>1</th>\n",
       "      <td>1</td>\n",
       "      <td>400</td>\n",
       "      <td>강남</td>\n",
       "      <td>2017-01-01 1:00</td>\n",
       "      <td>1.4</td>\n",
       "      <td>1.3</td>\n",
       "      <td>0.0</td>\n",
       "      <td>78.0</td>\n",
       "      <td>NaN</td>\n",
       "      <td>NaN</td>\n",
       "      <td>7.0</td>\n",
       "      <td>서울특별시 강남구 일원동</td>\n",
       "      <td>강남구</td>\n",
       "      <td>0</td>\n",
       "      <td>0</td>\n",
       "    </tr>\n",
       "    <tr>\n",
       "      <th>2</th>\n",
       "      <td>2</td>\n",
       "      <td>400</td>\n",
       "      <td>강남</td>\n",
       "      <td>2017-01-01 2:00</td>\n",
       "      <td>1.2</td>\n",
       "      <td>1.6</td>\n",
       "      <td>0.0</td>\n",
       "      <td>81.0</td>\n",
       "      <td>NaN</td>\n",
       "      <td>NaN</td>\n",
       "      <td>7.0</td>\n",
       "      <td>서울특별시 강남구 일원동</td>\n",
       "      <td>강남구</td>\n",
       "      <td>0</td>\n",
       "      <td>0</td>\n",
       "    </tr>\n",
       "    <tr>\n",
       "      <th>3</th>\n",
       "      <td>3</td>\n",
       "      <td>400</td>\n",
       "      <td>강남</td>\n",
       "      <td>2017-01-01 3:00</td>\n",
       "      <td>0.5</td>\n",
       "      <td>1.5</td>\n",
       "      <td>0.0</td>\n",
       "      <td>84.0</td>\n",
       "      <td>NaN</td>\n",
       "      <td>NaN</td>\n",
       "      <td>0.0</td>\n",
       "      <td>서울특별시 강남구 일원동</td>\n",
       "      <td>강남구</td>\n",
       "      <td>0</td>\n",
       "      <td>0</td>\n",
       "    </tr>\n",
       "    <tr>\n",
       "      <th>4</th>\n",
       "      <td>4</td>\n",
       "      <td>400</td>\n",
       "      <td>강남</td>\n",
       "      <td>2017-01-01 4:00</td>\n",
       "      <td>0.6</td>\n",
       "      <td>0.5</td>\n",
       "      <td>0.0</td>\n",
       "      <td>85.0</td>\n",
       "      <td>NaN</td>\n",
       "      <td>NaN</td>\n",
       "      <td>0.0</td>\n",
       "      <td>서울특별시 강남구 일원동</td>\n",
       "      <td>강남구</td>\n",
       "      <td>0</td>\n",
       "      <td>0</td>\n",
       "    </tr>\n",
       "  </tbody>\n",
       "</table>\n",
       "</div>"
      ],
      "text/plain": [
       "   Unnamed: 0   지점 지점명               일시   기온  풍속(m/s)  강수량(mm)  습도(%)  일조(hr)  \\\n",
       "0           0  400  강남  2017-01-01 0:00  1.7      1.3      0.0   79.0     NaN   \n",
       "1           1  400  강남  2017-01-01 1:00  1.4      1.3      0.0   78.0     NaN   \n",
       "2           2  400  강남  2017-01-01 2:00  1.2      1.6      0.0   81.0     NaN   \n",
       "3           3  400  강남  2017-01-01 3:00  0.5      1.5      0.0   84.0     NaN   \n",
       "4           4  400  강남  2017-01-01 4:00  0.6      0.5      0.0   85.0     NaN   \n",
       "\n",
       "   적설(cm)  전운량(10분위)             주소    구  눈내림  눈내림2  \n",
       "0     NaN        7.0  서울특별시 강남구 일원동  강남구    5     0  \n",
       "1     NaN        7.0  서울특별시 강남구 일원동  강남구    0     0  \n",
       "2     NaN        7.0  서울특별시 강남구 일원동  강남구    0     0  \n",
       "3     NaN        0.0  서울특별시 강남구 일원동  강남구    0     0  \n",
       "4     NaN        0.0  서울특별시 강남구 일원동  강남구    0     0  "
      ]
     },
     "execution_count": 5,
     "metadata": {},
     "output_type": "execute_result"
    }
   ],
   "source": [
    "w = pd.read_csv('w.csv', encoding = 'utf-8')\n",
    "w.head()"
   ]
  },
  {
   "cell_type": "code",
   "execution_count": 23,
   "metadata": {
    "ExecuteTime": {
     "end_time": "2020-07-05T11:44:56.463626Z",
     "start_time": "2020-07-05T11:44:56.450659Z"
    }
   },
   "outputs": [
    {
     "data": {
      "text/plain": [
       "(628882, 15)"
      ]
     },
     "execution_count": 23,
     "metadata": {},
     "output_type": "execute_result"
    }
   ],
   "source": [
    "w.shape"
   ]
  },
  {
   "cell_type": "code",
   "execution_count": 40,
   "metadata": {
    "ExecuteTime": {
     "end_time": "2020-07-05T11:54:29.317730Z",
     "start_time": "2020-07-05T11:54:29.213478Z"
    }
   },
   "outputs": [
    {
     "data": {
      "text/html": [
       "<div>\n",
       "<style scoped>\n",
       "    .dataframe tbody tr th:only-of-type {\n",
       "        vertical-align: middle;\n",
       "    }\n",
       "\n",
       "    .dataframe tbody tr th {\n",
       "        vertical-align: top;\n",
       "    }\n",
       "\n",
       "    .dataframe thead th {\n",
       "        text-align: right;\n",
       "    }\n",
       "</style>\n",
       "<table border=\"1\" class=\"dataframe\">\n",
       "  <thead>\n",
       "    <tr style=\"text-align: right;\">\n",
       "      <th></th>\n",
       "      <th>일시</th>\n",
       "      <th>전운량(10분위)</th>\n",
       "    </tr>\n",
       "  </thead>\n",
       "  <tbody>\n",
       "    <tr>\n",
       "      <th>0</th>\n",
       "      <td>2017-01-01 0:00</td>\n",
       "      <td>7.0</td>\n",
       "    </tr>\n",
       "    <tr>\n",
       "      <th>1</th>\n",
       "      <td>2017-01-01 1:00</td>\n",
       "      <td>7.0</td>\n",
       "    </tr>\n",
       "    <tr>\n",
       "      <th>2</th>\n",
       "      <td>2017-01-01 2:00</td>\n",
       "      <td>7.0</td>\n",
       "    </tr>\n",
       "    <tr>\n",
       "      <th>3</th>\n",
       "      <td>2017-01-01 3:00</td>\n",
       "      <td>0.0</td>\n",
       "    </tr>\n",
       "    <tr>\n",
       "      <th>4</th>\n",
       "      <td>2017-01-01 4:00</td>\n",
       "      <td>0.0</td>\n",
       "    </tr>\n",
       "  </tbody>\n",
       "</table>\n",
       "</div>"
      ],
      "text/plain": [
       "                일시  전운량(10분위)\n",
       "0  2017-01-01 0:00        7.0\n",
       "1  2017-01-01 1:00        7.0\n",
       "2  2017-01-01 2:00        7.0\n",
       "3  2017-01-01 3:00        0.0\n",
       "4  2017-01-01 4:00        0.0"
      ]
     },
     "execution_count": 40,
     "metadata": {},
     "output_type": "execute_result"
    }
   ],
   "source": [
    "w2 = w[['일시','전운량(10분위)']]\n",
    "w2.head()"
   ]
  },
  {
   "cell_type": "code",
   "execution_count": 41,
   "metadata": {
    "ExecuteTime": {
     "end_time": "2020-07-05T11:54:34.202140Z",
     "start_time": "2020-07-05T11:54:34.187178Z"
    }
   },
   "outputs": [
    {
     "data": {
      "text/html": [
       "<div>\n",
       "<style scoped>\n",
       "    .dataframe tbody tr th:only-of-type {\n",
       "        vertical-align: middle;\n",
       "    }\n",
       "\n",
       "    .dataframe tbody tr th {\n",
       "        vertical-align: top;\n",
       "    }\n",
       "\n",
       "    .dataframe thead th {\n",
       "        text-align: right;\n",
       "    }\n",
       "</style>\n",
       "<table border=\"1\" class=\"dataframe\">\n",
       "  <thead>\n",
       "    <tr style=\"text-align: right;\">\n",
       "      <th></th>\n",
       "      <th>일시</th>\n",
       "      <th>전운량(10분위)2</th>\n",
       "    </tr>\n",
       "  </thead>\n",
       "  <tbody>\n",
       "    <tr>\n",
       "      <th>0</th>\n",
       "      <td>2017-01-01 0:00</td>\n",
       "      <td>7.0</td>\n",
       "    </tr>\n",
       "    <tr>\n",
       "      <th>1</th>\n",
       "      <td>2017-01-01 1:00</td>\n",
       "      <td>7.0</td>\n",
       "    </tr>\n",
       "    <tr>\n",
       "      <th>2</th>\n",
       "      <td>2017-01-01 2:00</td>\n",
       "      <td>7.0</td>\n",
       "    </tr>\n",
       "    <tr>\n",
       "      <th>3</th>\n",
       "      <td>2017-01-01 3:00</td>\n",
       "      <td>0.0</td>\n",
       "    </tr>\n",
       "    <tr>\n",
       "      <th>4</th>\n",
       "      <td>2017-01-01 4:00</td>\n",
       "      <td>0.0</td>\n",
       "    </tr>\n",
       "  </tbody>\n",
       "</table>\n",
       "</div>"
      ],
      "text/plain": [
       "                일시  전운량(10분위)2\n",
       "0  2017-01-01 0:00         7.0\n",
       "1  2017-01-01 1:00         7.0\n",
       "2  2017-01-01 2:00         7.0\n",
       "3  2017-01-01 3:00         0.0\n",
       "4  2017-01-01 4:00         0.0"
      ]
     },
     "execution_count": 41,
     "metadata": {},
     "output_type": "execute_result"
    }
   ],
   "source": [
    "w2.columns = ['일시','전운량(10분위)2']\n",
    "w2.head()"
   ]
  },
  {
   "cell_type": "code",
   "execution_count": 46,
   "metadata": {
    "ExecuteTime": {
     "end_time": "2020-07-05T11:56:16.384780Z",
     "start_time": "2020-07-05T11:56:16.333921Z"
    }
   },
   "outputs": [
    {
     "data": {
      "text/plain": [
       "일시            0\n",
       "전운량(10분위)2    0\n",
       "dtype: int64"
      ]
     },
     "execution_count": 46,
     "metadata": {},
     "output_type": "execute_result"
    }
   ],
   "source": [
    "w2.isnull().sum()"
   ]
  },
  {
   "cell_type": "code",
   "execution_count": 13,
   "metadata": {
    "ExecuteTime": {
     "end_time": "2020-07-05T11:35:25.188528Z",
     "start_time": "2020-07-05T11:35:25.029572Z"
    }
   },
   "outputs": [
    {
     "data": {
      "text/html": [
       "<div>\n",
       "<style scoped>\n",
       "    .dataframe tbody tr th:only-of-type {\n",
       "        vertical-align: middle;\n",
       "    }\n",
       "\n",
       "    .dataframe tbody tr th {\n",
       "        vertical-align: top;\n",
       "    }\n",
       "\n",
       "    .dataframe thead th {\n",
       "        text-align: right;\n",
       "    }\n",
       "</style>\n",
       "<table border=\"1\" class=\"dataframe\">\n",
       "  <thead>\n",
       "    <tr style=\"text-align: right;\">\n",
       "      <th></th>\n",
       "      <th>전운량(10분위)2</th>\n",
       "    </tr>\n",
       "  </thead>\n",
       "  <tbody>\n",
       "    <tr>\n",
       "      <th>count</th>\n",
       "      <td>628882.000000</td>\n",
       "    </tr>\n",
       "    <tr>\n",
       "      <th>mean</th>\n",
       "      <td>4.764590</td>\n",
       "    </tr>\n",
       "    <tr>\n",
       "      <th>std</th>\n",
       "      <td>4.061832</td>\n",
       "    </tr>\n",
       "    <tr>\n",
       "      <th>min</th>\n",
       "      <td>0.000000</td>\n",
       "    </tr>\n",
       "    <tr>\n",
       "      <th>25%</th>\n",
       "      <td>0.000000</td>\n",
       "    </tr>\n",
       "    <tr>\n",
       "      <th>50%</th>\n",
       "      <td>5.000000</td>\n",
       "    </tr>\n",
       "    <tr>\n",
       "      <th>75%</th>\n",
       "      <td>9.000000</td>\n",
       "    </tr>\n",
       "    <tr>\n",
       "      <th>max</th>\n",
       "      <td>10.000000</td>\n",
       "    </tr>\n",
       "  </tbody>\n",
       "</table>\n",
       "</div>"
      ],
      "text/plain": [
       "          전운량(10분위)2\n",
       "count  628882.000000\n",
       "mean        4.764590\n",
       "std         4.061832\n",
       "min         0.000000\n",
       "25%         0.000000\n",
       "50%         5.000000\n",
       "75%         9.000000\n",
       "max        10.000000"
      ]
     },
     "execution_count": 13,
     "metadata": {},
     "output_type": "execute_result"
    }
   ],
   "source": [
    "w2.describe()"
   ]
  },
  {
   "cell_type": "code",
   "execution_count": 51,
   "metadata": {
    "ExecuteTime": {
     "end_time": "2020-07-05T11:56:49.270223Z",
     "start_time": "2020-07-05T11:56:49.202402Z"
    }
   },
   "outputs": [
    {
     "name": "stderr",
     "output_type": "stream",
     "text": [
      "C:\\Users\\14Z960-GR30K\\anaconda3\\lib\\site-packages\\ipykernel_launcher.py:1: SettingWithCopyWarning: \n",
      "A value is trying to be set on a copy of a slice from a DataFrame.\n",
      "Try using .loc[row_indexer,col_indexer] = value instead\n",
      "\n",
      "See the caveats in the documentation: https://pandas.pydata.org/pandas-docs/stable/user_guide/indexing.html#returning-a-view-versus-a-copy\n",
      "  \"\"\"Entry point for launching an IPython kernel.\n"
     ]
    },
    {
     "data": {
      "text/html": [
       "<div>\n",
       "<style scoped>\n",
       "    .dataframe tbody tr th:only-of-type {\n",
       "        vertical-align: middle;\n",
       "    }\n",
       "\n",
       "    .dataframe tbody tr th {\n",
       "        vertical-align: top;\n",
       "    }\n",
       "\n",
       "    .dataframe thead th {\n",
       "        text-align: right;\n",
       "    }\n",
       "</style>\n",
       "<table border=\"1\" class=\"dataframe\">\n",
       "  <thead>\n",
       "    <tr style=\"text-align: right;\">\n",
       "      <th></th>\n",
       "      <th>일시</th>\n",
       "      <th>전운량(10분위)2</th>\n",
       "    </tr>\n",
       "  </thead>\n",
       "  <tbody>\n",
       "    <tr>\n",
       "      <th>0</th>\n",
       "      <td>2017-01-01 00:00:00</td>\n",
       "      <td>7.0</td>\n",
       "    </tr>\n",
       "    <tr>\n",
       "      <th>1</th>\n",
       "      <td>2017-01-01 01:00:00</td>\n",
       "      <td>7.0</td>\n",
       "    </tr>\n",
       "    <tr>\n",
       "      <th>2</th>\n",
       "      <td>2017-01-01 02:00:00</td>\n",
       "      <td>7.0</td>\n",
       "    </tr>\n",
       "    <tr>\n",
       "      <th>3</th>\n",
       "      <td>2017-01-01 03:00:00</td>\n",
       "      <td>0.0</td>\n",
       "    </tr>\n",
       "    <tr>\n",
       "      <th>4</th>\n",
       "      <td>2017-01-01 04:00:00</td>\n",
       "      <td>0.0</td>\n",
       "    </tr>\n",
       "  </tbody>\n",
       "</table>\n",
       "</div>"
      ],
      "text/plain": [
       "                   일시  전운량(10분위)2\n",
       "0 2017-01-01 00:00:00         7.0\n",
       "1 2017-01-01 01:00:00         7.0\n",
       "2 2017-01-01 02:00:00         7.0\n",
       "3 2017-01-01 03:00:00         0.0\n",
       "4 2017-01-01 04:00:00         0.0"
      ]
     },
     "execution_count": 51,
     "metadata": {},
     "output_type": "execute_result"
    }
   ],
   "source": [
    "w2['일시'] = pd.to_datetime(w2['일시'])\n",
    "w2.head()"
   ]
  },
  {
   "cell_type": "code",
   "execution_count": 52,
   "metadata": {
    "ExecuteTime": {
     "end_time": "2020-07-05T11:56:53.419475Z",
     "start_time": "2020-07-05T11:56:51.880592Z"
    }
   },
   "outputs": [
    {
     "name": "stderr",
     "output_type": "stream",
     "text": [
      "C:\\Users\\14Z960-GR30K\\anaconda3\\lib\\site-packages\\ipykernel_launcher.py:1: SettingWithCopyWarning: \n",
      "A value is trying to be set on a copy of a slice from a DataFrame.\n",
      "Try using .loc[row_indexer,col_indexer] = value instead\n",
      "\n",
      "See the caveats in the documentation: https://pandas.pydata.org/pandas-docs/stable/user_guide/indexing.html#returning-a-view-versus-a-copy\n",
      "  \"\"\"Entry point for launching an IPython kernel.\n"
     ]
    },
    {
     "data": {
      "text/html": [
       "<div>\n",
       "<style scoped>\n",
       "    .dataframe tbody tr th:only-of-type {\n",
       "        vertical-align: middle;\n",
       "    }\n",
       "\n",
       "    .dataframe tbody tr th {\n",
       "        vertical-align: top;\n",
       "    }\n",
       "\n",
       "    .dataframe thead th {\n",
       "        text-align: right;\n",
       "    }\n",
       "</style>\n",
       "<table border=\"1\" class=\"dataframe\">\n",
       "  <thead>\n",
       "    <tr style=\"text-align: right;\">\n",
       "      <th></th>\n",
       "      <th>일시</th>\n",
       "      <th>전운량(10분위)2</th>\n",
       "    </tr>\n",
       "  </thead>\n",
       "  <tbody>\n",
       "    <tr>\n",
       "      <th>0</th>\n",
       "      <td>2017-01-01 00:00:00</td>\n",
       "      <td>7.0</td>\n",
       "    </tr>\n",
       "    <tr>\n",
       "      <th>1</th>\n",
       "      <td>2017-01-01 01:00:00</td>\n",
       "      <td>7.0</td>\n",
       "    </tr>\n",
       "    <tr>\n",
       "      <th>2</th>\n",
       "      <td>2017-01-01 02:00:00</td>\n",
       "      <td>7.0</td>\n",
       "    </tr>\n",
       "    <tr>\n",
       "      <th>3</th>\n",
       "      <td>2017-01-01 03:00:00</td>\n",
       "      <td>0.0</td>\n",
       "    </tr>\n",
       "    <tr>\n",
       "      <th>4</th>\n",
       "      <td>2017-01-01 04:00:00</td>\n",
       "      <td>0.0</td>\n",
       "    </tr>\n",
       "  </tbody>\n",
       "</table>\n",
       "</div>"
      ],
      "text/plain": [
       "                    일시  전운량(10분위)2\n",
       "0  2017-01-01 00:00:00         7.0\n",
       "1  2017-01-01 01:00:00         7.0\n",
       "2  2017-01-01 02:00:00         7.0\n",
       "3  2017-01-01 03:00:00         0.0\n",
       "4  2017-01-01 04:00:00         0.0"
      ]
     },
     "execution_count": 52,
     "metadata": {},
     "output_type": "execute_result"
    }
   ],
   "source": [
    "w2['일시'] = w2['일시'].astype(str)\n",
    "w2.head()"
   ]
  },
  {
   "cell_type": "markdown",
   "metadata": {},
   "source": [
    "- 병합"
   ]
  },
  {
   "cell_type": "code",
   "execution_count": 54,
   "metadata": {
    "ExecuteTime": {
     "end_time": "2020-07-05T11:56:59.608866Z",
     "start_time": "2020-07-05T11:56:59.601880Z"
    }
   },
   "outputs": [
    {
     "name": "stdout",
     "output_type": "stream",
     "text": [
      "(628882, 2)\n",
      "(628882, 15)\n"
     ]
    }
   ],
   "source": [
    "print(w2.shape)\n",
    "print(tmp_w2.shape)"
   ]
  },
  {
   "cell_type": "code",
   "execution_count": 26,
   "metadata": {
    "ExecuteTime": {
     "end_time": "2020-07-05T11:45:53.968235Z",
     "start_time": "2020-07-05T11:45:53.920360Z"
    }
   },
   "outputs": [
    {
     "data": {
      "text/plain": [
       "Index(['지점', '지점명', '일시', '기온', '풍속(m/s)', '강수량(mm)', '습도(%)', '일조(hr)',\n",
       "       '적설(cm)', '전운량(10분위)', '주소', '구', '눈내림', '눈내림2', '시간'],\n",
       "      dtype='object')"
      ]
     },
     "execution_count": 26,
     "metadata": {},
     "output_type": "execute_result"
    }
   ],
   "source": [
    "tmp_w2.columns"
   ]
  },
  {
   "cell_type": "code",
   "execution_count": 57,
   "metadata": {
    "ExecuteTime": {
     "end_time": "2020-07-05T11:57:46.538286Z",
     "start_time": "2020-07-05T11:57:44.869789Z"
    }
   },
   "outputs": [
    {
     "data": {
      "text/html": [
       "<div>\n",
       "<style scoped>\n",
       "    .dataframe tbody tr th:only-of-type {\n",
       "        vertical-align: middle;\n",
       "    }\n",
       "\n",
       "    .dataframe tbody tr th {\n",
       "        vertical-align: top;\n",
       "    }\n",
       "\n",
       "    .dataframe thead th {\n",
       "        text-align: right;\n",
       "    }\n",
       "</style>\n",
       "<table border=\"1\" class=\"dataframe\">\n",
       "  <thead>\n",
       "    <tr style=\"text-align: right;\">\n",
       "      <th></th>\n",
       "      <th>key_0</th>\n",
       "      <th>지점</th>\n",
       "      <th>지점명</th>\n",
       "      <th>일시_x</th>\n",
       "      <th>기온</th>\n",
       "      <th>풍속(m/s)</th>\n",
       "      <th>강수량(mm)</th>\n",
       "      <th>습도(%)</th>\n",
       "      <th>일조(hr)</th>\n",
       "      <th>적설(cm)</th>\n",
       "      <th>전운량(10분위)</th>\n",
       "      <th>주소</th>\n",
       "      <th>구</th>\n",
       "      <th>눈내림</th>\n",
       "      <th>눈내림2</th>\n",
       "      <th>시간</th>\n",
       "      <th>일시_y</th>\n",
       "      <th>전운량(10분위)2</th>\n",
       "    </tr>\n",
       "  </thead>\n",
       "  <tbody>\n",
       "    <tr>\n",
       "      <th>0</th>\n",
       "      <td>0</td>\n",
       "      <td>400</td>\n",
       "      <td>강남</td>\n",
       "      <td>2017-01-01 00:00:00</td>\n",
       "      <td>1.7</td>\n",
       "      <td>1.3</td>\n",
       "      <td>0.0</td>\n",
       "      <td>79.0</td>\n",
       "      <td>0.0</td>\n",
       "      <td>NaN</td>\n",
       "      <td>7.0</td>\n",
       "      <td>서울특별시 강남구 일원동</td>\n",
       "      <td>강남구</td>\n",
       "      <td>0</td>\n",
       "      <td>0</td>\n",
       "      <td>00:00:00</td>\n",
       "      <td>2017-01-01 00:00:00</td>\n",
       "      <td>7.0</td>\n",
       "    </tr>\n",
       "    <tr>\n",
       "      <th>1</th>\n",
       "      <td>1</td>\n",
       "      <td>400</td>\n",
       "      <td>강남</td>\n",
       "      <td>2017-01-01 01:00:00</td>\n",
       "      <td>1.4</td>\n",
       "      <td>1.3</td>\n",
       "      <td>0.0</td>\n",
       "      <td>78.0</td>\n",
       "      <td>0.0</td>\n",
       "      <td>NaN</td>\n",
       "      <td>NaN</td>\n",
       "      <td>서울특별시 강남구 일원동</td>\n",
       "      <td>강남구</td>\n",
       "      <td>0</td>\n",
       "      <td>0</td>\n",
       "      <td>01:00:00</td>\n",
       "      <td>2017-01-01 01:00:00</td>\n",
       "      <td>7.0</td>\n",
       "    </tr>\n",
       "    <tr>\n",
       "      <th>2</th>\n",
       "      <td>2</td>\n",
       "      <td>400</td>\n",
       "      <td>강남</td>\n",
       "      <td>2017-01-01 02:00:00</td>\n",
       "      <td>1.2</td>\n",
       "      <td>1.6</td>\n",
       "      <td>0.0</td>\n",
       "      <td>81.0</td>\n",
       "      <td>0.0</td>\n",
       "      <td>NaN</td>\n",
       "      <td>NaN</td>\n",
       "      <td>서울특별시 강남구 일원동</td>\n",
       "      <td>강남구</td>\n",
       "      <td>0</td>\n",
       "      <td>0</td>\n",
       "      <td>02:00:00</td>\n",
       "      <td>2017-01-01 02:00:00</td>\n",
       "      <td>7.0</td>\n",
       "    </tr>\n",
       "    <tr>\n",
       "      <th>3</th>\n",
       "      <td>3</td>\n",
       "      <td>400</td>\n",
       "      <td>강남</td>\n",
       "      <td>2017-01-01 03:00:00</td>\n",
       "      <td>0.5</td>\n",
       "      <td>1.5</td>\n",
       "      <td>0.0</td>\n",
       "      <td>84.0</td>\n",
       "      <td>0.0</td>\n",
       "      <td>NaN</td>\n",
       "      <td>0.0</td>\n",
       "      <td>서울특별시 강남구 일원동</td>\n",
       "      <td>강남구</td>\n",
       "      <td>0</td>\n",
       "      <td>0</td>\n",
       "      <td>03:00:00</td>\n",
       "      <td>2017-01-01 03:00:00</td>\n",
       "      <td>0.0</td>\n",
       "    </tr>\n",
       "    <tr>\n",
       "      <th>4</th>\n",
       "      <td>4</td>\n",
       "      <td>400</td>\n",
       "      <td>강남</td>\n",
       "      <td>2017-01-01 04:00:00</td>\n",
       "      <td>0.6</td>\n",
       "      <td>0.5</td>\n",
       "      <td>0.0</td>\n",
       "      <td>85.0</td>\n",
       "      <td>0.0</td>\n",
       "      <td>NaN</td>\n",
       "      <td>0.0</td>\n",
       "      <td>서울특별시 강남구 일원동</td>\n",
       "      <td>강남구</td>\n",
       "      <td>0</td>\n",
       "      <td>0</td>\n",
       "      <td>04:00:00</td>\n",
       "      <td>2017-01-01 04:00:00</td>\n",
       "      <td>0.0</td>\n",
       "    </tr>\n",
       "  </tbody>\n",
       "</table>\n",
       "</div>"
      ],
      "text/plain": [
       "   key_0   지점 지점명                 일시_x   기온  풍속(m/s)  강수량(mm)  습도(%)  일조(hr)  \\\n",
       "0      0  400  강남  2017-01-01 00:00:00  1.7      1.3      0.0   79.0     0.0   \n",
       "1      1  400  강남  2017-01-01 01:00:00  1.4      1.3      0.0   78.0     0.0   \n",
       "2      2  400  강남  2017-01-01 02:00:00  1.2      1.6      0.0   81.0     0.0   \n",
       "3      3  400  강남  2017-01-01 03:00:00  0.5      1.5      0.0   84.0     0.0   \n",
       "4      4  400  강남  2017-01-01 04:00:00  0.6      0.5      0.0   85.0     0.0   \n",
       "\n",
       "   적설(cm)  전운량(10분위)             주소    구  눈내림  눈내림2        시간  \\\n",
       "0     NaN        7.0  서울특별시 강남구 일원동  강남구    0     0  00:00:00   \n",
       "1     NaN        NaN  서울특별시 강남구 일원동  강남구    0     0  01:00:00   \n",
       "2     NaN        NaN  서울특별시 강남구 일원동  강남구    0     0  02:00:00   \n",
       "3     NaN        0.0  서울특별시 강남구 일원동  강남구    0     0  03:00:00   \n",
       "4     NaN        0.0  서울특별시 강남구 일원동  강남구    0     0  04:00:00   \n",
       "\n",
       "                  일시_y  전운량(10분위)2  \n",
       "0  2017-01-01 00:00:00         7.0  \n",
       "1  2017-01-01 01:00:00         7.0  \n",
       "2  2017-01-01 02:00:00         7.0  \n",
       "3  2017-01-01 03:00:00         0.0  \n",
       "4  2017-01-01 04:00:00         0.0  "
      ]
     },
     "execution_count": 57,
     "metadata": {},
     "output_type": "execute_result"
    }
   ],
   "source": [
    "tmp_w2 = pd.merge(tmp_w2, w2, how = 'left', on = tmp_w2.index)\n",
    "tmp_w2.head()"
   ]
  },
  {
   "cell_type": "code",
   "execution_count": 60,
   "metadata": {
    "ExecuteTime": {
     "end_time": "2020-07-05T11:58:47.277027Z",
     "start_time": "2020-07-05T11:58:47.270045Z"
    }
   },
   "outputs": [
    {
     "data": {
      "text/plain": [
       "(628882, 18)"
      ]
     },
     "execution_count": 60,
     "metadata": {},
     "output_type": "execute_result"
    }
   ],
   "source": [
    "tmp2_w2.shape"
   ]
  },
  {
   "cell_type": "code",
   "execution_count": 62,
   "metadata": {
    "ExecuteTime": {
     "end_time": "2020-07-05T11:59:47.544800Z",
     "start_time": "2020-07-05T11:59:47.390217Z"
    }
   },
   "outputs": [],
   "source": [
    "tmp2_w2.drop(['key_0','일시_y'], axis = 1, inplace = True)"
   ]
  },
  {
   "cell_type": "code",
   "execution_count": 65,
   "metadata": {
    "ExecuteTime": {
     "end_time": "2020-07-05T12:01:11.772585Z",
     "start_time": "2020-07-05T12:01:11.667863Z"
    }
   },
   "outputs": [],
   "source": [
    "tmp2_w2.rename(columns = {'일시_x' : '일시'}, inplace = True)"
   ]
  },
  {
   "cell_type": "code",
   "execution_count": 66,
   "metadata": {
    "ExecuteTime": {
     "end_time": "2020-07-05T12:01:12.260346Z",
     "start_time": "2020-07-05T12:01:12.217457Z"
    }
   },
   "outputs": [
    {
     "data": {
      "text/html": [
       "<div>\n",
       "<style scoped>\n",
       "    .dataframe tbody tr th:only-of-type {\n",
       "        vertical-align: middle;\n",
       "    }\n",
       "\n",
       "    .dataframe tbody tr th {\n",
       "        vertical-align: top;\n",
       "    }\n",
       "\n",
       "    .dataframe thead th {\n",
       "        text-align: right;\n",
       "    }\n",
       "</style>\n",
       "<table border=\"1\" class=\"dataframe\">\n",
       "  <thead>\n",
       "    <tr style=\"text-align: right;\">\n",
       "      <th></th>\n",
       "      <th>지점</th>\n",
       "      <th>지점명</th>\n",
       "      <th>일시</th>\n",
       "      <th>기온</th>\n",
       "      <th>풍속(m/s)</th>\n",
       "      <th>강수량(mm)</th>\n",
       "      <th>습도(%)</th>\n",
       "      <th>일조(hr)</th>\n",
       "      <th>적설(cm)</th>\n",
       "      <th>전운량(10분위)</th>\n",
       "      <th>주소</th>\n",
       "      <th>구</th>\n",
       "      <th>눈내림</th>\n",
       "      <th>눈내림2</th>\n",
       "      <th>시간</th>\n",
       "      <th>전운량(10분위)2</th>\n",
       "    </tr>\n",
       "  </thead>\n",
       "  <tbody>\n",
       "    <tr>\n",
       "      <th>0</th>\n",
       "      <td>400</td>\n",
       "      <td>강남</td>\n",
       "      <td>2017-01-01 00:00:00</td>\n",
       "      <td>1.7</td>\n",
       "      <td>1.3</td>\n",
       "      <td>0.0</td>\n",
       "      <td>79.0</td>\n",
       "      <td>0.0</td>\n",
       "      <td>NaN</td>\n",
       "      <td>7.0</td>\n",
       "      <td>서울특별시 강남구 일원동</td>\n",
       "      <td>강남구</td>\n",
       "      <td>0</td>\n",
       "      <td>0</td>\n",
       "      <td>00:00:00</td>\n",
       "      <td>7.0</td>\n",
       "    </tr>\n",
       "    <tr>\n",
       "      <th>1</th>\n",
       "      <td>400</td>\n",
       "      <td>강남</td>\n",
       "      <td>2017-01-01 01:00:00</td>\n",
       "      <td>1.4</td>\n",
       "      <td>1.3</td>\n",
       "      <td>0.0</td>\n",
       "      <td>78.0</td>\n",
       "      <td>0.0</td>\n",
       "      <td>NaN</td>\n",
       "      <td>NaN</td>\n",
       "      <td>서울특별시 강남구 일원동</td>\n",
       "      <td>강남구</td>\n",
       "      <td>0</td>\n",
       "      <td>0</td>\n",
       "      <td>01:00:00</td>\n",
       "      <td>7.0</td>\n",
       "    </tr>\n",
       "    <tr>\n",
       "      <th>2</th>\n",
       "      <td>400</td>\n",
       "      <td>강남</td>\n",
       "      <td>2017-01-01 02:00:00</td>\n",
       "      <td>1.2</td>\n",
       "      <td>1.6</td>\n",
       "      <td>0.0</td>\n",
       "      <td>81.0</td>\n",
       "      <td>0.0</td>\n",
       "      <td>NaN</td>\n",
       "      <td>NaN</td>\n",
       "      <td>서울특별시 강남구 일원동</td>\n",
       "      <td>강남구</td>\n",
       "      <td>0</td>\n",
       "      <td>0</td>\n",
       "      <td>02:00:00</td>\n",
       "      <td>7.0</td>\n",
       "    </tr>\n",
       "    <tr>\n",
       "      <th>3</th>\n",
       "      <td>400</td>\n",
       "      <td>강남</td>\n",
       "      <td>2017-01-01 03:00:00</td>\n",
       "      <td>0.5</td>\n",
       "      <td>1.5</td>\n",
       "      <td>0.0</td>\n",
       "      <td>84.0</td>\n",
       "      <td>0.0</td>\n",
       "      <td>NaN</td>\n",
       "      <td>0.0</td>\n",
       "      <td>서울특별시 강남구 일원동</td>\n",
       "      <td>강남구</td>\n",
       "      <td>0</td>\n",
       "      <td>0</td>\n",
       "      <td>03:00:00</td>\n",
       "      <td>0.0</td>\n",
       "    </tr>\n",
       "    <tr>\n",
       "      <th>4</th>\n",
       "      <td>400</td>\n",
       "      <td>강남</td>\n",
       "      <td>2017-01-01 04:00:00</td>\n",
       "      <td>0.6</td>\n",
       "      <td>0.5</td>\n",
       "      <td>0.0</td>\n",
       "      <td>85.0</td>\n",
       "      <td>0.0</td>\n",
       "      <td>NaN</td>\n",
       "      <td>0.0</td>\n",
       "      <td>서울특별시 강남구 일원동</td>\n",
       "      <td>강남구</td>\n",
       "      <td>0</td>\n",
       "      <td>0</td>\n",
       "      <td>04:00:00</td>\n",
       "      <td>0.0</td>\n",
       "    </tr>\n",
       "  </tbody>\n",
       "</table>\n",
       "</div>"
      ],
      "text/plain": [
       "    지점 지점명                   일시   기온  풍속(m/s)  강수량(mm)  습도(%)  일조(hr)  적설(cm)  \\\n",
       "0  400  강남  2017-01-01 00:00:00  1.7      1.3      0.0   79.0     0.0     NaN   \n",
       "1  400  강남  2017-01-01 01:00:00  1.4      1.3      0.0   78.0     0.0     NaN   \n",
       "2  400  강남  2017-01-01 02:00:00  1.2      1.6      0.0   81.0     0.0     NaN   \n",
       "3  400  강남  2017-01-01 03:00:00  0.5      1.5      0.0   84.0     0.0     NaN   \n",
       "4  400  강남  2017-01-01 04:00:00  0.6      0.5      0.0   85.0     0.0     NaN   \n",
       "\n",
       "   전운량(10분위)             주소    구  눈내림  눈내림2        시간  전운량(10분위)2  \n",
       "0        7.0  서울특별시 강남구 일원동  강남구    0     0  00:00:00         7.0  \n",
       "1        NaN  서울특별시 강남구 일원동  강남구    0     0  01:00:00         7.0  \n",
       "2        NaN  서울특별시 강남구 일원동  강남구    0     0  02:00:00         7.0  \n",
       "3        0.0  서울특별시 강남구 일원동  강남구    0     0  03:00:00         0.0  \n",
       "4        0.0  서울특별시 강남구 일원동  강남구    0     0  04:00:00         0.0  "
      ]
     },
     "execution_count": 66,
     "metadata": {},
     "output_type": "execute_result"
    }
   ],
   "source": [
    "tmp2_w2.head()"
   ]
  },
  {
   "cell_type": "code",
   "execution_count": 67,
   "metadata": {
    "ExecuteTime": {
     "end_time": "2020-07-05T12:01:14.768314Z",
     "start_time": "2020-07-05T12:01:14.549899Z"
    },
    "scrolled": false
   },
   "outputs": [
    {
     "data": {
      "text/plain": [
       "지점                 0\n",
       "지점명                0\n",
       "일시                 0\n",
       "기온                 0\n",
       "풍속(m/s)            0\n",
       "강수량(mm)            0\n",
       "습도(%)              0\n",
       "일조(hr)             0\n",
       "적설(cm)        610023\n",
       "전운량(10분위)      73009\n",
       "주소                 0\n",
       "구                  0\n",
       "눈내림                0\n",
       "눈내림2               0\n",
       "시간                 0\n",
       "전운량(10분위)2         0\n",
       "dtype: int64"
      ]
     },
     "execution_count": 67,
     "metadata": {},
     "output_type": "execute_result"
    }
   ],
   "source": [
    "tmp2_w2.isnull().sum()"
   ]
  },
  {
   "cell_type": "markdown",
   "metadata": {},
   "source": [
    "# 구별 날짜 데이터 결측값 처리"
   ]
  },
  {
   "cell_type": "markdown",
   "metadata": {},
   "source": [
    "## 구별로 모든 일자가 다 있는지 확인\n",
    "- 26280개가 정상이며, 구별 최대 296개까지 날짜 빈 곳이 있음"
   ]
  },
  {
   "cell_type": "code",
   "execution_count": 147,
   "metadata": {
    "ExecuteTime": {
     "end_time": "2020-07-03T02:30:04.073838Z",
     "start_time": "2020-07-03T02:30:03.987070Z"
    }
   },
   "outputs": [],
   "source": [
    "location = tmp_w2['지점명'].value_counts()\n",
    "location = pd.DataFrame(location_name)\n",
    "location.columns = ['데이터 개수']"
   ]
  },
  {
   "cell_type": "code",
   "execution_count": 149,
   "metadata": {
    "ExecuteTime": {
     "end_time": "2020-07-03T02:30:05.178088Z",
     "start_time": "2020-07-03T02:30:05.168116Z"
    },
    "scrolled": true
   },
   "outputs": [
    {
     "data": {
      "text/html": [
       "<div>\n",
       "<style scoped>\n",
       "    .dataframe tbody tr th:only-of-type {\n",
       "        vertical-align: middle;\n",
       "    }\n",
       "\n",
       "    .dataframe tbody tr th {\n",
       "        vertical-align: top;\n",
       "    }\n",
       "\n",
       "    .dataframe thead th {\n",
       "        text-align: right;\n",
       "    }\n",
       "</style>\n",
       "<table border=\"1\" class=\"dataframe\">\n",
       "  <thead>\n",
       "    <tr style=\"text-align: right;\">\n",
       "      <th></th>\n",
       "      <th>데이터 개수</th>\n",
       "    </tr>\n",
       "  </thead>\n",
       "  <tbody>\n",
       "    <tr>\n",
       "      <th>성동</th>\n",
       "      <td>26280</td>\n",
       "    </tr>\n",
       "    <tr>\n",
       "      <th>동대문</th>\n",
       "      <td>26279</td>\n",
       "    </tr>\n",
       "    <tr>\n",
       "      <th>노원</th>\n",
       "      <td>26272</td>\n",
       "    </tr>\n",
       "    <tr>\n",
       "      <th>기상청</th>\n",
       "      <td>26270</td>\n",
       "    </tr>\n",
       "    <tr>\n",
       "      <th>서초</th>\n",
       "      <td>26268</td>\n",
       "    </tr>\n",
       "  </tbody>\n",
       "</table>\n",
       "</div>"
      ],
      "text/plain": [
       "     데이터 개수\n",
       "성동    26280\n",
       "동대문   26279\n",
       "노원    26272\n",
       "기상청   26270\n",
       "서초    26268"
      ]
     },
     "execution_count": 149,
     "metadata": {},
     "output_type": "execute_result"
    }
   ],
   "source": [
    "location.head()"
   ]
  },
  {
   "cell_type": "code",
   "execution_count": 150,
   "metadata": {
    "ExecuteTime": {
     "end_time": "2020-07-03T02:30:06.772058Z",
     "start_time": "2020-07-03T02:30:06.758097Z"
    },
    "scrolled": false
   },
   "outputs": [
    {
     "data": {
      "text/html": [
       "<div>\n",
       "<style scoped>\n",
       "    .dataframe tbody tr th:only-of-type {\n",
       "        vertical-align: middle;\n",
       "    }\n",
       "\n",
       "    .dataframe tbody tr th {\n",
       "        vertical-align: top;\n",
       "    }\n",
       "\n",
       "    .dataframe thead th {\n",
       "        text-align: right;\n",
       "    }\n",
       "</style>\n",
       "<table border=\"1\" class=\"dataframe\">\n",
       "  <thead>\n",
       "    <tr style=\"text-align: right;\">\n",
       "      <th></th>\n",
       "      <th>데이터 개수</th>\n",
       "    </tr>\n",
       "  </thead>\n",
       "  <tbody>\n",
       "    <tr>\n",
       "      <th>성동</th>\n",
       "      <td>26280</td>\n",
       "    </tr>\n",
       "    <tr>\n",
       "      <th>동대문</th>\n",
       "      <td>26279</td>\n",
       "    </tr>\n",
       "    <tr>\n",
       "      <th>노원</th>\n",
       "      <td>26272</td>\n",
       "    </tr>\n",
       "    <tr>\n",
       "      <th>기상청</th>\n",
       "      <td>26270</td>\n",
       "    </tr>\n",
       "    <tr>\n",
       "      <th>서초</th>\n",
       "      <td>26268</td>\n",
       "    </tr>\n",
       "    <tr>\n",
       "      <th>영등포</th>\n",
       "      <td>26258</td>\n",
       "    </tr>\n",
       "    <tr>\n",
       "      <th>양천</th>\n",
       "      <td>26258</td>\n",
       "    </tr>\n",
       "    <tr>\n",
       "      <th>구로</th>\n",
       "      <td>26256</td>\n",
       "    </tr>\n",
       "    <tr>\n",
       "      <th>강북</th>\n",
       "      <td>26253</td>\n",
       "    </tr>\n",
       "    <tr>\n",
       "      <th>성북</th>\n",
       "      <td>26252</td>\n",
       "    </tr>\n",
       "    <tr>\n",
       "      <th>남현</th>\n",
       "      <td>26248</td>\n",
       "    </tr>\n",
       "    <tr>\n",
       "      <th>도봉</th>\n",
       "      <td>26248</td>\n",
       "    </tr>\n",
       "    <tr>\n",
       "      <th>서대문</th>\n",
       "      <td>26236</td>\n",
       "    </tr>\n",
       "    <tr>\n",
       "      <th>강동</th>\n",
       "      <td>26228</td>\n",
       "    </tr>\n",
       "    <tr>\n",
       "      <th>광진</th>\n",
       "      <td>26226</td>\n",
       "    </tr>\n",
       "    <tr>\n",
       "      <th>송파</th>\n",
       "      <td>26221</td>\n",
       "    </tr>\n",
       "    <tr>\n",
       "      <th>강서</th>\n",
       "      <td>26158</td>\n",
       "    </tr>\n",
       "    <tr>\n",
       "      <th>중구</th>\n",
       "      <td>26150</td>\n",
       "    </tr>\n",
       "    <tr>\n",
       "      <th>중랑</th>\n",
       "      <td>26134</td>\n",
       "    </tr>\n",
       "    <tr>\n",
       "      <th>금천</th>\n",
       "      <td>26129</td>\n",
       "    </tr>\n",
       "    <tr>\n",
       "      <th>용산</th>\n",
       "      <td>26115</td>\n",
       "    </tr>\n",
       "    <tr>\n",
       "      <th>은평</th>\n",
       "      <td>26081</td>\n",
       "    </tr>\n",
       "    <tr>\n",
       "      <th>마포</th>\n",
       "      <td>26078</td>\n",
       "    </tr>\n",
       "    <tr>\n",
       "      <th>강남</th>\n",
       "      <td>25984</td>\n",
       "    </tr>\n",
       "  </tbody>\n",
       "</table>\n",
       "</div>"
      ],
      "text/plain": [
       "     데이터 개수\n",
       "성동    26280\n",
       "동대문   26279\n",
       "노원    26272\n",
       "기상청   26270\n",
       "서초    26268\n",
       "영등포   26258\n",
       "양천    26258\n",
       "구로    26256\n",
       "강북    26253\n",
       "성북    26252\n",
       "남현    26248\n",
       "도봉    26248\n",
       "서대문   26236\n",
       "강동    26228\n",
       "광진    26226\n",
       "송파    26221\n",
       "강서    26158\n",
       "중구    26150\n",
       "중랑    26134\n",
       "금천    26129\n",
       "용산    26115\n",
       "은평    26081\n",
       "마포    26078\n",
       "강남    25984"
      ]
     },
     "execution_count": 150,
     "metadata": {},
     "output_type": "execute_result"
    }
   ],
   "source": [
    "location.sort_values(by = '데이터 개수', ascending = False)  # 26280 개가 정상"
   ]
  },
  {
   "cell_type": "markdown",
   "metadata": {},
   "source": [
    "## 각 구별로 어느 일자가 비었는지 확인"
   ]
  },
  {
   "cell_type": "code",
   "execution_count": 151,
   "metadata": {
    "ExecuteTime": {
     "end_time": "2020-07-03T02:30:56.420326Z",
     "start_time": "2020-07-03T02:30:56.381429Z"
    }
   },
   "outputs": [
    {
     "data": {
      "text/html": [
       "<div>\n",
       "<style scoped>\n",
       "    .dataframe tbody tr th:only-of-type {\n",
       "        vertical-align: middle;\n",
       "    }\n",
       "\n",
       "    .dataframe tbody tr th {\n",
       "        vertical-align: top;\n",
       "    }\n",
       "\n",
       "    .dataframe thead th {\n",
       "        text-align: right;\n",
       "    }\n",
       "</style>\n",
       "<table border=\"1\" class=\"dataframe\">\n",
       "  <thead>\n",
       "    <tr style=\"text-align: right;\">\n",
       "      <th></th>\n",
       "      <th>지점명</th>\n",
       "      <th>일시</th>\n",
       "    </tr>\n",
       "  </thead>\n",
       "  <tbody>\n",
       "    <tr>\n",
       "      <th>0</th>\n",
       "      <td>강남</td>\n",
       "      <td>2017-01-01 00:00:00</td>\n",
       "    </tr>\n",
       "    <tr>\n",
       "      <th>1</th>\n",
       "      <td>강남</td>\n",
       "      <td>2017-01-01 01:00:00</td>\n",
       "    </tr>\n",
       "    <tr>\n",
       "      <th>2</th>\n",
       "      <td>강남</td>\n",
       "      <td>2017-01-01 02:00:00</td>\n",
       "    </tr>\n",
       "    <tr>\n",
       "      <th>3</th>\n",
       "      <td>강남</td>\n",
       "      <td>2017-01-01 03:00:00</td>\n",
       "    </tr>\n",
       "    <tr>\n",
       "      <th>4</th>\n",
       "      <td>강남</td>\n",
       "      <td>2017-01-01 04:00:00</td>\n",
       "    </tr>\n",
       "    <tr>\n",
       "      <th>...</th>\n",
       "      <td>...</td>\n",
       "      <td>...</td>\n",
       "    </tr>\n",
       "    <tr>\n",
       "      <th>628877</th>\n",
       "      <td>영등포</td>\n",
       "      <td>2018-12-31 19:00:00</td>\n",
       "    </tr>\n",
       "    <tr>\n",
       "      <th>628878</th>\n",
       "      <td>영등포</td>\n",
       "      <td>2018-12-31 20:00:00</td>\n",
       "    </tr>\n",
       "    <tr>\n",
       "      <th>628879</th>\n",
       "      <td>영등포</td>\n",
       "      <td>2018-12-31 21:00:00</td>\n",
       "    </tr>\n",
       "    <tr>\n",
       "      <th>628880</th>\n",
       "      <td>영등포</td>\n",
       "      <td>2018-12-31 22:00:00</td>\n",
       "    </tr>\n",
       "    <tr>\n",
       "      <th>628881</th>\n",
       "      <td>영등포</td>\n",
       "      <td>2018-12-31 23:00:00</td>\n",
       "    </tr>\n",
       "  </tbody>\n",
       "</table>\n",
       "<p>628882 rows × 2 columns</p>\n",
       "</div>"
      ],
      "text/plain": [
       "        지점명                  일시\n",
       "0        강남 2017-01-01 00:00:00\n",
       "1        강남 2017-01-01 01:00:00\n",
       "2        강남 2017-01-01 02:00:00\n",
       "3        강남 2017-01-01 03:00:00\n",
       "4        강남 2017-01-01 04:00:00\n",
       "...     ...                 ...\n",
       "628877  영등포 2018-12-31 19:00:00\n",
       "628878  영등포 2018-12-31 20:00:00\n",
       "628879  영등포 2018-12-31 21:00:00\n",
       "628880  영등포 2018-12-31 22:00:00\n",
       "628881  영등포 2018-12-31 23:00:00\n",
       "\n",
       "[628882 rows x 2 columns]"
      ]
     },
     "execution_count": 151,
     "metadata": {},
     "output_type": "execute_result"
    }
   ],
   "source": [
    "location_day = tmp_w2[['지점명','일시']].copy()\n",
    "location_day"
   ]
  },
  {
   "cell_type": "code",
   "execution_count": 153,
   "metadata": {
    "ExecuteTime": {
     "end_time": "2020-07-03T02:34:14.333694Z",
     "start_time": "2020-07-03T02:34:14.284824Z"
    }
   },
   "outputs": [
    {
     "name": "stdout",
     "output_type": "stream",
     "text": [
      "<class 'pandas.core.frame.DataFrame'>\n",
      "RangeIndex: 628882 entries, 0 to 628881\n",
      "Data columns (total 2 columns):\n",
      " #   Column  Non-Null Count   Dtype         \n",
      "---  ------  --------------   -----         \n",
      " 0   지점명     628882 non-null  object        \n",
      " 1   일시      628882 non-null  datetime64[ns]\n",
      "dtypes: datetime64[ns](1), object(1)\n",
      "memory usage: 9.6+ MB\n"
     ]
    }
   ],
   "source": [
    "location_day['일시'] = pd.to_datetime(location_day['일시'])\n",
    "location_day.info()"
   ]
  },
  {
   "cell_type": "code",
   "execution_count": 156,
   "metadata": {
    "ExecuteTime": {
     "end_time": "2020-07-03T02:35:33.905562Z",
     "start_time": "2020-07-03T02:35:33.603181Z"
    }
   },
   "outputs": [],
   "source": [
    "location_day['day'] = location_day['일시'].dt.date\n",
    "location_day['hour'] = location_day['일시'].dt.hour"
   ]
  },
  {
   "cell_type": "code",
   "execution_count": 157,
   "metadata": {
    "ExecuteTime": {
     "end_time": "2020-07-03T02:35:34.059183Z",
     "start_time": "2020-07-03T02:35:34.048216Z"
    }
   },
   "outputs": [
    {
     "data": {
      "text/html": [
       "<div>\n",
       "<style scoped>\n",
       "    .dataframe tbody tr th:only-of-type {\n",
       "        vertical-align: middle;\n",
       "    }\n",
       "\n",
       "    .dataframe tbody tr th {\n",
       "        vertical-align: top;\n",
       "    }\n",
       "\n",
       "    .dataframe thead th {\n",
       "        text-align: right;\n",
       "    }\n",
       "</style>\n",
       "<table border=\"1\" class=\"dataframe\">\n",
       "  <thead>\n",
       "    <tr style=\"text-align: right;\">\n",
       "      <th></th>\n",
       "      <th>지점명</th>\n",
       "      <th>일시</th>\n",
       "      <th>day</th>\n",
       "      <th>hour</th>\n",
       "    </tr>\n",
       "  </thead>\n",
       "  <tbody>\n",
       "    <tr>\n",
       "      <th>0</th>\n",
       "      <td>강남</td>\n",
       "      <td>2017-01-01 00:00:00</td>\n",
       "      <td>2017-01-01</td>\n",
       "      <td>0</td>\n",
       "    </tr>\n",
       "    <tr>\n",
       "      <th>1</th>\n",
       "      <td>강남</td>\n",
       "      <td>2017-01-01 01:00:00</td>\n",
       "      <td>2017-01-01</td>\n",
       "      <td>1</td>\n",
       "    </tr>\n",
       "    <tr>\n",
       "      <th>2</th>\n",
       "      <td>강남</td>\n",
       "      <td>2017-01-01 02:00:00</td>\n",
       "      <td>2017-01-01</td>\n",
       "      <td>2</td>\n",
       "    </tr>\n",
       "    <tr>\n",
       "      <th>3</th>\n",
       "      <td>강남</td>\n",
       "      <td>2017-01-01 03:00:00</td>\n",
       "      <td>2017-01-01</td>\n",
       "      <td>3</td>\n",
       "    </tr>\n",
       "    <tr>\n",
       "      <th>4</th>\n",
       "      <td>강남</td>\n",
       "      <td>2017-01-01 04:00:00</td>\n",
       "      <td>2017-01-01</td>\n",
       "      <td>4</td>\n",
       "    </tr>\n",
       "  </tbody>\n",
       "</table>\n",
       "</div>"
      ],
      "text/plain": [
       "  지점명                  일시         day  hour\n",
       "0  강남 2017-01-01 00:00:00  2017-01-01     0\n",
       "1  강남 2017-01-01 01:00:00  2017-01-01     1\n",
       "2  강남 2017-01-01 02:00:00  2017-01-01     2\n",
       "3  강남 2017-01-01 03:00:00  2017-01-01     3\n",
       "4  강남 2017-01-01 04:00:00  2017-01-01     4"
      ]
     },
     "execution_count": 157,
     "metadata": {},
     "output_type": "execute_result"
    }
   ],
   "source": [
    "location_day.head()"
   ]
  },
  {
   "cell_type": "code",
   "execution_count": 158,
   "metadata": {
    "ExecuteTime": {
     "end_time": "2020-07-03T02:35:49.936096Z",
     "start_time": "2020-07-03T02:35:49.835366Z"
    }
   },
   "outputs": [
    {
     "data": {
      "text/plain": [
       "지점명     0\n",
       "일시      0\n",
       "day     0\n",
       "hour    0\n",
       "dtype: int64"
      ]
     },
     "execution_count": 158,
     "metadata": {},
     "output_type": "execute_result"
    }
   ],
   "source": [
    "location_day.isnull().sum()"
   ]
  },
  {
   "cell_type": "code",
   "execution_count": 175,
   "metadata": {
    "ExecuteTime": {
     "end_time": "2020-07-03T03:11:00.160016Z",
     "start_time": "2020-07-03T03:11:00.068213Z"
    }
   },
   "outputs": [
    {
     "data": {
      "text/html": [
       "<div>\n",
       "<style scoped>\n",
       "    .dataframe tbody tr th:only-of-type {\n",
       "        vertical-align: middle;\n",
       "    }\n",
       "\n",
       "    .dataframe tbody tr th {\n",
       "        vertical-align: top;\n",
       "    }\n",
       "\n",
       "    .dataframe thead th {\n",
       "        text-align: right;\n",
       "    }\n",
       "</style>\n",
       "<table border=\"1\" class=\"dataframe\">\n",
       "  <thead>\n",
       "    <tr style=\"text-align: right;\">\n",
       "      <th></th>\n",
       "      <th>day</th>\n",
       "    </tr>\n",
       "  </thead>\n",
       "  <tbody>\n",
       "    <tr>\n",
       "      <th>2018-01-21</th>\n",
       "      <td>576</td>\n",
       "    </tr>\n",
       "    <tr>\n",
       "      <th>2018-04-13</th>\n",
       "      <td>576</td>\n",
       "    </tr>\n",
       "    <tr>\n",
       "      <th>2018-10-12</th>\n",
       "      <td>576</td>\n",
       "    </tr>\n",
       "    <tr>\n",
       "      <th>2017-06-26</th>\n",
       "      <td>576</td>\n",
       "    </tr>\n",
       "    <tr>\n",
       "      <th>2017-05-02</th>\n",
       "      <td>576</td>\n",
       "    </tr>\n",
       "    <tr>\n",
       "      <th>...</th>\n",
       "      <td>...</td>\n",
       "    </tr>\n",
       "    <tr>\n",
       "      <th>2017-11-26</th>\n",
       "      <td>536</td>\n",
       "    </tr>\n",
       "    <tr>\n",
       "      <th>2019-09-03</th>\n",
       "      <td>535</td>\n",
       "    </tr>\n",
       "    <tr>\n",
       "      <th>2018-11-24</th>\n",
       "      <td>532</td>\n",
       "    </tr>\n",
       "    <tr>\n",
       "      <th>2018-11-25</th>\n",
       "      <td>526</td>\n",
       "    </tr>\n",
       "    <tr>\n",
       "      <th>2018-06-04</th>\n",
       "      <td>520</td>\n",
       "    </tr>\n",
       "  </tbody>\n",
       "</table>\n",
       "<p>1095 rows × 1 columns</p>\n",
       "</div>"
      ],
      "text/plain": [
       "            day\n",
       "2018-01-21  576\n",
       "2018-04-13  576\n",
       "2018-10-12  576\n",
       "2017-06-26  576\n",
       "2017-05-02  576\n",
       "...         ...\n",
       "2017-11-26  536\n",
       "2019-09-03  535\n",
       "2018-11-24  532\n",
       "2018-11-25  526\n",
       "2018-06-04  520\n",
       "\n",
       "[1095 rows x 1 columns]"
      ]
     },
     "execution_count": 175,
     "metadata": {},
     "output_type": "execute_result"
    }
   ],
   "source": [
    "location_day_num = location_day['day'].value_counts()\n",
    "location_day_num = pd.DataFrame(location_day_num)\n",
    "location_day_num"
   ]
  },
  {
   "cell_type": "code",
   "execution_count": 178,
   "metadata": {
    "ExecuteTime": {
     "end_time": "2020-07-03T03:12:29.836875Z",
     "start_time": "2020-07-03T03:12:29.825904Z"
    }
   },
   "outputs": [
    {
     "data": {
      "text/html": [
       "<div>\n",
       "<style scoped>\n",
       "    .dataframe tbody tr th:only-of-type {\n",
       "        vertical-align: middle;\n",
       "    }\n",
       "\n",
       "    .dataframe tbody tr th {\n",
       "        vertical-align: top;\n",
       "    }\n",
       "\n",
       "    .dataframe thead th {\n",
       "        text-align: right;\n",
       "    }\n",
       "</style>\n",
       "<table border=\"1\" class=\"dataframe\">\n",
       "  <thead>\n",
       "    <tr style=\"text-align: right;\">\n",
       "      <th></th>\n",
       "      <th>day</th>\n",
       "    </tr>\n",
       "  </thead>\n",
       "  <tbody>\n",
       "    <tr>\n",
       "      <th>2019-08-17</th>\n",
       "      <td>575</td>\n",
       "    </tr>\n",
       "    <tr>\n",
       "      <th>2017-04-04</th>\n",
       "      <td>575</td>\n",
       "    </tr>\n",
       "    <tr>\n",
       "      <th>2017-04-03</th>\n",
       "      <td>575</td>\n",
       "    </tr>\n",
       "    <tr>\n",
       "      <th>2018-01-19</th>\n",
       "      <td>575</td>\n",
       "    </tr>\n",
       "    <tr>\n",
       "      <th>2019-10-02</th>\n",
       "      <td>575</td>\n",
       "    </tr>\n",
       "    <tr>\n",
       "      <th>...</th>\n",
       "      <td>...</td>\n",
       "    </tr>\n",
       "    <tr>\n",
       "      <th>2017-11-26</th>\n",
       "      <td>536</td>\n",
       "    </tr>\n",
       "    <tr>\n",
       "      <th>2019-09-03</th>\n",
       "      <td>535</td>\n",
       "    </tr>\n",
       "    <tr>\n",
       "      <th>2018-11-24</th>\n",
       "      <td>532</td>\n",
       "    </tr>\n",
       "    <tr>\n",
       "      <th>2018-11-25</th>\n",
       "      <td>526</td>\n",
       "    </tr>\n",
       "    <tr>\n",
       "      <th>2018-06-04</th>\n",
       "      <td>520</td>\n",
       "    </tr>\n",
       "  </tbody>\n",
       "</table>\n",
       "<p>169 rows × 1 columns</p>\n",
       "</div>"
      ],
      "text/plain": [
       "            day\n",
       "2019-08-17  575\n",
       "2017-04-04  575\n",
       "2017-04-03  575\n",
       "2018-01-19  575\n",
       "2019-10-02  575\n",
       "...         ...\n",
       "2017-11-26  536\n",
       "2019-09-03  535\n",
       "2018-11-24  532\n",
       "2018-11-25  526\n",
       "2018-06-04  520\n",
       "\n",
       "[169 rows x 1 columns]"
      ]
     },
     "execution_count": 178,
     "metadata": {},
     "output_type": "execute_result"
    }
   ],
   "source": [
    "location_day_null = location_day_num[location_day_num['day'] < 576]\n",
    "location_day_null"
   ]
  },
  {
   "cell_type": "code",
   "execution_count": 180,
   "metadata": {
    "ExecuteTime": {
     "end_time": "2020-07-03T03:14:27.705594Z",
     "start_time": "2020-07-03T03:14:27.670687Z"
    }
   },
   "outputs": [
    {
     "data": {
      "text/html": [
       "<div>\n",
       "<style scoped>\n",
       "    .dataframe tbody tr th:only-of-type {\n",
       "        vertical-align: middle;\n",
       "    }\n",
       "\n",
       "    .dataframe tbody tr th {\n",
       "        vertical-align: top;\n",
       "    }\n",
       "\n",
       "    .dataframe thead th {\n",
       "        text-align: right;\n",
       "    }\n",
       "</style>\n",
       "<table border=\"1\" class=\"dataframe\">\n",
       "  <thead>\n",
       "    <tr style=\"text-align: right;\">\n",
       "      <th></th>\n",
       "      <th>일시</th>\n",
       "    </tr>\n",
       "  </thead>\n",
       "  <tbody>\n",
       "    <tr>\n",
       "      <th>2019-06-15 03:00:00</th>\n",
       "      <td>24</td>\n",
       "    </tr>\n",
       "    <tr>\n",
       "      <th>2018-05-13 17:00:00</th>\n",
       "      <td>24</td>\n",
       "    </tr>\n",
       "    <tr>\n",
       "      <th>2019-05-11 23:00:00</th>\n",
       "      <td>24</td>\n",
       "    </tr>\n",
       "    <tr>\n",
       "      <th>2017-03-09 17:00:00</th>\n",
       "      <td>24</td>\n",
       "    </tr>\n",
       "    <tr>\n",
       "      <th>2018-04-03 20:00:00</th>\n",
       "      <td>24</td>\n",
       "    </tr>\n",
       "    <tr>\n",
       "      <th>...</th>\n",
       "      <td>...</td>\n",
       "    </tr>\n",
       "    <tr>\n",
       "      <th>2018-06-04 17:00:00</th>\n",
       "      <td>17</td>\n",
       "    </tr>\n",
       "    <tr>\n",
       "      <th>2018-06-04 16:00:00</th>\n",
       "      <td>17</td>\n",
       "    </tr>\n",
       "    <tr>\n",
       "      <th>2018-06-04 21:00:00</th>\n",
       "      <td>17</td>\n",
       "    </tr>\n",
       "    <tr>\n",
       "      <th>2018-06-04 18:00:00</th>\n",
       "      <td>17</td>\n",
       "    </tr>\n",
       "    <tr>\n",
       "      <th>2018-06-04 15:00:00</th>\n",
       "      <td>17</td>\n",
       "    </tr>\n",
       "  </tbody>\n",
       "</table>\n",
       "<p>26280 rows × 1 columns</p>\n",
       "</div>"
      ],
      "text/plain": [
       "                     일시\n",
       "2019-06-15 03:00:00  24\n",
       "2018-05-13 17:00:00  24\n",
       "2019-05-11 23:00:00  24\n",
       "2017-03-09 17:00:00  24\n",
       "2018-04-03 20:00:00  24\n",
       "...                  ..\n",
       "2018-06-04 17:00:00  17\n",
       "2018-06-04 16:00:00  17\n",
       "2018-06-04 21:00:00  17\n",
       "2018-06-04 18:00:00  17\n",
       "2018-06-04 15:00:00  17\n",
       "\n",
       "[26280 rows x 1 columns]"
      ]
     },
     "execution_count": 180,
     "metadata": {},
     "output_type": "execute_result"
    }
   ],
   "source": [
    "location_datetime_num = location_day['일시'].value_counts()\n",
    "location_datetime_num = pd.DataFrame(location_datetime_num)\n",
    "location_datetime_num"
   ]
  },
  {
   "cell_type": "code",
   "execution_count": 222,
   "metadata": {
    "ExecuteTime": {
     "end_time": "2020-07-03T04:42:24.185451Z",
     "start_time": "2020-07-03T04:42:24.171521Z"
    }
   },
   "outputs": [
    {
     "data": {
      "text/html": [
       "<div>\n",
       "<style scoped>\n",
       "    .dataframe tbody tr th:only-of-type {\n",
       "        vertical-align: middle;\n",
       "    }\n",
       "\n",
       "    .dataframe tbody tr th {\n",
       "        vertical-align: top;\n",
       "    }\n",
       "\n",
       "    .dataframe thead th {\n",
       "        text-align: right;\n",
       "    }\n",
       "</style>\n",
       "<table border=\"1\" class=\"dataframe\">\n",
       "  <thead>\n",
       "    <tr style=\"text-align: right;\">\n",
       "      <th></th>\n",
       "      <th>일시</th>\n",
       "    </tr>\n",
       "  </thead>\n",
       "  <tbody>\n",
       "    <tr>\n",
       "      <th>2018-12-31 01:00:00</th>\n",
       "      <td>23</td>\n",
       "    </tr>\n",
       "    <tr>\n",
       "      <th>2019-09-22 10:00:00</th>\n",
       "      <td>23</td>\n",
       "    </tr>\n",
       "    <tr>\n",
       "      <th>2017-11-28 06:00:00</th>\n",
       "      <td>23</td>\n",
       "    </tr>\n",
       "    <tr>\n",
       "      <th>2019-10-17 05:00:00</th>\n",
       "      <td>23</td>\n",
       "    </tr>\n",
       "    <tr>\n",
       "      <th>2019-09-05 18:00:00</th>\n",
       "      <td>23</td>\n",
       "    </tr>\n",
       "    <tr>\n",
       "      <th>...</th>\n",
       "      <td>...</td>\n",
       "    </tr>\n",
       "    <tr>\n",
       "      <th>2018-06-04 17:00:00</th>\n",
       "      <td>17</td>\n",
       "    </tr>\n",
       "    <tr>\n",
       "      <th>2018-06-04 16:00:00</th>\n",
       "      <td>17</td>\n",
       "    </tr>\n",
       "    <tr>\n",
       "      <th>2018-06-04 21:00:00</th>\n",
       "      <td>17</td>\n",
       "    </tr>\n",
       "    <tr>\n",
       "      <th>2018-06-04 18:00:00</th>\n",
       "      <td>17</td>\n",
       "    </tr>\n",
       "    <tr>\n",
       "      <th>2018-06-04 15:00:00</th>\n",
       "      <td>17</td>\n",
       "    </tr>\n",
       "  </tbody>\n",
       "</table>\n",
       "<p>1628 rows × 1 columns</p>\n",
       "</div>"
      ],
      "text/plain": [
       "                     일시\n",
       "2018-12-31 01:00:00  23\n",
       "2019-09-22 10:00:00  23\n",
       "2017-11-28 06:00:00  23\n",
       "2019-10-17 05:00:00  23\n",
       "2019-09-05 18:00:00  23\n",
       "...                  ..\n",
       "2018-06-04 17:00:00  17\n",
       "2018-06-04 16:00:00  17\n",
       "2018-06-04 21:00:00  17\n",
       "2018-06-04 18:00:00  17\n",
       "2018-06-04 15:00:00  17\n",
       "\n",
       "[1628 rows x 1 columns]"
      ]
     },
     "execution_count": 222,
     "metadata": {},
     "output_type": "execute_result"
    }
   ],
   "source": [
    "# 24 미만\n",
    "null_datetime = location_datetime_num[location_datetime_num['일시'] < 24]\n",
    "null_datetime"
   ]
  },
  {
   "cell_type": "code",
   "execution_count": 237,
   "metadata": {
    "ExecuteTime": {
     "end_time": "2020-07-03T04:56:27.004677Z",
     "start_time": "2020-07-03T04:56:26.972764Z"
    }
   },
   "outputs": [
    {
     "data": {
      "text/html": [
       "<div>\n",
       "<style scoped>\n",
       "    .dataframe tbody tr th:only-of-type {\n",
       "        vertical-align: middle;\n",
       "    }\n",
       "\n",
       "    .dataframe tbody tr th {\n",
       "        vertical-align: top;\n",
       "    }\n",
       "\n",
       "    .dataframe thead th {\n",
       "        text-align: right;\n",
       "    }\n",
       "</style>\n",
       "<table border=\"1\" class=\"dataframe\">\n",
       "  <thead>\n",
       "    <tr style=\"text-align: right;\">\n",
       "      <th></th>\n",
       "      <th>지점명</th>\n",
       "      <th>일시</th>\n",
       "    </tr>\n",
       "  </thead>\n",
       "  <tbody>\n",
       "    <tr>\n",
       "      <th>0</th>\n",
       "      <td>강남</td>\n",
       "      <td>2017-01-01 00:00:00</td>\n",
       "    </tr>\n",
       "    <tr>\n",
       "      <th>1</th>\n",
       "      <td>강남</td>\n",
       "      <td>2017-01-01 01:00:00</td>\n",
       "    </tr>\n",
       "    <tr>\n",
       "      <th>2</th>\n",
       "      <td>강남</td>\n",
       "      <td>2017-01-01 02:00:00</td>\n",
       "    </tr>\n",
       "    <tr>\n",
       "      <th>3</th>\n",
       "      <td>강남</td>\n",
       "      <td>2017-01-01 03:00:00</td>\n",
       "    </tr>\n",
       "    <tr>\n",
       "      <th>4</th>\n",
       "      <td>강남</td>\n",
       "      <td>2017-01-01 04:00:00</td>\n",
       "    </tr>\n",
       "    <tr>\n",
       "      <th>...</th>\n",
       "      <td>...</td>\n",
       "      <td>...</td>\n",
       "    </tr>\n",
       "    <tr>\n",
       "      <th>628877</th>\n",
       "      <td>영등포</td>\n",
       "      <td>2018-12-31 19:00:00</td>\n",
       "    </tr>\n",
       "    <tr>\n",
       "      <th>628878</th>\n",
       "      <td>영등포</td>\n",
       "      <td>2018-12-31 20:00:00</td>\n",
       "    </tr>\n",
       "    <tr>\n",
       "      <th>628879</th>\n",
       "      <td>영등포</td>\n",
       "      <td>2018-12-31 21:00:00</td>\n",
       "    </tr>\n",
       "    <tr>\n",
       "      <th>628880</th>\n",
       "      <td>영등포</td>\n",
       "      <td>2018-12-31 22:00:00</td>\n",
       "    </tr>\n",
       "    <tr>\n",
       "      <th>628881</th>\n",
       "      <td>영등포</td>\n",
       "      <td>2018-12-31 23:00:00</td>\n",
       "    </tr>\n",
       "  </tbody>\n",
       "</table>\n",
       "<p>628882 rows × 2 columns</p>\n",
       "</div>"
      ],
      "text/plain": [
       "        지점명                  일시\n",
       "0        강남 2017-01-01 00:00:00\n",
       "1        강남 2017-01-01 01:00:00\n",
       "2        강남 2017-01-01 02:00:00\n",
       "3        강남 2017-01-01 03:00:00\n",
       "4        강남 2017-01-01 04:00:00\n",
       "...     ...                 ...\n",
       "628877  영등포 2018-12-31 19:00:00\n",
       "628878  영등포 2018-12-31 20:00:00\n",
       "628879  영등포 2018-12-31 21:00:00\n",
       "628880  영등포 2018-12-31 22:00:00\n",
       "628881  영등포 2018-12-31 23:00:00\n",
       "\n",
       "[628882 rows x 2 columns]"
      ]
     },
     "execution_count": 237,
     "metadata": {},
     "output_type": "execute_result"
    }
   ],
   "source": [
    "null_location_day = tmp_w2[['지점명','일시']].copy()\n",
    "null_location_day"
   ]
  },
  {
   "cell_type": "code",
   "execution_count": 238,
   "metadata": {
    "ExecuteTime": {
     "end_time": "2020-07-03T04:56:30.585192Z",
     "start_time": "2020-07-03T04:56:30.568240Z"
    }
   },
   "outputs": [],
   "source": [
    "null_location_day['지점명'] = ''\n",
    "null_location_day['일시'] = ''"
   ]
  },
  {
   "cell_type": "code",
   "execution_count": 239,
   "metadata": {
    "ExecuteTime": {
     "end_time": "2020-07-03T04:56:31.206742Z",
     "start_time": "2020-07-03T04:56:31.194810Z"
    }
   },
   "outputs": [
    {
     "data": {
      "text/html": [
       "<div>\n",
       "<style scoped>\n",
       "    .dataframe tbody tr th:only-of-type {\n",
       "        vertical-align: middle;\n",
       "    }\n",
       "\n",
       "    .dataframe tbody tr th {\n",
       "        vertical-align: top;\n",
       "    }\n",
       "\n",
       "    .dataframe thead th {\n",
       "        text-align: right;\n",
       "    }\n",
       "</style>\n",
       "<table border=\"1\" class=\"dataframe\">\n",
       "  <thead>\n",
       "    <tr style=\"text-align: right;\">\n",
       "      <th></th>\n",
       "      <th>지점명</th>\n",
       "      <th>일시</th>\n",
       "    </tr>\n",
       "  </thead>\n",
       "  <tbody>\n",
       "    <tr>\n",
       "      <th>0</th>\n",
       "      <td></td>\n",
       "      <td></td>\n",
       "    </tr>\n",
       "    <tr>\n",
       "      <th>1</th>\n",
       "      <td></td>\n",
       "      <td></td>\n",
       "    </tr>\n",
       "    <tr>\n",
       "      <th>2</th>\n",
       "      <td></td>\n",
       "      <td></td>\n",
       "    </tr>\n",
       "    <tr>\n",
       "      <th>3</th>\n",
       "      <td></td>\n",
       "      <td></td>\n",
       "    </tr>\n",
       "    <tr>\n",
       "      <th>4</th>\n",
       "      <td></td>\n",
       "      <td></td>\n",
       "    </tr>\n",
       "  </tbody>\n",
       "</table>\n",
       "</div>"
      ],
      "text/plain": [
       "  지점명 일시\n",
       "0       \n",
       "1       \n",
       "2       \n",
       "3       \n",
       "4       "
      ]
     },
     "execution_count": 239,
     "metadata": {},
     "output_type": "execute_result"
    }
   ],
   "source": [
    "null_location_day.head()"
   ]
  },
  {
   "cell_type": "markdown",
   "metadata": {
    "ExecuteTime": {
     "end_time": "2020-07-03T03:30:07.699851Z",
     "start_time": "2020-07-03T03:30:07.695853Z"
    }
   },
   "source": [
    "### 없는 지점명, 일시(시간포함) 찾아서, null_location_day에 index 0부터 차례대로 값 넣어주기!\n",
    "- 완주하지 못한 선수처럼 해결해보자\n",
    "- null인 일시(null_datetime.index)는 있고, 그 일시 중 어느지점이비었는지 찾는게 목표!\n",
    "    - 전체 지점 list, 해당 일시 지점 list\n",
    "    - 전체 지점[i] not in 해당 일시 지점 list   => True값의 지점을 null_location_day에 index차례대로 하나씩 추가"
   ]
  },
  {
   "cell_type": "code",
   "execution_count": 220,
   "metadata": {
    "ExecuteTime": {
     "end_time": "2020-07-03T04:40:25.477212Z",
     "start_time": "2020-07-03T04:40:25.466271Z"
    }
   },
   "outputs": [
    {
     "name": "stdout",
     "output_type": "stream",
     "text": [
      "24\n"
     ]
    },
    {
     "data": {
      "text/plain": [
       "['강남',\n",
       " '서초',\n",
       " '강동',\n",
       " '송파',\n",
       " '강서',\n",
       " '양천',\n",
       " '도봉',\n",
       " '노원',\n",
       " '동대문',\n",
       " '중랑',\n",
       " '기상청',\n",
       " '마포',\n",
       " '서대문',\n",
       " '광진',\n",
       " '성북',\n",
       " '용산',\n",
       " '은평',\n",
       " '금천',\n",
       " '중구',\n",
       " '성동',\n",
       " '구로',\n",
       " '강북',\n",
       " '남현',\n",
       " '영등포']"
      ]
     },
     "execution_count": 220,
     "metadata": {},
     "output_type": "execute_result"
    }
   ],
   "source": [
    "# 온전한 전체 지점 list 생성\n",
    "full_name = location_day[location_day['일시'] == '2019-06-15 03:00:00']['지점명']\n",
    "full_name = list(full_name)\n",
    "print(len(full_name))   # 종로구 없어서 24개가 맞음\n",
    "full_name"
   ]
  },
  {
   "cell_type": "code",
   "execution_count": 224,
   "metadata": {
    "ExecuteTime": {
     "end_time": "2020-07-03T04:43:04.095079Z",
     "start_time": "2020-07-03T04:43:04.088130Z"
    }
   },
   "outputs": [
    {
     "data": {
      "text/plain": [
       "DatetimeIndex(['2018-12-31 01:00:00', '2019-09-22 10:00:00',\n",
       "               '2017-11-28 06:00:00', '2019-10-17 05:00:00',\n",
       "               '2019-09-05 18:00:00', '2018-08-13 10:00:00',\n",
       "               '2019-08-31 10:00:00', '2018-10-28 17:00:00',\n",
       "               '2017-11-26 21:00:00', '2017-09-20 06:00:00',\n",
       "               ...\n",
       "               '2018-11-24 16:00:00', '2018-11-24 22:00:00',\n",
       "               '2018-06-04 22:00:00', '2018-06-04 19:00:00',\n",
       "               '2018-06-04 20:00:00', '2018-06-04 17:00:00',\n",
       "               '2018-06-04 16:00:00', '2018-06-04 21:00:00',\n",
       "               '2018-06-04 18:00:00', '2018-06-04 15:00:00'],\n",
       "              dtype='datetime64[ns]', length=1628, freq=None)"
      ]
     },
     "execution_count": 224,
     "metadata": {},
     "output_type": "execute_result"
    }
   ],
   "source": [
    "null_datetime.index"
   ]
  },
  {
   "cell_type": "code",
   "execution_count": 240,
   "metadata": {
    "ExecuteTime": {
     "end_time": "2020-07-03T04:56:49.383876Z",
     "start_time": "2020-07-03T04:56:45.586237Z"
    }
   },
   "outputs": [],
   "source": [
    "cnt = 0\n",
    "for i in null_datetime.index:\n",
    "    null_name = location_day[location_day['일시'] == i]['지점명']\n",
    "    null_name = list(null_name)\n",
    "    for j in range(len(full_name)):  # 24번\n",
    "        if full_name[j] not in null_name:\n",
    "            null_location_day.loc[cnt, '지점명'] = full_name[j]\n",
    "            null_location_day.loc[cnt, '일시'] = i\n",
    "            cnt += 1"
   ]
  },
  {
   "cell_type": "code",
   "execution_count": 247,
   "metadata": {
    "ExecuteTime": {
     "end_time": "2020-07-03T04:58:54.801506Z",
     "start_time": "2020-07-03T04:58:54.621986Z"
    }
   },
   "outputs": [
    {
     "data": {
      "text/html": [
       "<div>\n",
       "<style scoped>\n",
       "    .dataframe tbody tr th:only-of-type {\n",
       "        vertical-align: middle;\n",
       "    }\n",
       "\n",
       "    .dataframe tbody tr th {\n",
       "        vertical-align: top;\n",
       "    }\n",
       "\n",
       "    .dataframe thead th {\n",
       "        text-align: right;\n",
       "    }\n",
       "</style>\n",
       "<table border=\"1\" class=\"dataframe\">\n",
       "  <thead>\n",
       "    <tr style=\"text-align: right;\">\n",
       "      <th></th>\n",
       "      <th>지점명</th>\n",
       "      <th>일시</th>\n",
       "    </tr>\n",
       "  </thead>\n",
       "  <tbody>\n",
       "    <tr>\n",
       "      <th>0</th>\n",
       "      <td>용산</td>\n",
       "      <td>2018-12-31 01:00:00</td>\n",
       "    </tr>\n",
       "    <tr>\n",
       "      <th>1</th>\n",
       "      <td>용산</td>\n",
       "      <td>2019-09-22 10:00:00</td>\n",
       "    </tr>\n",
       "    <tr>\n",
       "      <th>2</th>\n",
       "      <td>은평</td>\n",
       "      <td>2017-11-28 06:00:00</td>\n",
       "    </tr>\n",
       "    <tr>\n",
       "      <th>3</th>\n",
       "      <td>강서</td>\n",
       "      <td>2019-10-17 05:00:00</td>\n",
       "    </tr>\n",
       "    <tr>\n",
       "      <th>4</th>\n",
       "      <td>강남</td>\n",
       "      <td>2019-09-05 18:00:00</td>\n",
       "    </tr>\n",
       "    <tr>\n",
       "      <th>...</th>\n",
       "      <td>...</td>\n",
       "      <td>...</td>\n",
       "    </tr>\n",
       "    <tr>\n",
       "      <th>1833</th>\n",
       "      <td>노원</td>\n",
       "      <td>2018-06-04 15:00:00</td>\n",
       "    </tr>\n",
       "    <tr>\n",
       "      <th>1834</th>\n",
       "      <td>기상청</td>\n",
       "      <td>2018-06-04 15:00:00</td>\n",
       "    </tr>\n",
       "    <tr>\n",
       "      <th>1835</th>\n",
       "      <td>광진</td>\n",
       "      <td>2018-06-04 15:00:00</td>\n",
       "    </tr>\n",
       "    <tr>\n",
       "      <th>1836</th>\n",
       "      <td>성북</td>\n",
       "      <td>2018-06-04 15:00:00</td>\n",
       "    </tr>\n",
       "    <tr>\n",
       "      <th>1837</th>\n",
       "      <td>금천</td>\n",
       "      <td>2018-06-04 15:00:00</td>\n",
       "    </tr>\n",
       "  </tbody>\n",
       "</table>\n",
       "<p>1838 rows × 2 columns</p>\n",
       "</div>"
      ],
      "text/plain": [
       "      지점명                   일시\n",
       "0      용산  2018-12-31 01:00:00\n",
       "1      용산  2019-09-22 10:00:00\n",
       "2      은평  2017-11-28 06:00:00\n",
       "3      강서  2019-10-17 05:00:00\n",
       "4      강남  2019-09-05 18:00:00\n",
       "...   ...                  ...\n",
       "1833   노원  2018-06-04 15:00:00\n",
       "1834  기상청  2018-06-04 15:00:00\n",
       "1835   광진  2018-06-04 15:00:00\n",
       "1836   성북  2018-06-04 15:00:00\n",
       "1837   금천  2018-06-04 15:00:00\n",
       "\n",
       "[1838 rows x 2 columns]"
      ]
     },
     "execution_count": 247,
     "metadata": {},
     "output_type": "execute_result"
    }
   ],
   "source": [
    "null_location_day.drop(drop_index, inplace = True)\n",
    "null_location_day  # 1838"
   ]
  },
  {
   "cell_type": "code",
   "execution_count": 251,
   "metadata": {
    "ExecuteTime": {
     "end_time": "2020-07-03T05:01:54.248451Z",
     "start_time": "2020-07-03T05:01:54.240476Z"
    }
   },
   "outputs": [
    {
     "data": {
      "text/plain": [
       "강남     296\n",
       "마포     202\n",
       "은평     199\n",
       "용산     165\n",
       "금천     151\n",
       "중랑     146\n",
       "중구     130\n",
       "강서     122\n",
       "송파      59\n",
       "광진      54\n",
       "강동      52\n",
       "서대문     44\n",
       "도봉      32\n",
       "남현      32\n",
       "성북      28\n",
       "강북      27\n",
       "구로      24\n",
       "양천      22\n",
       "영등포     22\n",
       "서초      12\n",
       "기상청     10\n",
       "노원       8\n",
       "동대문      1\n",
       "Name: 지점명, dtype: int64"
      ]
     },
     "execution_count": 251,
     "metadata": {},
     "output_type": "execute_result"
    }
   ],
   "source": [
    "null_location_day['지점명'].value_counts()   "
   ]
  },
  {
   "cell_type": "markdown",
   "metadata": {},
   "source": [
    "## 구별 빈 날짜 data를 인접 구의 데이터로 대체"
   ]
  },
  {
   "cell_type": "markdown",
   "metadata": {},
   "source": [
    "### 온전한 데이터 만들고 나중에 행추가 방식으로 merge할 예정이라, 온전한 데이터 셋 형태 만들어주기"
   ]
  },
  {
   "cell_type": "markdown",
   "metadata": {},
   "source": [
    "- 지점 넘버,주소,구 merge"
   ]
  },
  {
   "cell_type": "code",
   "execution_count": 149,
   "metadata": {
    "ExecuteTime": {
     "end_time": "2020-07-05T12:51:55.599534Z",
     "start_time": "2020-07-05T12:51:55.560639Z"
    }
   },
   "outputs": [
    {
     "data": {
      "text/html": [
       "<div>\n",
       "<style scoped>\n",
       "    .dataframe tbody tr th:only-of-type {\n",
       "        vertical-align: middle;\n",
       "    }\n",
       "\n",
       "    .dataframe tbody tr th {\n",
       "        vertical-align: top;\n",
       "    }\n",
       "\n",
       "    .dataframe thead th {\n",
       "        text-align: right;\n",
       "    }\n",
       "</style>\n",
       "<table border=\"1\" class=\"dataframe\">\n",
       "  <thead>\n",
       "    <tr style=\"text-align: right;\">\n",
       "      <th></th>\n",
       "      <th>지점명</th>\n",
       "      <th>일시</th>\n",
       "      <th>지점</th>\n",
       "      <th>주소</th>\n",
       "      <th>구</th>\n",
       "    </tr>\n",
       "  </thead>\n",
       "  <tbody>\n",
       "    <tr>\n",
       "      <th>0</th>\n",
       "      <td>용산</td>\n",
       "      <td>2018-12-31 01:00:00</td>\n",
       "      <td>415</td>\n",
       "      <td>서울특별시 용산구 이촌동</td>\n",
       "      <td>용산구</td>\n",
       "    </tr>\n",
       "    <tr>\n",
       "      <th>1</th>\n",
       "      <td>용산</td>\n",
       "      <td>2019-09-22 10:00:00</td>\n",
       "      <td>415</td>\n",
       "      <td>서울특별시 용산구 이촌동</td>\n",
       "      <td>용산구</td>\n",
       "    </tr>\n",
       "    <tr>\n",
       "      <th>2</th>\n",
       "      <td>은평</td>\n",
       "      <td>2017-11-28 06:00:00</td>\n",
       "      <td>416</td>\n",
       "      <td>서울특별시 은평구 진관동</td>\n",
       "      <td>은평구</td>\n",
       "    </tr>\n",
       "    <tr>\n",
       "      <th>3</th>\n",
       "      <td>강서</td>\n",
       "      <td>2019-10-17 05:00:00</td>\n",
       "      <td>404</td>\n",
       "      <td>서울특별시 강서구 화곡동</td>\n",
       "      <td>강서구</td>\n",
       "    </tr>\n",
       "    <tr>\n",
       "      <th>4</th>\n",
       "      <td>강남</td>\n",
       "      <td>2019-09-05 18:00:00</td>\n",
       "      <td>400</td>\n",
       "      <td>서울특별시 강남구 일원동</td>\n",
       "      <td>강남구</td>\n",
       "    </tr>\n",
       "    <tr>\n",
       "      <th>...</th>\n",
       "      <td>...</td>\n",
       "      <td>...</td>\n",
       "      <td>...</td>\n",
       "      <td>...</td>\n",
       "      <td>...</td>\n",
       "    </tr>\n",
       "    <tr>\n",
       "      <th>1833</th>\n",
       "      <td>노원</td>\n",
       "      <td>2018-06-04 15:00:00</td>\n",
       "      <td>407</td>\n",
       "      <td>서울특별시 노원구 공릉동</td>\n",
       "      <td>노원구</td>\n",
       "    </tr>\n",
       "    <tr>\n",
       "      <th>1834</th>\n",
       "      <td>기상청</td>\n",
       "      <td>2018-06-04 15:00:00</td>\n",
       "      <td>410</td>\n",
       "      <td>서울특별시 동작구 신대방동</td>\n",
       "      <td>동작구</td>\n",
       "    </tr>\n",
       "    <tr>\n",
       "      <th>1835</th>\n",
       "      <td>광진</td>\n",
       "      <td>2018-06-04 15:00:00</td>\n",
       "      <td>413</td>\n",
       "      <td>서울특별시 광진구 자양동</td>\n",
       "      <td>광진구</td>\n",
       "    </tr>\n",
       "    <tr>\n",
       "      <th>1836</th>\n",
       "      <td>성북</td>\n",
       "      <td>2018-06-04 15:00:00</td>\n",
       "      <td>414</td>\n",
       "      <td>서울특별시 성북구 정릉동</td>\n",
       "      <td>성북구</td>\n",
       "    </tr>\n",
       "    <tr>\n",
       "      <th>1837</th>\n",
       "      <td>금천</td>\n",
       "      <td>2018-06-04 15:00:00</td>\n",
       "      <td>417</td>\n",
       "      <td>서울특별시 금천구 독산동</td>\n",
       "      <td>금천구</td>\n",
       "    </tr>\n",
       "  </tbody>\n",
       "</table>\n",
       "<p>1838 rows × 5 columns</p>\n",
       "</div>"
      ],
      "text/plain": [
       "      지점명                   일시   지점              주소    구\n",
       "0      용산  2018-12-31 01:00:00  415   서울특별시 용산구 이촌동  용산구\n",
       "1      용산  2019-09-22 10:00:00  415   서울특별시 용산구 이촌동  용산구\n",
       "2      은평  2017-11-28 06:00:00  416   서울특별시 은평구 진관동  은평구\n",
       "3      강서  2019-10-17 05:00:00  404   서울특별시 강서구 화곡동  강서구\n",
       "4      강남  2019-09-05 18:00:00  400   서울특별시 강남구 일원동  강남구\n",
       "...   ...                  ...  ...             ...  ...\n",
       "1833   노원  2018-06-04 15:00:00  407   서울특별시 노원구 공릉동  노원구\n",
       "1834  기상청  2018-06-04 15:00:00  410  서울특별시 동작구 신대방동  동작구\n",
       "1835   광진  2018-06-04 15:00:00  413   서울특별시 광진구 자양동  광진구\n",
       "1836   성북  2018-06-04 15:00:00  414   서울특별시 성북구 정릉동  성북구\n",
       "1837   금천  2018-06-04 15:00:00  417   서울특별시 금천구 독산동  금천구\n",
       "\n",
       "[1838 rows x 5 columns]"
      ]
     },
     "execution_count": 149,
     "metadata": {},
     "output_type": "execute_result"
    }
   ],
   "source": [
    "null_location_day = pd.merge(null_location_day, location_num, how = 'left', on = '지점명')\n",
    "null_location_day  #1838"
   ]
  },
  {
   "cell_type": "code",
   "execution_count": 150,
   "metadata": {
    "ExecuteTime": {
     "end_time": "2020-07-05T12:52:00.662346Z",
     "start_time": "2020-07-05T12:52:00.632430Z"
    }
   },
   "outputs": [
    {
     "data": {
      "text/html": [
       "<div>\n",
       "<style scoped>\n",
       "    .dataframe tbody tr th:only-of-type {\n",
       "        vertical-align: middle;\n",
       "    }\n",
       "\n",
       "    .dataframe tbody tr th {\n",
       "        vertical-align: top;\n",
       "    }\n",
       "\n",
       "    .dataframe thead th {\n",
       "        text-align: right;\n",
       "    }\n",
       "</style>\n",
       "<table border=\"1\" class=\"dataframe\">\n",
       "  <thead>\n",
       "    <tr style=\"text-align: right;\">\n",
       "      <th></th>\n",
       "      <th>지점</th>\n",
       "      <th>지점명</th>\n",
       "      <th>일시</th>\n",
       "      <th>주소</th>\n",
       "      <th>구</th>\n",
       "    </tr>\n",
       "  </thead>\n",
       "  <tbody>\n",
       "    <tr>\n",
       "      <th>0</th>\n",
       "      <td>415</td>\n",
       "      <td>용산</td>\n",
       "      <td>2018-12-31 01:00:00</td>\n",
       "      <td>서울특별시 용산구 이촌동</td>\n",
       "      <td>용산구</td>\n",
       "    </tr>\n",
       "    <tr>\n",
       "      <th>1</th>\n",
       "      <td>415</td>\n",
       "      <td>용산</td>\n",
       "      <td>2019-09-22 10:00:00</td>\n",
       "      <td>서울특별시 용산구 이촌동</td>\n",
       "      <td>용산구</td>\n",
       "    </tr>\n",
       "    <tr>\n",
       "      <th>2</th>\n",
       "      <td>416</td>\n",
       "      <td>은평</td>\n",
       "      <td>2017-11-28 06:00:00</td>\n",
       "      <td>서울특별시 은평구 진관동</td>\n",
       "      <td>은평구</td>\n",
       "    </tr>\n",
       "    <tr>\n",
       "      <th>3</th>\n",
       "      <td>404</td>\n",
       "      <td>강서</td>\n",
       "      <td>2019-10-17 05:00:00</td>\n",
       "      <td>서울특별시 강서구 화곡동</td>\n",
       "      <td>강서구</td>\n",
       "    </tr>\n",
       "    <tr>\n",
       "      <th>4</th>\n",
       "      <td>400</td>\n",
       "      <td>강남</td>\n",
       "      <td>2019-09-05 18:00:00</td>\n",
       "      <td>서울특별시 강남구 일원동</td>\n",
       "      <td>강남구</td>\n",
       "    </tr>\n",
       "    <tr>\n",
       "      <th>...</th>\n",
       "      <td>...</td>\n",
       "      <td>...</td>\n",
       "      <td>...</td>\n",
       "      <td>...</td>\n",
       "      <td>...</td>\n",
       "    </tr>\n",
       "    <tr>\n",
       "      <th>1833</th>\n",
       "      <td>407</td>\n",
       "      <td>노원</td>\n",
       "      <td>2018-06-04 15:00:00</td>\n",
       "      <td>서울특별시 노원구 공릉동</td>\n",
       "      <td>노원구</td>\n",
       "    </tr>\n",
       "    <tr>\n",
       "      <th>1834</th>\n",
       "      <td>410</td>\n",
       "      <td>기상청</td>\n",
       "      <td>2018-06-04 15:00:00</td>\n",
       "      <td>서울특별시 동작구 신대방동</td>\n",
       "      <td>동작구</td>\n",
       "    </tr>\n",
       "    <tr>\n",
       "      <th>1835</th>\n",
       "      <td>413</td>\n",
       "      <td>광진</td>\n",
       "      <td>2018-06-04 15:00:00</td>\n",
       "      <td>서울특별시 광진구 자양동</td>\n",
       "      <td>광진구</td>\n",
       "    </tr>\n",
       "    <tr>\n",
       "      <th>1836</th>\n",
       "      <td>414</td>\n",
       "      <td>성북</td>\n",
       "      <td>2018-06-04 15:00:00</td>\n",
       "      <td>서울특별시 성북구 정릉동</td>\n",
       "      <td>성북구</td>\n",
       "    </tr>\n",
       "    <tr>\n",
       "      <th>1837</th>\n",
       "      <td>417</td>\n",
       "      <td>금천</td>\n",
       "      <td>2018-06-04 15:00:00</td>\n",
       "      <td>서울특별시 금천구 독산동</td>\n",
       "      <td>금천구</td>\n",
       "    </tr>\n",
       "  </tbody>\n",
       "</table>\n",
       "<p>1838 rows × 5 columns</p>\n",
       "</div>"
      ],
      "text/plain": [
       "       지점  지점명                   일시              주소    구\n",
       "0     415   용산  2018-12-31 01:00:00   서울특별시 용산구 이촌동  용산구\n",
       "1     415   용산  2019-09-22 10:00:00   서울특별시 용산구 이촌동  용산구\n",
       "2     416   은평  2017-11-28 06:00:00   서울특별시 은평구 진관동  은평구\n",
       "3     404   강서  2019-10-17 05:00:00   서울특별시 강서구 화곡동  강서구\n",
       "4     400   강남  2019-09-05 18:00:00   서울특별시 강남구 일원동  강남구\n",
       "...   ...  ...                  ...             ...  ...\n",
       "1833  407   노원  2018-06-04 15:00:00   서울특별시 노원구 공릉동  노원구\n",
       "1834  410  기상청  2018-06-04 15:00:00  서울특별시 동작구 신대방동  동작구\n",
       "1835  413   광진  2018-06-04 15:00:00   서울특별시 광진구 자양동  광진구\n",
       "1836  414   성북  2018-06-04 15:00:00   서울특별시 성북구 정릉동  성북구\n",
       "1837  417   금천  2018-06-04 15:00:00   서울특별시 금천구 독산동  금천구\n",
       "\n",
       "[1838 rows x 5 columns]"
      ]
     },
     "execution_count": 150,
     "metadata": {},
     "output_type": "execute_result"
    }
   ],
   "source": [
    "null_location_day = null_location_day[['지점','지점명','일시','주소','구']]\n",
    "null_location_day"
   ]
  },
  {
   "cell_type": "markdown",
   "metadata": {},
   "source": [
    "### 구별 인접 데이터로 대체\n",
    "- ex. 강남 null은 송파, 서초의 데이터에서 가져와서 대체"
   ]
  },
  {
   "cell_type": "markdown",
   "metadata": {},
   "source": [
    "- 강남 296개"
   ]
  },
  {
   "cell_type": "code",
   "execution_count": 162,
   "metadata": {
    "ExecuteTime": {
     "end_time": "2020-07-05T12:53:39.518012Z",
     "start_time": "2020-07-05T12:53:39.079052Z"
    }
   },
   "outputs": [],
   "source": [
    "# 강남 null은 송파 데이터에서 가져와서 대체\n",
    "nld1 = null_location_day[null_location_day['지점명'] == '강남']\n",
    "w1 = weather[weather['지점명'].str.contains('송파')].copy()"
   ]
  },
  {
   "cell_type": "code",
   "execution_count": 152,
   "metadata": {
    "ExecuteTime": {
     "end_time": "2020-07-05T12:52:16.274911Z",
     "start_time": "2020-07-05T12:52:16.267966Z"
    }
   },
   "outputs": [
    {
     "data": {
      "text/plain": [
       "(296, 5)"
      ]
     },
     "execution_count": 152,
     "metadata": {},
     "output_type": "execute_result"
    }
   ],
   "source": [
    "nld1.shape"
   ]
  },
  {
   "cell_type": "code",
   "execution_count": 153,
   "metadata": {
    "ExecuteTime": {
     "end_time": "2020-07-05T12:52:16.761328Z",
     "start_time": "2020-07-05T12:52:16.742380Z"
    }
   },
   "outputs": [
    {
     "data": {
      "text/html": [
       "<div>\n",
       "<style scoped>\n",
       "    .dataframe tbody tr th:only-of-type {\n",
       "        vertical-align: middle;\n",
       "    }\n",
       "\n",
       "    .dataframe tbody tr th {\n",
       "        vertical-align: top;\n",
       "    }\n",
       "\n",
       "    .dataframe thead th {\n",
       "        text-align: right;\n",
       "    }\n",
       "</style>\n",
       "<table border=\"1\" class=\"dataframe\">\n",
       "  <thead>\n",
       "    <tr style=\"text-align: right;\">\n",
       "      <th></th>\n",
       "      <th>지점</th>\n",
       "      <th>지점명</th>\n",
       "      <th>일시</th>\n",
       "      <th>주소</th>\n",
       "      <th>구</th>\n",
       "    </tr>\n",
       "  </thead>\n",
       "  <tbody>\n",
       "    <tr>\n",
       "      <th>4</th>\n",
       "      <td>400</td>\n",
       "      <td>강남</td>\n",
       "      <td>2019-09-05 18:00:00</td>\n",
       "      <td>서울특별시 강남구 일원동</td>\n",
       "      <td>강남구</td>\n",
       "    </tr>\n",
       "    <tr>\n",
       "      <th>6</th>\n",
       "      <td>400</td>\n",
       "      <td>강남</td>\n",
       "      <td>2019-08-31 10:00:00</td>\n",
       "      <td>서울특별시 강남구 일원동</td>\n",
       "      <td>강남구</td>\n",
       "    </tr>\n",
       "    <tr>\n",
       "      <th>11</th>\n",
       "      <td>400</td>\n",
       "      <td>강남</td>\n",
       "      <td>2019-09-08 10:00:00</td>\n",
       "      <td>서울특별시 강남구 일원동</td>\n",
       "      <td>강남구</td>\n",
       "    </tr>\n",
       "    <tr>\n",
       "      <th>12</th>\n",
       "      <td>400</td>\n",
       "      <td>강남</td>\n",
       "      <td>2018-04-15 02:00:00</td>\n",
       "      <td>서울특별시 강남구 일원동</td>\n",
       "      <td>강남구</td>\n",
       "    </tr>\n",
       "    <tr>\n",
       "      <th>14</th>\n",
       "      <td>400</td>\n",
       "      <td>강남</td>\n",
       "      <td>2019-09-08 07:00:00</td>\n",
       "      <td>서울특별시 강남구 일원동</td>\n",
       "      <td>강남구</td>\n",
       "    </tr>\n",
       "  </tbody>\n",
       "</table>\n",
       "</div>"
      ],
      "text/plain": [
       "     지점 지점명                   일시             주소    구\n",
       "4   400  강남  2019-09-05 18:00:00  서울특별시 강남구 일원동  강남구\n",
       "6   400  강남  2019-08-31 10:00:00  서울특별시 강남구 일원동  강남구\n",
       "11  400  강남  2019-09-08 10:00:00  서울특별시 강남구 일원동  강남구\n",
       "12  400  강남  2018-04-15 02:00:00  서울특별시 강남구 일원동  강남구\n",
       "14  400  강남  2019-09-08 07:00:00  서울특별시 강남구 일원동  강남구"
      ]
     },
     "execution_count": 153,
     "metadata": {},
     "output_type": "execute_result"
    }
   ],
   "source": [
    "nld1.head()"
   ]
  },
  {
   "cell_type": "code",
   "execution_count": 163,
   "metadata": {
    "ExecuteTime": {
     "end_time": "2020-07-05T12:53:41.797638Z",
     "start_time": "2020-07-05T12:53:41.788664Z"
    }
   },
   "outputs": [
    {
     "data": {
      "text/plain": [
       "강남    296\n",
       "Name: 지점명, dtype: int64"
      ]
     },
     "execution_count": 163,
     "metadata": {},
     "output_type": "execute_result"
    }
   ],
   "source": [
    "nld1['지점명'].value_counts()"
   ]
  },
  {
   "cell_type": "code",
   "execution_count": 164,
   "metadata": {
    "ExecuteTime": {
     "end_time": "2020-07-05T12:53:42.616658Z",
     "start_time": "2020-07-05T12:53:42.579758Z"
    }
   },
   "outputs": [
    {
     "data": {
      "text/html": [
       "<div>\n",
       "<style scoped>\n",
       "    .dataframe tbody tr th:only-of-type {\n",
       "        vertical-align: middle;\n",
       "    }\n",
       "\n",
       "    .dataframe tbody tr th {\n",
       "        vertical-align: top;\n",
       "    }\n",
       "\n",
       "    .dataframe thead th {\n",
       "        text-align: right;\n",
       "    }\n",
       "</style>\n",
       "<table border=\"1\" class=\"dataframe\">\n",
       "  <thead>\n",
       "    <tr style=\"text-align: right;\">\n",
       "      <th></th>\n",
       "      <th>지점</th>\n",
       "      <th>지점명</th>\n",
       "      <th>일시</th>\n",
       "      <th>기온</th>\n",
       "      <th>풍속(m/s)</th>\n",
       "      <th>강수량(mm)</th>\n",
       "      <th>습도(%)</th>\n",
       "      <th>일조(hr)</th>\n",
       "      <th>적설(cm)</th>\n",
       "      <th>전운량(10분위)</th>\n",
       "      <th>주소</th>\n",
       "      <th>구</th>\n",
       "      <th>눈내림</th>\n",
       "      <th>눈내림2</th>\n",
       "      <th>시간</th>\n",
       "      <th>전운량(10분위)2</th>\n",
       "    </tr>\n",
       "  </thead>\n",
       "  <tbody>\n",
       "    <tr>\n",
       "      <th>6480</th>\n",
       "      <td>403</td>\n",
       "      <td>송파</td>\n",
       "      <td>2017-01-01 00:00:00</td>\n",
       "      <td>2.9</td>\n",
       "      <td>1.2</td>\n",
       "      <td>0.0</td>\n",
       "      <td>79.0</td>\n",
       "      <td>0.0</td>\n",
       "      <td>NaN</td>\n",
       "      <td>7.0</td>\n",
       "      <td>서울특별시 송파구 잠실동</td>\n",
       "      <td>송파구</td>\n",
       "      <td>0</td>\n",
       "      <td>0</td>\n",
       "      <td>00:00:00</td>\n",
       "      <td>7.0</td>\n",
       "    </tr>\n",
       "    <tr>\n",
       "      <th>6481</th>\n",
       "      <td>403</td>\n",
       "      <td>송파</td>\n",
       "      <td>2017-01-01 01:00:00</td>\n",
       "      <td>2.2</td>\n",
       "      <td>1.3</td>\n",
       "      <td>0.0</td>\n",
       "      <td>78.0</td>\n",
       "      <td>0.0</td>\n",
       "      <td>NaN</td>\n",
       "      <td>NaN</td>\n",
       "      <td>서울특별시 송파구 잠실동</td>\n",
       "      <td>송파구</td>\n",
       "      <td>0</td>\n",
       "      <td>0</td>\n",
       "      <td>01:00:00</td>\n",
       "      <td>7.0</td>\n",
       "    </tr>\n",
       "    <tr>\n",
       "      <th>6482</th>\n",
       "      <td>403</td>\n",
       "      <td>송파</td>\n",
       "      <td>2017-01-01 02:00:00</td>\n",
       "      <td>1.7</td>\n",
       "      <td>1.1</td>\n",
       "      <td>0.0</td>\n",
       "      <td>81.0</td>\n",
       "      <td>0.0</td>\n",
       "      <td>NaN</td>\n",
       "      <td>NaN</td>\n",
       "      <td>서울특별시 송파구 잠실동</td>\n",
       "      <td>송파구</td>\n",
       "      <td>0</td>\n",
       "      <td>0</td>\n",
       "      <td>02:00:00</td>\n",
       "      <td>7.0</td>\n",
       "    </tr>\n",
       "    <tr>\n",
       "      <th>6483</th>\n",
       "      <td>403</td>\n",
       "      <td>송파</td>\n",
       "      <td>2017-01-01 03:00:00</td>\n",
       "      <td>1.3</td>\n",
       "      <td>0.6</td>\n",
       "      <td>0.0</td>\n",
       "      <td>84.0</td>\n",
       "      <td>0.0</td>\n",
       "      <td>NaN</td>\n",
       "      <td>0.0</td>\n",
       "      <td>서울특별시 송파구 잠실동</td>\n",
       "      <td>송파구</td>\n",
       "      <td>0</td>\n",
       "      <td>0</td>\n",
       "      <td>03:00:00</td>\n",
       "      <td>0.0</td>\n",
       "    </tr>\n",
       "    <tr>\n",
       "      <th>6484</th>\n",
       "      <td>403</td>\n",
       "      <td>송파</td>\n",
       "      <td>2017-01-01 04:00:00</td>\n",
       "      <td>0.7</td>\n",
       "      <td>0.3</td>\n",
       "      <td>0.0</td>\n",
       "      <td>85.0</td>\n",
       "      <td>0.0</td>\n",
       "      <td>NaN</td>\n",
       "      <td>0.0</td>\n",
       "      <td>서울특별시 송파구 잠실동</td>\n",
       "      <td>송파구</td>\n",
       "      <td>0</td>\n",
       "      <td>0</td>\n",
       "      <td>04:00:00</td>\n",
       "      <td>0.0</td>\n",
       "    </tr>\n",
       "  </tbody>\n",
       "</table>\n",
       "</div>"
      ],
      "text/plain": [
       "       지점 지점명                   일시   기온  풍속(m/s)  강수량(mm)  습도(%)  일조(hr)  \\\n",
       "6480  403  송파  2017-01-01 00:00:00  2.9      1.2      0.0   79.0     0.0   \n",
       "6481  403  송파  2017-01-01 01:00:00  2.2      1.3      0.0   78.0     0.0   \n",
       "6482  403  송파  2017-01-01 02:00:00  1.7      1.1      0.0   81.0     0.0   \n",
       "6483  403  송파  2017-01-01 03:00:00  1.3      0.6      0.0   84.0     0.0   \n",
       "6484  403  송파  2017-01-01 04:00:00  0.7      0.3      0.0   85.0     0.0   \n",
       "\n",
       "      적설(cm)  전운량(10분위)             주소    구  눈내림  눈내림2        시간  전운량(10분위)2  \n",
       "6480     NaN        7.0  서울특별시 송파구 잠실동  송파구    0     0  00:00:00         7.0  \n",
       "6481     NaN        NaN  서울특별시 송파구 잠실동  송파구    0     0  01:00:00         7.0  \n",
       "6482     NaN        NaN  서울특별시 송파구 잠실동  송파구    0     0  02:00:00         7.0  \n",
       "6483     NaN        0.0  서울특별시 송파구 잠실동  송파구    0     0  03:00:00         0.0  \n",
       "6484     NaN        0.0  서울특별시 송파구 잠실동  송파구    0     0  04:00:00         0.0  "
      ]
     },
     "execution_count": 164,
     "metadata": {},
     "output_type": "execute_result"
    }
   ],
   "source": [
    "w1.head()"
   ]
  },
  {
   "cell_type": "code",
   "execution_count": 165,
   "metadata": {
    "ExecuteTime": {
     "end_time": "2020-07-05T12:53:45.095494Z",
     "start_time": "2020-07-05T12:53:45.080532Z"
    }
   },
   "outputs": [
    {
     "data": {
      "text/plain": [
       "송파    26221\n",
       "Name: 지점명, dtype: int64"
      ]
     },
     "execution_count": 165,
     "metadata": {},
     "output_type": "execute_result"
    }
   ],
   "source": [
    "w1['지점명'].value_counts()"
   ]
  },
  {
   "cell_type": "code",
   "execution_count": 166,
   "metadata": {
    "ExecuteTime": {
     "end_time": "2020-07-05T12:53:46.044971Z",
     "start_time": "2020-07-05T12:53:46.035997Z"
    }
   },
   "outputs": [],
   "source": [
    "w1.drop(['지점','지점명','주소','구'], axis=1, inplace = True)"
   ]
  },
  {
   "cell_type": "code",
   "execution_count": 169,
   "metadata": {
    "ExecuteTime": {
     "end_time": "2020-07-05T12:55:02.296118Z",
     "start_time": "2020-07-05T12:55:02.263209Z"
    }
   },
   "outputs": [
    {
     "data": {
      "text/html": [
       "<div>\n",
       "<style scoped>\n",
       "    .dataframe tbody tr th:only-of-type {\n",
       "        vertical-align: middle;\n",
       "    }\n",
       "\n",
       "    .dataframe tbody tr th {\n",
       "        vertical-align: top;\n",
       "    }\n",
       "\n",
       "    .dataframe thead th {\n",
       "        text-align: right;\n",
       "    }\n",
       "</style>\n",
       "<table border=\"1\" class=\"dataframe\">\n",
       "  <thead>\n",
       "    <tr style=\"text-align: right;\">\n",
       "      <th></th>\n",
       "      <th>일시</th>\n",
       "      <th>기온</th>\n",
       "      <th>풍속(m/s)</th>\n",
       "      <th>강수량(mm)</th>\n",
       "      <th>습도(%)</th>\n",
       "      <th>일조(hr)</th>\n",
       "      <th>적설(cm)</th>\n",
       "      <th>전운량(10분위)</th>\n",
       "      <th>눈내림</th>\n",
       "      <th>눈내림2</th>\n",
       "      <th>시간</th>\n",
       "      <th>전운량(10분위)2</th>\n",
       "    </tr>\n",
       "  </thead>\n",
       "  <tbody>\n",
       "    <tr>\n",
       "      <th>6480</th>\n",
       "      <td>2017-01-01 00:00:00</td>\n",
       "      <td>2.9</td>\n",
       "      <td>1.2</td>\n",
       "      <td>0.0</td>\n",
       "      <td>79.0</td>\n",
       "      <td>0.0</td>\n",
       "      <td>NaN</td>\n",
       "      <td>7.0</td>\n",
       "      <td>0</td>\n",
       "      <td>0</td>\n",
       "      <td>00:00:00</td>\n",
       "      <td>7.0</td>\n",
       "    </tr>\n",
       "    <tr>\n",
       "      <th>6481</th>\n",
       "      <td>2017-01-01 01:00:00</td>\n",
       "      <td>2.2</td>\n",
       "      <td>1.3</td>\n",
       "      <td>0.0</td>\n",
       "      <td>78.0</td>\n",
       "      <td>0.0</td>\n",
       "      <td>NaN</td>\n",
       "      <td>NaN</td>\n",
       "      <td>0</td>\n",
       "      <td>0</td>\n",
       "      <td>01:00:00</td>\n",
       "      <td>7.0</td>\n",
       "    </tr>\n",
       "    <tr>\n",
       "      <th>6482</th>\n",
       "      <td>2017-01-01 02:00:00</td>\n",
       "      <td>1.7</td>\n",
       "      <td>1.1</td>\n",
       "      <td>0.0</td>\n",
       "      <td>81.0</td>\n",
       "      <td>0.0</td>\n",
       "      <td>NaN</td>\n",
       "      <td>NaN</td>\n",
       "      <td>0</td>\n",
       "      <td>0</td>\n",
       "      <td>02:00:00</td>\n",
       "      <td>7.0</td>\n",
       "    </tr>\n",
       "    <tr>\n",
       "      <th>6483</th>\n",
       "      <td>2017-01-01 03:00:00</td>\n",
       "      <td>1.3</td>\n",
       "      <td>0.6</td>\n",
       "      <td>0.0</td>\n",
       "      <td>84.0</td>\n",
       "      <td>0.0</td>\n",
       "      <td>NaN</td>\n",
       "      <td>0.0</td>\n",
       "      <td>0</td>\n",
       "      <td>0</td>\n",
       "      <td>03:00:00</td>\n",
       "      <td>0.0</td>\n",
       "    </tr>\n",
       "    <tr>\n",
       "      <th>6484</th>\n",
       "      <td>2017-01-01 04:00:00</td>\n",
       "      <td>0.7</td>\n",
       "      <td>0.3</td>\n",
       "      <td>0.0</td>\n",
       "      <td>85.0</td>\n",
       "      <td>0.0</td>\n",
       "      <td>NaN</td>\n",
       "      <td>0.0</td>\n",
       "      <td>0</td>\n",
       "      <td>0</td>\n",
       "      <td>04:00:00</td>\n",
       "      <td>0.0</td>\n",
       "    </tr>\n",
       "  </tbody>\n",
       "</table>\n",
       "</div>"
      ],
      "text/plain": [
       "                       일시   기온  풍속(m/s)  강수량(mm)  습도(%)  일조(hr)  적설(cm)  \\\n",
       "6480  2017-01-01 00:00:00  2.9      1.2      0.0   79.0     0.0     NaN   \n",
       "6481  2017-01-01 01:00:00  2.2      1.3      0.0   78.0     0.0     NaN   \n",
       "6482  2017-01-01 02:00:00  1.7      1.1      0.0   81.0     0.0     NaN   \n",
       "6483  2017-01-01 03:00:00  1.3      0.6      0.0   84.0     0.0     NaN   \n",
       "6484  2017-01-01 04:00:00  0.7      0.3      0.0   85.0     0.0     NaN   \n",
       "\n",
       "      전운량(10분위)  눈내림  눈내림2        시간  전운량(10분위)2  \n",
       "6480        7.0    0     0  00:00:00         7.0  \n",
       "6481        NaN    0     0  01:00:00         7.0  \n",
       "6482        NaN    0     0  02:00:00         7.0  \n",
       "6483        0.0    0     0  03:00:00         0.0  \n",
       "6484        0.0    0     0  04:00:00         0.0  "
      ]
     },
     "execution_count": 169,
     "metadata": {},
     "output_type": "execute_result"
    }
   ],
   "source": [
    "w1.head()"
   ]
  },
  {
   "cell_type": "code",
   "execution_count": 170,
   "metadata": {
    "ExecuteTime": {
     "end_time": "2020-07-05T12:55:13.732793Z",
     "start_time": "2020-07-05T12:55:13.725847Z"
    }
   },
   "outputs": [
    {
     "data": {
      "text/plain": [
       "(26221, 12)"
      ]
     },
     "execution_count": 170,
     "metadata": {},
     "output_type": "execute_result"
    }
   ],
   "source": [
    "w1.shape"
   ]
  },
  {
   "cell_type": "code",
   "execution_count": 171,
   "metadata": {
    "ExecuteTime": {
     "end_time": "2020-07-05T12:55:20.280838Z",
     "start_time": "2020-07-05T12:55:20.214981Z"
    }
   },
   "outputs": [
    {
     "name": "stdout",
     "output_type": "stream",
     "text": [
      "(296, 16)\n"
     ]
    },
    {
     "data": {
      "text/html": [
       "<div>\n",
       "<style scoped>\n",
       "    .dataframe tbody tr th:only-of-type {\n",
       "        vertical-align: middle;\n",
       "    }\n",
       "\n",
       "    .dataframe tbody tr th {\n",
       "        vertical-align: top;\n",
       "    }\n",
       "\n",
       "    .dataframe thead th {\n",
       "        text-align: right;\n",
       "    }\n",
       "</style>\n",
       "<table border=\"1\" class=\"dataframe\">\n",
       "  <thead>\n",
       "    <tr style=\"text-align: right;\">\n",
       "      <th></th>\n",
       "      <th>지점</th>\n",
       "      <th>지점명</th>\n",
       "      <th>일시</th>\n",
       "      <th>주소</th>\n",
       "      <th>구</th>\n",
       "      <th>기온</th>\n",
       "      <th>풍속(m/s)</th>\n",
       "      <th>강수량(mm)</th>\n",
       "      <th>습도(%)</th>\n",
       "      <th>일조(hr)</th>\n",
       "      <th>적설(cm)</th>\n",
       "      <th>전운량(10분위)</th>\n",
       "      <th>눈내림</th>\n",
       "      <th>눈내림2</th>\n",
       "      <th>시간</th>\n",
       "      <th>전운량(10분위)2</th>\n",
       "    </tr>\n",
       "  </thead>\n",
       "  <tbody>\n",
       "    <tr>\n",
       "      <th>0</th>\n",
       "      <td>400</td>\n",
       "      <td>강남</td>\n",
       "      <td>2019-09-05 18:00:00</td>\n",
       "      <td>서울특별시 강남구 일원동</td>\n",
       "      <td>강남구</td>\n",
       "      <td>22.3</td>\n",
       "      <td>1.0</td>\n",
       "      <td>2.0</td>\n",
       "      <td>97.0</td>\n",
       "      <td>0.0</td>\n",
       "      <td>NaN</td>\n",
       "      <td>10.0</td>\n",
       "      <td>0</td>\n",
       "      <td>0</td>\n",
       "      <td>18:00:00</td>\n",
       "      <td>10.0</td>\n",
       "    </tr>\n",
       "    <tr>\n",
       "      <th>1</th>\n",
       "      <td>400</td>\n",
       "      <td>강남</td>\n",
       "      <td>2019-08-31 10:00:00</td>\n",
       "      <td>서울특별시 강남구 일원동</td>\n",
       "      <td>강남구</td>\n",
       "      <td>25.1</td>\n",
       "      <td>0.9</td>\n",
       "      <td>0.0</td>\n",
       "      <td>60.0</td>\n",
       "      <td>1.0</td>\n",
       "      <td>NaN</td>\n",
       "      <td>5.0</td>\n",
       "      <td>0</td>\n",
       "      <td>0</td>\n",
       "      <td>10:00:00</td>\n",
       "      <td>5.0</td>\n",
       "    </tr>\n",
       "    <tr>\n",
       "      <th>2</th>\n",
       "      <td>400</td>\n",
       "      <td>강남</td>\n",
       "      <td>2019-09-08 10:00:00</td>\n",
       "      <td>서울특별시 강남구 일원동</td>\n",
       "      <td>강남구</td>\n",
       "      <td>26.3</td>\n",
       "      <td>1.5</td>\n",
       "      <td>0.0</td>\n",
       "      <td>69.0</td>\n",
       "      <td>0.6</td>\n",
       "      <td>NaN</td>\n",
       "      <td>8.0</td>\n",
       "      <td>0</td>\n",
       "      <td>0</td>\n",
       "      <td>10:00:00</td>\n",
       "      <td>8.0</td>\n",
       "    </tr>\n",
       "    <tr>\n",
       "      <th>3</th>\n",
       "      <td>400</td>\n",
       "      <td>강남</td>\n",
       "      <td>2018-04-15 02:00:00</td>\n",
       "      <td>서울특별시 강남구 일원동</td>\n",
       "      <td>강남구</td>\n",
       "      <td>8.0</td>\n",
       "      <td>2.4</td>\n",
       "      <td>0.0</td>\n",
       "      <td>80.0</td>\n",
       "      <td>0.0</td>\n",
       "      <td>NaN</td>\n",
       "      <td>NaN</td>\n",
       "      <td>0</td>\n",
       "      <td>0</td>\n",
       "      <td>02:00:00</td>\n",
       "      <td>3.0</td>\n",
       "    </tr>\n",
       "    <tr>\n",
       "      <th>4</th>\n",
       "      <td>400</td>\n",
       "      <td>강남</td>\n",
       "      <td>2019-09-08 07:00:00</td>\n",
       "      <td>서울특별시 강남구 일원동</td>\n",
       "      <td>강남구</td>\n",
       "      <td>23.7</td>\n",
       "      <td>0.9</td>\n",
       "      <td>0.0</td>\n",
       "      <td>86.0</td>\n",
       "      <td>0.0</td>\n",
       "      <td>NaN</td>\n",
       "      <td>9.0</td>\n",
       "      <td>0</td>\n",
       "      <td>0</td>\n",
       "      <td>07:00:00</td>\n",
       "      <td>9.0</td>\n",
       "    </tr>\n",
       "  </tbody>\n",
       "</table>\n",
       "</div>"
      ],
      "text/plain": [
       "    지점 지점명                   일시             주소    구    기온  풍속(m/s)  강수량(mm)  \\\n",
       "0  400  강남  2019-09-05 18:00:00  서울특별시 강남구 일원동  강남구  22.3      1.0      2.0   \n",
       "1  400  강남  2019-08-31 10:00:00  서울특별시 강남구 일원동  강남구  25.1      0.9      0.0   \n",
       "2  400  강남  2019-09-08 10:00:00  서울특별시 강남구 일원동  강남구  26.3      1.5      0.0   \n",
       "3  400  강남  2018-04-15 02:00:00  서울특별시 강남구 일원동  강남구   8.0      2.4      0.0   \n",
       "4  400  강남  2019-09-08 07:00:00  서울특별시 강남구 일원동  강남구  23.7      0.9      0.0   \n",
       "\n",
       "   습도(%)  일조(hr)  적설(cm)  전운량(10분위)  눈내림  눈내림2        시간  전운량(10분위)2  \n",
       "0   97.0     0.0     NaN       10.0    0     0  18:00:00        10.0  \n",
       "1   60.0     1.0     NaN        5.0    0     0  10:00:00         5.0  \n",
       "2   69.0     0.6     NaN        8.0    0     0  10:00:00         8.0  \n",
       "3   80.0     0.0     NaN        NaN    0     0  02:00:00         3.0  \n",
       "4   86.0     0.0     NaN        9.0    0     0  07:00:00         9.0  "
      ]
     },
     "execution_count": 171,
     "metadata": {},
     "output_type": "execute_result"
    }
   ],
   "source": [
    "m1 = pd.merge(nld1, w1, how = 'left', on = '일시')\n",
    "print(m1.shape)\n",
    "m1.head()"
   ]
  },
  {
   "cell_type": "markdown",
   "metadata": {},
   "source": [
    "- 마포 202"
   ]
  },
  {
   "cell_type": "code",
   "execution_count": 210,
   "metadata": {
    "ExecuteTime": {
     "end_time": "2020-07-05T13:03:51.455797Z",
     "start_time": "2020-07-05T13:03:50.970957Z"
    }
   },
   "outputs": [],
   "source": [
    "# 마포 null은  영등포 data로 대체\n",
    "nld1 = null_location_day[null_location_day['지점명'] == '마포']\n",
    "w1 = weather[weather['지점명'].str.contains('영등포')].copy()"
   ]
  },
  {
   "cell_type": "code",
   "execution_count": 211,
   "metadata": {
    "ExecuteTime": {
     "end_time": "2020-07-05T13:03:51.468626Z",
     "start_time": "2020-07-05T13:03:51.459654Z"
    }
   },
   "outputs": [
    {
     "data": {
      "text/plain": [
       "(202, 5)"
      ]
     },
     "execution_count": 211,
     "metadata": {},
     "output_type": "execute_result"
    }
   ],
   "source": [
    "nld1.shape"
   ]
  },
  {
   "cell_type": "code",
   "execution_count": 212,
   "metadata": {
    "ExecuteTime": {
     "end_time": "2020-07-05T13:03:51.830311Z",
     "start_time": "2020-07-05T13:03:51.809365Z"
    }
   },
   "outputs": [
    {
     "data": {
      "text/html": [
       "<div>\n",
       "<style scoped>\n",
       "    .dataframe tbody tr th:only-of-type {\n",
       "        vertical-align: middle;\n",
       "    }\n",
       "\n",
       "    .dataframe tbody tr th {\n",
       "        vertical-align: top;\n",
       "    }\n",
       "\n",
       "    .dataframe thead th {\n",
       "        text-align: right;\n",
       "    }\n",
       "</style>\n",
       "<table border=\"1\" class=\"dataframe\">\n",
       "  <thead>\n",
       "    <tr style=\"text-align: right;\">\n",
       "      <th></th>\n",
       "      <th>지점</th>\n",
       "      <th>지점명</th>\n",
       "      <th>일시</th>\n",
       "      <th>주소</th>\n",
       "      <th>구</th>\n",
       "    </tr>\n",
       "  </thead>\n",
       "  <tbody>\n",
       "    <tr>\n",
       "      <th>10</th>\n",
       "      <td>411</td>\n",
       "      <td>마포</td>\n",
       "      <td>2017-06-21 17:00:00</td>\n",
       "      <td>서울특별시 마포구 망원동</td>\n",
       "      <td>마포구</td>\n",
       "    </tr>\n",
       "    <tr>\n",
       "      <th>15</th>\n",
       "      <td>411</td>\n",
       "      <td>마포</td>\n",
       "      <td>2019-10-04 06:00:00</td>\n",
       "      <td>서울특별시 마포구 망원동</td>\n",
       "      <td>마포구</td>\n",
       "    </tr>\n",
       "    <tr>\n",
       "      <th>25</th>\n",
       "      <td>411</td>\n",
       "      <td>마포</td>\n",
       "      <td>2019-08-11 09:00:00</td>\n",
       "      <td>서울특별시 마포구 망원동</td>\n",
       "      <td>마포구</td>\n",
       "    </tr>\n",
       "    <tr>\n",
       "      <th>51</th>\n",
       "      <td>411</td>\n",
       "      <td>마포</td>\n",
       "      <td>2019-05-08 10:00:00</td>\n",
       "      <td>서울특별시 마포구 망원동</td>\n",
       "      <td>마포구</td>\n",
       "    </tr>\n",
       "    <tr>\n",
       "      <th>82</th>\n",
       "      <td>411</td>\n",
       "      <td>마포</td>\n",
       "      <td>2019-07-26 08:00:00</td>\n",
       "      <td>서울특별시 마포구 망원동</td>\n",
       "      <td>마포구</td>\n",
       "    </tr>\n",
       "  </tbody>\n",
       "</table>\n",
       "</div>"
      ],
      "text/plain": [
       "     지점 지점명                   일시             주소    구\n",
       "10  411  마포  2017-06-21 17:00:00  서울특별시 마포구 망원동  마포구\n",
       "15  411  마포  2019-10-04 06:00:00  서울특별시 마포구 망원동  마포구\n",
       "25  411  마포  2019-08-11 09:00:00  서울특별시 마포구 망원동  마포구\n",
       "51  411  마포  2019-05-08 10:00:00  서울특별시 마포구 망원동  마포구\n",
       "82  411  마포  2019-07-26 08:00:00  서울특별시 마포구 망원동  마포구"
      ]
     },
     "execution_count": 212,
     "metadata": {},
     "output_type": "execute_result"
    }
   ],
   "source": [
    "nld1.head()"
   ]
  },
  {
   "cell_type": "code",
   "execution_count": 213,
   "metadata": {
    "ExecuteTime": {
     "end_time": "2020-07-05T13:03:53.364791Z",
     "start_time": "2020-07-05T13:03:53.355812Z"
    }
   },
   "outputs": [
    {
     "data": {
      "text/plain": [
       "마포    202\n",
       "Name: 지점명, dtype: int64"
      ]
     },
     "execution_count": 213,
     "metadata": {},
     "output_type": "execute_result"
    }
   ],
   "source": [
    "nld1['지점명'].value_counts()"
   ]
  },
  {
   "cell_type": "code",
   "execution_count": 215,
   "metadata": {
    "ExecuteTime": {
     "end_time": "2020-07-05T13:03:54.288890Z",
     "start_time": "2020-07-05T13:03:54.271974Z"
    }
   },
   "outputs": [
    {
     "data": {
      "text/plain": [
       "영등포    26258\n",
       "Name: 지점명, dtype: int64"
      ]
     },
     "execution_count": 215,
     "metadata": {},
     "output_type": "execute_result"
    }
   ],
   "source": [
    "w1['지점명'].value_counts()"
   ]
  },
  {
   "cell_type": "code",
   "execution_count": 216,
   "metadata": {
    "ExecuteTime": {
     "end_time": "2020-07-05T13:03:54.782578Z",
     "start_time": "2020-07-05T13:03:54.770611Z"
    }
   },
   "outputs": [],
   "source": [
    "w1.drop(['지점','지점명','주소','구'], axis=1, inplace = True)"
   ]
  },
  {
   "cell_type": "code",
   "execution_count": 218,
   "metadata": {
    "ExecuteTime": {
     "end_time": "2020-07-05T13:03:55.952247Z",
     "start_time": "2020-07-05T13:03:55.947263Z"
    }
   },
   "outputs": [
    {
     "data": {
      "text/plain": [
       "(26258, 12)"
      ]
     },
     "execution_count": 218,
     "metadata": {},
     "output_type": "execute_result"
    }
   ],
   "source": [
    "w1.shape"
   ]
  },
  {
   "cell_type": "code",
   "execution_count": 219,
   "metadata": {
    "ExecuteTime": {
     "end_time": "2020-07-05T13:03:57.405268Z",
     "start_time": "2020-07-05T13:03:57.401278Z"
    }
   },
   "outputs": [],
   "source": [
    "# m 숫자 바꿔!!"
   ]
  },
  {
   "cell_type": "code",
   "execution_count": 220,
   "metadata": {
    "ExecuteTime": {
     "end_time": "2020-07-05T13:03:58.062925Z",
     "start_time": "2020-07-05T13:03:58.001060Z"
    }
   },
   "outputs": [
    {
     "name": "stdout",
     "output_type": "stream",
     "text": [
      "(202, 16)\n"
     ]
    },
    {
     "data": {
      "text/html": [
       "<div>\n",
       "<style scoped>\n",
       "    .dataframe tbody tr th:only-of-type {\n",
       "        vertical-align: middle;\n",
       "    }\n",
       "\n",
       "    .dataframe tbody tr th {\n",
       "        vertical-align: top;\n",
       "    }\n",
       "\n",
       "    .dataframe thead th {\n",
       "        text-align: right;\n",
       "    }\n",
       "</style>\n",
       "<table border=\"1\" class=\"dataframe\">\n",
       "  <thead>\n",
       "    <tr style=\"text-align: right;\">\n",
       "      <th></th>\n",
       "      <th>지점</th>\n",
       "      <th>지점명</th>\n",
       "      <th>일시</th>\n",
       "      <th>주소</th>\n",
       "      <th>구</th>\n",
       "      <th>기온</th>\n",
       "      <th>풍속(m/s)</th>\n",
       "      <th>강수량(mm)</th>\n",
       "      <th>습도(%)</th>\n",
       "      <th>일조(hr)</th>\n",
       "      <th>적설(cm)</th>\n",
       "      <th>전운량(10분위)</th>\n",
       "      <th>눈내림</th>\n",
       "      <th>눈내림2</th>\n",
       "      <th>시간</th>\n",
       "      <th>전운량(10분위)2</th>\n",
       "    </tr>\n",
       "  </thead>\n",
       "  <tbody>\n",
       "    <tr>\n",
       "      <th>0</th>\n",
       "      <td>411</td>\n",
       "      <td>마포</td>\n",
       "      <td>2017-06-21 17:00:00</td>\n",
       "      <td>서울특별시 마포구 망원동</td>\n",
       "      <td>마포구</td>\n",
       "      <td>27.9</td>\n",
       "      <td>2.0</td>\n",
       "      <td>0.0</td>\n",
       "      <td>35.0</td>\n",
       "      <td>1.0</td>\n",
       "      <td>NaN</td>\n",
       "      <td>3.0</td>\n",
       "      <td>0</td>\n",
       "      <td>0</td>\n",
       "      <td>17:00:00</td>\n",
       "      <td>3.0</td>\n",
       "    </tr>\n",
       "    <tr>\n",
       "      <th>1</th>\n",
       "      <td>411</td>\n",
       "      <td>마포</td>\n",
       "      <td>2019-10-04 06:00:00</td>\n",
       "      <td>서울특별시 마포구 망원동</td>\n",
       "      <td>마포구</td>\n",
       "      <td>20.2</td>\n",
       "      <td>0.4</td>\n",
       "      <td>0.0</td>\n",
       "      <td>84.0</td>\n",
       "      <td>0.0</td>\n",
       "      <td>NaN</td>\n",
       "      <td>0.0</td>\n",
       "      <td>0</td>\n",
       "      <td>0</td>\n",
       "      <td>06:00:00</td>\n",
       "      <td>0.0</td>\n",
       "    </tr>\n",
       "    <tr>\n",
       "      <th>2</th>\n",
       "      <td>411</td>\n",
       "      <td>마포</td>\n",
       "      <td>2019-08-11 09:00:00</td>\n",
       "      <td>서울특별시 마포구 망원동</td>\n",
       "      <td>마포구</td>\n",
       "      <td>30.8</td>\n",
       "      <td>2.0</td>\n",
       "      <td>0.0</td>\n",
       "      <td>52.0</td>\n",
       "      <td>1.0</td>\n",
       "      <td>NaN</td>\n",
       "      <td>9.0</td>\n",
       "      <td>0</td>\n",
       "      <td>0</td>\n",
       "      <td>09:00:00</td>\n",
       "      <td>9.0</td>\n",
       "    </tr>\n",
       "    <tr>\n",
       "      <th>3</th>\n",
       "      <td>411</td>\n",
       "      <td>마포</td>\n",
       "      <td>2019-05-08 10:00:00</td>\n",
       "      <td>서울특별시 마포구 망원동</td>\n",
       "      <td>마포구</td>\n",
       "      <td>17.3</td>\n",
       "      <td>1.9</td>\n",
       "      <td>0.0</td>\n",
       "      <td>40.0</td>\n",
       "      <td>1.0</td>\n",
       "      <td>NaN</td>\n",
       "      <td>8.0</td>\n",
       "      <td>0</td>\n",
       "      <td>0</td>\n",
       "      <td>10:00:00</td>\n",
       "      <td>8.0</td>\n",
       "    </tr>\n",
       "    <tr>\n",
       "      <th>4</th>\n",
       "      <td>411</td>\n",
       "      <td>마포</td>\n",
       "      <td>2019-07-26 08:00:00</td>\n",
       "      <td>서울특별시 마포구 망원동</td>\n",
       "      <td>마포구</td>\n",
       "      <td>24.3</td>\n",
       "      <td>1.3</td>\n",
       "      <td>11.5</td>\n",
       "      <td>97.0</td>\n",
       "      <td>0.0</td>\n",
       "      <td>NaN</td>\n",
       "      <td>10.0</td>\n",
       "      <td>0</td>\n",
       "      <td>0</td>\n",
       "      <td>08:00:00</td>\n",
       "      <td>10.0</td>\n",
       "    </tr>\n",
       "  </tbody>\n",
       "</table>\n",
       "</div>"
      ],
      "text/plain": [
       "    지점 지점명                   일시             주소    구    기온  풍속(m/s)  강수량(mm)  \\\n",
       "0  411  마포  2017-06-21 17:00:00  서울특별시 마포구 망원동  마포구  27.9      2.0      0.0   \n",
       "1  411  마포  2019-10-04 06:00:00  서울특별시 마포구 망원동  마포구  20.2      0.4      0.0   \n",
       "2  411  마포  2019-08-11 09:00:00  서울특별시 마포구 망원동  마포구  30.8      2.0      0.0   \n",
       "3  411  마포  2019-05-08 10:00:00  서울특별시 마포구 망원동  마포구  17.3      1.9      0.0   \n",
       "4  411  마포  2019-07-26 08:00:00  서울특별시 마포구 망원동  마포구  24.3      1.3     11.5   \n",
       "\n",
       "   습도(%)  일조(hr)  적설(cm)  전운량(10분위)  눈내림  눈내림2        시간  전운량(10분위)2  \n",
       "0   35.0     1.0     NaN        3.0    0     0  17:00:00         3.0  \n",
       "1   84.0     0.0     NaN        0.0    0     0  06:00:00         0.0  \n",
       "2   52.0     1.0     NaN        9.0    0     0  09:00:00         9.0  \n",
       "3   40.0     1.0     NaN        8.0    0     0  10:00:00         8.0  \n",
       "4   97.0     0.0     NaN       10.0    0     0  08:00:00        10.0  "
      ]
     },
     "execution_count": 220,
     "metadata": {},
     "output_type": "execute_result"
    }
   ],
   "source": [
    "m2 = pd.merge(nld1, w1, how = 'left', on = '일시')\n",
    "print(m2.shape)\n",
    "m2.head()"
   ]
  },
  {
   "cell_type": "code",
   "execution_count": 221,
   "metadata": {
    "ExecuteTime": {
     "end_time": "2020-07-05T13:03:58.888006Z",
     "start_time": "2020-07-05T13:03:58.875040Z"
    }
   },
   "outputs": [
    {
     "data": {
      "text/plain": [
       "지점              0\n",
       "지점명             0\n",
       "일시              0\n",
       "주소              0\n",
       "구               0\n",
       "기온              0\n",
       "풍속(m/s)         0\n",
       "강수량(mm)         0\n",
       "습도(%)           0\n",
       "일조(hr)          0\n",
       "적설(cm)        177\n",
       "전운량(10분위)      12\n",
       "눈내림             0\n",
       "눈내림2            0\n",
       "시간              0\n",
       "전운량(10분위)2      0\n",
       "dtype: int64"
      ]
     },
     "execution_count": 221,
     "metadata": {},
     "output_type": "execute_result"
    }
   ],
   "source": [
    "m2.isnull().sum()"
   ]
  },
  {
   "cell_type": "markdown",
   "metadata": {},
   "source": [
    "- 은평 199"
   ]
  },
  {
   "cell_type": "code",
   "execution_count": 224,
   "metadata": {
    "ExecuteTime": {
     "end_time": "2020-07-05T13:05:31.677964Z",
     "start_time": "2020-07-05T13:05:31.198239Z"
    }
   },
   "outputs": [],
   "source": [
    "# 은평 null은  성북 data로 대체\n",
    "nld1 = null_location_day[null_location_day['지점명'] == '은평']\n",
    "w1 = weather[weather['지점명'].str.contains('성북')].copy()"
   ]
  },
  {
   "cell_type": "code",
   "execution_count": 225,
   "metadata": {
    "ExecuteTime": {
     "end_time": "2020-07-05T13:05:32.403980Z",
     "start_time": "2020-07-05T13:05:32.398002Z"
    }
   },
   "outputs": [
    {
     "data": {
      "text/plain": [
       "(199, 5)"
      ]
     },
     "execution_count": 225,
     "metadata": {},
     "output_type": "execute_result"
    }
   ],
   "source": [
    "nld1.shape"
   ]
  },
  {
   "cell_type": "code",
   "execution_count": 226,
   "metadata": {
    "ExecuteTime": {
     "end_time": "2020-07-05T13:05:33.117897Z",
     "start_time": "2020-07-05T13:05:33.097952Z"
    }
   },
   "outputs": [
    {
     "data": {
      "text/html": [
       "<div>\n",
       "<style scoped>\n",
       "    .dataframe tbody tr th:only-of-type {\n",
       "        vertical-align: middle;\n",
       "    }\n",
       "\n",
       "    .dataframe tbody tr th {\n",
       "        vertical-align: top;\n",
       "    }\n",
       "\n",
       "    .dataframe thead th {\n",
       "        text-align: right;\n",
       "    }\n",
       "</style>\n",
       "<table border=\"1\" class=\"dataframe\">\n",
       "  <thead>\n",
       "    <tr style=\"text-align: right;\">\n",
       "      <th></th>\n",
       "      <th>지점</th>\n",
       "      <th>지점명</th>\n",
       "      <th>일시</th>\n",
       "      <th>주소</th>\n",
       "      <th>구</th>\n",
       "    </tr>\n",
       "  </thead>\n",
       "  <tbody>\n",
       "    <tr>\n",
       "      <th>2</th>\n",
       "      <td>416</td>\n",
       "      <td>은평</td>\n",
       "      <td>2017-11-28 06:00:00</td>\n",
       "      <td>서울특별시 은평구 진관동</td>\n",
       "      <td>은평구</td>\n",
       "    </tr>\n",
       "    <tr>\n",
       "      <th>7</th>\n",
       "      <td>416</td>\n",
       "      <td>은평</td>\n",
       "      <td>2018-10-28 17:00:00</td>\n",
       "      <td>서울특별시 은평구 진관동</td>\n",
       "      <td>은평구</td>\n",
       "    </tr>\n",
       "    <tr>\n",
       "      <th>8</th>\n",
       "      <td>416</td>\n",
       "      <td>은평</td>\n",
       "      <td>2017-11-26 21:00:00</td>\n",
       "      <td>서울특별시 은평구 진관동</td>\n",
       "      <td>은평구</td>\n",
       "    </tr>\n",
       "    <tr>\n",
       "      <th>17</th>\n",
       "      <td>416</td>\n",
       "      <td>은평</td>\n",
       "      <td>2018-08-30 07:00:00</td>\n",
       "      <td>서울특별시 은평구 진관동</td>\n",
       "      <td>은평구</td>\n",
       "    </tr>\n",
       "    <tr>\n",
       "      <th>20</th>\n",
       "      <td>416</td>\n",
       "      <td>은평</td>\n",
       "      <td>2018-11-25 18:00:00</td>\n",
       "      <td>서울특별시 은평구 진관동</td>\n",
       "      <td>은평구</td>\n",
       "    </tr>\n",
       "  </tbody>\n",
       "</table>\n",
       "</div>"
      ],
      "text/plain": [
       "     지점 지점명                   일시             주소    구\n",
       "2   416  은평  2017-11-28 06:00:00  서울특별시 은평구 진관동  은평구\n",
       "7   416  은평  2018-10-28 17:00:00  서울특별시 은평구 진관동  은평구\n",
       "8   416  은평  2017-11-26 21:00:00  서울특별시 은평구 진관동  은평구\n",
       "17  416  은평  2018-08-30 07:00:00  서울특별시 은평구 진관동  은평구\n",
       "20  416  은평  2018-11-25 18:00:00  서울특별시 은평구 진관동  은평구"
      ]
     },
     "execution_count": 226,
     "metadata": {},
     "output_type": "execute_result"
    }
   ],
   "source": [
    "nld1.head()"
   ]
  },
  {
   "cell_type": "code",
   "execution_count": 227,
   "metadata": {
    "ExecuteTime": {
     "end_time": "2020-07-05T13:05:33.818562Z",
     "start_time": "2020-07-05T13:05:33.807592Z"
    }
   },
   "outputs": [
    {
     "data": {
      "text/plain": [
       "은평    199\n",
       "Name: 지점명, dtype: int64"
      ]
     },
     "execution_count": 227,
     "metadata": {},
     "output_type": "execute_result"
    }
   ],
   "source": [
    "nld1['지점명'].value_counts()"
   ]
  },
  {
   "cell_type": "code",
   "execution_count": 229,
   "metadata": {
    "ExecuteTime": {
     "end_time": "2020-07-05T13:05:36.026670Z",
     "start_time": "2020-07-05T13:05:36.015686Z"
    }
   },
   "outputs": [
    {
     "data": {
      "text/plain": [
       "성북    26252\n",
       "Name: 지점명, dtype: int64"
      ]
     },
     "execution_count": 229,
     "metadata": {},
     "output_type": "execute_result"
    }
   ],
   "source": [
    "w1['지점명'].value_counts()"
   ]
  },
  {
   "cell_type": "code",
   "execution_count": 230,
   "metadata": {
    "ExecuteTime": {
     "end_time": "2020-07-05T13:05:37.380101Z",
     "start_time": "2020-07-05T13:05:37.369130Z"
    }
   },
   "outputs": [],
   "source": [
    "w1.drop(['지점','지점명','주소','구'], axis=1, inplace = True)"
   ]
  },
  {
   "cell_type": "code",
   "execution_count": 232,
   "metadata": {
    "ExecuteTime": {
     "end_time": "2020-07-05T13:05:40.141650Z",
     "start_time": "2020-07-05T13:05:40.135667Z"
    }
   },
   "outputs": [
    {
     "data": {
      "text/plain": [
       "(26252, 12)"
      ]
     },
     "execution_count": 232,
     "metadata": {},
     "output_type": "execute_result"
    }
   ],
   "source": [
    "w1.shape"
   ]
  },
  {
   "cell_type": "code",
   "execution_count": 234,
   "metadata": {
    "ExecuteTime": {
     "end_time": "2020-07-05T13:05:56.898280Z",
     "start_time": "2020-07-05T13:05:56.830460Z"
    }
   },
   "outputs": [
    {
     "name": "stdout",
     "output_type": "stream",
     "text": [
      "(199, 16)\n"
     ]
    },
    {
     "data": {
      "text/html": [
       "<div>\n",
       "<style scoped>\n",
       "    .dataframe tbody tr th:only-of-type {\n",
       "        vertical-align: middle;\n",
       "    }\n",
       "\n",
       "    .dataframe tbody tr th {\n",
       "        vertical-align: top;\n",
       "    }\n",
       "\n",
       "    .dataframe thead th {\n",
       "        text-align: right;\n",
       "    }\n",
       "</style>\n",
       "<table border=\"1\" class=\"dataframe\">\n",
       "  <thead>\n",
       "    <tr style=\"text-align: right;\">\n",
       "      <th></th>\n",
       "      <th>지점</th>\n",
       "      <th>지점명</th>\n",
       "      <th>일시</th>\n",
       "      <th>주소</th>\n",
       "      <th>구</th>\n",
       "      <th>기온</th>\n",
       "      <th>풍속(m/s)</th>\n",
       "      <th>강수량(mm)</th>\n",
       "      <th>습도(%)</th>\n",
       "      <th>일조(hr)</th>\n",
       "      <th>적설(cm)</th>\n",
       "      <th>전운량(10분위)</th>\n",
       "      <th>눈내림</th>\n",
       "      <th>눈내림2</th>\n",
       "      <th>시간</th>\n",
       "      <th>전운량(10분위)2</th>\n",
       "    </tr>\n",
       "  </thead>\n",
       "  <tbody>\n",
       "    <tr>\n",
       "      <th>0</th>\n",
       "      <td>416</td>\n",
       "      <td>은평</td>\n",
       "      <td>2017-11-28 06:00:00</td>\n",
       "      <td>서울특별시 은평구 진관동</td>\n",
       "      <td>은평구</td>\n",
       "      <td>2.1</td>\n",
       "      <td>0.0</td>\n",
       "      <td>0.0</td>\n",
       "      <td>73.0</td>\n",
       "      <td>0.0</td>\n",
       "      <td>NaN</td>\n",
       "      <td>9.0</td>\n",
       "      <td>0</td>\n",
       "      <td>0</td>\n",
       "      <td>06:00:00</td>\n",
       "      <td>9.0</td>\n",
       "    </tr>\n",
       "    <tr>\n",
       "      <th>1</th>\n",
       "      <td>416</td>\n",
       "      <td>은평</td>\n",
       "      <td>2018-10-28 17:00:00</td>\n",
       "      <td>서울특별시 은평구 진관동</td>\n",
       "      <td>은평구</td>\n",
       "      <td>9.1</td>\n",
       "      <td>4.1</td>\n",
       "      <td>2.5</td>\n",
       "      <td>85.0</td>\n",
       "      <td>0.0</td>\n",
       "      <td>NaN</td>\n",
       "      <td>10.0</td>\n",
       "      <td>0</td>\n",
       "      <td>0</td>\n",
       "      <td>17:00:00</td>\n",
       "      <td>10.0</td>\n",
       "    </tr>\n",
       "    <tr>\n",
       "      <th>2</th>\n",
       "      <td>416</td>\n",
       "      <td>은평</td>\n",
       "      <td>2017-11-26 21:00:00</td>\n",
       "      <td>서울특별시 은평구 진관동</td>\n",
       "      <td>은평구</td>\n",
       "      <td>1.6</td>\n",
       "      <td>0.6</td>\n",
       "      <td>0.0</td>\n",
       "      <td>57.0</td>\n",
       "      <td>0.0</td>\n",
       "      <td>NaN</td>\n",
       "      <td>0.0</td>\n",
       "      <td>0</td>\n",
       "      <td>0</td>\n",
       "      <td>21:00:00</td>\n",
       "      <td>0.0</td>\n",
       "    </tr>\n",
       "    <tr>\n",
       "      <th>3</th>\n",
       "      <td>416</td>\n",
       "      <td>은평</td>\n",
       "      <td>2018-08-30 07:00:00</td>\n",
       "      <td>서울특별시 은평구 진관동</td>\n",
       "      <td>은평구</td>\n",
       "      <td>24.1</td>\n",
       "      <td>0.5</td>\n",
       "      <td>0.0</td>\n",
       "      <td>96.0</td>\n",
       "      <td>0.0</td>\n",
       "      <td>NaN</td>\n",
       "      <td>9.0</td>\n",
       "      <td>0</td>\n",
       "      <td>0</td>\n",
       "      <td>07:00:00</td>\n",
       "      <td>9.0</td>\n",
       "    </tr>\n",
       "    <tr>\n",
       "      <th>4</th>\n",
       "      <td>416</td>\n",
       "      <td>은평</td>\n",
       "      <td>2018-11-25 18:00:00</td>\n",
       "      <td>서울특별시 은평구 진관동</td>\n",
       "      <td>은평구</td>\n",
       "      <td>6.0</td>\n",
       "      <td>0.8</td>\n",
       "      <td>0.0</td>\n",
       "      <td>72.0</td>\n",
       "      <td>0.0</td>\n",
       "      <td>0.4</td>\n",
       "      <td>4.0</td>\n",
       "      <td>1</td>\n",
       "      <td>1</td>\n",
       "      <td>18:00:00</td>\n",
       "      <td>4.0</td>\n",
       "    </tr>\n",
       "  </tbody>\n",
       "</table>\n",
       "</div>"
      ],
      "text/plain": [
       "    지점 지점명                   일시             주소    구    기온  풍속(m/s)  강수량(mm)  \\\n",
       "0  416  은평  2017-11-28 06:00:00  서울특별시 은평구 진관동  은평구   2.1      0.0      0.0   \n",
       "1  416  은평  2018-10-28 17:00:00  서울특별시 은평구 진관동  은평구   9.1      4.1      2.5   \n",
       "2  416  은평  2017-11-26 21:00:00  서울특별시 은평구 진관동  은평구   1.6      0.6      0.0   \n",
       "3  416  은평  2018-08-30 07:00:00  서울특별시 은평구 진관동  은평구  24.1      0.5      0.0   \n",
       "4  416  은평  2018-11-25 18:00:00  서울특별시 은평구 진관동  은평구   6.0      0.8      0.0   \n",
       "\n",
       "   습도(%)  일조(hr)  적설(cm)  전운량(10분위)  눈내림  눈내림2        시간  전운량(10분위)2  \n",
       "0   73.0     0.0     NaN        9.0    0     0  06:00:00         9.0  \n",
       "1   85.0     0.0     NaN       10.0    0     0  17:00:00        10.0  \n",
       "2   57.0     0.0     NaN        0.0    0     0  21:00:00         0.0  \n",
       "3   96.0     0.0     NaN        9.0    0     0  07:00:00         9.0  \n",
       "4   72.0     0.0     0.4        4.0    1     1  18:00:00         4.0  "
      ]
     },
     "execution_count": 234,
     "metadata": {},
     "output_type": "execute_result"
    }
   ],
   "source": [
    "m3 = pd.merge(nld1, w1, how = 'left', on = '일시')\n",
    "print(m3.shape)\n",
    "m3.head()"
   ]
  },
  {
   "cell_type": "code",
   "execution_count": 236,
   "metadata": {
    "ExecuteTime": {
     "end_time": "2020-07-05T13:06:26.483849Z",
     "start_time": "2020-07-05T13:06:26.472847Z"
    }
   },
   "outputs": [
    {
     "data": {
      "text/plain": [
       "지점              0\n",
       "지점명             0\n",
       "일시              0\n",
       "주소              0\n",
       "구               0\n",
       "기온              0\n",
       "풍속(m/s)         0\n",
       "강수량(mm)         0\n",
       "습도(%)           0\n",
       "일조(hr)          0\n",
       "적설(cm)        170\n",
       "전운량(10분위)      24\n",
       "눈내림             0\n",
       "눈내림2            0\n",
       "시간              0\n",
       "전운량(10분위)2      0\n",
       "dtype: int64"
      ]
     },
     "execution_count": 236,
     "metadata": {},
     "output_type": "execute_result"
    }
   ],
   "source": [
    "m3.isnull().sum()"
   ]
  },
  {
   "cell_type": "markdown",
   "metadata": {},
   "source": [
    "- 용산 165"
   ]
  },
  {
   "cell_type": "code",
   "execution_count": 237,
   "metadata": {
    "ExecuteTime": {
     "end_time": "2020-07-05T13:09:45.712278Z",
     "start_time": "2020-07-05T13:09:45.127780Z"
    }
   },
   "outputs": [],
   "source": [
    "# 용산 null은 중구 data로 대체\n",
    "nld1 = null_location_day[null_location_day['지점명'] == '용산']\n",
    "w1 = weather[weather['지점명'].str.contains('중구')].copy()"
   ]
  },
  {
   "cell_type": "code",
   "execution_count": 238,
   "metadata": {
    "ExecuteTime": {
     "end_time": "2020-07-05T13:09:46.597276Z",
     "start_time": "2020-07-05T13:09:46.590296Z"
    }
   },
   "outputs": [
    {
     "data": {
      "text/plain": [
       "(165, 5)"
      ]
     },
     "execution_count": 238,
     "metadata": {},
     "output_type": "execute_result"
    }
   ],
   "source": [
    "nld1.shape"
   ]
  },
  {
   "cell_type": "code",
   "execution_count": 239,
   "metadata": {
    "ExecuteTime": {
     "end_time": "2020-07-05T13:09:47.165194Z",
     "start_time": "2020-07-05T13:09:47.143250Z"
    }
   },
   "outputs": [
    {
     "data": {
      "text/html": [
       "<div>\n",
       "<style scoped>\n",
       "    .dataframe tbody tr th:only-of-type {\n",
       "        vertical-align: middle;\n",
       "    }\n",
       "\n",
       "    .dataframe tbody tr th {\n",
       "        vertical-align: top;\n",
       "    }\n",
       "\n",
       "    .dataframe thead th {\n",
       "        text-align: right;\n",
       "    }\n",
       "</style>\n",
       "<table border=\"1\" class=\"dataframe\">\n",
       "  <thead>\n",
       "    <tr style=\"text-align: right;\">\n",
       "      <th></th>\n",
       "      <th>지점</th>\n",
       "      <th>지점명</th>\n",
       "      <th>일시</th>\n",
       "      <th>주소</th>\n",
       "      <th>구</th>\n",
       "    </tr>\n",
       "  </thead>\n",
       "  <tbody>\n",
       "    <tr>\n",
       "      <th>0</th>\n",
       "      <td>415</td>\n",
       "      <td>용산</td>\n",
       "      <td>2018-12-31 01:00:00</td>\n",
       "      <td>서울특별시 용산구 이촌동</td>\n",
       "      <td>용산구</td>\n",
       "    </tr>\n",
       "    <tr>\n",
       "      <th>1</th>\n",
       "      <td>415</td>\n",
       "      <td>용산</td>\n",
       "      <td>2019-09-22 10:00:00</td>\n",
       "      <td>서울특별시 용산구 이촌동</td>\n",
       "      <td>용산구</td>\n",
       "    </tr>\n",
       "    <tr>\n",
       "      <th>19</th>\n",
       "      <td>415</td>\n",
       "      <td>용산</td>\n",
       "      <td>2019-09-23 08:00:00</td>\n",
       "      <td>서울특별시 용산구 이촌동</td>\n",
       "      <td>용산구</td>\n",
       "    </tr>\n",
       "    <tr>\n",
       "      <th>22</th>\n",
       "      <td>415</td>\n",
       "      <td>용산</td>\n",
       "      <td>2018-12-29 11:00:00</td>\n",
       "      <td>서울특별시 용산구 이촌동</td>\n",
       "      <td>용산구</td>\n",
       "    </tr>\n",
       "    <tr>\n",
       "      <th>23</th>\n",
       "      <td>415</td>\n",
       "      <td>용산</td>\n",
       "      <td>2018-12-29 07:00:00</td>\n",
       "      <td>서울특별시 용산구 이촌동</td>\n",
       "      <td>용산구</td>\n",
       "    </tr>\n",
       "  </tbody>\n",
       "</table>\n",
       "</div>"
      ],
      "text/plain": [
       "     지점 지점명                   일시             주소    구\n",
       "0   415  용산  2018-12-31 01:00:00  서울특별시 용산구 이촌동  용산구\n",
       "1   415  용산  2019-09-22 10:00:00  서울특별시 용산구 이촌동  용산구\n",
       "19  415  용산  2019-09-23 08:00:00  서울특별시 용산구 이촌동  용산구\n",
       "22  415  용산  2018-12-29 11:00:00  서울특별시 용산구 이촌동  용산구\n",
       "23  415  용산  2018-12-29 07:00:00  서울특별시 용산구 이촌동  용산구"
      ]
     },
     "execution_count": 239,
     "metadata": {},
     "output_type": "execute_result"
    }
   ],
   "source": [
    "nld1.head()"
   ]
  },
  {
   "cell_type": "code",
   "execution_count": 240,
   "metadata": {
    "ExecuteTime": {
     "end_time": "2020-07-05T13:09:48.919862Z",
     "start_time": "2020-07-05T13:09:48.909893Z"
    }
   },
   "outputs": [
    {
     "data": {
      "text/plain": [
       "용산    165\n",
       "Name: 지점명, dtype: int64"
      ]
     },
     "execution_count": 240,
     "metadata": {},
     "output_type": "execute_result"
    }
   ],
   "source": [
    "nld1['지점명'].value_counts()"
   ]
  },
  {
   "cell_type": "code",
   "execution_count": 241,
   "metadata": {
    "ExecuteTime": {
     "end_time": "2020-07-05T13:09:49.982829Z",
     "start_time": "2020-07-05T13:09:49.953908Z"
    }
   },
   "outputs": [
    {
     "data": {
      "text/html": [
       "<div>\n",
       "<style scoped>\n",
       "    .dataframe tbody tr th:only-of-type {\n",
       "        vertical-align: middle;\n",
       "    }\n",
       "\n",
       "    .dataframe tbody tr th {\n",
       "        vertical-align: top;\n",
       "    }\n",
       "\n",
       "    .dataframe thead th {\n",
       "        text-align: right;\n",
       "    }\n",
       "</style>\n",
       "<table border=\"1\" class=\"dataframe\">\n",
       "  <thead>\n",
       "    <tr style=\"text-align: right;\">\n",
       "      <th></th>\n",
       "      <th>지점</th>\n",
       "      <th>지점명</th>\n",
       "      <th>일시</th>\n",
       "      <th>기온</th>\n",
       "      <th>풍속(m/s)</th>\n",
       "      <th>강수량(mm)</th>\n",
       "      <th>습도(%)</th>\n",
       "      <th>일조(hr)</th>\n",
       "      <th>적설(cm)</th>\n",
       "      <th>전운량(10분위)</th>\n",
       "      <th>주소</th>\n",
       "      <th>구</th>\n",
       "      <th>눈내림</th>\n",
       "      <th>눈내림2</th>\n",
       "      <th>시간</th>\n",
       "      <th>전운량(10분위)2</th>\n",
       "    </tr>\n",
       "  </thead>\n",
       "  <tbody>\n",
       "    <tr>\n",
       "      <th>38872</th>\n",
       "      <td>419</td>\n",
       "      <td>중구</td>\n",
       "      <td>2017-01-01 00:00:00</td>\n",
       "      <td>1.0</td>\n",
       "      <td>2.5</td>\n",
       "      <td>0.0</td>\n",
       "      <td>79.0</td>\n",
       "      <td>0.0</td>\n",
       "      <td>NaN</td>\n",
       "      <td>7.0</td>\n",
       "      <td>서울특별시 중구 예장동</td>\n",
       "      <td>중구</td>\n",
       "      <td>0</td>\n",
       "      <td>0</td>\n",
       "      <td>00:00:00</td>\n",
       "      <td>7.0</td>\n",
       "    </tr>\n",
       "    <tr>\n",
       "      <th>38873</th>\n",
       "      <td>419</td>\n",
       "      <td>중구</td>\n",
       "      <td>2017-01-01 01:00:00</td>\n",
       "      <td>1.6</td>\n",
       "      <td>1.3</td>\n",
       "      <td>0.0</td>\n",
       "      <td>78.0</td>\n",
       "      <td>0.0</td>\n",
       "      <td>NaN</td>\n",
       "      <td>NaN</td>\n",
       "      <td>서울특별시 중구 예장동</td>\n",
       "      <td>중구</td>\n",
       "      <td>0</td>\n",
       "      <td>0</td>\n",
       "      <td>01:00:00</td>\n",
       "      <td>7.0</td>\n",
       "    </tr>\n",
       "    <tr>\n",
       "      <th>38874</th>\n",
       "      <td>419</td>\n",
       "      <td>중구</td>\n",
       "      <td>2017-01-01 02:00:00</td>\n",
       "      <td>1.0</td>\n",
       "      <td>1.2</td>\n",
       "      <td>0.0</td>\n",
       "      <td>81.0</td>\n",
       "      <td>0.0</td>\n",
       "      <td>NaN</td>\n",
       "      <td>NaN</td>\n",
       "      <td>서울특별시 중구 예장동</td>\n",
       "      <td>중구</td>\n",
       "      <td>0</td>\n",
       "      <td>0</td>\n",
       "      <td>02:00:00</td>\n",
       "      <td>7.0</td>\n",
       "    </tr>\n",
       "    <tr>\n",
       "      <th>38875</th>\n",
       "      <td>419</td>\n",
       "      <td>중구</td>\n",
       "      <td>2017-01-01 03:00:00</td>\n",
       "      <td>1.4</td>\n",
       "      <td>0.8</td>\n",
       "      <td>0.0</td>\n",
       "      <td>84.0</td>\n",
       "      <td>0.0</td>\n",
       "      <td>NaN</td>\n",
       "      <td>0.0</td>\n",
       "      <td>서울특별시 중구 예장동</td>\n",
       "      <td>중구</td>\n",
       "      <td>0</td>\n",
       "      <td>0</td>\n",
       "      <td>03:00:00</td>\n",
       "      <td>0.0</td>\n",
       "    </tr>\n",
       "    <tr>\n",
       "      <th>38876</th>\n",
       "      <td>419</td>\n",
       "      <td>중구</td>\n",
       "      <td>2017-01-01 04:00:00</td>\n",
       "      <td>2.0</td>\n",
       "      <td>1.2</td>\n",
       "      <td>0.0</td>\n",
       "      <td>85.0</td>\n",
       "      <td>0.0</td>\n",
       "      <td>NaN</td>\n",
       "      <td>0.0</td>\n",
       "      <td>서울특별시 중구 예장동</td>\n",
       "      <td>중구</td>\n",
       "      <td>0</td>\n",
       "      <td>0</td>\n",
       "      <td>04:00:00</td>\n",
       "      <td>0.0</td>\n",
       "    </tr>\n",
       "  </tbody>\n",
       "</table>\n",
       "</div>"
      ],
      "text/plain": [
       "        지점 지점명                   일시   기온  풍속(m/s)  강수량(mm)  습도(%)  일조(hr)  \\\n",
       "38872  419  중구  2017-01-01 00:00:00  1.0      2.5      0.0   79.0     0.0   \n",
       "38873  419  중구  2017-01-01 01:00:00  1.6      1.3      0.0   78.0     0.0   \n",
       "38874  419  중구  2017-01-01 02:00:00  1.0      1.2      0.0   81.0     0.0   \n",
       "38875  419  중구  2017-01-01 03:00:00  1.4      0.8      0.0   84.0     0.0   \n",
       "38876  419  중구  2017-01-01 04:00:00  2.0      1.2      0.0   85.0     0.0   \n",
       "\n",
       "       적설(cm)  전운량(10분위)            주소   구  눈내림  눈내림2        시간  전운량(10분위)2  \n",
       "38872     NaN        7.0  서울특별시 중구 예장동  중구    0     0  00:00:00         7.0  \n",
       "38873     NaN        NaN  서울특별시 중구 예장동  중구    0     0  01:00:00         7.0  \n",
       "38874     NaN        NaN  서울특별시 중구 예장동  중구    0     0  02:00:00         7.0  \n",
       "38875     NaN        0.0  서울특별시 중구 예장동  중구    0     0  03:00:00         0.0  \n",
       "38876     NaN        0.0  서울특별시 중구 예장동  중구    0     0  04:00:00         0.0  "
      ]
     },
     "execution_count": 241,
     "metadata": {},
     "output_type": "execute_result"
    }
   ],
   "source": [
    "w1.head()"
   ]
  },
  {
   "cell_type": "code",
   "execution_count": 242,
   "metadata": {
    "ExecuteTime": {
     "end_time": "2020-07-05T13:09:51.600300Z",
     "start_time": "2020-07-05T13:09:51.583347Z"
    }
   },
   "outputs": [
    {
     "data": {
      "text/plain": [
       "중구    26150\n",
       "Name: 지점명, dtype: int64"
      ]
     },
     "execution_count": 242,
     "metadata": {},
     "output_type": "execute_result"
    }
   ],
   "source": [
    "w1['지점명'].value_counts()"
   ]
  },
  {
   "cell_type": "code",
   "execution_count": 243,
   "metadata": {
    "ExecuteTime": {
     "end_time": "2020-07-05T13:09:53.179096Z",
     "start_time": "2020-07-05T13:09:53.168160Z"
    }
   },
   "outputs": [],
   "source": [
    "w1.drop(['지점','지점명','주소','구'], axis=1, inplace = True)"
   ]
  },
  {
   "cell_type": "code",
   "execution_count": 244,
   "metadata": {
    "ExecuteTime": {
     "end_time": "2020-07-05T13:09:53.787320Z",
     "start_time": "2020-07-05T13:09:53.756408Z"
    }
   },
   "outputs": [
    {
     "data": {
      "text/html": [
       "<div>\n",
       "<style scoped>\n",
       "    .dataframe tbody tr th:only-of-type {\n",
       "        vertical-align: middle;\n",
       "    }\n",
       "\n",
       "    .dataframe tbody tr th {\n",
       "        vertical-align: top;\n",
       "    }\n",
       "\n",
       "    .dataframe thead th {\n",
       "        text-align: right;\n",
       "    }\n",
       "</style>\n",
       "<table border=\"1\" class=\"dataframe\">\n",
       "  <thead>\n",
       "    <tr style=\"text-align: right;\">\n",
       "      <th></th>\n",
       "      <th>일시</th>\n",
       "      <th>기온</th>\n",
       "      <th>풍속(m/s)</th>\n",
       "      <th>강수량(mm)</th>\n",
       "      <th>습도(%)</th>\n",
       "      <th>일조(hr)</th>\n",
       "      <th>적설(cm)</th>\n",
       "      <th>전운량(10분위)</th>\n",
       "      <th>눈내림</th>\n",
       "      <th>눈내림2</th>\n",
       "      <th>시간</th>\n",
       "      <th>전운량(10분위)2</th>\n",
       "    </tr>\n",
       "  </thead>\n",
       "  <tbody>\n",
       "    <tr>\n",
       "      <th>38872</th>\n",
       "      <td>2017-01-01 00:00:00</td>\n",
       "      <td>1.0</td>\n",
       "      <td>2.5</td>\n",
       "      <td>0.0</td>\n",
       "      <td>79.0</td>\n",
       "      <td>0.0</td>\n",
       "      <td>NaN</td>\n",
       "      <td>7.0</td>\n",
       "      <td>0</td>\n",
       "      <td>0</td>\n",
       "      <td>00:00:00</td>\n",
       "      <td>7.0</td>\n",
       "    </tr>\n",
       "    <tr>\n",
       "      <th>38873</th>\n",
       "      <td>2017-01-01 01:00:00</td>\n",
       "      <td>1.6</td>\n",
       "      <td>1.3</td>\n",
       "      <td>0.0</td>\n",
       "      <td>78.0</td>\n",
       "      <td>0.0</td>\n",
       "      <td>NaN</td>\n",
       "      <td>NaN</td>\n",
       "      <td>0</td>\n",
       "      <td>0</td>\n",
       "      <td>01:00:00</td>\n",
       "      <td>7.0</td>\n",
       "    </tr>\n",
       "    <tr>\n",
       "      <th>38874</th>\n",
       "      <td>2017-01-01 02:00:00</td>\n",
       "      <td>1.0</td>\n",
       "      <td>1.2</td>\n",
       "      <td>0.0</td>\n",
       "      <td>81.0</td>\n",
       "      <td>0.0</td>\n",
       "      <td>NaN</td>\n",
       "      <td>NaN</td>\n",
       "      <td>0</td>\n",
       "      <td>0</td>\n",
       "      <td>02:00:00</td>\n",
       "      <td>7.0</td>\n",
       "    </tr>\n",
       "    <tr>\n",
       "      <th>38875</th>\n",
       "      <td>2017-01-01 03:00:00</td>\n",
       "      <td>1.4</td>\n",
       "      <td>0.8</td>\n",
       "      <td>0.0</td>\n",
       "      <td>84.0</td>\n",
       "      <td>0.0</td>\n",
       "      <td>NaN</td>\n",
       "      <td>0.0</td>\n",
       "      <td>0</td>\n",
       "      <td>0</td>\n",
       "      <td>03:00:00</td>\n",
       "      <td>0.0</td>\n",
       "    </tr>\n",
       "    <tr>\n",
       "      <th>38876</th>\n",
       "      <td>2017-01-01 04:00:00</td>\n",
       "      <td>2.0</td>\n",
       "      <td>1.2</td>\n",
       "      <td>0.0</td>\n",
       "      <td>85.0</td>\n",
       "      <td>0.0</td>\n",
       "      <td>NaN</td>\n",
       "      <td>0.0</td>\n",
       "      <td>0</td>\n",
       "      <td>0</td>\n",
       "      <td>04:00:00</td>\n",
       "      <td>0.0</td>\n",
       "    </tr>\n",
       "  </tbody>\n",
       "</table>\n",
       "</div>"
      ],
      "text/plain": [
       "                        일시   기온  풍속(m/s)  강수량(mm)  습도(%)  일조(hr)  적설(cm)  \\\n",
       "38872  2017-01-01 00:00:00  1.0      2.5      0.0   79.0     0.0     NaN   \n",
       "38873  2017-01-01 01:00:00  1.6      1.3      0.0   78.0     0.0     NaN   \n",
       "38874  2017-01-01 02:00:00  1.0      1.2      0.0   81.0     0.0     NaN   \n",
       "38875  2017-01-01 03:00:00  1.4      0.8      0.0   84.0     0.0     NaN   \n",
       "38876  2017-01-01 04:00:00  2.0      1.2      0.0   85.0     0.0     NaN   \n",
       "\n",
       "       전운량(10분위)  눈내림  눈내림2        시간  전운량(10분위)2  \n",
       "38872        7.0    0     0  00:00:00         7.0  \n",
       "38873        NaN    0     0  01:00:00         7.0  \n",
       "38874        NaN    0     0  02:00:00         7.0  \n",
       "38875        0.0    0     0  03:00:00         0.0  \n",
       "38876        0.0    0     0  04:00:00         0.0  "
      ]
     },
     "execution_count": 244,
     "metadata": {},
     "output_type": "execute_result"
    }
   ],
   "source": [
    "w1.head()"
   ]
  },
  {
   "cell_type": "code",
   "execution_count": 245,
   "metadata": {
    "ExecuteTime": {
     "end_time": "2020-07-05T13:09:54.913083Z",
     "start_time": "2020-07-05T13:09:54.907101Z"
    }
   },
   "outputs": [
    {
     "data": {
      "text/plain": [
       "(26150, 12)"
      ]
     },
     "execution_count": 245,
     "metadata": {},
     "output_type": "execute_result"
    }
   ],
   "source": [
    "w1.shape"
   ]
  },
  {
   "cell_type": "code",
   "execution_count": 219,
   "metadata": {
    "ExecuteTime": {
     "end_time": "2020-07-05T13:03:57.405268Z",
     "start_time": "2020-07-05T13:03:57.401278Z"
    }
   },
   "outputs": [],
   "source": [
    "# m 숫자 바꿔!!"
   ]
  },
  {
   "cell_type": "code",
   "execution_count": 246,
   "metadata": {
    "ExecuteTime": {
     "end_time": "2020-07-05T13:10:02.962478Z",
     "start_time": "2020-07-05T13:10:02.903635Z"
    }
   },
   "outputs": [
    {
     "name": "stdout",
     "output_type": "stream",
     "text": [
      "(165, 16)\n"
     ]
    },
    {
     "data": {
      "text/html": [
       "<div>\n",
       "<style scoped>\n",
       "    .dataframe tbody tr th:only-of-type {\n",
       "        vertical-align: middle;\n",
       "    }\n",
       "\n",
       "    .dataframe tbody tr th {\n",
       "        vertical-align: top;\n",
       "    }\n",
       "\n",
       "    .dataframe thead th {\n",
       "        text-align: right;\n",
       "    }\n",
       "</style>\n",
       "<table border=\"1\" class=\"dataframe\">\n",
       "  <thead>\n",
       "    <tr style=\"text-align: right;\">\n",
       "      <th></th>\n",
       "      <th>지점</th>\n",
       "      <th>지점명</th>\n",
       "      <th>일시</th>\n",
       "      <th>주소</th>\n",
       "      <th>구</th>\n",
       "      <th>기온</th>\n",
       "      <th>풍속(m/s)</th>\n",
       "      <th>강수량(mm)</th>\n",
       "      <th>습도(%)</th>\n",
       "      <th>일조(hr)</th>\n",
       "      <th>적설(cm)</th>\n",
       "      <th>전운량(10분위)</th>\n",
       "      <th>눈내림</th>\n",
       "      <th>눈내림2</th>\n",
       "      <th>시간</th>\n",
       "      <th>전운량(10분위)2</th>\n",
       "    </tr>\n",
       "  </thead>\n",
       "  <tbody>\n",
       "    <tr>\n",
       "      <th>0</th>\n",
       "      <td>415</td>\n",
       "      <td>용산</td>\n",
       "      <td>2018-12-31 01:00:00</td>\n",
       "      <td>서울특별시 용산구 이촌동</td>\n",
       "      <td>용산구</td>\n",
       "      <td>-7.8</td>\n",
       "      <td>3.0</td>\n",
       "      <td>0.0</td>\n",
       "      <td>42.0</td>\n",
       "      <td>0.0</td>\n",
       "      <td>NaN</td>\n",
       "      <td>0.0</td>\n",
       "      <td>0</td>\n",
       "      <td>0</td>\n",
       "      <td>01:00:00</td>\n",
       "      <td>0.0</td>\n",
       "    </tr>\n",
       "    <tr>\n",
       "      <th>1</th>\n",
       "      <td>415</td>\n",
       "      <td>용산</td>\n",
       "      <td>2019-09-22 10:00:00</td>\n",
       "      <td>서울특별시 용산구 이촌동</td>\n",
       "      <td>용산구</td>\n",
       "      <td>17.6</td>\n",
       "      <td>5.0</td>\n",
       "      <td>0.0</td>\n",
       "      <td>59.0</td>\n",
       "      <td>0.0</td>\n",
       "      <td>NaN</td>\n",
       "      <td>10.0</td>\n",
       "      <td>0</td>\n",
       "      <td>0</td>\n",
       "      <td>10:00:00</td>\n",
       "      <td>10.0</td>\n",
       "    </tr>\n",
       "    <tr>\n",
       "      <th>2</th>\n",
       "      <td>415</td>\n",
       "      <td>용산</td>\n",
       "      <td>2019-09-23 08:00:00</td>\n",
       "      <td>서울특별시 용산구 이촌동</td>\n",
       "      <td>용산구</td>\n",
       "      <td>16.8</td>\n",
       "      <td>4.5</td>\n",
       "      <td>0.0</td>\n",
       "      <td>44.0</td>\n",
       "      <td>0.3</td>\n",
       "      <td>NaN</td>\n",
       "      <td>6.0</td>\n",
       "      <td>0</td>\n",
       "      <td>0</td>\n",
       "      <td>08:00:00</td>\n",
       "      <td>6.0</td>\n",
       "    </tr>\n",
       "    <tr>\n",
       "      <th>3</th>\n",
       "      <td>415</td>\n",
       "      <td>용산</td>\n",
       "      <td>2018-12-29 11:00:00</td>\n",
       "      <td>서울특별시 용산구 이촌동</td>\n",
       "      <td>용산구</td>\n",
       "      <td>-9.2</td>\n",
       "      <td>2.7</td>\n",
       "      <td>0.0</td>\n",
       "      <td>21.0</td>\n",
       "      <td>1.0</td>\n",
       "      <td>NaN</td>\n",
       "      <td>0.0</td>\n",
       "      <td>0</td>\n",
       "      <td>0</td>\n",
       "      <td>11:00:00</td>\n",
       "      <td>0.0</td>\n",
       "    </tr>\n",
       "    <tr>\n",
       "      <th>4</th>\n",
       "      <td>415</td>\n",
       "      <td>용산</td>\n",
       "      <td>2018-12-29 07:00:00</td>\n",
       "      <td>서울특별시 용산구 이촌동</td>\n",
       "      <td>용산구</td>\n",
       "      <td>-11.8</td>\n",
       "      <td>3.0</td>\n",
       "      <td>0.0</td>\n",
       "      <td>28.0</td>\n",
       "      <td>0.0</td>\n",
       "      <td>NaN</td>\n",
       "      <td>0.0</td>\n",
       "      <td>0</td>\n",
       "      <td>0</td>\n",
       "      <td>07:00:00</td>\n",
       "      <td>0.0</td>\n",
       "    </tr>\n",
       "  </tbody>\n",
       "</table>\n",
       "</div>"
      ],
      "text/plain": [
       "    지점 지점명                   일시             주소    구    기온  풍속(m/s)  강수량(mm)  \\\n",
       "0  415  용산  2018-12-31 01:00:00  서울특별시 용산구 이촌동  용산구  -7.8      3.0      0.0   \n",
       "1  415  용산  2019-09-22 10:00:00  서울특별시 용산구 이촌동  용산구  17.6      5.0      0.0   \n",
       "2  415  용산  2019-09-23 08:00:00  서울특별시 용산구 이촌동  용산구  16.8      4.5      0.0   \n",
       "3  415  용산  2018-12-29 11:00:00  서울특별시 용산구 이촌동  용산구  -9.2      2.7      0.0   \n",
       "4  415  용산  2018-12-29 07:00:00  서울특별시 용산구 이촌동  용산구 -11.8      3.0      0.0   \n",
       "\n",
       "   습도(%)  일조(hr)  적설(cm)  전운량(10분위)  눈내림  눈내림2        시간  전운량(10분위)2  \n",
       "0   42.0     0.0     NaN        0.0    0     0  01:00:00         0.0  \n",
       "1   59.0     0.0     NaN       10.0    0     0  10:00:00        10.0  \n",
       "2   44.0     0.3     NaN        6.0    0     0  08:00:00         6.0  \n",
       "3   21.0     1.0     NaN        0.0    0     0  11:00:00         0.0  \n",
       "4   28.0     0.0     NaN        0.0    0     0  07:00:00         0.0  "
      ]
     },
     "execution_count": 246,
     "metadata": {},
     "output_type": "execute_result"
    }
   ],
   "source": [
    "m4 = pd.merge(nld1, w1, how = 'left', on = '일시')\n",
    "print(m4.shape)\n",
    "m4.head()"
   ]
  },
  {
   "cell_type": "code",
   "execution_count": 247,
   "metadata": {
    "ExecuteTime": {
     "end_time": "2020-07-05T13:10:05.917465Z",
     "start_time": "2020-07-05T13:10:05.901476Z"
    }
   },
   "outputs": [
    {
     "data": {
      "text/plain": [
       "지점              0\n",
       "지점명             0\n",
       "일시              0\n",
       "주소              0\n",
       "구               0\n",
       "기온              0\n",
       "풍속(m/s)         0\n",
       "강수량(mm)         0\n",
       "습도(%)           0\n",
       "일조(hr)          0\n",
       "적설(cm)        153\n",
       "전운량(10분위)       0\n",
       "눈내림             0\n",
       "눈내림2            0\n",
       "시간              0\n",
       "전운량(10분위)2      0\n",
       "dtype: int64"
      ]
     },
     "execution_count": 247,
     "metadata": {},
     "output_type": "execute_result"
    }
   ],
   "source": [
    "m4.isnull().sum()"
   ]
  },
  {
   "cell_type": "markdown",
   "metadata": {},
   "source": [
    "- 금천 151"
   ]
  },
  {
   "cell_type": "code",
   "execution_count": 262,
   "metadata": {
    "ExecuteTime": {
     "end_time": "2020-07-05T13:12:47.260960Z",
     "start_time": "2020-07-05T13:12:46.660543Z"
    }
   },
   "outputs": [],
   "source": [
    "# 금천 null은 구로 data로 대체\n",
    "nld1 = null_location_day[null_location_day['지점명'] == '금천']\n",
    "w1 = weather[weather['지점명'].str.contains('구로')].copy()"
   ]
  },
  {
   "cell_type": "code",
   "execution_count": 263,
   "metadata": {
    "ExecuteTime": {
     "end_time": "2020-07-05T13:12:47.270878Z",
     "start_time": "2020-07-05T13:12:47.262898Z"
    }
   },
   "outputs": [
    {
     "data": {
      "text/plain": [
       "(151, 5)"
      ]
     },
     "execution_count": 263,
     "metadata": {},
     "output_type": "execute_result"
    }
   ],
   "source": [
    "nld1.shape"
   ]
  },
  {
   "cell_type": "code",
   "execution_count": 264,
   "metadata": {
    "ExecuteTime": {
     "end_time": "2020-07-05T13:12:47.765145Z",
     "start_time": "2020-07-05T13:12:47.744203Z"
    }
   },
   "outputs": [
    {
     "data": {
      "text/html": [
       "<div>\n",
       "<style scoped>\n",
       "    .dataframe tbody tr th:only-of-type {\n",
       "        vertical-align: middle;\n",
       "    }\n",
       "\n",
       "    .dataframe tbody tr th {\n",
       "        vertical-align: top;\n",
       "    }\n",
       "\n",
       "    .dataframe thead th {\n",
       "        text-align: right;\n",
       "    }\n",
       "</style>\n",
       "<table border=\"1\" class=\"dataframe\">\n",
       "  <thead>\n",
       "    <tr style=\"text-align: right;\">\n",
       "      <th></th>\n",
       "      <th>지점</th>\n",
       "      <th>지점명</th>\n",
       "      <th>일시</th>\n",
       "      <th>주소</th>\n",
       "      <th>구</th>\n",
       "    </tr>\n",
       "  </thead>\n",
       "  <tbody>\n",
       "    <tr>\n",
       "      <th>5</th>\n",
       "      <td>417</td>\n",
       "      <td>금천</td>\n",
       "      <td>2018-08-13 10:00:00</td>\n",
       "      <td>서울특별시 금천구 독산동</td>\n",
       "      <td>금천구</td>\n",
       "    </tr>\n",
       "    <tr>\n",
       "      <th>33</th>\n",
       "      <td>417</td>\n",
       "      <td>금천</td>\n",
       "      <td>2017-07-29 11:00:00</td>\n",
       "      <td>서울특별시 금천구 독산동</td>\n",
       "      <td>금천구</td>\n",
       "    </tr>\n",
       "    <tr>\n",
       "      <th>34</th>\n",
       "      <td>417</td>\n",
       "      <td>금천</td>\n",
       "      <td>2019-01-04 20:00:00</td>\n",
       "      <td>서울특별시 금천구 독산동</td>\n",
       "      <td>금천구</td>\n",
       "    </tr>\n",
       "    <tr>\n",
       "      <th>57</th>\n",
       "      <td>417</td>\n",
       "      <td>금천</td>\n",
       "      <td>2018-08-13 11:00:00</td>\n",
       "      <td>서울특별시 금천구 독산동</td>\n",
       "      <td>금천구</td>\n",
       "    </tr>\n",
       "    <tr>\n",
       "      <th>69</th>\n",
       "      <td>417</td>\n",
       "      <td>금천</td>\n",
       "      <td>2019-01-06 11:00:00</td>\n",
       "      <td>서울특별시 금천구 독산동</td>\n",
       "      <td>금천구</td>\n",
       "    </tr>\n",
       "  </tbody>\n",
       "</table>\n",
       "</div>"
      ],
      "text/plain": [
       "     지점 지점명                   일시             주소    구\n",
       "5   417  금천  2018-08-13 10:00:00  서울특별시 금천구 독산동  금천구\n",
       "33  417  금천  2017-07-29 11:00:00  서울특별시 금천구 독산동  금천구\n",
       "34  417  금천  2019-01-04 20:00:00  서울특별시 금천구 독산동  금천구\n",
       "57  417  금천  2018-08-13 11:00:00  서울특별시 금천구 독산동  금천구\n",
       "69  417  금천  2019-01-06 11:00:00  서울특별시 금천구 독산동  금천구"
      ]
     },
     "execution_count": 264,
     "metadata": {},
     "output_type": "execute_result"
    }
   ],
   "source": [
    "nld1.head()"
   ]
  },
  {
   "cell_type": "code",
   "execution_count": 265,
   "metadata": {
    "ExecuteTime": {
     "end_time": "2020-07-05T13:12:48.405729Z",
     "start_time": "2020-07-05T13:12:48.394760Z"
    }
   },
   "outputs": [
    {
     "data": {
      "text/plain": [
       "금천    151\n",
       "Name: 지점명, dtype: int64"
      ]
     },
     "execution_count": 265,
     "metadata": {},
     "output_type": "execute_result"
    }
   ],
   "source": [
    "nld1['지점명'].value_counts()"
   ]
  },
  {
   "cell_type": "code",
   "execution_count": 266,
   "metadata": {
    "ExecuteTime": {
     "end_time": "2020-07-05T13:12:56.988181Z",
     "start_time": "2020-07-05T13:12:56.959260Z"
    }
   },
   "outputs": [
    {
     "data": {
      "text/html": [
       "<div>\n",
       "<style scoped>\n",
       "    .dataframe tbody tr th:only-of-type {\n",
       "        vertical-align: middle;\n",
       "    }\n",
       "\n",
       "    .dataframe tbody tr th {\n",
       "        vertical-align: top;\n",
       "    }\n",
       "\n",
       "    .dataframe thead th {\n",
       "        text-align: right;\n",
       "    }\n",
       "</style>\n",
       "<table border=\"1\" class=\"dataframe\">\n",
       "  <thead>\n",
       "    <tr style=\"text-align: right;\">\n",
       "      <th></th>\n",
       "      <th>지점</th>\n",
       "      <th>지점명</th>\n",
       "      <th>일시</th>\n",
       "      <th>기온</th>\n",
       "      <th>풍속(m/s)</th>\n",
       "      <th>강수량(mm)</th>\n",
       "      <th>습도(%)</th>\n",
       "      <th>일조(hr)</th>\n",
       "      <th>적설(cm)</th>\n",
       "      <th>전운량(10분위)</th>\n",
       "      <th>주소</th>\n",
       "      <th>구</th>\n",
       "      <th>눈내림</th>\n",
       "      <th>눈내림2</th>\n",
       "      <th>시간</th>\n",
       "      <th>전운량(10분위)2</th>\n",
       "    </tr>\n",
       "  </thead>\n",
       "  <tbody>\n",
       "    <tr>\n",
       "      <th>43192</th>\n",
       "      <td>423</td>\n",
       "      <td>구로</td>\n",
       "      <td>2017-01-01 00:00:00</td>\n",
       "      <td>0.2</td>\n",
       "      <td>0.6</td>\n",
       "      <td>0.0</td>\n",
       "      <td>79.0</td>\n",
       "      <td>0.0</td>\n",
       "      <td>NaN</td>\n",
       "      <td>7.0</td>\n",
       "      <td>서울특별시 구로구 궁동</td>\n",
       "      <td>구로구</td>\n",
       "      <td>0</td>\n",
       "      <td>0</td>\n",
       "      <td>00:00:00</td>\n",
       "      <td>7.0</td>\n",
       "    </tr>\n",
       "    <tr>\n",
       "      <th>43193</th>\n",
       "      <td>423</td>\n",
       "      <td>구로</td>\n",
       "      <td>2017-01-01 01:00:00</td>\n",
       "      <td>0.2</td>\n",
       "      <td>0.5</td>\n",
       "      <td>0.0</td>\n",
       "      <td>78.0</td>\n",
       "      <td>0.0</td>\n",
       "      <td>NaN</td>\n",
       "      <td>NaN</td>\n",
       "      <td>서울특별시 구로구 궁동</td>\n",
       "      <td>구로구</td>\n",
       "      <td>0</td>\n",
       "      <td>0</td>\n",
       "      <td>01:00:00</td>\n",
       "      <td>7.0</td>\n",
       "    </tr>\n",
       "    <tr>\n",
       "      <th>43194</th>\n",
       "      <td>423</td>\n",
       "      <td>구로</td>\n",
       "      <td>2017-01-01 02:00:00</td>\n",
       "      <td>-0.3</td>\n",
       "      <td>0.1</td>\n",
       "      <td>0.0</td>\n",
       "      <td>81.0</td>\n",
       "      <td>0.0</td>\n",
       "      <td>NaN</td>\n",
       "      <td>NaN</td>\n",
       "      <td>서울특별시 구로구 궁동</td>\n",
       "      <td>구로구</td>\n",
       "      <td>0</td>\n",
       "      <td>0</td>\n",
       "      <td>02:00:00</td>\n",
       "      <td>7.0</td>\n",
       "    </tr>\n",
       "    <tr>\n",
       "      <th>43195</th>\n",
       "      <td>423</td>\n",
       "      <td>구로</td>\n",
       "      <td>2017-01-01 03:00:00</td>\n",
       "      <td>-0.4</td>\n",
       "      <td>0.0</td>\n",
       "      <td>0.0</td>\n",
       "      <td>84.0</td>\n",
       "      <td>0.0</td>\n",
       "      <td>NaN</td>\n",
       "      <td>0.0</td>\n",
       "      <td>서울특별시 구로구 궁동</td>\n",
       "      <td>구로구</td>\n",
       "      <td>0</td>\n",
       "      <td>0</td>\n",
       "      <td>03:00:00</td>\n",
       "      <td>0.0</td>\n",
       "    </tr>\n",
       "    <tr>\n",
       "      <th>43196</th>\n",
       "      <td>423</td>\n",
       "      <td>구로</td>\n",
       "      <td>2017-01-01 04:00:00</td>\n",
       "      <td>-0.7</td>\n",
       "      <td>0.2</td>\n",
       "      <td>0.0</td>\n",
       "      <td>85.0</td>\n",
       "      <td>0.0</td>\n",
       "      <td>NaN</td>\n",
       "      <td>0.0</td>\n",
       "      <td>서울특별시 구로구 궁동</td>\n",
       "      <td>구로구</td>\n",
       "      <td>0</td>\n",
       "      <td>0</td>\n",
       "      <td>04:00:00</td>\n",
       "      <td>0.0</td>\n",
       "    </tr>\n",
       "  </tbody>\n",
       "</table>\n",
       "</div>"
      ],
      "text/plain": [
       "        지점 지점명                   일시   기온  풍속(m/s)  강수량(mm)  습도(%)  일조(hr)  \\\n",
       "43192  423  구로  2017-01-01 00:00:00  0.2      0.6      0.0   79.0     0.0   \n",
       "43193  423  구로  2017-01-01 01:00:00  0.2      0.5      0.0   78.0     0.0   \n",
       "43194  423  구로  2017-01-01 02:00:00 -0.3      0.1      0.0   81.0     0.0   \n",
       "43195  423  구로  2017-01-01 03:00:00 -0.4      0.0      0.0   84.0     0.0   \n",
       "43196  423  구로  2017-01-01 04:00:00 -0.7      0.2      0.0   85.0     0.0   \n",
       "\n",
       "       적설(cm)  전운량(10분위)            주소    구  눈내림  눈내림2        시간  전운량(10분위)2  \n",
       "43192     NaN        7.0  서울특별시 구로구 궁동  구로구    0     0  00:00:00         7.0  \n",
       "43193     NaN        NaN  서울특별시 구로구 궁동  구로구    0     0  01:00:00         7.0  \n",
       "43194     NaN        NaN  서울특별시 구로구 궁동  구로구    0     0  02:00:00         7.0  \n",
       "43195     NaN        0.0  서울특별시 구로구 궁동  구로구    0     0  03:00:00         0.0  \n",
       "43196     NaN        0.0  서울특별시 구로구 궁동  구로구    0     0  04:00:00         0.0  "
      ]
     },
     "execution_count": 266,
     "metadata": {},
     "output_type": "execute_result"
    }
   ],
   "source": [
    "w1.head()"
   ]
  },
  {
   "cell_type": "code",
   "execution_count": 267,
   "metadata": {
    "ExecuteTime": {
     "end_time": "2020-07-05T13:12:57.764338Z",
     "start_time": "2020-07-05T13:12:57.751373Z"
    }
   },
   "outputs": [
    {
     "data": {
      "text/plain": [
       "구로    26256\n",
       "Name: 지점명, dtype: int64"
      ]
     },
     "execution_count": 267,
     "metadata": {},
     "output_type": "execute_result"
    }
   ],
   "source": [
    "w1['지점명'].value_counts()"
   ]
  },
  {
   "cell_type": "code",
   "execution_count": 268,
   "metadata": {
    "ExecuteTime": {
     "end_time": "2020-07-05T13:13:01.406080Z",
     "start_time": "2020-07-05T13:13:01.395114Z"
    }
   },
   "outputs": [],
   "source": [
    "w1.drop(['지점','지점명','주소','구'], axis=1, inplace = True)"
   ]
  },
  {
   "cell_type": "code",
   "execution_count": 269,
   "metadata": {
    "ExecuteTime": {
     "end_time": "2020-07-05T13:13:03.440344Z",
     "start_time": "2020-07-05T13:13:03.405438Z"
    }
   },
   "outputs": [
    {
     "data": {
      "text/html": [
       "<div>\n",
       "<style scoped>\n",
       "    .dataframe tbody tr th:only-of-type {\n",
       "        vertical-align: middle;\n",
       "    }\n",
       "\n",
       "    .dataframe tbody tr th {\n",
       "        vertical-align: top;\n",
       "    }\n",
       "\n",
       "    .dataframe thead th {\n",
       "        text-align: right;\n",
       "    }\n",
       "</style>\n",
       "<table border=\"1\" class=\"dataframe\">\n",
       "  <thead>\n",
       "    <tr style=\"text-align: right;\">\n",
       "      <th></th>\n",
       "      <th>일시</th>\n",
       "      <th>기온</th>\n",
       "      <th>풍속(m/s)</th>\n",
       "      <th>강수량(mm)</th>\n",
       "      <th>습도(%)</th>\n",
       "      <th>일조(hr)</th>\n",
       "      <th>적설(cm)</th>\n",
       "      <th>전운량(10분위)</th>\n",
       "      <th>눈내림</th>\n",
       "      <th>눈내림2</th>\n",
       "      <th>시간</th>\n",
       "      <th>전운량(10분위)2</th>\n",
       "    </tr>\n",
       "  </thead>\n",
       "  <tbody>\n",
       "    <tr>\n",
       "      <th>43192</th>\n",
       "      <td>2017-01-01 00:00:00</td>\n",
       "      <td>0.2</td>\n",
       "      <td>0.6</td>\n",
       "      <td>0.0</td>\n",
       "      <td>79.0</td>\n",
       "      <td>0.0</td>\n",
       "      <td>NaN</td>\n",
       "      <td>7.0</td>\n",
       "      <td>0</td>\n",
       "      <td>0</td>\n",
       "      <td>00:00:00</td>\n",
       "      <td>7.0</td>\n",
       "    </tr>\n",
       "    <tr>\n",
       "      <th>43193</th>\n",
       "      <td>2017-01-01 01:00:00</td>\n",
       "      <td>0.2</td>\n",
       "      <td>0.5</td>\n",
       "      <td>0.0</td>\n",
       "      <td>78.0</td>\n",
       "      <td>0.0</td>\n",
       "      <td>NaN</td>\n",
       "      <td>NaN</td>\n",
       "      <td>0</td>\n",
       "      <td>0</td>\n",
       "      <td>01:00:00</td>\n",
       "      <td>7.0</td>\n",
       "    </tr>\n",
       "    <tr>\n",
       "      <th>43194</th>\n",
       "      <td>2017-01-01 02:00:00</td>\n",
       "      <td>-0.3</td>\n",
       "      <td>0.1</td>\n",
       "      <td>0.0</td>\n",
       "      <td>81.0</td>\n",
       "      <td>0.0</td>\n",
       "      <td>NaN</td>\n",
       "      <td>NaN</td>\n",
       "      <td>0</td>\n",
       "      <td>0</td>\n",
       "      <td>02:00:00</td>\n",
       "      <td>7.0</td>\n",
       "    </tr>\n",
       "    <tr>\n",
       "      <th>43195</th>\n",
       "      <td>2017-01-01 03:00:00</td>\n",
       "      <td>-0.4</td>\n",
       "      <td>0.0</td>\n",
       "      <td>0.0</td>\n",
       "      <td>84.0</td>\n",
       "      <td>0.0</td>\n",
       "      <td>NaN</td>\n",
       "      <td>0.0</td>\n",
       "      <td>0</td>\n",
       "      <td>0</td>\n",
       "      <td>03:00:00</td>\n",
       "      <td>0.0</td>\n",
       "    </tr>\n",
       "    <tr>\n",
       "      <th>43196</th>\n",
       "      <td>2017-01-01 04:00:00</td>\n",
       "      <td>-0.7</td>\n",
       "      <td>0.2</td>\n",
       "      <td>0.0</td>\n",
       "      <td>85.0</td>\n",
       "      <td>0.0</td>\n",
       "      <td>NaN</td>\n",
       "      <td>0.0</td>\n",
       "      <td>0</td>\n",
       "      <td>0</td>\n",
       "      <td>04:00:00</td>\n",
       "      <td>0.0</td>\n",
       "    </tr>\n",
       "  </tbody>\n",
       "</table>\n",
       "</div>"
      ],
      "text/plain": [
       "                        일시   기온  풍속(m/s)  강수량(mm)  습도(%)  일조(hr)  적설(cm)  \\\n",
       "43192  2017-01-01 00:00:00  0.2      0.6      0.0   79.0     0.0     NaN   \n",
       "43193  2017-01-01 01:00:00  0.2      0.5      0.0   78.0     0.0     NaN   \n",
       "43194  2017-01-01 02:00:00 -0.3      0.1      0.0   81.0     0.0     NaN   \n",
       "43195  2017-01-01 03:00:00 -0.4      0.0      0.0   84.0     0.0     NaN   \n",
       "43196  2017-01-01 04:00:00 -0.7      0.2      0.0   85.0     0.0     NaN   \n",
       "\n",
       "       전운량(10분위)  눈내림  눈내림2        시간  전운량(10분위)2  \n",
       "43192        7.0    0     0  00:00:00         7.0  \n",
       "43193        NaN    0     0  01:00:00         7.0  \n",
       "43194        NaN    0     0  02:00:00         7.0  \n",
       "43195        0.0    0     0  03:00:00         0.0  \n",
       "43196        0.0    0     0  04:00:00         0.0  "
      ]
     },
     "execution_count": 269,
     "metadata": {},
     "output_type": "execute_result"
    }
   ],
   "source": [
    "w1.head()"
   ]
  },
  {
   "cell_type": "code",
   "execution_count": 270,
   "metadata": {
    "ExecuteTime": {
     "end_time": "2020-07-05T13:13:03.923645Z",
     "start_time": "2020-07-05T13:13:03.917660Z"
    }
   },
   "outputs": [
    {
     "data": {
      "text/plain": [
       "(26256, 12)"
      ]
     },
     "execution_count": 270,
     "metadata": {},
     "output_type": "execute_result"
    }
   ],
   "source": [
    "w1.shape"
   ]
  },
  {
   "cell_type": "code",
   "execution_count": 271,
   "metadata": {
    "ExecuteTime": {
     "end_time": "2020-07-05T13:13:05.569354Z",
     "start_time": "2020-07-05T13:13:05.565365Z"
    }
   },
   "outputs": [],
   "source": [
    "# m 숫자 바꿔!!"
   ]
  },
  {
   "cell_type": "code",
   "execution_count": 272,
   "metadata": {
    "ExecuteTime": {
     "end_time": "2020-07-05T13:13:06.128413Z",
     "start_time": "2020-07-05T13:13:06.062589Z"
    }
   },
   "outputs": [
    {
     "name": "stdout",
     "output_type": "stream",
     "text": [
      "(151, 16)\n"
     ]
    },
    {
     "data": {
      "text/html": [
       "<div>\n",
       "<style scoped>\n",
       "    .dataframe tbody tr th:only-of-type {\n",
       "        vertical-align: middle;\n",
       "    }\n",
       "\n",
       "    .dataframe tbody tr th {\n",
       "        vertical-align: top;\n",
       "    }\n",
       "\n",
       "    .dataframe thead th {\n",
       "        text-align: right;\n",
       "    }\n",
       "</style>\n",
       "<table border=\"1\" class=\"dataframe\">\n",
       "  <thead>\n",
       "    <tr style=\"text-align: right;\">\n",
       "      <th></th>\n",
       "      <th>지점</th>\n",
       "      <th>지점명</th>\n",
       "      <th>일시</th>\n",
       "      <th>주소</th>\n",
       "      <th>구</th>\n",
       "      <th>기온</th>\n",
       "      <th>풍속(m/s)</th>\n",
       "      <th>강수량(mm)</th>\n",
       "      <th>습도(%)</th>\n",
       "      <th>일조(hr)</th>\n",
       "      <th>적설(cm)</th>\n",
       "      <th>전운량(10분위)</th>\n",
       "      <th>눈내림</th>\n",
       "      <th>눈내림2</th>\n",
       "      <th>시간</th>\n",
       "      <th>전운량(10분위)2</th>\n",
       "    </tr>\n",
       "  </thead>\n",
       "  <tbody>\n",
       "    <tr>\n",
       "      <th>0</th>\n",
       "      <td>417</td>\n",
       "      <td>금천</td>\n",
       "      <td>2018-08-13 10:00:00</td>\n",
       "      <td>서울특별시 금천구 독산동</td>\n",
       "      <td>금천구</td>\n",
       "      <td>33.2</td>\n",
       "      <td>1.9</td>\n",
       "      <td>0.0</td>\n",
       "      <td>67.0</td>\n",
       "      <td>0.7</td>\n",
       "      <td>NaN</td>\n",
       "      <td>8.0</td>\n",
       "      <td>0</td>\n",
       "      <td>0</td>\n",
       "      <td>10:00:00</td>\n",
       "      <td>8.0</td>\n",
       "    </tr>\n",
       "    <tr>\n",
       "      <th>1</th>\n",
       "      <td>417</td>\n",
       "      <td>금천</td>\n",
       "      <td>2017-07-29 11:00:00</td>\n",
       "      <td>서울특별시 금천구 독산동</td>\n",
       "      <td>금천구</td>\n",
       "      <td>27.7</td>\n",
       "      <td>4.0</td>\n",
       "      <td>0.0</td>\n",
       "      <td>70.0</td>\n",
       "      <td>0.0</td>\n",
       "      <td>NaN</td>\n",
       "      <td>10.0</td>\n",
       "      <td>0</td>\n",
       "      <td>0</td>\n",
       "      <td>11:00:00</td>\n",
       "      <td>10.0</td>\n",
       "    </tr>\n",
       "    <tr>\n",
       "      <th>2</th>\n",
       "      <td>417</td>\n",
       "      <td>금천</td>\n",
       "      <td>2019-01-04 20:00:00</td>\n",
       "      <td>서울특별시 금천구 독산동</td>\n",
       "      <td>금천구</td>\n",
       "      <td>-0.2</td>\n",
       "      <td>1.0</td>\n",
       "      <td>0.0</td>\n",
       "      <td>75.0</td>\n",
       "      <td>0.0</td>\n",
       "      <td>NaN</td>\n",
       "      <td>10.0</td>\n",
       "      <td>0</td>\n",
       "      <td>0</td>\n",
       "      <td>20:00:00</td>\n",
       "      <td>10.0</td>\n",
       "    </tr>\n",
       "    <tr>\n",
       "      <th>3</th>\n",
       "      <td>417</td>\n",
       "      <td>금천</td>\n",
       "      <td>2018-08-13 11:00:00</td>\n",
       "      <td>서울특별시 금천구 독산동</td>\n",
       "      <td>금천구</td>\n",
       "      <td>33.4</td>\n",
       "      <td>2.1</td>\n",
       "      <td>0.0</td>\n",
       "      <td>58.0</td>\n",
       "      <td>0.5</td>\n",
       "      <td>NaN</td>\n",
       "      <td>8.0</td>\n",
       "      <td>0</td>\n",
       "      <td>0</td>\n",
       "      <td>11:00:00</td>\n",
       "      <td>8.0</td>\n",
       "    </tr>\n",
       "    <tr>\n",
       "      <th>4</th>\n",
       "      <td>417</td>\n",
       "      <td>금천</td>\n",
       "      <td>2019-01-06 11:00:00</td>\n",
       "      <td>서울특별시 금천구 독산동</td>\n",
       "      <td>금천구</td>\n",
       "      <td>-1.7</td>\n",
       "      <td>1.1</td>\n",
       "      <td>0.0</td>\n",
       "      <td>31.0</td>\n",
       "      <td>1.0</td>\n",
       "      <td>NaN</td>\n",
       "      <td>0.0</td>\n",
       "      <td>0</td>\n",
       "      <td>0</td>\n",
       "      <td>11:00:00</td>\n",
       "      <td>0.0</td>\n",
       "    </tr>\n",
       "  </tbody>\n",
       "</table>\n",
       "</div>"
      ],
      "text/plain": [
       "    지점 지점명                   일시             주소    구    기온  풍속(m/s)  강수량(mm)  \\\n",
       "0  417  금천  2018-08-13 10:00:00  서울특별시 금천구 독산동  금천구  33.2      1.9      0.0   \n",
       "1  417  금천  2017-07-29 11:00:00  서울특별시 금천구 독산동  금천구  27.7      4.0      0.0   \n",
       "2  417  금천  2019-01-04 20:00:00  서울특별시 금천구 독산동  금천구  -0.2      1.0      0.0   \n",
       "3  417  금천  2018-08-13 11:00:00  서울특별시 금천구 독산동  금천구  33.4      2.1      0.0   \n",
       "4  417  금천  2019-01-06 11:00:00  서울특별시 금천구 독산동  금천구  -1.7      1.1      0.0   \n",
       "\n",
       "   습도(%)  일조(hr)  적설(cm)  전운량(10분위)  눈내림  눈내림2        시간  전운량(10분위)2  \n",
       "0   67.0     0.7     NaN        8.0    0     0  10:00:00         8.0  \n",
       "1   70.0     0.0     NaN       10.0    0     0  11:00:00        10.0  \n",
       "2   75.0     0.0     NaN       10.0    0     0  20:00:00        10.0  \n",
       "3   58.0     0.5     NaN        8.0    0     0  11:00:00         8.0  \n",
       "4   31.0     1.0     NaN        0.0    0     0  11:00:00         0.0  "
      ]
     },
     "execution_count": 272,
     "metadata": {},
     "output_type": "execute_result"
    }
   ],
   "source": [
    "m5 = pd.merge(nld1, w1, how = 'left', on = '일시')\n",
    "print(m5.shape)\n",
    "m5.head()"
   ]
  },
  {
   "cell_type": "code",
   "execution_count": 273,
   "metadata": {
    "ExecuteTime": {
     "end_time": "2020-07-05T13:13:12.934413Z",
     "start_time": "2020-07-05T13:13:12.921450Z"
    }
   },
   "outputs": [
    {
     "data": {
      "text/plain": [
       "지점              0\n",
       "지점명             0\n",
       "일시              0\n",
       "주소              0\n",
       "구               0\n",
       "기온              0\n",
       "풍속(m/s)         0\n",
       "강수량(mm)         0\n",
       "습도(%)           0\n",
       "일조(hr)          0\n",
       "적설(cm)        151\n",
       "전운량(10분위)      14\n",
       "눈내림             0\n",
       "눈내림2            0\n",
       "시간              0\n",
       "전운량(10분위)2      0\n",
       "dtype: int64"
      ]
     },
     "execution_count": 273,
     "metadata": {},
     "output_type": "execute_result"
    }
   ],
   "source": [
    "m5.isnull().sum()"
   ]
  },
  {
   "cell_type": "markdown",
   "metadata": {},
   "source": [
    "- 중랑 146"
   ]
  },
  {
   "cell_type": "code",
   "execution_count": 327,
   "metadata": {
    "ExecuteTime": {
     "end_time": "2020-07-05T13:34:18.782992Z",
     "start_time": "2020-07-05T13:34:18.177617Z"
    }
   },
   "outputs": [],
   "source": [
    "# 중랑 null은 동대문 data로 대체\n",
    "nld1 = null_location_day[null_location_day['지점명'] == '중랑']\n",
    "w1 = weather[weather['지점명'].str.contains('동대문')].copy()"
   ]
  },
  {
   "cell_type": "code",
   "execution_count": 328,
   "metadata": {
    "ExecuteTime": {
     "end_time": "2020-07-05T13:34:18.793963Z",
     "start_time": "2020-07-05T13:34:18.785985Z"
    }
   },
   "outputs": [
    {
     "data": {
      "text/plain": [
       "(146, 5)"
      ]
     },
     "execution_count": 328,
     "metadata": {},
     "output_type": "execute_result"
    }
   ],
   "source": [
    "nld1.shape"
   ]
  },
  {
   "cell_type": "code",
   "execution_count": 329,
   "metadata": {
    "ExecuteTime": {
     "end_time": "2020-07-05T13:34:19.548615Z",
     "start_time": "2020-07-05T13:34:19.530663Z"
    }
   },
   "outputs": [
    {
     "data": {
      "text/html": [
       "<div>\n",
       "<style scoped>\n",
       "    .dataframe tbody tr th:only-of-type {\n",
       "        vertical-align: middle;\n",
       "    }\n",
       "\n",
       "    .dataframe tbody tr th {\n",
       "        vertical-align: top;\n",
       "    }\n",
       "\n",
       "    .dataframe thead th {\n",
       "        text-align: right;\n",
       "    }\n",
       "</style>\n",
       "<table border=\"1\" class=\"dataframe\">\n",
       "  <thead>\n",
       "    <tr style=\"text-align: right;\">\n",
       "      <th></th>\n",
       "      <th>지점</th>\n",
       "      <th>지점명</th>\n",
       "      <th>일시</th>\n",
       "      <th>주소</th>\n",
       "      <th>구</th>\n",
       "    </tr>\n",
       "  </thead>\n",
       "  <tbody>\n",
       "    <tr>\n",
       "      <th>32</th>\n",
       "      <td>409</td>\n",
       "      <td>중랑</td>\n",
       "      <td>2019-04-24 16:00:00</td>\n",
       "      <td>서울특별시 중랑구 면목동</td>\n",
       "      <td>중랑구</td>\n",
       "    </tr>\n",
       "    <tr>\n",
       "      <th>36</th>\n",
       "      <td>409</td>\n",
       "      <td>중랑</td>\n",
       "      <td>2019-04-27 03:00:00</td>\n",
       "      <td>서울특별시 중랑구 면목동</td>\n",
       "      <td>중랑구</td>\n",
       "    </tr>\n",
       "    <tr>\n",
       "      <th>45</th>\n",
       "      <td>409</td>\n",
       "      <td>중랑</td>\n",
       "      <td>2019-09-17 11:00:00</td>\n",
       "      <td>서울특별시 중랑구 면목동</td>\n",
       "      <td>중랑구</td>\n",
       "    </tr>\n",
       "    <tr>\n",
       "      <th>46</th>\n",
       "      <td>409</td>\n",
       "      <td>중랑</td>\n",
       "      <td>2019-04-28 14:00:00</td>\n",
       "      <td>서울특별시 중랑구 면목동</td>\n",
       "      <td>중랑구</td>\n",
       "    </tr>\n",
       "    <tr>\n",
       "      <th>60</th>\n",
       "      <td>409</td>\n",
       "      <td>중랑</td>\n",
       "      <td>2018-08-03 21:00:00</td>\n",
       "      <td>서울특별시 중랑구 면목동</td>\n",
       "      <td>중랑구</td>\n",
       "    </tr>\n",
       "  </tbody>\n",
       "</table>\n",
       "</div>"
      ],
      "text/plain": [
       "     지점 지점명                   일시             주소    구\n",
       "32  409  중랑  2019-04-24 16:00:00  서울특별시 중랑구 면목동  중랑구\n",
       "36  409  중랑  2019-04-27 03:00:00  서울특별시 중랑구 면목동  중랑구\n",
       "45  409  중랑  2019-09-17 11:00:00  서울특별시 중랑구 면목동  중랑구\n",
       "46  409  중랑  2019-04-28 14:00:00  서울특별시 중랑구 면목동  중랑구\n",
       "60  409  중랑  2018-08-03 21:00:00  서울특별시 중랑구 면목동  중랑구"
      ]
     },
     "execution_count": 329,
     "metadata": {},
     "output_type": "execute_result"
    }
   ],
   "source": [
    "nld1.head()"
   ]
  },
  {
   "cell_type": "code",
   "execution_count": 330,
   "metadata": {
    "ExecuteTime": {
     "end_time": "2020-07-05T13:34:21.611533Z",
     "start_time": "2020-07-05T13:34:21.603553Z"
    }
   },
   "outputs": [
    {
     "data": {
      "text/plain": [
       "중랑    146\n",
       "Name: 지점명, dtype: int64"
      ]
     },
     "execution_count": 330,
     "metadata": {},
     "output_type": "execute_result"
    }
   ],
   "source": [
    "nld1['지점명'].value_counts()"
   ]
  },
  {
   "cell_type": "code",
   "execution_count": 331,
   "metadata": {
    "ExecuteTime": {
     "end_time": "2020-07-05T13:34:22.047792Z",
     "start_time": "2020-07-05T13:34:22.009897Z"
    }
   },
   "outputs": [
    {
     "data": {
      "text/html": [
       "<div>\n",
       "<style scoped>\n",
       "    .dataframe tbody tr th:only-of-type {\n",
       "        vertical-align: middle;\n",
       "    }\n",
       "\n",
       "    .dataframe tbody tr th {\n",
       "        vertical-align: top;\n",
       "    }\n",
       "\n",
       "    .dataframe thead th {\n",
       "        text-align: right;\n",
       "    }\n",
       "</style>\n",
       "<table border=\"1\" class=\"dataframe\">\n",
       "  <thead>\n",
       "    <tr style=\"text-align: right;\">\n",
       "      <th></th>\n",
       "      <th>지점</th>\n",
       "      <th>지점명</th>\n",
       "      <th>일시</th>\n",
       "      <th>기온</th>\n",
       "      <th>풍속(m/s)</th>\n",
       "      <th>강수량(mm)</th>\n",
       "      <th>습도(%)</th>\n",
       "      <th>일조(hr)</th>\n",
       "      <th>적설(cm)</th>\n",
       "      <th>전운량(10분위)</th>\n",
       "      <th>주소</th>\n",
       "      <th>구</th>\n",
       "      <th>눈내림</th>\n",
       "      <th>눈내림2</th>\n",
       "      <th>시간</th>\n",
       "      <th>전운량(10분위)2</th>\n",
       "    </tr>\n",
       "  </thead>\n",
       "  <tbody>\n",
       "    <tr>\n",
       "      <th>17273</th>\n",
       "      <td>408</td>\n",
       "      <td>동대문</td>\n",
       "      <td>2017-01-01 00:00:00</td>\n",
       "      <td>1.7</td>\n",
       "      <td>1.0</td>\n",
       "      <td>0.0</td>\n",
       "      <td>79.0</td>\n",
       "      <td>0.0</td>\n",
       "      <td>NaN</td>\n",
       "      <td>7.0</td>\n",
       "      <td>서울특별시 동대문구 전농동</td>\n",
       "      <td>동대문구</td>\n",
       "      <td>0</td>\n",
       "      <td>0</td>\n",
       "      <td>00:00:00</td>\n",
       "      <td>7.0</td>\n",
       "    </tr>\n",
       "    <tr>\n",
       "      <th>17274</th>\n",
       "      <td>408</td>\n",
       "      <td>동대문</td>\n",
       "      <td>2017-01-01 01:00:00</td>\n",
       "      <td>1.5</td>\n",
       "      <td>0.6</td>\n",
       "      <td>0.0</td>\n",
       "      <td>78.0</td>\n",
       "      <td>0.0</td>\n",
       "      <td>NaN</td>\n",
       "      <td>NaN</td>\n",
       "      <td>서울특별시 동대문구 전농동</td>\n",
       "      <td>동대문구</td>\n",
       "      <td>0</td>\n",
       "      <td>0</td>\n",
       "      <td>01:00:00</td>\n",
       "      <td>7.0</td>\n",
       "    </tr>\n",
       "    <tr>\n",
       "      <th>17275</th>\n",
       "      <td>408</td>\n",
       "      <td>동대문</td>\n",
       "      <td>2017-01-01 02:00:00</td>\n",
       "      <td>1.2</td>\n",
       "      <td>0.9</td>\n",
       "      <td>0.0</td>\n",
       "      <td>81.0</td>\n",
       "      <td>0.0</td>\n",
       "      <td>NaN</td>\n",
       "      <td>NaN</td>\n",
       "      <td>서울특별시 동대문구 전농동</td>\n",
       "      <td>동대문구</td>\n",
       "      <td>0</td>\n",
       "      <td>0</td>\n",
       "      <td>02:00:00</td>\n",
       "      <td>7.0</td>\n",
       "    </tr>\n",
       "    <tr>\n",
       "      <th>17276</th>\n",
       "      <td>408</td>\n",
       "      <td>동대문</td>\n",
       "      <td>2017-01-01 03:00:00</td>\n",
       "      <td>0.6</td>\n",
       "      <td>1.1</td>\n",
       "      <td>0.0</td>\n",
       "      <td>84.0</td>\n",
       "      <td>0.0</td>\n",
       "      <td>NaN</td>\n",
       "      <td>0.0</td>\n",
       "      <td>서울특별시 동대문구 전농동</td>\n",
       "      <td>동대문구</td>\n",
       "      <td>0</td>\n",
       "      <td>0</td>\n",
       "      <td>03:00:00</td>\n",
       "      <td>0.0</td>\n",
       "    </tr>\n",
       "    <tr>\n",
       "      <th>17277</th>\n",
       "      <td>408</td>\n",
       "      <td>동대문</td>\n",
       "      <td>2017-01-01 04:00:00</td>\n",
       "      <td>0.5</td>\n",
       "      <td>0.8</td>\n",
       "      <td>0.0</td>\n",
       "      <td>85.0</td>\n",
       "      <td>0.0</td>\n",
       "      <td>NaN</td>\n",
       "      <td>0.0</td>\n",
       "      <td>서울특별시 동대문구 전농동</td>\n",
       "      <td>동대문구</td>\n",
       "      <td>0</td>\n",
       "      <td>0</td>\n",
       "      <td>04:00:00</td>\n",
       "      <td>0.0</td>\n",
       "    </tr>\n",
       "  </tbody>\n",
       "</table>\n",
       "</div>"
      ],
      "text/plain": [
       "        지점  지점명                   일시   기온  풍속(m/s)  강수량(mm)  습도(%)  일조(hr)  \\\n",
       "17273  408  동대문  2017-01-01 00:00:00  1.7      1.0      0.0   79.0     0.0   \n",
       "17274  408  동대문  2017-01-01 01:00:00  1.5      0.6      0.0   78.0     0.0   \n",
       "17275  408  동대문  2017-01-01 02:00:00  1.2      0.9      0.0   81.0     0.0   \n",
       "17276  408  동대문  2017-01-01 03:00:00  0.6      1.1      0.0   84.0     0.0   \n",
       "17277  408  동대문  2017-01-01 04:00:00  0.5      0.8      0.0   85.0     0.0   \n",
       "\n",
       "       적설(cm)  전운량(10분위)              주소     구  눈내림  눈내림2        시간  \\\n",
       "17273     NaN        7.0  서울특별시 동대문구 전농동  동대문구    0     0  00:00:00   \n",
       "17274     NaN        NaN  서울특별시 동대문구 전농동  동대문구    0     0  01:00:00   \n",
       "17275     NaN        NaN  서울특별시 동대문구 전농동  동대문구    0     0  02:00:00   \n",
       "17276     NaN        0.0  서울특별시 동대문구 전농동  동대문구    0     0  03:00:00   \n",
       "17277     NaN        0.0  서울특별시 동대문구 전농동  동대문구    0     0  04:00:00   \n",
       "\n",
       "       전운량(10분위)2  \n",
       "17273         7.0  \n",
       "17274         7.0  \n",
       "17275         7.0  \n",
       "17276         0.0  \n",
       "17277         0.0  "
      ]
     },
     "execution_count": 331,
     "metadata": {},
     "output_type": "execute_result"
    }
   ],
   "source": [
    "w1.head()"
   ]
  },
  {
   "cell_type": "code",
   "execution_count": 332,
   "metadata": {
    "ExecuteTime": {
     "end_time": "2020-07-05T13:34:22.539469Z",
     "start_time": "2020-07-05T13:34:22.521561Z"
    }
   },
   "outputs": [
    {
     "data": {
      "text/plain": [
       "동대문    26279\n",
       "Name: 지점명, dtype: int64"
      ]
     },
     "execution_count": 332,
     "metadata": {},
     "output_type": "execute_result"
    }
   ],
   "source": [
    "w1['지점명'].value_counts()"
   ]
  },
  {
   "cell_type": "code",
   "execution_count": 333,
   "metadata": {
    "ExecuteTime": {
     "end_time": "2020-07-05T13:34:23.184174Z",
     "start_time": "2020-07-05T13:34:23.174204Z"
    }
   },
   "outputs": [],
   "source": [
    "w1.drop(['지점','지점명','주소','구'], axis=1, inplace = True)"
   ]
  },
  {
   "cell_type": "code",
   "execution_count": 334,
   "metadata": {
    "ExecuteTime": {
     "end_time": "2020-07-05T13:34:24.629808Z",
     "start_time": "2020-07-05T13:34:24.603881Z"
    }
   },
   "outputs": [
    {
     "data": {
      "text/html": [
       "<div>\n",
       "<style scoped>\n",
       "    .dataframe tbody tr th:only-of-type {\n",
       "        vertical-align: middle;\n",
       "    }\n",
       "\n",
       "    .dataframe tbody tr th {\n",
       "        vertical-align: top;\n",
       "    }\n",
       "\n",
       "    .dataframe thead th {\n",
       "        text-align: right;\n",
       "    }\n",
       "</style>\n",
       "<table border=\"1\" class=\"dataframe\">\n",
       "  <thead>\n",
       "    <tr style=\"text-align: right;\">\n",
       "      <th></th>\n",
       "      <th>일시</th>\n",
       "      <th>기온</th>\n",
       "      <th>풍속(m/s)</th>\n",
       "      <th>강수량(mm)</th>\n",
       "      <th>습도(%)</th>\n",
       "      <th>일조(hr)</th>\n",
       "      <th>적설(cm)</th>\n",
       "      <th>전운량(10분위)</th>\n",
       "      <th>눈내림</th>\n",
       "      <th>눈내림2</th>\n",
       "      <th>시간</th>\n",
       "      <th>전운량(10분위)2</th>\n",
       "    </tr>\n",
       "  </thead>\n",
       "  <tbody>\n",
       "    <tr>\n",
       "      <th>17273</th>\n",
       "      <td>2017-01-01 00:00:00</td>\n",
       "      <td>1.7</td>\n",
       "      <td>1.0</td>\n",
       "      <td>0.0</td>\n",
       "      <td>79.0</td>\n",
       "      <td>0.0</td>\n",
       "      <td>NaN</td>\n",
       "      <td>7.0</td>\n",
       "      <td>0</td>\n",
       "      <td>0</td>\n",
       "      <td>00:00:00</td>\n",
       "      <td>7.0</td>\n",
       "    </tr>\n",
       "    <tr>\n",
       "      <th>17274</th>\n",
       "      <td>2017-01-01 01:00:00</td>\n",
       "      <td>1.5</td>\n",
       "      <td>0.6</td>\n",
       "      <td>0.0</td>\n",
       "      <td>78.0</td>\n",
       "      <td>0.0</td>\n",
       "      <td>NaN</td>\n",
       "      <td>NaN</td>\n",
       "      <td>0</td>\n",
       "      <td>0</td>\n",
       "      <td>01:00:00</td>\n",
       "      <td>7.0</td>\n",
       "    </tr>\n",
       "    <tr>\n",
       "      <th>17275</th>\n",
       "      <td>2017-01-01 02:00:00</td>\n",
       "      <td>1.2</td>\n",
       "      <td>0.9</td>\n",
       "      <td>0.0</td>\n",
       "      <td>81.0</td>\n",
       "      <td>0.0</td>\n",
       "      <td>NaN</td>\n",
       "      <td>NaN</td>\n",
       "      <td>0</td>\n",
       "      <td>0</td>\n",
       "      <td>02:00:00</td>\n",
       "      <td>7.0</td>\n",
       "    </tr>\n",
       "    <tr>\n",
       "      <th>17276</th>\n",
       "      <td>2017-01-01 03:00:00</td>\n",
       "      <td>0.6</td>\n",
       "      <td>1.1</td>\n",
       "      <td>0.0</td>\n",
       "      <td>84.0</td>\n",
       "      <td>0.0</td>\n",
       "      <td>NaN</td>\n",
       "      <td>0.0</td>\n",
       "      <td>0</td>\n",
       "      <td>0</td>\n",
       "      <td>03:00:00</td>\n",
       "      <td>0.0</td>\n",
       "    </tr>\n",
       "    <tr>\n",
       "      <th>17277</th>\n",
       "      <td>2017-01-01 04:00:00</td>\n",
       "      <td>0.5</td>\n",
       "      <td>0.8</td>\n",
       "      <td>0.0</td>\n",
       "      <td>85.0</td>\n",
       "      <td>0.0</td>\n",
       "      <td>NaN</td>\n",
       "      <td>0.0</td>\n",
       "      <td>0</td>\n",
       "      <td>0</td>\n",
       "      <td>04:00:00</td>\n",
       "      <td>0.0</td>\n",
       "    </tr>\n",
       "  </tbody>\n",
       "</table>\n",
       "</div>"
      ],
      "text/plain": [
       "                        일시   기온  풍속(m/s)  강수량(mm)  습도(%)  일조(hr)  적설(cm)  \\\n",
       "17273  2017-01-01 00:00:00  1.7      1.0      0.0   79.0     0.0     NaN   \n",
       "17274  2017-01-01 01:00:00  1.5      0.6      0.0   78.0     0.0     NaN   \n",
       "17275  2017-01-01 02:00:00  1.2      0.9      0.0   81.0     0.0     NaN   \n",
       "17276  2017-01-01 03:00:00  0.6      1.1      0.0   84.0     0.0     NaN   \n",
       "17277  2017-01-01 04:00:00  0.5      0.8      0.0   85.0     0.0     NaN   \n",
       "\n",
       "       전운량(10분위)  눈내림  눈내림2        시간  전운량(10분위)2  \n",
       "17273        7.0    0     0  00:00:00         7.0  \n",
       "17274        NaN    0     0  01:00:00         7.0  \n",
       "17275        NaN    0     0  02:00:00         7.0  \n",
       "17276        0.0    0     0  03:00:00         0.0  \n",
       "17277        0.0    0     0  04:00:00         0.0  "
      ]
     },
     "execution_count": 334,
     "metadata": {},
     "output_type": "execute_result"
    }
   ],
   "source": [
    "w1.head()"
   ]
  },
  {
   "cell_type": "code",
   "execution_count": 335,
   "metadata": {
    "ExecuteTime": {
     "end_time": "2020-07-05T13:34:25.076683Z",
     "start_time": "2020-07-05T13:34:25.069704Z"
    }
   },
   "outputs": [
    {
     "data": {
      "text/plain": [
       "(26279, 12)"
      ]
     },
     "execution_count": 335,
     "metadata": {},
     "output_type": "execute_result"
    }
   ],
   "source": [
    "w1.shape"
   ]
  },
  {
   "cell_type": "code",
   "execution_count": 271,
   "metadata": {
    "ExecuteTime": {
     "end_time": "2020-07-05T13:13:05.569354Z",
     "start_time": "2020-07-05T13:13:05.565365Z"
    }
   },
   "outputs": [],
   "source": [
    "# m 숫자 바꿔!!"
   ]
  },
  {
   "cell_type": "code",
   "execution_count": 336,
   "metadata": {
    "ExecuteTime": {
     "end_time": "2020-07-05T13:34:33.418676Z",
     "start_time": "2020-07-05T13:34:33.362790Z"
    }
   },
   "outputs": [
    {
     "name": "stdout",
     "output_type": "stream",
     "text": [
      "(146, 16)\n"
     ]
    },
    {
     "data": {
      "text/html": [
       "<div>\n",
       "<style scoped>\n",
       "    .dataframe tbody tr th:only-of-type {\n",
       "        vertical-align: middle;\n",
       "    }\n",
       "\n",
       "    .dataframe tbody tr th {\n",
       "        vertical-align: top;\n",
       "    }\n",
       "\n",
       "    .dataframe thead th {\n",
       "        text-align: right;\n",
       "    }\n",
       "</style>\n",
       "<table border=\"1\" class=\"dataframe\">\n",
       "  <thead>\n",
       "    <tr style=\"text-align: right;\">\n",
       "      <th></th>\n",
       "      <th>지점</th>\n",
       "      <th>지점명</th>\n",
       "      <th>일시</th>\n",
       "      <th>주소</th>\n",
       "      <th>구</th>\n",
       "      <th>기온</th>\n",
       "      <th>풍속(m/s)</th>\n",
       "      <th>강수량(mm)</th>\n",
       "      <th>습도(%)</th>\n",
       "      <th>일조(hr)</th>\n",
       "      <th>적설(cm)</th>\n",
       "      <th>전운량(10분위)</th>\n",
       "      <th>눈내림</th>\n",
       "      <th>눈내림2</th>\n",
       "      <th>시간</th>\n",
       "      <th>전운량(10분위)2</th>\n",
       "    </tr>\n",
       "  </thead>\n",
       "  <tbody>\n",
       "    <tr>\n",
       "      <th>0</th>\n",
       "      <td>409</td>\n",
       "      <td>중랑</td>\n",
       "      <td>2019-04-24 16:00:00</td>\n",
       "      <td>서울특별시 중랑구 면목동</td>\n",
       "      <td>중랑구</td>\n",
       "      <td>25.6</td>\n",
       "      <td>1.9</td>\n",
       "      <td>0.0</td>\n",
       "      <td>48.0</td>\n",
       "      <td>1.0</td>\n",
       "      <td>NaN</td>\n",
       "      <td>1.0</td>\n",
       "      <td>0</td>\n",
       "      <td>0</td>\n",
       "      <td>16:00:00</td>\n",
       "      <td>1.0</td>\n",
       "    </tr>\n",
       "    <tr>\n",
       "      <th>1</th>\n",
       "      <td>409</td>\n",
       "      <td>중랑</td>\n",
       "      <td>2019-04-27 03:00:00</td>\n",
       "      <td>서울특별시 중랑구 면목동</td>\n",
       "      <td>중랑구</td>\n",
       "      <td>7.1</td>\n",
       "      <td>1.0</td>\n",
       "      <td>0.0</td>\n",
       "      <td>80.0</td>\n",
       "      <td>0.0</td>\n",
       "      <td>NaN</td>\n",
       "      <td>0.0</td>\n",
       "      <td>0</td>\n",
       "      <td>0</td>\n",
       "      <td>03:00:00</td>\n",
       "      <td>0.0</td>\n",
       "    </tr>\n",
       "    <tr>\n",
       "      <th>2</th>\n",
       "      <td>409</td>\n",
       "      <td>중랑</td>\n",
       "      <td>2019-09-17 11:00:00</td>\n",
       "      <td>서울특별시 중랑구 면목동</td>\n",
       "      <td>중랑구</td>\n",
       "      <td>25.8</td>\n",
       "      <td>1.8</td>\n",
       "      <td>0.0</td>\n",
       "      <td>29.0</td>\n",
       "      <td>1.0</td>\n",
       "      <td>NaN</td>\n",
       "      <td>8.0</td>\n",
       "      <td>0</td>\n",
       "      <td>0</td>\n",
       "      <td>11:00:00</td>\n",
       "      <td>8.0</td>\n",
       "    </tr>\n",
       "    <tr>\n",
       "      <th>3</th>\n",
       "      <td>409</td>\n",
       "      <td>중랑</td>\n",
       "      <td>2019-04-28 14:00:00</td>\n",
       "      <td>서울특별시 중랑구 면목동</td>\n",
       "      <td>중랑구</td>\n",
       "      <td>15.5</td>\n",
       "      <td>3.0</td>\n",
       "      <td>0.0</td>\n",
       "      <td>39.0</td>\n",
       "      <td>0.0</td>\n",
       "      <td>NaN</td>\n",
       "      <td>9.0</td>\n",
       "      <td>0</td>\n",
       "      <td>0</td>\n",
       "      <td>14:00:00</td>\n",
       "      <td>9.0</td>\n",
       "    </tr>\n",
       "    <tr>\n",
       "      <th>4</th>\n",
       "      <td>409</td>\n",
       "      <td>중랑</td>\n",
       "      <td>2018-08-03 21:00:00</td>\n",
       "      <td>서울특별시 중랑구 면목동</td>\n",
       "      <td>중랑구</td>\n",
       "      <td>31.3</td>\n",
       "      <td>3.4</td>\n",
       "      <td>0.0</td>\n",
       "      <td>63.0</td>\n",
       "      <td>0.0</td>\n",
       "      <td>NaN</td>\n",
       "      <td>0.0</td>\n",
       "      <td>0</td>\n",
       "      <td>0</td>\n",
       "      <td>21:00:00</td>\n",
       "      <td>0.0</td>\n",
       "    </tr>\n",
       "  </tbody>\n",
       "</table>\n",
       "</div>"
      ],
      "text/plain": [
       "    지점 지점명                   일시             주소    구    기온  풍속(m/s)  강수량(mm)  \\\n",
       "0  409  중랑  2019-04-24 16:00:00  서울특별시 중랑구 면목동  중랑구  25.6      1.9      0.0   \n",
       "1  409  중랑  2019-04-27 03:00:00  서울특별시 중랑구 면목동  중랑구   7.1      1.0      0.0   \n",
       "2  409  중랑  2019-09-17 11:00:00  서울특별시 중랑구 면목동  중랑구  25.8      1.8      0.0   \n",
       "3  409  중랑  2019-04-28 14:00:00  서울특별시 중랑구 면목동  중랑구  15.5      3.0      0.0   \n",
       "4  409  중랑  2018-08-03 21:00:00  서울특별시 중랑구 면목동  중랑구  31.3      3.4      0.0   \n",
       "\n",
       "   습도(%)  일조(hr)  적설(cm)  전운량(10분위)  눈내림  눈내림2        시간  전운량(10분위)2  \n",
       "0   48.0     1.0     NaN        1.0    0     0  16:00:00         1.0  \n",
       "1   80.0     0.0     NaN        0.0    0     0  03:00:00         0.0  \n",
       "2   29.0     1.0     NaN        8.0    0     0  11:00:00         8.0  \n",
       "3   39.0     0.0     NaN        9.0    0     0  14:00:00         9.0  \n",
       "4   63.0     0.0     NaN        0.0    0     0  21:00:00         0.0  "
      ]
     },
     "execution_count": 336,
     "metadata": {},
     "output_type": "execute_result"
    }
   ],
   "source": [
    "m9 = pd.merge(nld1, w1, how = 'left', on = '일시')\n",
    "print(m9.shape)\n",
    "m9.head()"
   ]
  },
  {
   "cell_type": "code",
   "execution_count": 338,
   "metadata": {
    "ExecuteTime": {
     "end_time": "2020-07-05T13:34:37.255498Z",
     "start_time": "2020-07-05T13:34:37.241505Z"
    }
   },
   "outputs": [
    {
     "data": {
      "text/plain": [
       "지점              0\n",
       "지점명             0\n",
       "일시              0\n",
       "주소              0\n",
       "구               0\n",
       "기온              0\n",
       "풍속(m/s)         0\n",
       "강수량(mm)         0\n",
       "습도(%)           0\n",
       "일조(hr)          0\n",
       "적설(cm)        146\n",
       "전운량(10분위)       0\n",
       "눈내림             0\n",
       "눈내림2            0\n",
       "시간              0\n",
       "전운량(10분위)2      0\n",
       "dtype: int64"
      ]
     },
     "execution_count": 338,
     "metadata": {},
     "output_type": "execute_result"
    }
   ],
   "source": [
    "m9.isnull().sum()"
   ]
  },
  {
   "cell_type": "markdown",
   "metadata": {},
   "source": [
    "- 중구 130"
   ]
  },
  {
   "cell_type": "code",
   "execution_count": 339,
   "metadata": {
    "ExecuteTime": {
     "end_time": "2020-07-05T13:35:17.379280Z",
     "start_time": "2020-07-05T13:35:16.877486Z"
    }
   },
   "outputs": [],
   "source": [
    "# 중구 null은 성동 data로 대체\n",
    "nld1 = null_location_day[null_location_day['지점명'] == '중구']\n",
    "w1 = weather[weather['지점명'].str.contains('성동')].copy()"
   ]
  },
  {
   "cell_type": "code",
   "execution_count": 340,
   "metadata": {
    "ExecuteTime": {
     "end_time": "2020-07-05T13:35:17.705520Z",
     "start_time": "2020-07-05T13:35:17.696544Z"
    }
   },
   "outputs": [
    {
     "data": {
      "text/plain": [
       "(130, 5)"
      ]
     },
     "execution_count": 340,
     "metadata": {},
     "output_type": "execute_result"
    }
   ],
   "source": [
    "nld1.shape"
   ]
  },
  {
   "cell_type": "code",
   "execution_count": 341,
   "metadata": {
    "ExecuteTime": {
     "end_time": "2020-07-05T13:35:18.211195Z",
     "start_time": "2020-07-05T13:35:18.196268Z"
    }
   },
   "outputs": [
    {
     "data": {
      "text/html": [
       "<div>\n",
       "<style scoped>\n",
       "    .dataframe tbody tr th:only-of-type {\n",
       "        vertical-align: middle;\n",
       "    }\n",
       "\n",
       "    .dataframe tbody tr th {\n",
       "        vertical-align: top;\n",
       "    }\n",
       "\n",
       "    .dataframe thead th {\n",
       "        text-align: right;\n",
       "    }\n",
       "</style>\n",
       "<table border=\"1\" class=\"dataframe\">\n",
       "  <thead>\n",
       "    <tr style=\"text-align: right;\">\n",
       "      <th></th>\n",
       "      <th>지점</th>\n",
       "      <th>지점명</th>\n",
       "      <th>일시</th>\n",
       "      <th>주소</th>\n",
       "      <th>구</th>\n",
       "    </tr>\n",
       "  </thead>\n",
       "  <tbody>\n",
       "    <tr>\n",
       "      <th>29</th>\n",
       "      <td>419</td>\n",
       "      <td>중구</td>\n",
       "      <td>2019-11-03 07:00:00</td>\n",
       "      <td>서울특별시 중구 예장동</td>\n",
       "      <td>중구</td>\n",
       "    </tr>\n",
       "    <tr>\n",
       "      <th>30</th>\n",
       "      <td>419</td>\n",
       "      <td>중구</td>\n",
       "      <td>2019-10-07 06:00:00</td>\n",
       "      <td>서울특별시 중구 예장동</td>\n",
       "      <td>중구</td>\n",
       "    </tr>\n",
       "    <tr>\n",
       "      <th>40</th>\n",
       "      <td>419</td>\n",
       "      <td>중구</td>\n",
       "      <td>2019-09-19 05:00:00</td>\n",
       "      <td>서울특별시 중구 예장동</td>\n",
       "      <td>중구</td>\n",
       "    </tr>\n",
       "    <tr>\n",
       "      <th>42</th>\n",
       "      <td>419</td>\n",
       "      <td>중구</td>\n",
       "      <td>2019-09-20 09:00:00</td>\n",
       "      <td>서울특별시 중구 예장동</td>\n",
       "      <td>중구</td>\n",
       "    </tr>\n",
       "    <tr>\n",
       "      <th>43</th>\n",
       "      <td>419</td>\n",
       "      <td>중구</td>\n",
       "      <td>2019-10-07 21:00:00</td>\n",
       "      <td>서울특별시 중구 예장동</td>\n",
       "      <td>중구</td>\n",
       "    </tr>\n",
       "  </tbody>\n",
       "</table>\n",
       "</div>"
      ],
      "text/plain": [
       "     지점 지점명                   일시            주소   구\n",
       "29  419  중구  2019-11-03 07:00:00  서울특별시 중구 예장동  중구\n",
       "30  419  중구  2019-10-07 06:00:00  서울특별시 중구 예장동  중구\n",
       "40  419  중구  2019-09-19 05:00:00  서울특별시 중구 예장동  중구\n",
       "42  419  중구  2019-09-20 09:00:00  서울특별시 중구 예장동  중구\n",
       "43  419  중구  2019-10-07 21:00:00  서울특별시 중구 예장동  중구"
      ]
     },
     "execution_count": 341,
     "metadata": {},
     "output_type": "execute_result"
    }
   ],
   "source": [
    "nld1.head()"
   ]
  },
  {
   "cell_type": "code",
   "execution_count": 342,
   "metadata": {
    "ExecuteTime": {
     "end_time": "2020-07-05T13:35:19.174199Z",
     "start_time": "2020-07-05T13:35:19.163227Z"
    }
   },
   "outputs": [
    {
     "data": {
      "text/plain": [
       "중구    130\n",
       "Name: 지점명, dtype: int64"
      ]
     },
     "execution_count": 342,
     "metadata": {},
     "output_type": "execute_result"
    }
   ],
   "source": [
    "nld1['지점명'].value_counts()"
   ]
  },
  {
   "cell_type": "code",
   "execution_count": 343,
   "metadata": {
    "ExecuteTime": {
     "end_time": "2020-07-05T13:35:20.065462Z",
     "start_time": "2020-07-05T13:35:20.029561Z"
    }
   },
   "outputs": [
    {
     "data": {
      "text/html": [
       "<div>\n",
       "<style scoped>\n",
       "    .dataframe tbody tr th:only-of-type {\n",
       "        vertical-align: middle;\n",
       "    }\n",
       "\n",
       "    .dataframe tbody tr th {\n",
       "        vertical-align: top;\n",
       "    }\n",
       "\n",
       "    .dataframe thead th {\n",
       "        text-align: right;\n",
       "    }\n",
       "</style>\n",
       "<table border=\"1\" class=\"dataframe\">\n",
       "  <thead>\n",
       "    <tr style=\"text-align: right;\">\n",
       "      <th></th>\n",
       "      <th>지점</th>\n",
       "      <th>지점명</th>\n",
       "      <th>일시</th>\n",
       "      <th>기온</th>\n",
       "      <th>풍속(m/s)</th>\n",
       "      <th>강수량(mm)</th>\n",
       "      <th>습도(%)</th>\n",
       "      <th>일조(hr)</th>\n",
       "      <th>적설(cm)</th>\n",
       "      <th>전운량(10분위)</th>\n",
       "      <th>주소</th>\n",
       "      <th>구</th>\n",
       "      <th>눈내림</th>\n",
       "      <th>눈내림2</th>\n",
       "      <th>시간</th>\n",
       "      <th>전운량(10분위)2</th>\n",
       "    </tr>\n",
       "  </thead>\n",
       "  <tbody>\n",
       "    <tr>\n",
       "      <th>41032</th>\n",
       "      <td>421</td>\n",
       "      <td>성동</td>\n",
       "      <td>2017-01-01 00:00:00</td>\n",
       "      <td>2.9</td>\n",
       "      <td>0.6</td>\n",
       "      <td>0.0</td>\n",
       "      <td>79.0</td>\n",
       "      <td>0.0</td>\n",
       "      <td>NaN</td>\n",
       "      <td>7.0</td>\n",
       "      <td>서울특별시 성동구 성수동1가</td>\n",
       "      <td>성동구</td>\n",
       "      <td>0</td>\n",
       "      <td>0</td>\n",
       "      <td>00:00:00</td>\n",
       "      <td>7.0</td>\n",
       "    </tr>\n",
       "    <tr>\n",
       "      <th>41033</th>\n",
       "      <td>421</td>\n",
       "      <td>성동</td>\n",
       "      <td>2017-01-01 01:00:00</td>\n",
       "      <td>2.6</td>\n",
       "      <td>0.7</td>\n",
       "      <td>0.0</td>\n",
       "      <td>78.0</td>\n",
       "      <td>0.0</td>\n",
       "      <td>NaN</td>\n",
       "      <td>NaN</td>\n",
       "      <td>서울특별시 성동구 성수동1가</td>\n",
       "      <td>성동구</td>\n",
       "      <td>0</td>\n",
       "      <td>0</td>\n",
       "      <td>01:00:00</td>\n",
       "      <td>7.0</td>\n",
       "    </tr>\n",
       "    <tr>\n",
       "      <th>41034</th>\n",
       "      <td>421</td>\n",
       "      <td>성동</td>\n",
       "      <td>2017-01-01 02:00:00</td>\n",
       "      <td>2.2</td>\n",
       "      <td>0.7</td>\n",
       "      <td>0.0</td>\n",
       "      <td>81.0</td>\n",
       "      <td>0.0</td>\n",
       "      <td>NaN</td>\n",
       "      <td>NaN</td>\n",
       "      <td>서울특별시 성동구 성수동1가</td>\n",
       "      <td>성동구</td>\n",
       "      <td>0</td>\n",
       "      <td>0</td>\n",
       "      <td>02:00:00</td>\n",
       "      <td>7.0</td>\n",
       "    </tr>\n",
       "    <tr>\n",
       "      <th>41035</th>\n",
       "      <td>421</td>\n",
       "      <td>성동</td>\n",
       "      <td>2017-01-01 03:00:00</td>\n",
       "      <td>2.2</td>\n",
       "      <td>0.6</td>\n",
       "      <td>0.0</td>\n",
       "      <td>84.0</td>\n",
       "      <td>0.0</td>\n",
       "      <td>NaN</td>\n",
       "      <td>0.0</td>\n",
       "      <td>서울특별시 성동구 성수동1가</td>\n",
       "      <td>성동구</td>\n",
       "      <td>0</td>\n",
       "      <td>0</td>\n",
       "      <td>03:00:00</td>\n",
       "      <td>0.0</td>\n",
       "    </tr>\n",
       "    <tr>\n",
       "      <th>41036</th>\n",
       "      <td>421</td>\n",
       "      <td>성동</td>\n",
       "      <td>2017-01-01 04:00:00</td>\n",
       "      <td>1.8</td>\n",
       "      <td>0.7</td>\n",
       "      <td>0.0</td>\n",
       "      <td>85.0</td>\n",
       "      <td>0.0</td>\n",
       "      <td>NaN</td>\n",
       "      <td>0.0</td>\n",
       "      <td>서울특별시 성동구 성수동1가</td>\n",
       "      <td>성동구</td>\n",
       "      <td>0</td>\n",
       "      <td>0</td>\n",
       "      <td>04:00:00</td>\n",
       "      <td>0.0</td>\n",
       "    </tr>\n",
       "  </tbody>\n",
       "</table>\n",
       "</div>"
      ],
      "text/plain": [
       "        지점 지점명                   일시   기온  풍속(m/s)  강수량(mm)  습도(%)  일조(hr)  \\\n",
       "41032  421  성동  2017-01-01 00:00:00  2.9      0.6      0.0   79.0     0.0   \n",
       "41033  421  성동  2017-01-01 01:00:00  2.6      0.7      0.0   78.0     0.0   \n",
       "41034  421  성동  2017-01-01 02:00:00  2.2      0.7      0.0   81.0     0.0   \n",
       "41035  421  성동  2017-01-01 03:00:00  2.2      0.6      0.0   84.0     0.0   \n",
       "41036  421  성동  2017-01-01 04:00:00  1.8      0.7      0.0   85.0     0.0   \n",
       "\n",
       "       적설(cm)  전운량(10분위)               주소    구  눈내림  눈내림2        시간  \\\n",
       "41032     NaN        7.0  서울특별시 성동구 성수동1가  성동구    0     0  00:00:00   \n",
       "41033     NaN        NaN  서울특별시 성동구 성수동1가  성동구    0     0  01:00:00   \n",
       "41034     NaN        NaN  서울특별시 성동구 성수동1가  성동구    0     0  02:00:00   \n",
       "41035     NaN        0.0  서울특별시 성동구 성수동1가  성동구    0     0  03:00:00   \n",
       "41036     NaN        0.0  서울특별시 성동구 성수동1가  성동구    0     0  04:00:00   \n",
       "\n",
       "       전운량(10분위)2  \n",
       "41032         7.0  \n",
       "41033         7.0  \n",
       "41034         7.0  \n",
       "41035         0.0  \n",
       "41036         0.0  "
      ]
     },
     "execution_count": 343,
     "metadata": {},
     "output_type": "execute_result"
    }
   ],
   "source": [
    "w1.head()"
   ]
  },
  {
   "cell_type": "code",
   "execution_count": 344,
   "metadata": {
    "ExecuteTime": {
     "end_time": "2020-07-05T13:35:20.636760Z",
     "start_time": "2020-07-05T13:35:20.620803Z"
    }
   },
   "outputs": [
    {
     "data": {
      "text/plain": [
       "성동    26280\n",
       "Name: 지점명, dtype: int64"
      ]
     },
     "execution_count": 344,
     "metadata": {},
     "output_type": "execute_result"
    }
   ],
   "source": [
    "w1['지점명'].value_counts()"
   ]
  },
  {
   "cell_type": "code",
   "execution_count": 345,
   "metadata": {
    "ExecuteTime": {
     "end_time": "2020-07-05T13:35:21.205517Z",
     "start_time": "2020-07-05T13:35:21.193550Z"
    }
   },
   "outputs": [],
   "source": [
    "w1.drop(['지점','지점명','주소','구'], axis=1, inplace = True)"
   ]
  },
  {
   "cell_type": "code",
   "execution_count": 346,
   "metadata": {
    "ExecuteTime": {
     "end_time": "2020-07-05T13:35:21.794873Z",
     "start_time": "2020-07-05T13:35:21.770940Z"
    }
   },
   "outputs": [
    {
     "data": {
      "text/html": [
       "<div>\n",
       "<style scoped>\n",
       "    .dataframe tbody tr th:only-of-type {\n",
       "        vertical-align: middle;\n",
       "    }\n",
       "\n",
       "    .dataframe tbody tr th {\n",
       "        vertical-align: top;\n",
       "    }\n",
       "\n",
       "    .dataframe thead th {\n",
       "        text-align: right;\n",
       "    }\n",
       "</style>\n",
       "<table border=\"1\" class=\"dataframe\">\n",
       "  <thead>\n",
       "    <tr style=\"text-align: right;\">\n",
       "      <th></th>\n",
       "      <th>일시</th>\n",
       "      <th>기온</th>\n",
       "      <th>풍속(m/s)</th>\n",
       "      <th>강수량(mm)</th>\n",
       "      <th>습도(%)</th>\n",
       "      <th>일조(hr)</th>\n",
       "      <th>적설(cm)</th>\n",
       "      <th>전운량(10분위)</th>\n",
       "      <th>눈내림</th>\n",
       "      <th>눈내림2</th>\n",
       "      <th>시간</th>\n",
       "      <th>전운량(10분위)2</th>\n",
       "    </tr>\n",
       "  </thead>\n",
       "  <tbody>\n",
       "    <tr>\n",
       "      <th>41032</th>\n",
       "      <td>2017-01-01 00:00:00</td>\n",
       "      <td>2.9</td>\n",
       "      <td>0.6</td>\n",
       "      <td>0.0</td>\n",
       "      <td>79.0</td>\n",
       "      <td>0.0</td>\n",
       "      <td>NaN</td>\n",
       "      <td>7.0</td>\n",
       "      <td>0</td>\n",
       "      <td>0</td>\n",
       "      <td>00:00:00</td>\n",
       "      <td>7.0</td>\n",
       "    </tr>\n",
       "    <tr>\n",
       "      <th>41033</th>\n",
       "      <td>2017-01-01 01:00:00</td>\n",
       "      <td>2.6</td>\n",
       "      <td>0.7</td>\n",
       "      <td>0.0</td>\n",
       "      <td>78.0</td>\n",
       "      <td>0.0</td>\n",
       "      <td>NaN</td>\n",
       "      <td>NaN</td>\n",
       "      <td>0</td>\n",
       "      <td>0</td>\n",
       "      <td>01:00:00</td>\n",
       "      <td>7.0</td>\n",
       "    </tr>\n",
       "    <tr>\n",
       "      <th>41034</th>\n",
       "      <td>2017-01-01 02:00:00</td>\n",
       "      <td>2.2</td>\n",
       "      <td>0.7</td>\n",
       "      <td>0.0</td>\n",
       "      <td>81.0</td>\n",
       "      <td>0.0</td>\n",
       "      <td>NaN</td>\n",
       "      <td>NaN</td>\n",
       "      <td>0</td>\n",
       "      <td>0</td>\n",
       "      <td>02:00:00</td>\n",
       "      <td>7.0</td>\n",
       "    </tr>\n",
       "    <tr>\n",
       "      <th>41035</th>\n",
       "      <td>2017-01-01 03:00:00</td>\n",
       "      <td>2.2</td>\n",
       "      <td>0.6</td>\n",
       "      <td>0.0</td>\n",
       "      <td>84.0</td>\n",
       "      <td>0.0</td>\n",
       "      <td>NaN</td>\n",
       "      <td>0.0</td>\n",
       "      <td>0</td>\n",
       "      <td>0</td>\n",
       "      <td>03:00:00</td>\n",
       "      <td>0.0</td>\n",
       "    </tr>\n",
       "    <tr>\n",
       "      <th>41036</th>\n",
       "      <td>2017-01-01 04:00:00</td>\n",
       "      <td>1.8</td>\n",
       "      <td>0.7</td>\n",
       "      <td>0.0</td>\n",
       "      <td>85.0</td>\n",
       "      <td>0.0</td>\n",
       "      <td>NaN</td>\n",
       "      <td>0.0</td>\n",
       "      <td>0</td>\n",
       "      <td>0</td>\n",
       "      <td>04:00:00</td>\n",
       "      <td>0.0</td>\n",
       "    </tr>\n",
       "  </tbody>\n",
       "</table>\n",
       "</div>"
      ],
      "text/plain": [
       "                        일시   기온  풍속(m/s)  강수량(mm)  습도(%)  일조(hr)  적설(cm)  \\\n",
       "41032  2017-01-01 00:00:00  2.9      0.6      0.0   79.0     0.0     NaN   \n",
       "41033  2017-01-01 01:00:00  2.6      0.7      0.0   78.0     0.0     NaN   \n",
       "41034  2017-01-01 02:00:00  2.2      0.7      0.0   81.0     0.0     NaN   \n",
       "41035  2017-01-01 03:00:00  2.2      0.6      0.0   84.0     0.0     NaN   \n",
       "41036  2017-01-01 04:00:00  1.8      0.7      0.0   85.0     0.0     NaN   \n",
       "\n",
       "       전운량(10분위)  눈내림  눈내림2        시간  전운량(10분위)2  \n",
       "41032        7.0    0     0  00:00:00         7.0  \n",
       "41033        NaN    0     0  01:00:00         7.0  \n",
       "41034        NaN    0     0  02:00:00         7.0  \n",
       "41035        0.0    0     0  03:00:00         0.0  \n",
       "41036        0.0    0     0  04:00:00         0.0  "
      ]
     },
     "execution_count": 346,
     "metadata": {},
     "output_type": "execute_result"
    }
   ],
   "source": [
    "w1.head()"
   ]
  },
  {
   "cell_type": "code",
   "execution_count": 347,
   "metadata": {
    "ExecuteTime": {
     "end_time": "2020-07-05T13:35:22.393817Z",
     "start_time": "2020-07-05T13:35:22.387833Z"
    }
   },
   "outputs": [
    {
     "data": {
      "text/plain": [
       "(26280, 12)"
      ]
     },
     "execution_count": 347,
     "metadata": {},
     "output_type": "execute_result"
    }
   ],
   "source": [
    "w1.shape"
   ]
  },
  {
   "cell_type": "code",
   "execution_count": 271,
   "metadata": {
    "ExecuteTime": {
     "end_time": "2020-07-05T13:13:05.569354Z",
     "start_time": "2020-07-05T13:13:05.565365Z"
    }
   },
   "outputs": [],
   "source": [
    "# m 숫자 바꿔!!"
   ]
  },
  {
   "cell_type": "code",
   "execution_count": 348,
   "metadata": {
    "ExecuteTime": {
     "end_time": "2020-07-05T13:35:32.989293Z",
     "start_time": "2020-07-05T13:35:32.930423Z"
    }
   },
   "outputs": [
    {
     "name": "stdout",
     "output_type": "stream",
     "text": [
      "(130, 16)\n"
     ]
    },
    {
     "data": {
      "text/html": [
       "<div>\n",
       "<style scoped>\n",
       "    .dataframe tbody tr th:only-of-type {\n",
       "        vertical-align: middle;\n",
       "    }\n",
       "\n",
       "    .dataframe tbody tr th {\n",
       "        vertical-align: top;\n",
       "    }\n",
       "\n",
       "    .dataframe thead th {\n",
       "        text-align: right;\n",
       "    }\n",
       "</style>\n",
       "<table border=\"1\" class=\"dataframe\">\n",
       "  <thead>\n",
       "    <tr style=\"text-align: right;\">\n",
       "      <th></th>\n",
       "      <th>지점</th>\n",
       "      <th>지점명</th>\n",
       "      <th>일시</th>\n",
       "      <th>주소</th>\n",
       "      <th>구</th>\n",
       "      <th>기온</th>\n",
       "      <th>풍속(m/s)</th>\n",
       "      <th>강수량(mm)</th>\n",
       "      <th>습도(%)</th>\n",
       "      <th>일조(hr)</th>\n",
       "      <th>적설(cm)</th>\n",
       "      <th>전운량(10분위)</th>\n",
       "      <th>눈내림</th>\n",
       "      <th>눈내림2</th>\n",
       "      <th>시간</th>\n",
       "      <th>전운량(10분위)2</th>\n",
       "    </tr>\n",
       "  </thead>\n",
       "  <tbody>\n",
       "    <tr>\n",
       "      <th>0</th>\n",
       "      <td>419</td>\n",
       "      <td>중구</td>\n",
       "      <td>2019-11-03 07:00:00</td>\n",
       "      <td>서울특별시 중구 예장동</td>\n",
       "      <td>중구</td>\n",
       "      <td>11.8</td>\n",
       "      <td>1.5</td>\n",
       "      <td>0.0</td>\n",
       "      <td>76.0</td>\n",
       "      <td>0.0</td>\n",
       "      <td>NaN</td>\n",
       "      <td>7.0</td>\n",
       "      <td>0</td>\n",
       "      <td>0</td>\n",
       "      <td>07:00:00</td>\n",
       "      <td>7.0</td>\n",
       "    </tr>\n",
       "    <tr>\n",
       "      <th>1</th>\n",
       "      <td>419</td>\n",
       "      <td>중구</td>\n",
       "      <td>2019-10-07 06:00:00</td>\n",
       "      <td>서울특별시 중구 예장동</td>\n",
       "      <td>중구</td>\n",
       "      <td>15.4</td>\n",
       "      <td>2.0</td>\n",
       "      <td>0.5</td>\n",
       "      <td>91.0</td>\n",
       "      <td>0.0</td>\n",
       "      <td>NaN</td>\n",
       "      <td>10.0</td>\n",
       "      <td>0</td>\n",
       "      <td>0</td>\n",
       "      <td>06:00:00</td>\n",
       "      <td>10.0</td>\n",
       "    </tr>\n",
       "    <tr>\n",
       "      <th>2</th>\n",
       "      <td>419</td>\n",
       "      <td>중구</td>\n",
       "      <td>2019-09-19 05:00:00</td>\n",
       "      <td>서울특별시 중구 예장동</td>\n",
       "      <td>중구</td>\n",
       "      <td>16.5</td>\n",
       "      <td>2.8</td>\n",
       "      <td>0.0</td>\n",
       "      <td>49.0</td>\n",
       "      <td>0.0</td>\n",
       "      <td>NaN</td>\n",
       "      <td>0.0</td>\n",
       "      <td>0</td>\n",
       "      <td>0</td>\n",
       "      <td>05:00:00</td>\n",
       "      <td>0.0</td>\n",
       "    </tr>\n",
       "    <tr>\n",
       "      <th>3</th>\n",
       "      <td>419</td>\n",
       "      <td>중구</td>\n",
       "      <td>2019-09-20 09:00:00</td>\n",
       "      <td>서울특별시 중구 예장동</td>\n",
       "      <td>중구</td>\n",
       "      <td>19.2</td>\n",
       "      <td>1.9</td>\n",
       "      <td>0.0</td>\n",
       "      <td>57.0</td>\n",
       "      <td>0.1</td>\n",
       "      <td>NaN</td>\n",
       "      <td>9.0</td>\n",
       "      <td>0</td>\n",
       "      <td>0</td>\n",
       "      <td>09:00:00</td>\n",
       "      <td>9.0</td>\n",
       "    </tr>\n",
       "    <tr>\n",
       "      <th>4</th>\n",
       "      <td>419</td>\n",
       "      <td>중구</td>\n",
       "      <td>2019-10-07 21:00:00</td>\n",
       "      <td>서울특별시 중구 예장동</td>\n",
       "      <td>중구</td>\n",
       "      <td>15.7</td>\n",
       "      <td>0.3</td>\n",
       "      <td>0.0</td>\n",
       "      <td>96.0</td>\n",
       "      <td>0.0</td>\n",
       "      <td>NaN</td>\n",
       "      <td>8.0</td>\n",
       "      <td>0</td>\n",
       "      <td>0</td>\n",
       "      <td>21:00:00</td>\n",
       "      <td>8.0</td>\n",
       "    </tr>\n",
       "  </tbody>\n",
       "</table>\n",
       "</div>"
      ],
      "text/plain": [
       "    지점 지점명                   일시            주소   구    기온  풍속(m/s)  강수량(mm)  \\\n",
       "0  419  중구  2019-11-03 07:00:00  서울특별시 중구 예장동  중구  11.8      1.5      0.0   \n",
       "1  419  중구  2019-10-07 06:00:00  서울특별시 중구 예장동  중구  15.4      2.0      0.5   \n",
       "2  419  중구  2019-09-19 05:00:00  서울특별시 중구 예장동  중구  16.5      2.8      0.0   \n",
       "3  419  중구  2019-09-20 09:00:00  서울특별시 중구 예장동  중구  19.2      1.9      0.0   \n",
       "4  419  중구  2019-10-07 21:00:00  서울특별시 중구 예장동  중구  15.7      0.3      0.0   \n",
       "\n",
       "   습도(%)  일조(hr)  적설(cm)  전운량(10분위)  눈내림  눈내림2        시간  전운량(10분위)2  \n",
       "0   76.0     0.0     NaN        7.0    0     0  07:00:00         7.0  \n",
       "1   91.0     0.0     NaN       10.0    0     0  06:00:00        10.0  \n",
       "2   49.0     0.0     NaN        0.0    0     0  05:00:00         0.0  \n",
       "3   57.0     0.1     NaN        9.0    0     0  09:00:00         9.0  \n",
       "4   96.0     0.0     NaN        8.0    0     0  21:00:00         8.0  "
      ]
     },
     "execution_count": 348,
     "metadata": {},
     "output_type": "execute_result"
    }
   ],
   "source": [
    "m10 = pd.merge(nld1, w1, how = 'left', on = '일시')\n",
    "print(m10.shape)\n",
    "m10.head()"
   ]
  },
  {
   "cell_type": "code",
   "execution_count": 349,
   "metadata": {
    "ExecuteTime": {
     "end_time": "2020-07-05T13:35:38.482053Z",
     "start_time": "2020-07-05T13:35:38.470085Z"
    }
   },
   "outputs": [
    {
     "data": {
      "text/plain": [
       "지점              0\n",
       "지점명             0\n",
       "일시              0\n",
       "주소              0\n",
       "구               0\n",
       "기온              0\n",
       "풍속(m/s)         0\n",
       "강수량(mm)         0\n",
       "습도(%)           0\n",
       "일조(hr)          0\n",
       "적설(cm)        130\n",
       "전운량(10분위)       0\n",
       "눈내림             0\n",
       "눈내림2            0\n",
       "시간              0\n",
       "전운량(10분위)2      0\n",
       "dtype: int64"
      ]
     },
     "execution_count": 349,
     "metadata": {},
     "output_type": "execute_result"
    }
   ],
   "source": [
    "m10.isnull().sum()"
   ]
  },
  {
   "cell_type": "markdown",
   "metadata": {},
   "source": [
    "- 강서 122"
   ]
  },
  {
   "cell_type": "code",
   "execution_count": 274,
   "metadata": {
    "ExecuteTime": {
     "end_time": "2020-07-05T13:14:04.038334Z",
     "start_time": "2020-07-05T13:14:03.382968Z"
    }
   },
   "outputs": [],
   "source": [
    "# 강서 null은  양천 data로 대체\n",
    "nld1 = null_location_day[null_location_day['지점명'] == '강서']\n",
    "w1 = weather[weather['지점명'].str.contains('양천')].copy()"
   ]
  },
  {
   "cell_type": "code",
   "execution_count": 275,
   "metadata": {
    "ExecuteTime": {
     "end_time": "2020-07-05T13:14:08.690574Z",
     "start_time": "2020-07-05T13:14:08.683595Z"
    }
   },
   "outputs": [
    {
     "data": {
      "text/plain": [
       "(122, 5)"
      ]
     },
     "execution_count": 275,
     "metadata": {},
     "output_type": "execute_result"
    }
   ],
   "source": [
    "nld1.shape"
   ]
  },
  {
   "cell_type": "code",
   "execution_count": 276,
   "metadata": {
    "ExecuteTime": {
     "end_time": "2020-07-05T13:14:09.915115Z",
     "start_time": "2020-07-05T13:14:09.899161Z"
    }
   },
   "outputs": [
    {
     "data": {
      "text/html": [
       "<div>\n",
       "<style scoped>\n",
       "    .dataframe tbody tr th:only-of-type {\n",
       "        vertical-align: middle;\n",
       "    }\n",
       "\n",
       "    .dataframe tbody tr th {\n",
       "        vertical-align: top;\n",
       "    }\n",
       "\n",
       "    .dataframe thead th {\n",
       "        text-align: right;\n",
       "    }\n",
       "</style>\n",
       "<table border=\"1\" class=\"dataframe\">\n",
       "  <thead>\n",
       "    <tr style=\"text-align: right;\">\n",
       "      <th></th>\n",
       "      <th>지점</th>\n",
       "      <th>지점명</th>\n",
       "      <th>일시</th>\n",
       "      <th>주소</th>\n",
       "      <th>구</th>\n",
       "    </tr>\n",
       "  </thead>\n",
       "  <tbody>\n",
       "    <tr>\n",
       "      <th>3</th>\n",
       "      <td>404</td>\n",
       "      <td>강서</td>\n",
       "      <td>2019-10-17 05:00:00</td>\n",
       "      <td>서울특별시 강서구 화곡동</td>\n",
       "      <td>강서구</td>\n",
       "    </tr>\n",
       "    <tr>\n",
       "      <th>18</th>\n",
       "      <td>404</td>\n",
       "      <td>강서</td>\n",
       "      <td>2019-10-16 23:00:00</td>\n",
       "      <td>서울특별시 강서구 화곡동</td>\n",
       "      <td>강서구</td>\n",
       "    </tr>\n",
       "    <tr>\n",
       "      <th>41</th>\n",
       "      <td>404</td>\n",
       "      <td>강서</td>\n",
       "      <td>2018-08-21 13:00:00</td>\n",
       "      <td>서울특별시 강서구 화곡동</td>\n",
       "      <td>강서구</td>\n",
       "    </tr>\n",
       "    <tr>\n",
       "      <th>50</th>\n",
       "      <td>404</td>\n",
       "      <td>강서</td>\n",
       "      <td>2017-09-29 07:00:00</td>\n",
       "      <td>서울특별시 강서구 화곡동</td>\n",
       "      <td>강서구</td>\n",
       "    </tr>\n",
       "    <tr>\n",
       "      <th>67</th>\n",
       "      <td>404</td>\n",
       "      <td>강서</td>\n",
       "      <td>2018-08-21 14:00:00</td>\n",
       "      <td>서울특별시 강서구 화곡동</td>\n",
       "      <td>강서구</td>\n",
       "    </tr>\n",
       "  </tbody>\n",
       "</table>\n",
       "</div>"
      ],
      "text/plain": [
       "     지점 지점명                   일시             주소    구\n",
       "3   404  강서  2019-10-17 05:00:00  서울특별시 강서구 화곡동  강서구\n",
       "18  404  강서  2019-10-16 23:00:00  서울특별시 강서구 화곡동  강서구\n",
       "41  404  강서  2018-08-21 13:00:00  서울특별시 강서구 화곡동  강서구\n",
       "50  404  강서  2017-09-29 07:00:00  서울특별시 강서구 화곡동  강서구\n",
       "67  404  강서  2018-08-21 14:00:00  서울특별시 강서구 화곡동  강서구"
      ]
     },
     "execution_count": 276,
     "metadata": {},
     "output_type": "execute_result"
    }
   ],
   "source": [
    "nld1.head()"
   ]
  },
  {
   "cell_type": "code",
   "execution_count": 277,
   "metadata": {
    "ExecuteTime": {
     "end_time": "2020-07-05T13:14:10.548505Z",
     "start_time": "2020-07-05T13:14:10.536570Z"
    }
   },
   "outputs": [
    {
     "data": {
      "text/plain": [
       "강서    122\n",
       "Name: 지점명, dtype: int64"
      ]
     },
     "execution_count": 277,
     "metadata": {},
     "output_type": "execute_result"
    }
   ],
   "source": [
    "nld1['지점명'].value_counts()"
   ]
  },
  {
   "cell_type": "code",
   "execution_count": 278,
   "metadata": {
    "ExecuteTime": {
     "end_time": "2020-07-05T13:14:11.392801Z",
     "start_time": "2020-07-05T13:14:11.361884Z"
    }
   },
   "outputs": [
    {
     "data": {
      "text/html": [
       "<div>\n",
       "<style scoped>\n",
       "    .dataframe tbody tr th:only-of-type {\n",
       "        vertical-align: middle;\n",
       "    }\n",
       "\n",
       "    .dataframe tbody tr th {\n",
       "        vertical-align: top;\n",
       "    }\n",
       "\n",
       "    .dataframe thead th {\n",
       "        text-align: right;\n",
       "    }\n",
       "</style>\n",
       "<table border=\"1\" class=\"dataframe\">\n",
       "  <thead>\n",
       "    <tr style=\"text-align: right;\">\n",
       "      <th></th>\n",
       "      <th>지점</th>\n",
       "      <th>지점명</th>\n",
       "      <th>일시</th>\n",
       "      <th>기온</th>\n",
       "      <th>풍속(m/s)</th>\n",
       "      <th>강수량(mm)</th>\n",
       "      <th>습도(%)</th>\n",
       "      <th>일조(hr)</th>\n",
       "      <th>적설(cm)</th>\n",
       "      <th>전운량(10분위)</th>\n",
       "      <th>주소</th>\n",
       "      <th>구</th>\n",
       "      <th>눈내림</th>\n",
       "      <th>눈내림2</th>\n",
       "      <th>시간</th>\n",
       "      <th>전운량(10분위)2</th>\n",
       "    </tr>\n",
       "  </thead>\n",
       "  <tbody>\n",
       "    <tr>\n",
       "      <th>10800</th>\n",
       "      <td>405</td>\n",
       "      <td>양천</td>\n",
       "      <td>2017-01-01 00:00:00</td>\n",
       "      <td>1.9</td>\n",
       "      <td>0.5</td>\n",
       "      <td>0.0</td>\n",
       "      <td>79.0</td>\n",
       "      <td>0.0</td>\n",
       "      <td>NaN</td>\n",
       "      <td>7.0</td>\n",
       "      <td>서울특별시 양천구 목동</td>\n",
       "      <td>양천구</td>\n",
       "      <td>0</td>\n",
       "      <td>0</td>\n",
       "      <td>00:00:00</td>\n",
       "      <td>7.0</td>\n",
       "    </tr>\n",
       "    <tr>\n",
       "      <th>10801</th>\n",
       "      <td>405</td>\n",
       "      <td>양천</td>\n",
       "      <td>2017-01-01 01:00:00</td>\n",
       "      <td>1.8</td>\n",
       "      <td>0.8</td>\n",
       "      <td>0.0</td>\n",
       "      <td>78.0</td>\n",
       "      <td>0.0</td>\n",
       "      <td>NaN</td>\n",
       "      <td>NaN</td>\n",
       "      <td>서울특별시 양천구 목동</td>\n",
       "      <td>양천구</td>\n",
       "      <td>0</td>\n",
       "      <td>0</td>\n",
       "      <td>01:00:00</td>\n",
       "      <td>7.0</td>\n",
       "    </tr>\n",
       "    <tr>\n",
       "      <th>10802</th>\n",
       "      <td>405</td>\n",
       "      <td>양천</td>\n",
       "      <td>2017-01-01 02:00:00</td>\n",
       "      <td>1.4</td>\n",
       "      <td>0.2</td>\n",
       "      <td>0.0</td>\n",
       "      <td>81.0</td>\n",
       "      <td>0.0</td>\n",
       "      <td>NaN</td>\n",
       "      <td>NaN</td>\n",
       "      <td>서울특별시 양천구 목동</td>\n",
       "      <td>양천구</td>\n",
       "      <td>0</td>\n",
       "      <td>0</td>\n",
       "      <td>02:00:00</td>\n",
       "      <td>7.0</td>\n",
       "    </tr>\n",
       "    <tr>\n",
       "      <th>10803</th>\n",
       "      <td>405</td>\n",
       "      <td>양천</td>\n",
       "      <td>2017-01-01 03:00:00</td>\n",
       "      <td>1.1</td>\n",
       "      <td>0.3</td>\n",
       "      <td>0.0</td>\n",
       "      <td>84.0</td>\n",
       "      <td>0.0</td>\n",
       "      <td>NaN</td>\n",
       "      <td>0.0</td>\n",
       "      <td>서울특별시 양천구 목동</td>\n",
       "      <td>양천구</td>\n",
       "      <td>0</td>\n",
       "      <td>0</td>\n",
       "      <td>03:00:00</td>\n",
       "      <td>0.0</td>\n",
       "    </tr>\n",
       "    <tr>\n",
       "      <th>10804</th>\n",
       "      <td>405</td>\n",
       "      <td>양천</td>\n",
       "      <td>2017-01-01 04:00:00</td>\n",
       "      <td>0.5</td>\n",
       "      <td>0.7</td>\n",
       "      <td>0.0</td>\n",
       "      <td>85.0</td>\n",
       "      <td>0.0</td>\n",
       "      <td>NaN</td>\n",
       "      <td>0.0</td>\n",
       "      <td>서울특별시 양천구 목동</td>\n",
       "      <td>양천구</td>\n",
       "      <td>0</td>\n",
       "      <td>0</td>\n",
       "      <td>04:00:00</td>\n",
       "      <td>0.0</td>\n",
       "    </tr>\n",
       "  </tbody>\n",
       "</table>\n",
       "</div>"
      ],
      "text/plain": [
       "        지점 지점명                   일시   기온  풍속(m/s)  강수량(mm)  습도(%)  일조(hr)  \\\n",
       "10800  405  양천  2017-01-01 00:00:00  1.9      0.5      0.0   79.0     0.0   \n",
       "10801  405  양천  2017-01-01 01:00:00  1.8      0.8      0.0   78.0     0.0   \n",
       "10802  405  양천  2017-01-01 02:00:00  1.4      0.2      0.0   81.0     0.0   \n",
       "10803  405  양천  2017-01-01 03:00:00  1.1      0.3      0.0   84.0     0.0   \n",
       "10804  405  양천  2017-01-01 04:00:00  0.5      0.7      0.0   85.0     0.0   \n",
       "\n",
       "       적설(cm)  전운량(10분위)            주소    구  눈내림  눈내림2        시간  전운량(10분위)2  \n",
       "10800     NaN        7.0  서울특별시 양천구 목동  양천구    0     0  00:00:00         7.0  \n",
       "10801     NaN        NaN  서울특별시 양천구 목동  양천구    0     0  01:00:00         7.0  \n",
       "10802     NaN        NaN  서울특별시 양천구 목동  양천구    0     0  02:00:00         7.0  \n",
       "10803     NaN        0.0  서울특별시 양천구 목동  양천구    0     0  03:00:00         0.0  \n",
       "10804     NaN        0.0  서울특별시 양천구 목동  양천구    0     0  04:00:00         0.0  "
      ]
     },
     "execution_count": 278,
     "metadata": {},
     "output_type": "execute_result"
    }
   ],
   "source": [
    "w1.head()"
   ]
  },
  {
   "cell_type": "code",
   "execution_count": 279,
   "metadata": {
    "ExecuteTime": {
     "end_time": "2020-07-05T13:14:12.143065Z",
     "start_time": "2020-07-05T13:14:12.130102Z"
    }
   },
   "outputs": [
    {
     "data": {
      "text/plain": [
       "양천    26258\n",
       "Name: 지점명, dtype: int64"
      ]
     },
     "execution_count": 279,
     "metadata": {},
     "output_type": "execute_result"
    }
   ],
   "source": [
    "w1['지점명'].value_counts()"
   ]
  },
  {
   "cell_type": "code",
   "execution_count": 280,
   "metadata": {
    "ExecuteTime": {
     "end_time": "2020-07-05T13:14:13.782367Z",
     "start_time": "2020-07-05T13:14:13.773390Z"
    }
   },
   "outputs": [],
   "source": [
    "w1.drop(['지점','지점명','주소','구'], axis=1, inplace = True)"
   ]
  },
  {
   "cell_type": "code",
   "execution_count": 281,
   "metadata": {
    "ExecuteTime": {
     "end_time": "2020-07-05T13:14:14.678861Z",
     "start_time": "2020-07-05T13:14:14.653928Z"
    }
   },
   "outputs": [
    {
     "data": {
      "text/html": [
       "<div>\n",
       "<style scoped>\n",
       "    .dataframe tbody tr th:only-of-type {\n",
       "        vertical-align: middle;\n",
       "    }\n",
       "\n",
       "    .dataframe tbody tr th {\n",
       "        vertical-align: top;\n",
       "    }\n",
       "\n",
       "    .dataframe thead th {\n",
       "        text-align: right;\n",
       "    }\n",
       "</style>\n",
       "<table border=\"1\" class=\"dataframe\">\n",
       "  <thead>\n",
       "    <tr style=\"text-align: right;\">\n",
       "      <th></th>\n",
       "      <th>일시</th>\n",
       "      <th>기온</th>\n",
       "      <th>풍속(m/s)</th>\n",
       "      <th>강수량(mm)</th>\n",
       "      <th>습도(%)</th>\n",
       "      <th>일조(hr)</th>\n",
       "      <th>적설(cm)</th>\n",
       "      <th>전운량(10분위)</th>\n",
       "      <th>눈내림</th>\n",
       "      <th>눈내림2</th>\n",
       "      <th>시간</th>\n",
       "      <th>전운량(10분위)2</th>\n",
       "    </tr>\n",
       "  </thead>\n",
       "  <tbody>\n",
       "    <tr>\n",
       "      <th>10800</th>\n",
       "      <td>2017-01-01 00:00:00</td>\n",
       "      <td>1.9</td>\n",
       "      <td>0.5</td>\n",
       "      <td>0.0</td>\n",
       "      <td>79.0</td>\n",
       "      <td>0.0</td>\n",
       "      <td>NaN</td>\n",
       "      <td>7.0</td>\n",
       "      <td>0</td>\n",
       "      <td>0</td>\n",
       "      <td>00:00:00</td>\n",
       "      <td>7.0</td>\n",
       "    </tr>\n",
       "    <tr>\n",
       "      <th>10801</th>\n",
       "      <td>2017-01-01 01:00:00</td>\n",
       "      <td>1.8</td>\n",
       "      <td>0.8</td>\n",
       "      <td>0.0</td>\n",
       "      <td>78.0</td>\n",
       "      <td>0.0</td>\n",
       "      <td>NaN</td>\n",
       "      <td>NaN</td>\n",
       "      <td>0</td>\n",
       "      <td>0</td>\n",
       "      <td>01:00:00</td>\n",
       "      <td>7.0</td>\n",
       "    </tr>\n",
       "    <tr>\n",
       "      <th>10802</th>\n",
       "      <td>2017-01-01 02:00:00</td>\n",
       "      <td>1.4</td>\n",
       "      <td>0.2</td>\n",
       "      <td>0.0</td>\n",
       "      <td>81.0</td>\n",
       "      <td>0.0</td>\n",
       "      <td>NaN</td>\n",
       "      <td>NaN</td>\n",
       "      <td>0</td>\n",
       "      <td>0</td>\n",
       "      <td>02:00:00</td>\n",
       "      <td>7.0</td>\n",
       "    </tr>\n",
       "    <tr>\n",
       "      <th>10803</th>\n",
       "      <td>2017-01-01 03:00:00</td>\n",
       "      <td>1.1</td>\n",
       "      <td>0.3</td>\n",
       "      <td>0.0</td>\n",
       "      <td>84.0</td>\n",
       "      <td>0.0</td>\n",
       "      <td>NaN</td>\n",
       "      <td>0.0</td>\n",
       "      <td>0</td>\n",
       "      <td>0</td>\n",
       "      <td>03:00:00</td>\n",
       "      <td>0.0</td>\n",
       "    </tr>\n",
       "    <tr>\n",
       "      <th>10804</th>\n",
       "      <td>2017-01-01 04:00:00</td>\n",
       "      <td>0.5</td>\n",
       "      <td>0.7</td>\n",
       "      <td>0.0</td>\n",
       "      <td>85.0</td>\n",
       "      <td>0.0</td>\n",
       "      <td>NaN</td>\n",
       "      <td>0.0</td>\n",
       "      <td>0</td>\n",
       "      <td>0</td>\n",
       "      <td>04:00:00</td>\n",
       "      <td>0.0</td>\n",
       "    </tr>\n",
       "  </tbody>\n",
       "</table>\n",
       "</div>"
      ],
      "text/plain": [
       "                        일시   기온  풍속(m/s)  강수량(mm)  습도(%)  일조(hr)  적설(cm)  \\\n",
       "10800  2017-01-01 00:00:00  1.9      0.5      0.0   79.0     0.0     NaN   \n",
       "10801  2017-01-01 01:00:00  1.8      0.8      0.0   78.0     0.0     NaN   \n",
       "10802  2017-01-01 02:00:00  1.4      0.2      0.0   81.0     0.0     NaN   \n",
       "10803  2017-01-01 03:00:00  1.1      0.3      0.0   84.0     0.0     NaN   \n",
       "10804  2017-01-01 04:00:00  0.5      0.7      0.0   85.0     0.0     NaN   \n",
       "\n",
       "       전운량(10분위)  눈내림  눈내림2        시간  전운량(10분위)2  \n",
       "10800        7.0    0     0  00:00:00         7.0  \n",
       "10801        NaN    0     0  01:00:00         7.0  \n",
       "10802        NaN    0     0  02:00:00         7.0  \n",
       "10803        0.0    0     0  03:00:00         0.0  \n",
       "10804        0.0    0     0  04:00:00         0.0  "
      ]
     },
     "execution_count": 281,
     "metadata": {},
     "output_type": "execute_result"
    }
   ],
   "source": [
    "w1.head()"
   ]
  },
  {
   "cell_type": "code",
   "execution_count": 282,
   "metadata": {
    "ExecuteTime": {
     "end_time": "2020-07-05T13:14:15.302729Z",
     "start_time": "2020-07-05T13:14:15.295747Z"
    }
   },
   "outputs": [
    {
     "data": {
      "text/plain": [
       "(26258, 12)"
      ]
     },
     "execution_count": 282,
     "metadata": {},
     "output_type": "execute_result"
    }
   ],
   "source": [
    "w1.shape"
   ]
  },
  {
   "cell_type": "code",
   "execution_count": 271,
   "metadata": {
    "ExecuteTime": {
     "end_time": "2020-07-05T13:13:05.569354Z",
     "start_time": "2020-07-05T13:13:05.565365Z"
    }
   },
   "outputs": [],
   "source": [
    "# m 숫자 바꿔!!"
   ]
  },
  {
   "cell_type": "code",
   "execution_count": 283,
   "metadata": {
    "ExecuteTime": {
     "end_time": "2020-07-05T13:14:25.076840Z",
     "start_time": "2020-07-05T13:14:25.018000Z"
    }
   },
   "outputs": [
    {
     "name": "stdout",
     "output_type": "stream",
     "text": [
      "(122, 16)\n"
     ]
    },
    {
     "data": {
      "text/html": [
       "<div>\n",
       "<style scoped>\n",
       "    .dataframe tbody tr th:only-of-type {\n",
       "        vertical-align: middle;\n",
       "    }\n",
       "\n",
       "    .dataframe tbody tr th {\n",
       "        vertical-align: top;\n",
       "    }\n",
       "\n",
       "    .dataframe thead th {\n",
       "        text-align: right;\n",
       "    }\n",
       "</style>\n",
       "<table border=\"1\" class=\"dataframe\">\n",
       "  <thead>\n",
       "    <tr style=\"text-align: right;\">\n",
       "      <th></th>\n",
       "      <th>지점</th>\n",
       "      <th>지점명</th>\n",
       "      <th>일시</th>\n",
       "      <th>주소</th>\n",
       "      <th>구</th>\n",
       "      <th>기온</th>\n",
       "      <th>풍속(m/s)</th>\n",
       "      <th>강수량(mm)</th>\n",
       "      <th>습도(%)</th>\n",
       "      <th>일조(hr)</th>\n",
       "      <th>적설(cm)</th>\n",
       "      <th>전운량(10분위)</th>\n",
       "      <th>눈내림</th>\n",
       "      <th>눈내림2</th>\n",
       "      <th>시간</th>\n",
       "      <th>전운량(10분위)2</th>\n",
       "    </tr>\n",
       "  </thead>\n",
       "  <tbody>\n",
       "    <tr>\n",
       "      <th>0</th>\n",
       "      <td>404</td>\n",
       "      <td>강서</td>\n",
       "      <td>2019-10-17 05:00:00</td>\n",
       "      <td>서울특별시 강서구 화곡동</td>\n",
       "      <td>강서구</td>\n",
       "      <td>13.2</td>\n",
       "      <td>0.3</td>\n",
       "      <td>0.0</td>\n",
       "      <td>72.0</td>\n",
       "      <td>0.0</td>\n",
       "      <td>NaN</td>\n",
       "      <td>4.0</td>\n",
       "      <td>0</td>\n",
       "      <td>0</td>\n",
       "      <td>05:00:00</td>\n",
       "      <td>4.0</td>\n",
       "    </tr>\n",
       "    <tr>\n",
       "      <th>1</th>\n",
       "      <td>404</td>\n",
       "      <td>강서</td>\n",
       "      <td>2019-10-16 23:00:00</td>\n",
       "      <td>서울특별시 강서구 화곡동</td>\n",
       "      <td>강서구</td>\n",
       "      <td>15.7</td>\n",
       "      <td>0.5</td>\n",
       "      <td>0.0</td>\n",
       "      <td>62.0</td>\n",
       "      <td>0.0</td>\n",
       "      <td>NaN</td>\n",
       "      <td>10.0</td>\n",
       "      <td>0</td>\n",
       "      <td>0</td>\n",
       "      <td>23:00:00</td>\n",
       "      <td>10.0</td>\n",
       "    </tr>\n",
       "    <tr>\n",
       "      <th>2</th>\n",
       "      <td>404</td>\n",
       "      <td>강서</td>\n",
       "      <td>2018-08-21 13:00:00</td>\n",
       "      <td>서울특별시 강서구 화곡동</td>\n",
       "      <td>강서구</td>\n",
       "      <td>27.9</td>\n",
       "      <td>1.9</td>\n",
       "      <td>0.0</td>\n",
       "      <td>66.0</td>\n",
       "      <td>0.6</td>\n",
       "      <td>NaN</td>\n",
       "      <td>9.0</td>\n",
       "      <td>0</td>\n",
       "      <td>0</td>\n",
       "      <td>13:00:00</td>\n",
       "      <td>9.0</td>\n",
       "    </tr>\n",
       "    <tr>\n",
       "      <th>3</th>\n",
       "      <td>404</td>\n",
       "      <td>강서</td>\n",
       "      <td>2017-09-29 07:00:00</td>\n",
       "      <td>서울특별시 강서구 화곡동</td>\n",
       "      <td>강서구</td>\n",
       "      <td>13.7</td>\n",
       "      <td>0.3</td>\n",
       "      <td>0.0</td>\n",
       "      <td>54.0</td>\n",
       "      <td>0.3</td>\n",
       "      <td>NaN</td>\n",
       "      <td>0.0</td>\n",
       "      <td>0</td>\n",
       "      <td>0</td>\n",
       "      <td>07:00:00</td>\n",
       "      <td>0.0</td>\n",
       "    </tr>\n",
       "    <tr>\n",
       "      <th>4</th>\n",
       "      <td>404</td>\n",
       "      <td>강서</td>\n",
       "      <td>2018-08-21 14:00:00</td>\n",
       "      <td>서울특별시 강서구 화곡동</td>\n",
       "      <td>강서구</td>\n",
       "      <td>29.2</td>\n",
       "      <td>2.0</td>\n",
       "      <td>0.0</td>\n",
       "      <td>58.0</td>\n",
       "      <td>1.0</td>\n",
       "      <td>NaN</td>\n",
       "      <td>6.0</td>\n",
       "      <td>0</td>\n",
       "      <td>0</td>\n",
       "      <td>14:00:00</td>\n",
       "      <td>6.0</td>\n",
       "    </tr>\n",
       "  </tbody>\n",
       "</table>\n",
       "</div>"
      ],
      "text/plain": [
       "    지점 지점명                   일시             주소    구    기온  풍속(m/s)  강수량(mm)  \\\n",
       "0  404  강서  2019-10-17 05:00:00  서울특별시 강서구 화곡동  강서구  13.2      0.3      0.0   \n",
       "1  404  강서  2019-10-16 23:00:00  서울특별시 강서구 화곡동  강서구  15.7      0.5      0.0   \n",
       "2  404  강서  2018-08-21 13:00:00  서울특별시 강서구 화곡동  강서구  27.9      1.9      0.0   \n",
       "3  404  강서  2017-09-29 07:00:00  서울특별시 강서구 화곡동  강서구  13.7      0.3      0.0   \n",
       "4  404  강서  2018-08-21 14:00:00  서울특별시 강서구 화곡동  강서구  29.2      2.0      0.0   \n",
       "\n",
       "   습도(%)  일조(hr)  적설(cm)  전운량(10분위)  눈내림  눈내림2        시간  전운량(10분위)2  \n",
       "0   72.0     0.0     NaN        4.0    0     0  05:00:00         4.0  \n",
       "1   62.0     0.0     NaN       10.0    0     0  23:00:00        10.0  \n",
       "2   66.0     0.6     NaN        9.0    0     0  13:00:00         9.0  \n",
       "3   54.0     0.3     NaN        0.0    0     0  07:00:00         0.0  \n",
       "4   58.0     1.0     NaN        6.0    0     0  14:00:00         6.0  "
      ]
     },
     "execution_count": 283,
     "metadata": {},
     "output_type": "execute_result"
    }
   ],
   "source": [
    "m6 = pd.merge(nld1, w1, how = 'left', on = '일시')\n",
    "print(m6.shape)\n",
    "m6.head()"
   ]
  },
  {
   "cell_type": "code",
   "execution_count": 284,
   "metadata": {
    "ExecuteTime": {
     "end_time": "2020-07-05T13:14:30.065329Z",
     "start_time": "2020-07-05T13:14:30.051371Z"
    }
   },
   "outputs": [
    {
     "data": {
      "text/plain": [
       "지점              0\n",
       "지점명             0\n",
       "일시              0\n",
       "주소              0\n",
       "구               0\n",
       "기온              0\n",
       "풍속(m/s)         0\n",
       "강수량(mm)         0\n",
       "습도(%)           0\n",
       "일조(hr)          0\n",
       "적설(cm)        122\n",
       "전운량(10분위)      19\n",
       "눈내림             0\n",
       "눈내림2            0\n",
       "시간              0\n",
       "전운량(10분위)2      0\n",
       "dtype: int64"
      ]
     },
     "execution_count": 284,
     "metadata": {},
     "output_type": "execute_result"
    }
   ],
   "source": [
    "m6.isnull().sum()"
   ]
  },
  {
   "cell_type": "markdown",
   "metadata": {},
   "source": [
    "- 송파 59, 서초12"
   ]
  },
  {
   "cell_type": "code",
   "execution_count": 297,
   "metadata": {
    "ExecuteTime": {
     "end_time": "2020-07-05T13:22:17.285153Z",
     "start_time": "2020-07-05T13:22:16.822388Z"
    }
   },
   "outputs": [],
   "source": [
    "# 송파 null은 강남 data로 대체\n",
    "nld1 = null_location_day[null_location_day['지점명'].str.contains('송파|서초')].copy()\n",
    "w1 = weather[weather['지점명'].str.contains('강남')].copy()"
   ]
  },
  {
   "cell_type": "code",
   "execution_count": 298,
   "metadata": {
    "ExecuteTime": {
     "end_time": "2020-07-05T13:22:18.763776Z",
     "start_time": "2020-07-05T13:22:18.757793Z"
    }
   },
   "outputs": [
    {
     "data": {
      "text/plain": [
       "(71, 5)"
      ]
     },
     "execution_count": 298,
     "metadata": {},
     "output_type": "execute_result"
    }
   ],
   "source": [
    "nld1.shape"
   ]
  },
  {
   "cell_type": "code",
   "execution_count": 299,
   "metadata": {
    "ExecuteTime": {
     "end_time": "2020-07-05T13:22:19.320240Z",
     "start_time": "2020-07-05T13:22:19.302291Z"
    }
   },
   "outputs": [
    {
     "data": {
      "text/html": [
       "<div>\n",
       "<style scoped>\n",
       "    .dataframe tbody tr th:only-of-type {\n",
       "        vertical-align: middle;\n",
       "    }\n",
       "\n",
       "    .dataframe tbody tr th {\n",
       "        vertical-align: top;\n",
       "    }\n",
       "\n",
       "    .dataframe thead th {\n",
       "        text-align: right;\n",
       "    }\n",
       "</style>\n",
       "<table border=\"1\" class=\"dataframe\">\n",
       "  <thead>\n",
       "    <tr style=\"text-align: right;\">\n",
       "      <th></th>\n",
       "      <th>지점</th>\n",
       "      <th>지점명</th>\n",
       "      <th>일시</th>\n",
       "      <th>주소</th>\n",
       "      <th>구</th>\n",
       "    </tr>\n",
       "  </thead>\n",
       "  <tbody>\n",
       "    <tr>\n",
       "      <th>38</th>\n",
       "      <td>403</td>\n",
       "      <td>송파</td>\n",
       "      <td>2017-08-24 11:00:00</td>\n",
       "      <td>서울특별시 송파구 잠실동</td>\n",
       "      <td>송파구</td>\n",
       "    </tr>\n",
       "    <tr>\n",
       "      <th>47</th>\n",
       "      <td>403</td>\n",
       "      <td>송파</td>\n",
       "      <td>2018-11-08 09:00:00</td>\n",
       "      <td>서울특별시 송파구 잠실동</td>\n",
       "      <td>송파구</td>\n",
       "    </tr>\n",
       "    <tr>\n",
       "      <th>52</th>\n",
       "      <td>403</td>\n",
       "      <td>송파</td>\n",
       "      <td>2018-12-25 05:00:00</td>\n",
       "      <td>서울특별시 송파구 잠실동</td>\n",
       "      <td>송파구</td>\n",
       "    </tr>\n",
       "    <tr>\n",
       "      <th>62</th>\n",
       "      <td>403</td>\n",
       "      <td>송파</td>\n",
       "      <td>2018-12-26 04:00:00</td>\n",
       "      <td>서울특별시 송파구 잠실동</td>\n",
       "      <td>송파구</td>\n",
       "    </tr>\n",
       "    <tr>\n",
       "      <th>73</th>\n",
       "      <td>403</td>\n",
       "      <td>송파</td>\n",
       "      <td>2018-11-08 03:00:00</td>\n",
       "      <td>서울특별시 송파구 잠실동</td>\n",
       "      <td>송파구</td>\n",
       "    </tr>\n",
       "  </tbody>\n",
       "</table>\n",
       "</div>"
      ],
      "text/plain": [
       "     지점 지점명                   일시             주소    구\n",
       "38  403  송파  2017-08-24 11:00:00  서울특별시 송파구 잠실동  송파구\n",
       "47  403  송파  2018-11-08 09:00:00  서울특별시 송파구 잠실동  송파구\n",
       "52  403  송파  2018-12-25 05:00:00  서울특별시 송파구 잠실동  송파구\n",
       "62  403  송파  2018-12-26 04:00:00  서울특별시 송파구 잠실동  송파구\n",
       "73  403  송파  2018-11-08 03:00:00  서울특별시 송파구 잠실동  송파구"
      ]
     },
     "execution_count": 299,
     "metadata": {},
     "output_type": "execute_result"
    }
   ],
   "source": [
    "nld1.head()"
   ]
  },
  {
   "cell_type": "code",
   "execution_count": 300,
   "metadata": {
    "ExecuteTime": {
     "end_time": "2020-07-05T13:22:20.429103Z",
     "start_time": "2020-07-05T13:22:20.417135Z"
    }
   },
   "outputs": [
    {
     "data": {
      "text/plain": [
       "송파    59\n",
       "서초    12\n",
       "Name: 지점명, dtype: int64"
      ]
     },
     "execution_count": 300,
     "metadata": {},
     "output_type": "execute_result"
    }
   ],
   "source": [
    "nld1['지점명'].value_counts()"
   ]
  },
  {
   "cell_type": "code",
   "execution_count": 301,
   "metadata": {
    "ExecuteTime": {
     "end_time": "2020-07-05T13:22:21.016320Z",
     "start_time": "2020-07-05T13:22:20.985404Z"
    }
   },
   "outputs": [
    {
     "data": {
      "text/html": [
       "<div>\n",
       "<style scoped>\n",
       "    .dataframe tbody tr th:only-of-type {\n",
       "        vertical-align: middle;\n",
       "    }\n",
       "\n",
       "    .dataframe tbody tr th {\n",
       "        vertical-align: top;\n",
       "    }\n",
       "\n",
       "    .dataframe thead th {\n",
       "        text-align: right;\n",
       "    }\n",
       "</style>\n",
       "<table border=\"1\" class=\"dataframe\">\n",
       "  <thead>\n",
       "    <tr style=\"text-align: right;\">\n",
       "      <th></th>\n",
       "      <th>지점</th>\n",
       "      <th>지점명</th>\n",
       "      <th>일시</th>\n",
       "      <th>기온</th>\n",
       "      <th>풍속(m/s)</th>\n",
       "      <th>강수량(mm)</th>\n",
       "      <th>습도(%)</th>\n",
       "      <th>일조(hr)</th>\n",
       "      <th>적설(cm)</th>\n",
       "      <th>전운량(10분위)</th>\n",
       "      <th>주소</th>\n",
       "      <th>구</th>\n",
       "      <th>눈내림</th>\n",
       "      <th>눈내림2</th>\n",
       "      <th>시간</th>\n",
       "      <th>전운량(10분위)2</th>\n",
       "    </tr>\n",
       "  </thead>\n",
       "  <tbody>\n",
       "    <tr>\n",
       "      <th>0</th>\n",
       "      <td>400</td>\n",
       "      <td>강남</td>\n",
       "      <td>2017-01-01 00:00:00</td>\n",
       "      <td>1.7</td>\n",
       "      <td>1.3</td>\n",
       "      <td>0.0</td>\n",
       "      <td>79.0</td>\n",
       "      <td>0.0</td>\n",
       "      <td>NaN</td>\n",
       "      <td>7.0</td>\n",
       "      <td>서울특별시 강남구 일원동</td>\n",
       "      <td>강남구</td>\n",
       "      <td>0</td>\n",
       "      <td>0</td>\n",
       "      <td>00:00:00</td>\n",
       "      <td>7.0</td>\n",
       "    </tr>\n",
       "    <tr>\n",
       "      <th>1</th>\n",
       "      <td>400</td>\n",
       "      <td>강남</td>\n",
       "      <td>2017-01-01 01:00:00</td>\n",
       "      <td>1.4</td>\n",
       "      <td>1.3</td>\n",
       "      <td>0.0</td>\n",
       "      <td>78.0</td>\n",
       "      <td>0.0</td>\n",
       "      <td>NaN</td>\n",
       "      <td>NaN</td>\n",
       "      <td>서울특별시 강남구 일원동</td>\n",
       "      <td>강남구</td>\n",
       "      <td>0</td>\n",
       "      <td>0</td>\n",
       "      <td>01:00:00</td>\n",
       "      <td>7.0</td>\n",
       "    </tr>\n",
       "    <tr>\n",
       "      <th>2</th>\n",
       "      <td>400</td>\n",
       "      <td>강남</td>\n",
       "      <td>2017-01-01 02:00:00</td>\n",
       "      <td>1.2</td>\n",
       "      <td>1.6</td>\n",
       "      <td>0.0</td>\n",
       "      <td>81.0</td>\n",
       "      <td>0.0</td>\n",
       "      <td>NaN</td>\n",
       "      <td>NaN</td>\n",
       "      <td>서울특별시 강남구 일원동</td>\n",
       "      <td>강남구</td>\n",
       "      <td>0</td>\n",
       "      <td>0</td>\n",
       "      <td>02:00:00</td>\n",
       "      <td>7.0</td>\n",
       "    </tr>\n",
       "    <tr>\n",
       "      <th>3</th>\n",
       "      <td>400</td>\n",
       "      <td>강남</td>\n",
       "      <td>2017-01-01 03:00:00</td>\n",
       "      <td>0.5</td>\n",
       "      <td>1.5</td>\n",
       "      <td>0.0</td>\n",
       "      <td>84.0</td>\n",
       "      <td>0.0</td>\n",
       "      <td>NaN</td>\n",
       "      <td>0.0</td>\n",
       "      <td>서울특별시 강남구 일원동</td>\n",
       "      <td>강남구</td>\n",
       "      <td>0</td>\n",
       "      <td>0</td>\n",
       "      <td>03:00:00</td>\n",
       "      <td>0.0</td>\n",
       "    </tr>\n",
       "    <tr>\n",
       "      <th>4</th>\n",
       "      <td>400</td>\n",
       "      <td>강남</td>\n",
       "      <td>2017-01-01 04:00:00</td>\n",
       "      <td>0.6</td>\n",
       "      <td>0.5</td>\n",
       "      <td>0.0</td>\n",
       "      <td>85.0</td>\n",
       "      <td>0.0</td>\n",
       "      <td>NaN</td>\n",
       "      <td>0.0</td>\n",
       "      <td>서울특별시 강남구 일원동</td>\n",
       "      <td>강남구</td>\n",
       "      <td>0</td>\n",
       "      <td>0</td>\n",
       "      <td>04:00:00</td>\n",
       "      <td>0.0</td>\n",
       "    </tr>\n",
       "  </tbody>\n",
       "</table>\n",
       "</div>"
      ],
      "text/plain": [
       "    지점 지점명                   일시   기온  풍속(m/s)  강수량(mm)  습도(%)  일조(hr)  적설(cm)  \\\n",
       "0  400  강남  2017-01-01 00:00:00  1.7      1.3      0.0   79.0     0.0     NaN   \n",
       "1  400  강남  2017-01-01 01:00:00  1.4      1.3      0.0   78.0     0.0     NaN   \n",
       "2  400  강남  2017-01-01 02:00:00  1.2      1.6      0.0   81.0     0.0     NaN   \n",
       "3  400  강남  2017-01-01 03:00:00  0.5      1.5      0.0   84.0     0.0     NaN   \n",
       "4  400  강남  2017-01-01 04:00:00  0.6      0.5      0.0   85.0     0.0     NaN   \n",
       "\n",
       "   전운량(10분위)             주소    구  눈내림  눈내림2        시간  전운량(10분위)2  \n",
       "0        7.0  서울특별시 강남구 일원동  강남구    0     0  00:00:00         7.0  \n",
       "1        NaN  서울특별시 강남구 일원동  강남구    0     0  01:00:00         7.0  \n",
       "2        NaN  서울특별시 강남구 일원동  강남구    0     0  02:00:00         7.0  \n",
       "3        0.0  서울특별시 강남구 일원동  강남구    0     0  03:00:00         0.0  \n",
       "4        0.0  서울특별시 강남구 일원동  강남구    0     0  04:00:00         0.0  "
      ]
     },
     "execution_count": 301,
     "metadata": {},
     "output_type": "execute_result"
    }
   ],
   "source": [
    "w1.head()"
   ]
  },
  {
   "cell_type": "code",
   "execution_count": 302,
   "metadata": {
    "ExecuteTime": {
     "end_time": "2020-07-05T13:22:21.734337Z",
     "start_time": "2020-07-05T13:22:21.717389Z"
    }
   },
   "outputs": [
    {
     "data": {
      "text/plain": [
       "강남    25984\n",
       "Name: 지점명, dtype: int64"
      ]
     },
     "execution_count": 302,
     "metadata": {},
     "output_type": "execute_result"
    }
   ],
   "source": [
    "w1['지점명'].value_counts()"
   ]
  },
  {
   "cell_type": "code",
   "execution_count": 303,
   "metadata": {
    "ExecuteTime": {
     "end_time": "2020-07-05T13:22:22.772836Z",
     "start_time": "2020-07-05T13:22:22.761866Z"
    }
   },
   "outputs": [],
   "source": [
    "w1.drop(['지점','지점명','주소','구'], axis=1, inplace = True)"
   ]
  },
  {
   "cell_type": "code",
   "execution_count": 304,
   "metadata": {
    "ExecuteTime": {
     "end_time": "2020-07-05T13:22:23.376215Z",
     "start_time": "2020-07-05T13:22:23.344299Z"
    }
   },
   "outputs": [
    {
     "data": {
      "text/html": [
       "<div>\n",
       "<style scoped>\n",
       "    .dataframe tbody tr th:only-of-type {\n",
       "        vertical-align: middle;\n",
       "    }\n",
       "\n",
       "    .dataframe tbody tr th {\n",
       "        vertical-align: top;\n",
       "    }\n",
       "\n",
       "    .dataframe thead th {\n",
       "        text-align: right;\n",
       "    }\n",
       "</style>\n",
       "<table border=\"1\" class=\"dataframe\">\n",
       "  <thead>\n",
       "    <tr style=\"text-align: right;\">\n",
       "      <th></th>\n",
       "      <th>일시</th>\n",
       "      <th>기온</th>\n",
       "      <th>풍속(m/s)</th>\n",
       "      <th>강수량(mm)</th>\n",
       "      <th>습도(%)</th>\n",
       "      <th>일조(hr)</th>\n",
       "      <th>적설(cm)</th>\n",
       "      <th>전운량(10분위)</th>\n",
       "      <th>눈내림</th>\n",
       "      <th>눈내림2</th>\n",
       "      <th>시간</th>\n",
       "      <th>전운량(10분위)2</th>\n",
       "    </tr>\n",
       "  </thead>\n",
       "  <tbody>\n",
       "    <tr>\n",
       "      <th>0</th>\n",
       "      <td>2017-01-01 00:00:00</td>\n",
       "      <td>1.7</td>\n",
       "      <td>1.3</td>\n",
       "      <td>0.0</td>\n",
       "      <td>79.0</td>\n",
       "      <td>0.0</td>\n",
       "      <td>NaN</td>\n",
       "      <td>7.0</td>\n",
       "      <td>0</td>\n",
       "      <td>0</td>\n",
       "      <td>00:00:00</td>\n",
       "      <td>7.0</td>\n",
       "    </tr>\n",
       "    <tr>\n",
       "      <th>1</th>\n",
       "      <td>2017-01-01 01:00:00</td>\n",
       "      <td>1.4</td>\n",
       "      <td>1.3</td>\n",
       "      <td>0.0</td>\n",
       "      <td>78.0</td>\n",
       "      <td>0.0</td>\n",
       "      <td>NaN</td>\n",
       "      <td>NaN</td>\n",
       "      <td>0</td>\n",
       "      <td>0</td>\n",
       "      <td>01:00:00</td>\n",
       "      <td>7.0</td>\n",
       "    </tr>\n",
       "    <tr>\n",
       "      <th>2</th>\n",
       "      <td>2017-01-01 02:00:00</td>\n",
       "      <td>1.2</td>\n",
       "      <td>1.6</td>\n",
       "      <td>0.0</td>\n",
       "      <td>81.0</td>\n",
       "      <td>0.0</td>\n",
       "      <td>NaN</td>\n",
       "      <td>NaN</td>\n",
       "      <td>0</td>\n",
       "      <td>0</td>\n",
       "      <td>02:00:00</td>\n",
       "      <td>7.0</td>\n",
       "    </tr>\n",
       "    <tr>\n",
       "      <th>3</th>\n",
       "      <td>2017-01-01 03:00:00</td>\n",
       "      <td>0.5</td>\n",
       "      <td>1.5</td>\n",
       "      <td>0.0</td>\n",
       "      <td>84.0</td>\n",
       "      <td>0.0</td>\n",
       "      <td>NaN</td>\n",
       "      <td>0.0</td>\n",
       "      <td>0</td>\n",
       "      <td>0</td>\n",
       "      <td>03:00:00</td>\n",
       "      <td>0.0</td>\n",
       "    </tr>\n",
       "    <tr>\n",
       "      <th>4</th>\n",
       "      <td>2017-01-01 04:00:00</td>\n",
       "      <td>0.6</td>\n",
       "      <td>0.5</td>\n",
       "      <td>0.0</td>\n",
       "      <td>85.0</td>\n",
       "      <td>0.0</td>\n",
       "      <td>NaN</td>\n",
       "      <td>0.0</td>\n",
       "      <td>0</td>\n",
       "      <td>0</td>\n",
       "      <td>04:00:00</td>\n",
       "      <td>0.0</td>\n",
       "    </tr>\n",
       "  </tbody>\n",
       "</table>\n",
       "</div>"
      ],
      "text/plain": [
       "                    일시   기온  풍속(m/s)  강수량(mm)  습도(%)  일조(hr)  적설(cm)  \\\n",
       "0  2017-01-01 00:00:00  1.7      1.3      0.0   79.0     0.0     NaN   \n",
       "1  2017-01-01 01:00:00  1.4      1.3      0.0   78.0     0.0     NaN   \n",
       "2  2017-01-01 02:00:00  1.2      1.6      0.0   81.0     0.0     NaN   \n",
       "3  2017-01-01 03:00:00  0.5      1.5      0.0   84.0     0.0     NaN   \n",
       "4  2017-01-01 04:00:00  0.6      0.5      0.0   85.0     0.0     NaN   \n",
       "\n",
       "   전운량(10분위)  눈내림  눈내림2        시간  전운량(10분위)2  \n",
       "0        7.0    0     0  00:00:00         7.0  \n",
       "1        NaN    0     0  01:00:00         7.0  \n",
       "2        NaN    0     0  02:00:00         7.0  \n",
       "3        0.0    0     0  03:00:00         0.0  \n",
       "4        0.0    0     0  04:00:00         0.0  "
      ]
     },
     "execution_count": 304,
     "metadata": {},
     "output_type": "execute_result"
    }
   ],
   "source": [
    "w1.head()"
   ]
  },
  {
   "cell_type": "code",
   "execution_count": 305,
   "metadata": {
    "ExecuteTime": {
     "end_time": "2020-07-05T13:22:23.941453Z",
     "start_time": "2020-07-05T13:22:23.934472Z"
    }
   },
   "outputs": [
    {
     "data": {
      "text/plain": [
       "(25984, 12)"
      ]
     },
     "execution_count": 305,
     "metadata": {},
     "output_type": "execute_result"
    }
   ],
   "source": [
    "w1.shape"
   ]
  },
  {
   "cell_type": "code",
   "execution_count": 306,
   "metadata": {
    "ExecuteTime": {
     "end_time": "2020-07-05T13:22:24.781416Z",
     "start_time": "2020-07-05T13:22:24.776433Z"
    }
   },
   "outputs": [],
   "source": [
    "# m 숫자 바꿔!!"
   ]
  },
  {
   "cell_type": "code",
   "execution_count": 307,
   "metadata": {
    "ExecuteTime": {
     "end_time": "2020-07-05T13:22:25.712019Z",
     "start_time": "2020-07-05T13:22:25.658166Z"
    }
   },
   "outputs": [
    {
     "name": "stdout",
     "output_type": "stream",
     "text": [
      "(71, 16)\n"
     ]
    },
    {
     "data": {
      "text/html": [
       "<div>\n",
       "<style scoped>\n",
       "    .dataframe tbody tr th:only-of-type {\n",
       "        vertical-align: middle;\n",
       "    }\n",
       "\n",
       "    .dataframe tbody tr th {\n",
       "        vertical-align: top;\n",
       "    }\n",
       "\n",
       "    .dataframe thead th {\n",
       "        text-align: right;\n",
       "    }\n",
       "</style>\n",
       "<table border=\"1\" class=\"dataframe\">\n",
       "  <thead>\n",
       "    <tr style=\"text-align: right;\">\n",
       "      <th></th>\n",
       "      <th>지점</th>\n",
       "      <th>지점명</th>\n",
       "      <th>일시</th>\n",
       "      <th>주소</th>\n",
       "      <th>구</th>\n",
       "      <th>기온</th>\n",
       "      <th>풍속(m/s)</th>\n",
       "      <th>강수량(mm)</th>\n",
       "      <th>습도(%)</th>\n",
       "      <th>일조(hr)</th>\n",
       "      <th>적설(cm)</th>\n",
       "      <th>전운량(10분위)</th>\n",
       "      <th>눈내림</th>\n",
       "      <th>눈내림2</th>\n",
       "      <th>시간</th>\n",
       "      <th>전운량(10분위)2</th>\n",
       "    </tr>\n",
       "  </thead>\n",
       "  <tbody>\n",
       "    <tr>\n",
       "      <th>0</th>\n",
       "      <td>403</td>\n",
       "      <td>송파</td>\n",
       "      <td>2017-08-24 11:00:00</td>\n",
       "      <td>서울특별시 송파구 잠실동</td>\n",
       "      <td>송파구</td>\n",
       "      <td>29.5</td>\n",
       "      <td>3.8</td>\n",
       "      <td>0.0</td>\n",
       "      <td>81.0</td>\n",
       "      <td>0.0</td>\n",
       "      <td>NaN</td>\n",
       "      <td>10.0</td>\n",
       "      <td>0</td>\n",
       "      <td>0</td>\n",
       "      <td>11:00:00</td>\n",
       "      <td>10.0</td>\n",
       "    </tr>\n",
       "    <tr>\n",
       "      <th>1</th>\n",
       "      <td>403</td>\n",
       "      <td>송파</td>\n",
       "      <td>2018-11-08 09:00:00</td>\n",
       "      <td>서울특별시 송파구 잠실동</td>\n",
       "      <td>송파구</td>\n",
       "      <td>11.7</td>\n",
       "      <td>1.5</td>\n",
       "      <td>1.0</td>\n",
       "      <td>94.0</td>\n",
       "      <td>0.0</td>\n",
       "      <td>NaN</td>\n",
       "      <td>10.0</td>\n",
       "      <td>0</td>\n",
       "      <td>0</td>\n",
       "      <td>09:00:00</td>\n",
       "      <td>10.0</td>\n",
       "    </tr>\n",
       "    <tr>\n",
       "      <th>2</th>\n",
       "      <td>403</td>\n",
       "      <td>송파</td>\n",
       "      <td>2018-12-25 05:00:00</td>\n",
       "      <td>서울특별시 송파구 잠실동</td>\n",
       "      <td>송파구</td>\n",
       "      <td>-2.3</td>\n",
       "      <td>1.3</td>\n",
       "      <td>0.0</td>\n",
       "      <td>45.0</td>\n",
       "      <td>0.0</td>\n",
       "      <td>NaN</td>\n",
       "      <td>3.0</td>\n",
       "      <td>0</td>\n",
       "      <td>0</td>\n",
       "      <td>05:00:00</td>\n",
       "      <td>3.0</td>\n",
       "    </tr>\n",
       "    <tr>\n",
       "      <th>3</th>\n",
       "      <td>403</td>\n",
       "      <td>송파</td>\n",
       "      <td>2018-12-26 04:00:00</td>\n",
       "      <td>서울특별시 송파구 잠실동</td>\n",
       "      <td>송파구</td>\n",
       "      <td>2.2</td>\n",
       "      <td>2.6</td>\n",
       "      <td>0.0</td>\n",
       "      <td>69.0</td>\n",
       "      <td>0.0</td>\n",
       "      <td>NaN</td>\n",
       "      <td>7.0</td>\n",
       "      <td>0</td>\n",
       "      <td>0</td>\n",
       "      <td>04:00:00</td>\n",
       "      <td>7.0</td>\n",
       "    </tr>\n",
       "    <tr>\n",
       "      <th>4</th>\n",
       "      <td>403</td>\n",
       "      <td>송파</td>\n",
       "      <td>2018-11-08 03:00:00</td>\n",
       "      <td>서울특별시 송파구 잠실동</td>\n",
       "      <td>송파구</td>\n",
       "      <td>11.9</td>\n",
       "      <td>1.5</td>\n",
       "      <td>0.5</td>\n",
       "      <td>86.0</td>\n",
       "      <td>0.0</td>\n",
       "      <td>NaN</td>\n",
       "      <td>10.0</td>\n",
       "      <td>0</td>\n",
       "      <td>0</td>\n",
       "      <td>03:00:00</td>\n",
       "      <td>10.0</td>\n",
       "    </tr>\n",
       "  </tbody>\n",
       "</table>\n",
       "</div>"
      ],
      "text/plain": [
       "    지점 지점명                   일시             주소    구    기온  풍속(m/s)  강수량(mm)  \\\n",
       "0  403  송파  2017-08-24 11:00:00  서울특별시 송파구 잠실동  송파구  29.5      3.8      0.0   \n",
       "1  403  송파  2018-11-08 09:00:00  서울특별시 송파구 잠실동  송파구  11.7      1.5      1.0   \n",
       "2  403  송파  2018-12-25 05:00:00  서울특별시 송파구 잠실동  송파구  -2.3      1.3      0.0   \n",
       "3  403  송파  2018-12-26 04:00:00  서울특별시 송파구 잠실동  송파구   2.2      2.6      0.0   \n",
       "4  403  송파  2018-11-08 03:00:00  서울특별시 송파구 잠실동  송파구  11.9      1.5      0.5   \n",
       "\n",
       "   습도(%)  일조(hr)  적설(cm)  전운량(10분위)  눈내림  눈내림2        시간  전운량(10분위)2  \n",
       "0   81.0     0.0     NaN       10.0    0     0  11:00:00        10.0  \n",
       "1   94.0     0.0     NaN       10.0    0     0  09:00:00        10.0  \n",
       "2   45.0     0.0     NaN        3.0    0     0  05:00:00         3.0  \n",
       "3   69.0     0.0     NaN        7.0    0     0  04:00:00         7.0  \n",
       "4   86.0     0.0     NaN       10.0    0     0  03:00:00        10.0  "
      ]
     },
     "execution_count": 307,
     "metadata": {},
     "output_type": "execute_result"
    }
   ],
   "source": [
    "m7 = pd.merge(nld1, w1, how = 'left', on = '일시')\n",
    "print(m7.shape)\n",
    "m7.head()"
   ]
  },
  {
   "cell_type": "code",
   "execution_count": 308,
   "metadata": {
    "ExecuteTime": {
     "end_time": "2020-07-05T13:22:26.873094Z",
     "start_time": "2020-07-05T13:22:26.858137Z"
    }
   },
   "outputs": [
    {
     "data": {
      "text/plain": [
       "지점             0\n",
       "지점명            0\n",
       "일시             0\n",
       "주소             0\n",
       "구              0\n",
       "기온             0\n",
       "풍속(m/s)        0\n",
       "강수량(mm)        0\n",
       "습도(%)          0\n",
       "일조(hr)         0\n",
       "적설(cm)        71\n",
       "전운량(10분위)      5\n",
       "눈내림            0\n",
       "눈내림2           0\n",
       "시간             0\n",
       "전운량(10분위)2     0\n",
       "dtype: int64"
      ]
     },
     "execution_count": 308,
     "metadata": {},
     "output_type": "execute_result"
    }
   ],
   "source": [
    "m7.isnull().sum()"
   ]
  },
  {
   "cell_type": "markdown",
   "metadata": {},
   "source": [
    "- 광진 ~ 동대문은 '성동' data로 대체(서초 제외)"
   ]
  },
  {
   "cell_type": "code",
   "execution_count": 296,
   "metadata": {
    "ExecuteTime": {
     "end_time": "2020-07-05T13:18:23.196342Z",
     "start_time": "2020-07-05T13:18:23.184378Z"
    }
   },
   "outputs": [
    {
     "data": {
      "text/plain": [
       "강남     296\n",
       "마포     202\n",
       "은평     199\n",
       "용산     165\n",
       "금천     151\n",
       "중랑     146\n",
       "중구     130\n",
       "강서     122\n",
       "송파      59\n",
       "광진      54\n",
       "강동      52\n",
       "서대문     44\n",
       "남현      32\n",
       "도봉      32\n",
       "성북      28\n",
       "강북      27\n",
       "구로      24\n",
       "양천      22\n",
       "영등포     22\n",
       "서초      12\n",
       "기상청     10\n",
       "노원       8\n",
       "동대문      1\n",
       "Name: 지점명, dtype: int64"
      ]
     },
     "execution_count": 296,
     "metadata": {},
     "output_type": "execute_result"
    }
   ],
   "source": [
    "null_location_day['지점명'].value_counts()"
   ]
  },
  {
   "cell_type": "code",
   "execution_count": 309,
   "metadata": {
    "ExecuteTime": {
     "end_time": "2020-07-05T13:24:26.806531Z",
     "start_time": "2020-07-05T13:24:26.131339Z"
    }
   },
   "outputs": [],
   "source": [
    "# 나머지, 성동 data로 대체\n",
    "nld1 = null_location_day[null_location_day['지점명'].str.contains('광진|강동|서대문|남현|도봉|성북|강북|구로|양천|영등포|기상청|노원|동대문')].copy()\n",
    "w1 = weather[weather['지점명'].str.contains('성동')].copy()"
   ]
  },
  {
   "cell_type": "code",
   "execution_count": 310,
   "metadata": {
    "ExecuteTime": {
     "end_time": "2020-07-05T13:24:27.468177Z",
     "start_time": "2020-07-05T13:24:27.461197Z"
    }
   },
   "outputs": [
    {
     "data": {
      "text/plain": [
       "(356, 5)"
      ]
     },
     "execution_count": 310,
     "metadata": {},
     "output_type": "execute_result"
    }
   ],
   "source": [
    "nld1.shape"
   ]
  },
  {
   "cell_type": "code",
   "execution_count": 311,
   "metadata": {
    "ExecuteTime": {
     "end_time": "2020-07-05T13:24:30.908546Z",
     "start_time": "2020-07-05T13:24:30.892591Z"
    }
   },
   "outputs": [
    {
     "data": {
      "text/html": [
       "<div>\n",
       "<style scoped>\n",
       "    .dataframe tbody tr th:only-of-type {\n",
       "        vertical-align: middle;\n",
       "    }\n",
       "\n",
       "    .dataframe tbody tr th {\n",
       "        vertical-align: top;\n",
       "    }\n",
       "\n",
       "    .dataframe thead th {\n",
       "        text-align: right;\n",
       "    }\n",
       "</style>\n",
       "<table border=\"1\" class=\"dataframe\">\n",
       "  <thead>\n",
       "    <tr style=\"text-align: right;\">\n",
       "      <th></th>\n",
       "      <th>지점</th>\n",
       "      <th>지점명</th>\n",
       "      <th>일시</th>\n",
       "      <th>주소</th>\n",
       "      <th>구</th>\n",
       "    </tr>\n",
       "  </thead>\n",
       "  <tbody>\n",
       "    <tr>\n",
       "      <th>9</th>\n",
       "      <td>413</td>\n",
       "      <td>광진</td>\n",
       "      <td>2017-09-20 06:00:00</td>\n",
       "      <td>서울특별시 광진구 자양동</td>\n",
       "      <td>광진구</td>\n",
       "    </tr>\n",
       "    <tr>\n",
       "      <th>13</th>\n",
       "      <td>414</td>\n",
       "      <td>성북</td>\n",
       "      <td>2017-08-15 10:00:00</td>\n",
       "      <td>서울특별시 성북구 정릉동</td>\n",
       "      <td>성북구</td>\n",
       "    </tr>\n",
       "    <tr>\n",
       "      <th>16</th>\n",
       "      <td>406</td>\n",
       "      <td>도봉</td>\n",
       "      <td>2019-12-30 14:00:00</td>\n",
       "      <td>서울특별시 도봉구 방학동</td>\n",
       "      <td>도봉구</td>\n",
       "    </tr>\n",
       "    <tr>\n",
       "      <th>21</th>\n",
       "      <td>405</td>\n",
       "      <td>양천</td>\n",
       "      <td>2019-08-22 13:00:00</td>\n",
       "      <td>서울특별시 양천구 목동</td>\n",
       "      <td>양천구</td>\n",
       "    </tr>\n",
       "    <tr>\n",
       "      <th>27</th>\n",
       "      <td>413</td>\n",
       "      <td>광진</td>\n",
       "      <td>2018-05-17 18:00:00</td>\n",
       "      <td>서울특별시 광진구 자양동</td>\n",
       "      <td>광진구</td>\n",
       "    </tr>\n",
       "  </tbody>\n",
       "</table>\n",
       "</div>"
      ],
      "text/plain": [
       "     지점 지점명                   일시             주소    구\n",
       "9   413  광진  2017-09-20 06:00:00  서울특별시 광진구 자양동  광진구\n",
       "13  414  성북  2017-08-15 10:00:00  서울특별시 성북구 정릉동  성북구\n",
       "16  406  도봉  2019-12-30 14:00:00  서울특별시 도봉구 방학동  도봉구\n",
       "21  405  양천  2019-08-22 13:00:00   서울특별시 양천구 목동  양천구\n",
       "27  413  광진  2018-05-17 18:00:00  서울특별시 광진구 자양동  광진구"
      ]
     },
     "execution_count": 311,
     "metadata": {},
     "output_type": "execute_result"
    }
   ],
   "source": [
    "nld1.head()"
   ]
  },
  {
   "cell_type": "code",
   "execution_count": 312,
   "metadata": {
    "ExecuteTime": {
     "end_time": "2020-07-05T13:24:32.600499Z",
     "start_time": "2020-07-05T13:24:32.591529Z"
    }
   },
   "outputs": [
    {
     "data": {
      "text/plain": [
       "광진     54\n",
       "강동     52\n",
       "서대문    44\n",
       "도봉     32\n",
       "남현     32\n",
       "성북     28\n",
       "강북     27\n",
       "구로     24\n",
       "양천     22\n",
       "영등포    22\n",
       "기상청    10\n",
       "노원      8\n",
       "동대문     1\n",
       "Name: 지점명, dtype: int64"
      ]
     },
     "execution_count": 312,
     "metadata": {},
     "output_type": "execute_result"
    }
   ],
   "source": [
    "nld1['지점명'].value_counts()"
   ]
  },
  {
   "cell_type": "code",
   "execution_count": 313,
   "metadata": {
    "ExecuteTime": {
     "end_time": "2020-07-05T13:24:36.288583Z",
     "start_time": "2020-07-05T13:24:36.257665Z"
    }
   },
   "outputs": [
    {
     "data": {
      "text/html": [
       "<div>\n",
       "<style scoped>\n",
       "    .dataframe tbody tr th:only-of-type {\n",
       "        vertical-align: middle;\n",
       "    }\n",
       "\n",
       "    .dataframe tbody tr th {\n",
       "        vertical-align: top;\n",
       "    }\n",
       "\n",
       "    .dataframe thead th {\n",
       "        text-align: right;\n",
       "    }\n",
       "</style>\n",
       "<table border=\"1\" class=\"dataframe\">\n",
       "  <thead>\n",
       "    <tr style=\"text-align: right;\">\n",
       "      <th></th>\n",
       "      <th>지점</th>\n",
       "      <th>지점명</th>\n",
       "      <th>일시</th>\n",
       "      <th>기온</th>\n",
       "      <th>풍속(m/s)</th>\n",
       "      <th>강수량(mm)</th>\n",
       "      <th>습도(%)</th>\n",
       "      <th>일조(hr)</th>\n",
       "      <th>적설(cm)</th>\n",
       "      <th>전운량(10분위)</th>\n",
       "      <th>주소</th>\n",
       "      <th>구</th>\n",
       "      <th>눈내림</th>\n",
       "      <th>눈내림2</th>\n",
       "      <th>시간</th>\n",
       "      <th>전운량(10분위)2</th>\n",
       "    </tr>\n",
       "  </thead>\n",
       "  <tbody>\n",
       "    <tr>\n",
       "      <th>41032</th>\n",
       "      <td>421</td>\n",
       "      <td>성동</td>\n",
       "      <td>2017-01-01 00:00:00</td>\n",
       "      <td>2.9</td>\n",
       "      <td>0.6</td>\n",
       "      <td>0.0</td>\n",
       "      <td>79.0</td>\n",
       "      <td>0.0</td>\n",
       "      <td>NaN</td>\n",
       "      <td>7.0</td>\n",
       "      <td>서울특별시 성동구 성수동1가</td>\n",
       "      <td>성동구</td>\n",
       "      <td>0</td>\n",
       "      <td>0</td>\n",
       "      <td>00:00:00</td>\n",
       "      <td>7.0</td>\n",
       "    </tr>\n",
       "    <tr>\n",
       "      <th>41033</th>\n",
       "      <td>421</td>\n",
       "      <td>성동</td>\n",
       "      <td>2017-01-01 01:00:00</td>\n",
       "      <td>2.6</td>\n",
       "      <td>0.7</td>\n",
       "      <td>0.0</td>\n",
       "      <td>78.0</td>\n",
       "      <td>0.0</td>\n",
       "      <td>NaN</td>\n",
       "      <td>NaN</td>\n",
       "      <td>서울특별시 성동구 성수동1가</td>\n",
       "      <td>성동구</td>\n",
       "      <td>0</td>\n",
       "      <td>0</td>\n",
       "      <td>01:00:00</td>\n",
       "      <td>7.0</td>\n",
       "    </tr>\n",
       "    <tr>\n",
       "      <th>41034</th>\n",
       "      <td>421</td>\n",
       "      <td>성동</td>\n",
       "      <td>2017-01-01 02:00:00</td>\n",
       "      <td>2.2</td>\n",
       "      <td>0.7</td>\n",
       "      <td>0.0</td>\n",
       "      <td>81.0</td>\n",
       "      <td>0.0</td>\n",
       "      <td>NaN</td>\n",
       "      <td>NaN</td>\n",
       "      <td>서울특별시 성동구 성수동1가</td>\n",
       "      <td>성동구</td>\n",
       "      <td>0</td>\n",
       "      <td>0</td>\n",
       "      <td>02:00:00</td>\n",
       "      <td>7.0</td>\n",
       "    </tr>\n",
       "    <tr>\n",
       "      <th>41035</th>\n",
       "      <td>421</td>\n",
       "      <td>성동</td>\n",
       "      <td>2017-01-01 03:00:00</td>\n",
       "      <td>2.2</td>\n",
       "      <td>0.6</td>\n",
       "      <td>0.0</td>\n",
       "      <td>84.0</td>\n",
       "      <td>0.0</td>\n",
       "      <td>NaN</td>\n",
       "      <td>0.0</td>\n",
       "      <td>서울특별시 성동구 성수동1가</td>\n",
       "      <td>성동구</td>\n",
       "      <td>0</td>\n",
       "      <td>0</td>\n",
       "      <td>03:00:00</td>\n",
       "      <td>0.0</td>\n",
       "    </tr>\n",
       "    <tr>\n",
       "      <th>41036</th>\n",
       "      <td>421</td>\n",
       "      <td>성동</td>\n",
       "      <td>2017-01-01 04:00:00</td>\n",
       "      <td>1.8</td>\n",
       "      <td>0.7</td>\n",
       "      <td>0.0</td>\n",
       "      <td>85.0</td>\n",
       "      <td>0.0</td>\n",
       "      <td>NaN</td>\n",
       "      <td>0.0</td>\n",
       "      <td>서울특별시 성동구 성수동1가</td>\n",
       "      <td>성동구</td>\n",
       "      <td>0</td>\n",
       "      <td>0</td>\n",
       "      <td>04:00:00</td>\n",
       "      <td>0.0</td>\n",
       "    </tr>\n",
       "  </tbody>\n",
       "</table>\n",
       "</div>"
      ],
      "text/plain": [
       "        지점 지점명                   일시   기온  풍속(m/s)  강수량(mm)  습도(%)  일조(hr)  \\\n",
       "41032  421  성동  2017-01-01 00:00:00  2.9      0.6      0.0   79.0     0.0   \n",
       "41033  421  성동  2017-01-01 01:00:00  2.6      0.7      0.0   78.0     0.0   \n",
       "41034  421  성동  2017-01-01 02:00:00  2.2      0.7      0.0   81.0     0.0   \n",
       "41035  421  성동  2017-01-01 03:00:00  2.2      0.6      0.0   84.0     0.0   \n",
       "41036  421  성동  2017-01-01 04:00:00  1.8      0.7      0.0   85.0     0.0   \n",
       "\n",
       "       적설(cm)  전운량(10분위)               주소    구  눈내림  눈내림2        시간  \\\n",
       "41032     NaN        7.0  서울특별시 성동구 성수동1가  성동구    0     0  00:00:00   \n",
       "41033     NaN        NaN  서울특별시 성동구 성수동1가  성동구    0     0  01:00:00   \n",
       "41034     NaN        NaN  서울특별시 성동구 성수동1가  성동구    0     0  02:00:00   \n",
       "41035     NaN        0.0  서울특별시 성동구 성수동1가  성동구    0     0  03:00:00   \n",
       "41036     NaN        0.0  서울특별시 성동구 성수동1가  성동구    0     0  04:00:00   \n",
       "\n",
       "       전운량(10분위)2  \n",
       "41032         7.0  \n",
       "41033         7.0  \n",
       "41034         7.0  \n",
       "41035         0.0  \n",
       "41036         0.0  "
      ]
     },
     "execution_count": 313,
     "metadata": {},
     "output_type": "execute_result"
    }
   ],
   "source": [
    "w1.head()"
   ]
  },
  {
   "cell_type": "code",
   "execution_count": 314,
   "metadata": {
    "ExecuteTime": {
     "end_time": "2020-07-05T13:24:37.417386Z",
     "start_time": "2020-07-05T13:24:37.401428Z"
    }
   },
   "outputs": [
    {
     "data": {
      "text/plain": [
       "성동    26280\n",
       "Name: 지점명, dtype: int64"
      ]
     },
     "execution_count": 314,
     "metadata": {},
     "output_type": "execute_result"
    }
   ],
   "source": [
    "w1['지점명'].value_counts()"
   ]
  },
  {
   "cell_type": "code",
   "execution_count": 315,
   "metadata": {
    "ExecuteTime": {
     "end_time": "2020-07-05T13:24:39.963653Z",
     "start_time": "2020-07-05T13:24:39.954679Z"
    }
   },
   "outputs": [],
   "source": [
    "w1.drop(['지점','지점명','주소','구'], axis=1, inplace = True)"
   ]
  },
  {
   "cell_type": "code",
   "execution_count": 316,
   "metadata": {
    "ExecuteTime": {
     "end_time": "2020-07-05T13:24:40.387341Z",
     "start_time": "2020-07-05T13:24:40.355429Z"
    }
   },
   "outputs": [
    {
     "data": {
      "text/html": [
       "<div>\n",
       "<style scoped>\n",
       "    .dataframe tbody tr th:only-of-type {\n",
       "        vertical-align: middle;\n",
       "    }\n",
       "\n",
       "    .dataframe tbody tr th {\n",
       "        vertical-align: top;\n",
       "    }\n",
       "\n",
       "    .dataframe thead th {\n",
       "        text-align: right;\n",
       "    }\n",
       "</style>\n",
       "<table border=\"1\" class=\"dataframe\">\n",
       "  <thead>\n",
       "    <tr style=\"text-align: right;\">\n",
       "      <th></th>\n",
       "      <th>일시</th>\n",
       "      <th>기온</th>\n",
       "      <th>풍속(m/s)</th>\n",
       "      <th>강수량(mm)</th>\n",
       "      <th>습도(%)</th>\n",
       "      <th>일조(hr)</th>\n",
       "      <th>적설(cm)</th>\n",
       "      <th>전운량(10분위)</th>\n",
       "      <th>눈내림</th>\n",
       "      <th>눈내림2</th>\n",
       "      <th>시간</th>\n",
       "      <th>전운량(10분위)2</th>\n",
       "    </tr>\n",
       "  </thead>\n",
       "  <tbody>\n",
       "    <tr>\n",
       "      <th>41032</th>\n",
       "      <td>2017-01-01 00:00:00</td>\n",
       "      <td>2.9</td>\n",
       "      <td>0.6</td>\n",
       "      <td>0.0</td>\n",
       "      <td>79.0</td>\n",
       "      <td>0.0</td>\n",
       "      <td>NaN</td>\n",
       "      <td>7.0</td>\n",
       "      <td>0</td>\n",
       "      <td>0</td>\n",
       "      <td>00:00:00</td>\n",
       "      <td>7.0</td>\n",
       "    </tr>\n",
       "    <tr>\n",
       "      <th>41033</th>\n",
       "      <td>2017-01-01 01:00:00</td>\n",
       "      <td>2.6</td>\n",
       "      <td>0.7</td>\n",
       "      <td>0.0</td>\n",
       "      <td>78.0</td>\n",
       "      <td>0.0</td>\n",
       "      <td>NaN</td>\n",
       "      <td>NaN</td>\n",
       "      <td>0</td>\n",
       "      <td>0</td>\n",
       "      <td>01:00:00</td>\n",
       "      <td>7.0</td>\n",
       "    </tr>\n",
       "    <tr>\n",
       "      <th>41034</th>\n",
       "      <td>2017-01-01 02:00:00</td>\n",
       "      <td>2.2</td>\n",
       "      <td>0.7</td>\n",
       "      <td>0.0</td>\n",
       "      <td>81.0</td>\n",
       "      <td>0.0</td>\n",
       "      <td>NaN</td>\n",
       "      <td>NaN</td>\n",
       "      <td>0</td>\n",
       "      <td>0</td>\n",
       "      <td>02:00:00</td>\n",
       "      <td>7.0</td>\n",
       "    </tr>\n",
       "    <tr>\n",
       "      <th>41035</th>\n",
       "      <td>2017-01-01 03:00:00</td>\n",
       "      <td>2.2</td>\n",
       "      <td>0.6</td>\n",
       "      <td>0.0</td>\n",
       "      <td>84.0</td>\n",
       "      <td>0.0</td>\n",
       "      <td>NaN</td>\n",
       "      <td>0.0</td>\n",
       "      <td>0</td>\n",
       "      <td>0</td>\n",
       "      <td>03:00:00</td>\n",
       "      <td>0.0</td>\n",
       "    </tr>\n",
       "    <tr>\n",
       "      <th>41036</th>\n",
       "      <td>2017-01-01 04:00:00</td>\n",
       "      <td>1.8</td>\n",
       "      <td>0.7</td>\n",
       "      <td>0.0</td>\n",
       "      <td>85.0</td>\n",
       "      <td>0.0</td>\n",
       "      <td>NaN</td>\n",
       "      <td>0.0</td>\n",
       "      <td>0</td>\n",
       "      <td>0</td>\n",
       "      <td>04:00:00</td>\n",
       "      <td>0.0</td>\n",
       "    </tr>\n",
       "  </tbody>\n",
       "</table>\n",
       "</div>"
      ],
      "text/plain": [
       "                        일시   기온  풍속(m/s)  강수량(mm)  습도(%)  일조(hr)  적설(cm)  \\\n",
       "41032  2017-01-01 00:00:00  2.9      0.6      0.0   79.0     0.0     NaN   \n",
       "41033  2017-01-01 01:00:00  2.6      0.7      0.0   78.0     0.0     NaN   \n",
       "41034  2017-01-01 02:00:00  2.2      0.7      0.0   81.0     0.0     NaN   \n",
       "41035  2017-01-01 03:00:00  2.2      0.6      0.0   84.0     0.0     NaN   \n",
       "41036  2017-01-01 04:00:00  1.8      0.7      0.0   85.0     0.0     NaN   \n",
       "\n",
       "       전운량(10분위)  눈내림  눈내림2        시간  전운량(10분위)2  \n",
       "41032        7.0    0     0  00:00:00         7.0  \n",
       "41033        NaN    0     0  01:00:00         7.0  \n",
       "41034        NaN    0     0  02:00:00         7.0  \n",
       "41035        0.0    0     0  03:00:00         0.0  \n",
       "41036        0.0    0     0  04:00:00         0.0  "
      ]
     },
     "execution_count": 316,
     "metadata": {},
     "output_type": "execute_result"
    }
   ],
   "source": [
    "w1.head()"
   ]
  },
  {
   "cell_type": "code",
   "execution_count": 317,
   "metadata": {
    "ExecuteTime": {
     "end_time": "2020-07-05T13:24:41.831540Z",
     "start_time": "2020-07-05T13:24:41.824561Z"
    }
   },
   "outputs": [
    {
     "data": {
      "text/plain": [
       "(26280, 12)"
      ]
     },
     "execution_count": 317,
     "metadata": {},
     "output_type": "execute_result"
    }
   ],
   "source": [
    "w1.shape"
   ]
  },
  {
   "cell_type": "code",
   "execution_count": 271,
   "metadata": {
    "ExecuteTime": {
     "end_time": "2020-07-05T13:13:05.569354Z",
     "start_time": "2020-07-05T13:13:05.565365Z"
    }
   },
   "outputs": [],
   "source": [
    "# m 숫자 바꿔!!"
   ]
  },
  {
   "cell_type": "code",
   "execution_count": 318,
   "metadata": {
    "ExecuteTime": {
     "end_time": "2020-07-05T13:24:57.609644Z",
     "start_time": "2020-07-05T13:24:57.547810Z"
    }
   },
   "outputs": [
    {
     "name": "stdout",
     "output_type": "stream",
     "text": [
      "(356, 16)\n"
     ]
    },
    {
     "data": {
      "text/html": [
       "<div>\n",
       "<style scoped>\n",
       "    .dataframe tbody tr th:only-of-type {\n",
       "        vertical-align: middle;\n",
       "    }\n",
       "\n",
       "    .dataframe tbody tr th {\n",
       "        vertical-align: top;\n",
       "    }\n",
       "\n",
       "    .dataframe thead th {\n",
       "        text-align: right;\n",
       "    }\n",
       "</style>\n",
       "<table border=\"1\" class=\"dataframe\">\n",
       "  <thead>\n",
       "    <tr style=\"text-align: right;\">\n",
       "      <th></th>\n",
       "      <th>지점</th>\n",
       "      <th>지점명</th>\n",
       "      <th>일시</th>\n",
       "      <th>주소</th>\n",
       "      <th>구</th>\n",
       "      <th>기온</th>\n",
       "      <th>풍속(m/s)</th>\n",
       "      <th>강수량(mm)</th>\n",
       "      <th>습도(%)</th>\n",
       "      <th>일조(hr)</th>\n",
       "      <th>적설(cm)</th>\n",
       "      <th>전운량(10분위)</th>\n",
       "      <th>눈내림</th>\n",
       "      <th>눈내림2</th>\n",
       "      <th>시간</th>\n",
       "      <th>전운량(10분위)2</th>\n",
       "    </tr>\n",
       "  </thead>\n",
       "  <tbody>\n",
       "    <tr>\n",
       "      <th>0</th>\n",
       "      <td>413</td>\n",
       "      <td>광진</td>\n",
       "      <td>2017-09-20 06:00:00</td>\n",
       "      <td>서울특별시 광진구 자양동</td>\n",
       "      <td>광진구</td>\n",
       "      <td>17.2</td>\n",
       "      <td>1.9</td>\n",
       "      <td>0.0</td>\n",
       "      <td>58.0</td>\n",
       "      <td>0.0</td>\n",
       "      <td>NaN</td>\n",
       "      <td>0.0</td>\n",
       "      <td>0</td>\n",
       "      <td>0</td>\n",
       "      <td>06:00:00</td>\n",
       "      <td>0.0</td>\n",
       "    </tr>\n",
       "    <tr>\n",
       "      <th>1</th>\n",
       "      <td>414</td>\n",
       "      <td>성북</td>\n",
       "      <td>2017-08-15 10:00:00</td>\n",
       "      <td>서울특별시 성북구 정릉동</td>\n",
       "      <td>성북구</td>\n",
       "      <td>22.6</td>\n",
       "      <td>3.0</td>\n",
       "      <td>0.5</td>\n",
       "      <td>92.0</td>\n",
       "      <td>0.0</td>\n",
       "      <td>NaN</td>\n",
       "      <td>10.0</td>\n",
       "      <td>0</td>\n",
       "      <td>0</td>\n",
       "      <td>10:00:00</td>\n",
       "      <td>10.0</td>\n",
       "    </tr>\n",
       "    <tr>\n",
       "      <th>2</th>\n",
       "      <td>406</td>\n",
       "      <td>도봉</td>\n",
       "      <td>2019-12-30 14:00:00</td>\n",
       "      <td>서울특별시 도봉구 방학동</td>\n",
       "      <td>도봉구</td>\n",
       "      <td>6.6</td>\n",
       "      <td>2.8</td>\n",
       "      <td>0.5</td>\n",
       "      <td>87.0</td>\n",
       "      <td>0.0</td>\n",
       "      <td>NaN</td>\n",
       "      <td>10.0</td>\n",
       "      <td>0</td>\n",
       "      <td>0</td>\n",
       "      <td>14:00:00</td>\n",
       "      <td>10.0</td>\n",
       "    </tr>\n",
       "    <tr>\n",
       "      <th>3</th>\n",
       "      <td>405</td>\n",
       "      <td>양천</td>\n",
       "      <td>2019-08-22 13:00:00</td>\n",
       "      <td>서울특별시 양천구 목동</td>\n",
       "      <td>양천구</td>\n",
       "      <td>30.5</td>\n",
       "      <td>2.4</td>\n",
       "      <td>0.0</td>\n",
       "      <td>42.0</td>\n",
       "      <td>1.0</td>\n",
       "      <td>NaN</td>\n",
       "      <td>2.0</td>\n",
       "      <td>0</td>\n",
       "      <td>0</td>\n",
       "      <td>13:00:00</td>\n",
       "      <td>2.0</td>\n",
       "    </tr>\n",
       "    <tr>\n",
       "      <th>4</th>\n",
       "      <td>413</td>\n",
       "      <td>광진</td>\n",
       "      <td>2018-05-17 18:00:00</td>\n",
       "      <td>서울특별시 광진구 자양동</td>\n",
       "      <td>광진구</td>\n",
       "      <td>22.4</td>\n",
       "      <td>0.2</td>\n",
       "      <td>1.5</td>\n",
       "      <td>97.0</td>\n",
       "      <td>0.0</td>\n",
       "      <td>NaN</td>\n",
       "      <td>10.0</td>\n",
       "      <td>0</td>\n",
       "      <td>0</td>\n",
       "      <td>18:00:00</td>\n",
       "      <td>10.0</td>\n",
       "    </tr>\n",
       "  </tbody>\n",
       "</table>\n",
       "</div>"
      ],
      "text/plain": [
       "    지점 지점명                   일시             주소    구    기온  풍속(m/s)  강수량(mm)  \\\n",
       "0  413  광진  2017-09-20 06:00:00  서울특별시 광진구 자양동  광진구  17.2      1.9      0.0   \n",
       "1  414  성북  2017-08-15 10:00:00  서울특별시 성북구 정릉동  성북구  22.6      3.0      0.5   \n",
       "2  406  도봉  2019-12-30 14:00:00  서울특별시 도봉구 방학동  도봉구   6.6      2.8      0.5   \n",
       "3  405  양천  2019-08-22 13:00:00   서울특별시 양천구 목동  양천구  30.5      2.4      0.0   \n",
       "4  413  광진  2018-05-17 18:00:00  서울특별시 광진구 자양동  광진구  22.4      0.2      1.5   \n",
       "\n",
       "   습도(%)  일조(hr)  적설(cm)  전운량(10분위)  눈내림  눈내림2        시간  전운량(10분위)2  \n",
       "0   58.0     0.0     NaN        0.0    0     0  06:00:00         0.0  \n",
       "1   92.0     0.0     NaN       10.0    0     0  10:00:00        10.0  \n",
       "2   87.0     0.0     NaN       10.0    0     0  14:00:00        10.0  \n",
       "3   42.0     1.0     NaN        2.0    0     0  13:00:00         2.0  \n",
       "4   97.0     0.0     NaN       10.0    0     0  18:00:00        10.0  "
      ]
     },
     "execution_count": 318,
     "metadata": {},
     "output_type": "execute_result"
    }
   ],
   "source": [
    "m8 = pd.merge(nld1, w1, how = 'left', on = '일시')\n",
    "print(m8.shape)\n",
    "m8.head()"
   ]
  },
  {
   "cell_type": "code",
   "execution_count": 319,
   "metadata": {
    "ExecuteTime": {
     "end_time": "2020-07-05T13:25:05.234401Z",
     "start_time": "2020-07-05T13:25:05.223433Z"
    }
   },
   "outputs": [
    {
     "data": {
      "text/plain": [
       "지점              0\n",
       "지점명             0\n",
       "일시              0\n",
       "주소              0\n",
       "구               0\n",
       "기온              0\n",
       "풍속(m/s)         0\n",
       "강수량(mm)         0\n",
       "습도(%)           0\n",
       "일조(hr)          0\n",
       "적설(cm)        321\n",
       "전운량(10분위)      37\n",
       "눈내림             0\n",
       "눈내림2            0\n",
       "시간              0\n",
       "전운량(10분위)2      0\n",
       "dtype: int64"
      ]
     },
     "execution_count": 319,
     "metadata": {},
     "output_type": "execute_result"
    }
   ],
   "source": [
    "m8.isnull().sum()"
   ]
  },
  {
   "cell_type": "markdown",
   "metadata": {},
   "source": [
    "- 광진 ~ 동대문은 '성동' data로 대체(서초 제외)"
   ]
  },
  {
   "cell_type": "code",
   "execution_count": 296,
   "metadata": {
    "ExecuteTime": {
     "end_time": "2020-07-05T13:18:23.196342Z",
     "start_time": "2020-07-05T13:18:23.184378Z"
    }
   },
   "outputs": [
    {
     "data": {
      "text/plain": [
       "강남     296\n",
       "마포     202\n",
       "은평     199\n",
       "용산     165\n",
       "금천     151\n",
       "중랑     146\n",
       "중구     130\n",
       "강서     122\n",
       "송파      59\n",
       "광진      54\n",
       "강동      52\n",
       "서대문     44\n",
       "남현      32\n",
       "도봉      32\n",
       "성북      28\n",
       "강북      27\n",
       "구로      24\n",
       "양천      22\n",
       "영등포     22\n",
       "서초      12\n",
       "기상청     10\n",
       "노원       8\n",
       "동대문      1\n",
       "Name: 지점명, dtype: int64"
      ]
     },
     "execution_count": 296,
     "metadata": {},
     "output_type": "execute_result"
    }
   ],
   "source": [
    "null_location_day['지점명'].value_counts()"
   ]
  },
  {
   "cell_type": "code",
   "execution_count": 309,
   "metadata": {
    "ExecuteTime": {
     "end_time": "2020-07-05T13:24:26.806531Z",
     "start_time": "2020-07-05T13:24:26.131339Z"
    }
   },
   "outputs": [],
   "source": [
    "# 나머지, 성동 data로 대체\n",
    "nld1 = null_location_day[null_location_day['지점명'].str.contains('광진|강동|서대문|남현|도봉|성북|강북|구로|양천|영등포|기상청|노원|동대문')].copy()\n",
    "w1 = weather[weather['지점명'].str.contains('성동')].copy()"
   ]
  },
  {
   "cell_type": "code",
   "execution_count": 310,
   "metadata": {
    "ExecuteTime": {
     "end_time": "2020-07-05T13:24:27.468177Z",
     "start_time": "2020-07-05T13:24:27.461197Z"
    }
   },
   "outputs": [
    {
     "data": {
      "text/plain": [
       "(356, 5)"
      ]
     },
     "execution_count": 310,
     "metadata": {},
     "output_type": "execute_result"
    }
   ],
   "source": [
    "nld1.shape"
   ]
  },
  {
   "cell_type": "code",
   "execution_count": 311,
   "metadata": {
    "ExecuteTime": {
     "end_time": "2020-07-05T13:24:30.908546Z",
     "start_time": "2020-07-05T13:24:30.892591Z"
    }
   },
   "outputs": [
    {
     "data": {
      "text/html": [
       "<div>\n",
       "<style scoped>\n",
       "    .dataframe tbody tr th:only-of-type {\n",
       "        vertical-align: middle;\n",
       "    }\n",
       "\n",
       "    .dataframe tbody tr th {\n",
       "        vertical-align: top;\n",
       "    }\n",
       "\n",
       "    .dataframe thead th {\n",
       "        text-align: right;\n",
       "    }\n",
       "</style>\n",
       "<table border=\"1\" class=\"dataframe\">\n",
       "  <thead>\n",
       "    <tr style=\"text-align: right;\">\n",
       "      <th></th>\n",
       "      <th>지점</th>\n",
       "      <th>지점명</th>\n",
       "      <th>일시</th>\n",
       "      <th>주소</th>\n",
       "      <th>구</th>\n",
       "    </tr>\n",
       "  </thead>\n",
       "  <tbody>\n",
       "    <tr>\n",
       "      <th>9</th>\n",
       "      <td>413</td>\n",
       "      <td>광진</td>\n",
       "      <td>2017-09-20 06:00:00</td>\n",
       "      <td>서울특별시 광진구 자양동</td>\n",
       "      <td>광진구</td>\n",
       "    </tr>\n",
       "    <tr>\n",
       "      <th>13</th>\n",
       "      <td>414</td>\n",
       "      <td>성북</td>\n",
       "      <td>2017-08-15 10:00:00</td>\n",
       "      <td>서울특별시 성북구 정릉동</td>\n",
       "      <td>성북구</td>\n",
       "    </tr>\n",
       "    <tr>\n",
       "      <th>16</th>\n",
       "      <td>406</td>\n",
       "      <td>도봉</td>\n",
       "      <td>2019-12-30 14:00:00</td>\n",
       "      <td>서울특별시 도봉구 방학동</td>\n",
       "      <td>도봉구</td>\n",
       "    </tr>\n",
       "    <tr>\n",
       "      <th>21</th>\n",
       "      <td>405</td>\n",
       "      <td>양천</td>\n",
       "      <td>2019-08-22 13:00:00</td>\n",
       "      <td>서울특별시 양천구 목동</td>\n",
       "      <td>양천구</td>\n",
       "    </tr>\n",
       "    <tr>\n",
       "      <th>27</th>\n",
       "      <td>413</td>\n",
       "      <td>광진</td>\n",
       "      <td>2018-05-17 18:00:00</td>\n",
       "      <td>서울특별시 광진구 자양동</td>\n",
       "      <td>광진구</td>\n",
       "    </tr>\n",
       "  </tbody>\n",
       "</table>\n",
       "</div>"
      ],
      "text/plain": [
       "     지점 지점명                   일시             주소    구\n",
       "9   413  광진  2017-09-20 06:00:00  서울특별시 광진구 자양동  광진구\n",
       "13  414  성북  2017-08-15 10:00:00  서울특별시 성북구 정릉동  성북구\n",
       "16  406  도봉  2019-12-30 14:00:00  서울특별시 도봉구 방학동  도봉구\n",
       "21  405  양천  2019-08-22 13:00:00   서울특별시 양천구 목동  양천구\n",
       "27  413  광진  2018-05-17 18:00:00  서울특별시 광진구 자양동  광진구"
      ]
     },
     "execution_count": 311,
     "metadata": {},
     "output_type": "execute_result"
    }
   ],
   "source": [
    "nld1.head()"
   ]
  },
  {
   "cell_type": "code",
   "execution_count": 312,
   "metadata": {
    "ExecuteTime": {
     "end_time": "2020-07-05T13:24:32.600499Z",
     "start_time": "2020-07-05T13:24:32.591529Z"
    }
   },
   "outputs": [
    {
     "data": {
      "text/plain": [
       "광진     54\n",
       "강동     52\n",
       "서대문    44\n",
       "도봉     32\n",
       "남현     32\n",
       "성북     28\n",
       "강북     27\n",
       "구로     24\n",
       "양천     22\n",
       "영등포    22\n",
       "기상청    10\n",
       "노원      8\n",
       "동대문     1\n",
       "Name: 지점명, dtype: int64"
      ]
     },
     "execution_count": 312,
     "metadata": {},
     "output_type": "execute_result"
    }
   ],
   "source": [
    "nld1['지점명'].value_counts()"
   ]
  },
  {
   "cell_type": "code",
   "execution_count": 313,
   "metadata": {
    "ExecuteTime": {
     "end_time": "2020-07-05T13:24:36.288583Z",
     "start_time": "2020-07-05T13:24:36.257665Z"
    }
   },
   "outputs": [
    {
     "data": {
      "text/html": [
       "<div>\n",
       "<style scoped>\n",
       "    .dataframe tbody tr th:only-of-type {\n",
       "        vertical-align: middle;\n",
       "    }\n",
       "\n",
       "    .dataframe tbody tr th {\n",
       "        vertical-align: top;\n",
       "    }\n",
       "\n",
       "    .dataframe thead th {\n",
       "        text-align: right;\n",
       "    }\n",
       "</style>\n",
       "<table border=\"1\" class=\"dataframe\">\n",
       "  <thead>\n",
       "    <tr style=\"text-align: right;\">\n",
       "      <th></th>\n",
       "      <th>지점</th>\n",
       "      <th>지점명</th>\n",
       "      <th>일시</th>\n",
       "      <th>기온</th>\n",
       "      <th>풍속(m/s)</th>\n",
       "      <th>강수량(mm)</th>\n",
       "      <th>습도(%)</th>\n",
       "      <th>일조(hr)</th>\n",
       "      <th>적설(cm)</th>\n",
       "      <th>전운량(10분위)</th>\n",
       "      <th>주소</th>\n",
       "      <th>구</th>\n",
       "      <th>눈내림</th>\n",
       "      <th>눈내림2</th>\n",
       "      <th>시간</th>\n",
       "      <th>전운량(10분위)2</th>\n",
       "    </tr>\n",
       "  </thead>\n",
       "  <tbody>\n",
       "    <tr>\n",
       "      <th>41032</th>\n",
       "      <td>421</td>\n",
       "      <td>성동</td>\n",
       "      <td>2017-01-01 00:00:00</td>\n",
       "      <td>2.9</td>\n",
       "      <td>0.6</td>\n",
       "      <td>0.0</td>\n",
       "      <td>79.0</td>\n",
       "      <td>0.0</td>\n",
       "      <td>NaN</td>\n",
       "      <td>7.0</td>\n",
       "      <td>서울특별시 성동구 성수동1가</td>\n",
       "      <td>성동구</td>\n",
       "      <td>0</td>\n",
       "      <td>0</td>\n",
       "      <td>00:00:00</td>\n",
       "      <td>7.0</td>\n",
       "    </tr>\n",
       "    <tr>\n",
       "      <th>41033</th>\n",
       "      <td>421</td>\n",
       "      <td>성동</td>\n",
       "      <td>2017-01-01 01:00:00</td>\n",
       "      <td>2.6</td>\n",
       "      <td>0.7</td>\n",
       "      <td>0.0</td>\n",
       "      <td>78.0</td>\n",
       "      <td>0.0</td>\n",
       "      <td>NaN</td>\n",
       "      <td>NaN</td>\n",
       "      <td>서울특별시 성동구 성수동1가</td>\n",
       "      <td>성동구</td>\n",
       "      <td>0</td>\n",
       "      <td>0</td>\n",
       "      <td>01:00:00</td>\n",
       "      <td>7.0</td>\n",
       "    </tr>\n",
       "    <tr>\n",
       "      <th>41034</th>\n",
       "      <td>421</td>\n",
       "      <td>성동</td>\n",
       "      <td>2017-01-01 02:00:00</td>\n",
       "      <td>2.2</td>\n",
       "      <td>0.7</td>\n",
       "      <td>0.0</td>\n",
       "      <td>81.0</td>\n",
       "      <td>0.0</td>\n",
       "      <td>NaN</td>\n",
       "      <td>NaN</td>\n",
       "      <td>서울특별시 성동구 성수동1가</td>\n",
       "      <td>성동구</td>\n",
       "      <td>0</td>\n",
       "      <td>0</td>\n",
       "      <td>02:00:00</td>\n",
       "      <td>7.0</td>\n",
       "    </tr>\n",
       "    <tr>\n",
       "      <th>41035</th>\n",
       "      <td>421</td>\n",
       "      <td>성동</td>\n",
       "      <td>2017-01-01 03:00:00</td>\n",
       "      <td>2.2</td>\n",
       "      <td>0.6</td>\n",
       "      <td>0.0</td>\n",
       "      <td>84.0</td>\n",
       "      <td>0.0</td>\n",
       "      <td>NaN</td>\n",
       "      <td>0.0</td>\n",
       "      <td>서울특별시 성동구 성수동1가</td>\n",
       "      <td>성동구</td>\n",
       "      <td>0</td>\n",
       "      <td>0</td>\n",
       "      <td>03:00:00</td>\n",
       "      <td>0.0</td>\n",
       "    </tr>\n",
       "    <tr>\n",
       "      <th>41036</th>\n",
       "      <td>421</td>\n",
       "      <td>성동</td>\n",
       "      <td>2017-01-01 04:00:00</td>\n",
       "      <td>1.8</td>\n",
       "      <td>0.7</td>\n",
       "      <td>0.0</td>\n",
       "      <td>85.0</td>\n",
       "      <td>0.0</td>\n",
       "      <td>NaN</td>\n",
       "      <td>0.0</td>\n",
       "      <td>서울특별시 성동구 성수동1가</td>\n",
       "      <td>성동구</td>\n",
       "      <td>0</td>\n",
       "      <td>0</td>\n",
       "      <td>04:00:00</td>\n",
       "      <td>0.0</td>\n",
       "    </tr>\n",
       "  </tbody>\n",
       "</table>\n",
       "</div>"
      ],
      "text/plain": [
       "        지점 지점명                   일시   기온  풍속(m/s)  강수량(mm)  습도(%)  일조(hr)  \\\n",
       "41032  421  성동  2017-01-01 00:00:00  2.9      0.6      0.0   79.0     0.0   \n",
       "41033  421  성동  2017-01-01 01:00:00  2.6      0.7      0.0   78.0     0.0   \n",
       "41034  421  성동  2017-01-01 02:00:00  2.2      0.7      0.0   81.0     0.0   \n",
       "41035  421  성동  2017-01-01 03:00:00  2.2      0.6      0.0   84.0     0.0   \n",
       "41036  421  성동  2017-01-01 04:00:00  1.8      0.7      0.0   85.0     0.0   \n",
       "\n",
       "       적설(cm)  전운량(10분위)               주소    구  눈내림  눈내림2        시간  \\\n",
       "41032     NaN        7.0  서울특별시 성동구 성수동1가  성동구    0     0  00:00:00   \n",
       "41033     NaN        NaN  서울특별시 성동구 성수동1가  성동구    0     0  01:00:00   \n",
       "41034     NaN        NaN  서울특별시 성동구 성수동1가  성동구    0     0  02:00:00   \n",
       "41035     NaN        0.0  서울특별시 성동구 성수동1가  성동구    0     0  03:00:00   \n",
       "41036     NaN        0.0  서울특별시 성동구 성수동1가  성동구    0     0  04:00:00   \n",
       "\n",
       "       전운량(10분위)2  \n",
       "41032         7.0  \n",
       "41033         7.0  \n",
       "41034         7.0  \n",
       "41035         0.0  \n",
       "41036         0.0  "
      ]
     },
     "execution_count": 313,
     "metadata": {},
     "output_type": "execute_result"
    }
   ],
   "source": [
    "w1.head()"
   ]
  },
  {
   "cell_type": "code",
   "execution_count": 314,
   "metadata": {
    "ExecuteTime": {
     "end_time": "2020-07-05T13:24:37.417386Z",
     "start_time": "2020-07-05T13:24:37.401428Z"
    }
   },
   "outputs": [
    {
     "data": {
      "text/plain": [
       "성동    26280\n",
       "Name: 지점명, dtype: int64"
      ]
     },
     "execution_count": 314,
     "metadata": {},
     "output_type": "execute_result"
    }
   ],
   "source": [
    "w1['지점명'].value_counts()"
   ]
  },
  {
   "cell_type": "code",
   "execution_count": 315,
   "metadata": {
    "ExecuteTime": {
     "end_time": "2020-07-05T13:24:39.963653Z",
     "start_time": "2020-07-05T13:24:39.954679Z"
    }
   },
   "outputs": [],
   "source": [
    "w1.drop(['지점','지점명','주소','구'], axis=1, inplace = True)"
   ]
  },
  {
   "cell_type": "code",
   "execution_count": 316,
   "metadata": {
    "ExecuteTime": {
     "end_time": "2020-07-05T13:24:40.387341Z",
     "start_time": "2020-07-05T13:24:40.355429Z"
    }
   },
   "outputs": [
    {
     "data": {
      "text/html": [
       "<div>\n",
       "<style scoped>\n",
       "    .dataframe tbody tr th:only-of-type {\n",
       "        vertical-align: middle;\n",
       "    }\n",
       "\n",
       "    .dataframe tbody tr th {\n",
       "        vertical-align: top;\n",
       "    }\n",
       "\n",
       "    .dataframe thead th {\n",
       "        text-align: right;\n",
       "    }\n",
       "</style>\n",
       "<table border=\"1\" class=\"dataframe\">\n",
       "  <thead>\n",
       "    <tr style=\"text-align: right;\">\n",
       "      <th></th>\n",
       "      <th>일시</th>\n",
       "      <th>기온</th>\n",
       "      <th>풍속(m/s)</th>\n",
       "      <th>강수량(mm)</th>\n",
       "      <th>습도(%)</th>\n",
       "      <th>일조(hr)</th>\n",
       "      <th>적설(cm)</th>\n",
       "      <th>전운량(10분위)</th>\n",
       "      <th>눈내림</th>\n",
       "      <th>눈내림2</th>\n",
       "      <th>시간</th>\n",
       "      <th>전운량(10분위)2</th>\n",
       "    </tr>\n",
       "  </thead>\n",
       "  <tbody>\n",
       "    <tr>\n",
       "      <th>41032</th>\n",
       "      <td>2017-01-01 00:00:00</td>\n",
       "      <td>2.9</td>\n",
       "      <td>0.6</td>\n",
       "      <td>0.0</td>\n",
       "      <td>79.0</td>\n",
       "      <td>0.0</td>\n",
       "      <td>NaN</td>\n",
       "      <td>7.0</td>\n",
       "      <td>0</td>\n",
       "      <td>0</td>\n",
       "      <td>00:00:00</td>\n",
       "      <td>7.0</td>\n",
       "    </tr>\n",
       "    <tr>\n",
       "      <th>41033</th>\n",
       "      <td>2017-01-01 01:00:00</td>\n",
       "      <td>2.6</td>\n",
       "      <td>0.7</td>\n",
       "      <td>0.0</td>\n",
       "      <td>78.0</td>\n",
       "      <td>0.0</td>\n",
       "      <td>NaN</td>\n",
       "      <td>NaN</td>\n",
       "      <td>0</td>\n",
       "      <td>0</td>\n",
       "      <td>01:00:00</td>\n",
       "      <td>7.0</td>\n",
       "    </tr>\n",
       "    <tr>\n",
       "      <th>41034</th>\n",
       "      <td>2017-01-01 02:00:00</td>\n",
       "      <td>2.2</td>\n",
       "      <td>0.7</td>\n",
       "      <td>0.0</td>\n",
       "      <td>81.0</td>\n",
       "      <td>0.0</td>\n",
       "      <td>NaN</td>\n",
       "      <td>NaN</td>\n",
       "      <td>0</td>\n",
       "      <td>0</td>\n",
       "      <td>02:00:00</td>\n",
       "      <td>7.0</td>\n",
       "    </tr>\n",
       "    <tr>\n",
       "      <th>41035</th>\n",
       "      <td>2017-01-01 03:00:00</td>\n",
       "      <td>2.2</td>\n",
       "      <td>0.6</td>\n",
       "      <td>0.0</td>\n",
       "      <td>84.0</td>\n",
       "      <td>0.0</td>\n",
       "      <td>NaN</td>\n",
       "      <td>0.0</td>\n",
       "      <td>0</td>\n",
       "      <td>0</td>\n",
       "      <td>03:00:00</td>\n",
       "      <td>0.0</td>\n",
       "    </tr>\n",
       "    <tr>\n",
       "      <th>41036</th>\n",
       "      <td>2017-01-01 04:00:00</td>\n",
       "      <td>1.8</td>\n",
       "      <td>0.7</td>\n",
       "      <td>0.0</td>\n",
       "      <td>85.0</td>\n",
       "      <td>0.0</td>\n",
       "      <td>NaN</td>\n",
       "      <td>0.0</td>\n",
       "      <td>0</td>\n",
       "      <td>0</td>\n",
       "      <td>04:00:00</td>\n",
       "      <td>0.0</td>\n",
       "    </tr>\n",
       "  </tbody>\n",
       "</table>\n",
       "</div>"
      ],
      "text/plain": [
       "                        일시   기온  풍속(m/s)  강수량(mm)  습도(%)  일조(hr)  적설(cm)  \\\n",
       "41032  2017-01-01 00:00:00  2.9      0.6      0.0   79.0     0.0     NaN   \n",
       "41033  2017-01-01 01:00:00  2.6      0.7      0.0   78.0     0.0     NaN   \n",
       "41034  2017-01-01 02:00:00  2.2      0.7      0.0   81.0     0.0     NaN   \n",
       "41035  2017-01-01 03:00:00  2.2      0.6      0.0   84.0     0.0     NaN   \n",
       "41036  2017-01-01 04:00:00  1.8      0.7      0.0   85.0     0.0     NaN   \n",
       "\n",
       "       전운량(10분위)  눈내림  눈내림2        시간  전운량(10분위)2  \n",
       "41032        7.0    0     0  00:00:00         7.0  \n",
       "41033        NaN    0     0  01:00:00         7.0  \n",
       "41034        NaN    0     0  02:00:00         7.0  \n",
       "41035        0.0    0     0  03:00:00         0.0  \n",
       "41036        0.0    0     0  04:00:00         0.0  "
      ]
     },
     "execution_count": 316,
     "metadata": {},
     "output_type": "execute_result"
    }
   ],
   "source": [
    "w1.head()"
   ]
  },
  {
   "cell_type": "code",
   "execution_count": 317,
   "metadata": {
    "ExecuteTime": {
     "end_time": "2020-07-05T13:24:41.831540Z",
     "start_time": "2020-07-05T13:24:41.824561Z"
    }
   },
   "outputs": [
    {
     "data": {
      "text/plain": [
       "(26280, 12)"
      ]
     },
     "execution_count": 317,
     "metadata": {},
     "output_type": "execute_result"
    }
   ],
   "source": [
    "w1.shape"
   ]
  },
  {
   "cell_type": "code",
   "execution_count": 271,
   "metadata": {
    "ExecuteTime": {
     "end_time": "2020-07-05T13:13:05.569354Z",
     "start_time": "2020-07-05T13:13:05.565365Z"
    }
   },
   "outputs": [],
   "source": [
    "# m 숫자 바꿔!!"
   ]
  },
  {
   "cell_type": "code",
   "execution_count": 318,
   "metadata": {
    "ExecuteTime": {
     "end_time": "2020-07-05T13:24:57.609644Z",
     "start_time": "2020-07-05T13:24:57.547810Z"
    }
   },
   "outputs": [
    {
     "name": "stdout",
     "output_type": "stream",
     "text": [
      "(356, 16)\n"
     ]
    },
    {
     "data": {
      "text/html": [
       "<div>\n",
       "<style scoped>\n",
       "    .dataframe tbody tr th:only-of-type {\n",
       "        vertical-align: middle;\n",
       "    }\n",
       "\n",
       "    .dataframe tbody tr th {\n",
       "        vertical-align: top;\n",
       "    }\n",
       "\n",
       "    .dataframe thead th {\n",
       "        text-align: right;\n",
       "    }\n",
       "</style>\n",
       "<table border=\"1\" class=\"dataframe\">\n",
       "  <thead>\n",
       "    <tr style=\"text-align: right;\">\n",
       "      <th></th>\n",
       "      <th>지점</th>\n",
       "      <th>지점명</th>\n",
       "      <th>일시</th>\n",
       "      <th>주소</th>\n",
       "      <th>구</th>\n",
       "      <th>기온</th>\n",
       "      <th>풍속(m/s)</th>\n",
       "      <th>강수량(mm)</th>\n",
       "      <th>습도(%)</th>\n",
       "      <th>일조(hr)</th>\n",
       "      <th>적설(cm)</th>\n",
       "      <th>전운량(10분위)</th>\n",
       "      <th>눈내림</th>\n",
       "      <th>눈내림2</th>\n",
       "      <th>시간</th>\n",
       "      <th>전운량(10분위)2</th>\n",
       "    </tr>\n",
       "  </thead>\n",
       "  <tbody>\n",
       "    <tr>\n",
       "      <th>0</th>\n",
       "      <td>413</td>\n",
       "      <td>광진</td>\n",
       "      <td>2017-09-20 06:00:00</td>\n",
       "      <td>서울특별시 광진구 자양동</td>\n",
       "      <td>광진구</td>\n",
       "      <td>17.2</td>\n",
       "      <td>1.9</td>\n",
       "      <td>0.0</td>\n",
       "      <td>58.0</td>\n",
       "      <td>0.0</td>\n",
       "      <td>NaN</td>\n",
       "      <td>0.0</td>\n",
       "      <td>0</td>\n",
       "      <td>0</td>\n",
       "      <td>06:00:00</td>\n",
       "      <td>0.0</td>\n",
       "    </tr>\n",
       "    <tr>\n",
       "      <th>1</th>\n",
       "      <td>414</td>\n",
       "      <td>성북</td>\n",
       "      <td>2017-08-15 10:00:00</td>\n",
       "      <td>서울특별시 성북구 정릉동</td>\n",
       "      <td>성북구</td>\n",
       "      <td>22.6</td>\n",
       "      <td>3.0</td>\n",
       "      <td>0.5</td>\n",
       "      <td>92.0</td>\n",
       "      <td>0.0</td>\n",
       "      <td>NaN</td>\n",
       "      <td>10.0</td>\n",
       "      <td>0</td>\n",
       "      <td>0</td>\n",
       "      <td>10:00:00</td>\n",
       "      <td>10.0</td>\n",
       "    </tr>\n",
       "    <tr>\n",
       "      <th>2</th>\n",
       "      <td>406</td>\n",
       "      <td>도봉</td>\n",
       "      <td>2019-12-30 14:00:00</td>\n",
       "      <td>서울특별시 도봉구 방학동</td>\n",
       "      <td>도봉구</td>\n",
       "      <td>6.6</td>\n",
       "      <td>2.8</td>\n",
       "      <td>0.5</td>\n",
       "      <td>87.0</td>\n",
       "      <td>0.0</td>\n",
       "      <td>NaN</td>\n",
       "      <td>10.0</td>\n",
       "      <td>0</td>\n",
       "      <td>0</td>\n",
       "      <td>14:00:00</td>\n",
       "      <td>10.0</td>\n",
       "    </tr>\n",
       "    <tr>\n",
       "      <th>3</th>\n",
       "      <td>405</td>\n",
       "      <td>양천</td>\n",
       "      <td>2019-08-22 13:00:00</td>\n",
       "      <td>서울특별시 양천구 목동</td>\n",
       "      <td>양천구</td>\n",
       "      <td>30.5</td>\n",
       "      <td>2.4</td>\n",
       "      <td>0.0</td>\n",
       "      <td>42.0</td>\n",
       "      <td>1.0</td>\n",
       "      <td>NaN</td>\n",
       "      <td>2.0</td>\n",
       "      <td>0</td>\n",
       "      <td>0</td>\n",
       "      <td>13:00:00</td>\n",
       "      <td>2.0</td>\n",
       "    </tr>\n",
       "    <tr>\n",
       "      <th>4</th>\n",
       "      <td>413</td>\n",
       "      <td>광진</td>\n",
       "      <td>2018-05-17 18:00:00</td>\n",
       "      <td>서울특별시 광진구 자양동</td>\n",
       "      <td>광진구</td>\n",
       "      <td>22.4</td>\n",
       "      <td>0.2</td>\n",
       "      <td>1.5</td>\n",
       "      <td>97.0</td>\n",
       "      <td>0.0</td>\n",
       "      <td>NaN</td>\n",
       "      <td>10.0</td>\n",
       "      <td>0</td>\n",
       "      <td>0</td>\n",
       "      <td>18:00:00</td>\n",
       "      <td>10.0</td>\n",
       "    </tr>\n",
       "  </tbody>\n",
       "</table>\n",
       "</div>"
      ],
      "text/plain": [
       "    지점 지점명                   일시             주소    구    기온  풍속(m/s)  강수량(mm)  \\\n",
       "0  413  광진  2017-09-20 06:00:00  서울특별시 광진구 자양동  광진구  17.2      1.9      0.0   \n",
       "1  414  성북  2017-08-15 10:00:00  서울특별시 성북구 정릉동  성북구  22.6      3.0      0.5   \n",
       "2  406  도봉  2019-12-30 14:00:00  서울특별시 도봉구 방학동  도봉구   6.6      2.8      0.5   \n",
       "3  405  양천  2019-08-22 13:00:00   서울특별시 양천구 목동  양천구  30.5      2.4      0.0   \n",
       "4  413  광진  2018-05-17 18:00:00  서울특별시 광진구 자양동  광진구  22.4      0.2      1.5   \n",
       "\n",
       "   습도(%)  일조(hr)  적설(cm)  전운량(10분위)  눈내림  눈내림2        시간  전운량(10분위)2  \n",
       "0   58.0     0.0     NaN        0.0    0     0  06:00:00         0.0  \n",
       "1   92.0     0.0     NaN       10.0    0     0  10:00:00        10.0  \n",
       "2   87.0     0.0     NaN       10.0    0     0  14:00:00        10.0  \n",
       "3   42.0     1.0     NaN        2.0    0     0  13:00:00         2.0  \n",
       "4   97.0     0.0     NaN       10.0    0     0  18:00:00        10.0  "
      ]
     },
     "execution_count": 318,
     "metadata": {},
     "output_type": "execute_result"
    }
   ],
   "source": [
    "m8 = pd.merge(nld1, w1, how = 'left', on = '일시')\n",
    "print(m8.shape)\n",
    "m8.head()"
   ]
  },
  {
   "cell_type": "code",
   "execution_count": 319,
   "metadata": {
    "ExecuteTime": {
     "end_time": "2020-07-05T13:25:05.234401Z",
     "start_time": "2020-07-05T13:25:05.223433Z"
    }
   },
   "outputs": [
    {
     "data": {
      "text/plain": [
       "지점              0\n",
       "지점명             0\n",
       "일시              0\n",
       "주소              0\n",
       "구               0\n",
       "기온              0\n",
       "풍속(m/s)         0\n",
       "강수량(mm)         0\n",
       "습도(%)           0\n",
       "일조(hr)          0\n",
       "적설(cm)        321\n",
       "전운량(10분위)      37\n",
       "눈내림             0\n",
       "눈내림2            0\n",
       "시간              0\n",
       "전운량(10분위)2      0\n",
       "dtype: int64"
      ]
     },
     "execution_count": 319,
     "metadata": {},
     "output_type": "execute_result"
    }
   ],
   "source": [
    "m8.isnull().sum()"
   ]
  },
  {
   "cell_type": "markdown",
   "metadata": {},
   "source": [
    "## concat"
   ]
  },
  {
   "cell_type": "code",
   "execution_count": 320,
   "metadata": {
    "ExecuteTime": {
     "end_time": "2020-07-05T13:27:14.326667Z",
     "start_time": "2020-07-05T13:27:14.318689Z"
    }
   },
   "outputs": [
    {
     "data": {
      "text/plain": [
       "(1838, 5)"
      ]
     },
     "execution_count": 320,
     "metadata": {},
     "output_type": "execute_result"
    }
   ],
   "source": [
    "null_location_day.shape"
   ]
  },
  {
   "cell_type": "code",
   "execution_count": 322,
   "metadata": {
    "ExecuteTime": {
     "end_time": "2020-07-05T13:28:35.381461Z",
     "start_time": "2020-07-05T13:28:35.357522Z"
    }
   },
   "outputs": [
    {
     "data": {
      "text/html": [
       "<div>\n",
       "<style scoped>\n",
       "    .dataframe tbody tr th:only-of-type {\n",
       "        vertical-align: middle;\n",
       "    }\n",
       "\n",
       "    .dataframe tbody tr th {\n",
       "        vertical-align: top;\n",
       "    }\n",
       "\n",
       "    .dataframe thead th {\n",
       "        text-align: right;\n",
       "    }\n",
       "</style>\n",
       "<table border=\"1\" class=\"dataframe\">\n",
       "  <thead>\n",
       "    <tr style=\"text-align: right;\">\n",
       "      <th></th>\n",
       "      <th>지점</th>\n",
       "      <th>지점명</th>\n",
       "      <th>일시</th>\n",
       "      <th>주소</th>\n",
       "      <th>구</th>\n",
       "    </tr>\n",
       "  </thead>\n",
       "  <tbody>\n",
       "    <tr>\n",
       "      <th>0</th>\n",
       "      <td>415</td>\n",
       "      <td>용산</td>\n",
       "      <td>2018-12-31 01:00:00</td>\n",
       "      <td>서울특별시 용산구 이촌동</td>\n",
       "      <td>용산구</td>\n",
       "    </tr>\n",
       "    <tr>\n",
       "      <th>1</th>\n",
       "      <td>415</td>\n",
       "      <td>용산</td>\n",
       "      <td>2019-09-22 10:00:00</td>\n",
       "      <td>서울특별시 용산구 이촌동</td>\n",
       "      <td>용산구</td>\n",
       "    </tr>\n",
       "    <tr>\n",
       "      <th>2</th>\n",
       "      <td>416</td>\n",
       "      <td>은평</td>\n",
       "      <td>2017-11-28 06:00:00</td>\n",
       "      <td>서울특별시 은평구 진관동</td>\n",
       "      <td>은평구</td>\n",
       "    </tr>\n",
       "    <tr>\n",
       "      <th>3</th>\n",
       "      <td>404</td>\n",
       "      <td>강서</td>\n",
       "      <td>2019-10-17 05:00:00</td>\n",
       "      <td>서울특별시 강서구 화곡동</td>\n",
       "      <td>강서구</td>\n",
       "    </tr>\n",
       "    <tr>\n",
       "      <th>4</th>\n",
       "      <td>400</td>\n",
       "      <td>강남</td>\n",
       "      <td>2019-09-05 18:00:00</td>\n",
       "      <td>서울특별시 강남구 일원동</td>\n",
       "      <td>강남구</td>\n",
       "    </tr>\n",
       "    <tr>\n",
       "      <th>...</th>\n",
       "      <td>...</td>\n",
       "      <td>...</td>\n",
       "      <td>...</td>\n",
       "      <td>...</td>\n",
       "      <td>...</td>\n",
       "    </tr>\n",
       "    <tr>\n",
       "      <th>1833</th>\n",
       "      <td>407</td>\n",
       "      <td>노원</td>\n",
       "      <td>2018-06-04 15:00:00</td>\n",
       "      <td>서울특별시 노원구 공릉동</td>\n",
       "      <td>노원구</td>\n",
       "    </tr>\n",
       "    <tr>\n",
       "      <th>1834</th>\n",
       "      <td>410</td>\n",
       "      <td>기상청</td>\n",
       "      <td>2018-06-04 15:00:00</td>\n",
       "      <td>서울특별시 동작구 신대방동</td>\n",
       "      <td>동작구</td>\n",
       "    </tr>\n",
       "    <tr>\n",
       "      <th>1835</th>\n",
       "      <td>413</td>\n",
       "      <td>광진</td>\n",
       "      <td>2018-06-04 15:00:00</td>\n",
       "      <td>서울특별시 광진구 자양동</td>\n",
       "      <td>광진구</td>\n",
       "    </tr>\n",
       "    <tr>\n",
       "      <th>1836</th>\n",
       "      <td>414</td>\n",
       "      <td>성북</td>\n",
       "      <td>2018-06-04 15:00:00</td>\n",
       "      <td>서울특별시 성북구 정릉동</td>\n",
       "      <td>성북구</td>\n",
       "    </tr>\n",
       "    <tr>\n",
       "      <th>1837</th>\n",
       "      <td>417</td>\n",
       "      <td>금천</td>\n",
       "      <td>2018-06-04 15:00:00</td>\n",
       "      <td>서울특별시 금천구 독산동</td>\n",
       "      <td>금천구</td>\n",
       "    </tr>\n",
       "  </tbody>\n",
       "</table>\n",
       "<p>1838 rows × 5 columns</p>\n",
       "</div>"
      ],
      "text/plain": [
       "       지점  지점명                   일시              주소    구\n",
       "0     415   용산  2018-12-31 01:00:00   서울특별시 용산구 이촌동  용산구\n",
       "1     415   용산  2019-09-22 10:00:00   서울특별시 용산구 이촌동  용산구\n",
       "2     416   은평  2017-11-28 06:00:00   서울특별시 은평구 진관동  은평구\n",
       "3     404   강서  2019-10-17 05:00:00   서울특별시 강서구 화곡동  강서구\n",
       "4     400   강남  2019-09-05 18:00:00   서울특별시 강남구 일원동  강남구\n",
       "...   ...  ...                  ...             ...  ...\n",
       "1833  407   노원  2018-06-04 15:00:00   서울특별시 노원구 공릉동  노원구\n",
       "1834  410  기상청  2018-06-04 15:00:00  서울특별시 동작구 신대방동  동작구\n",
       "1835  413   광진  2018-06-04 15:00:00   서울특별시 광진구 자양동  광진구\n",
       "1836  414   성북  2018-06-04 15:00:00   서울특별시 성북구 정릉동  성북구\n",
       "1837  417   금천  2018-06-04 15:00:00   서울특별시 금천구 독산동  금천구\n",
       "\n",
       "[1838 rows x 5 columns]"
      ]
     },
     "execution_count": 322,
     "metadata": {},
     "output_type": "execute_result"
    }
   ],
   "source": [
    "null_location_day"
   ]
  },
  {
   "cell_type": "code",
   "execution_count": 350,
   "metadata": {
    "ExecuteTime": {
     "end_time": "2020-07-05T13:36:03.486831Z",
     "start_time": "2020-07-05T13:36:03.424963Z"
    }
   },
   "outputs": [
    {
     "data": {
      "text/html": [
       "<div>\n",
       "<style scoped>\n",
       "    .dataframe tbody tr th:only-of-type {\n",
       "        vertical-align: middle;\n",
       "    }\n",
       "\n",
       "    .dataframe tbody tr th {\n",
       "        vertical-align: top;\n",
       "    }\n",
       "\n",
       "    .dataframe thead th {\n",
       "        text-align: right;\n",
       "    }\n",
       "</style>\n",
       "<table border=\"1\" class=\"dataframe\">\n",
       "  <thead>\n",
       "    <tr style=\"text-align: right;\">\n",
       "      <th></th>\n",
       "      <th>지점</th>\n",
       "      <th>지점명</th>\n",
       "      <th>일시</th>\n",
       "      <th>주소</th>\n",
       "      <th>구</th>\n",
       "      <th>기온</th>\n",
       "      <th>풍속(m/s)</th>\n",
       "      <th>강수량(mm)</th>\n",
       "      <th>습도(%)</th>\n",
       "      <th>일조(hr)</th>\n",
       "      <th>적설(cm)</th>\n",
       "      <th>전운량(10분위)</th>\n",
       "      <th>눈내림</th>\n",
       "      <th>눈내림2</th>\n",
       "      <th>시간</th>\n",
       "      <th>전운량(10분위)2</th>\n",
       "    </tr>\n",
       "  </thead>\n",
       "  <tbody>\n",
       "    <tr>\n",
       "      <th>0</th>\n",
       "      <td>400</td>\n",
       "      <td>강남</td>\n",
       "      <td>2019-09-05 18:00:00</td>\n",
       "      <td>서울특별시 강남구 일원동</td>\n",
       "      <td>강남구</td>\n",
       "      <td>22.3</td>\n",
       "      <td>1.0</td>\n",
       "      <td>2.0</td>\n",
       "      <td>97.0</td>\n",
       "      <td>0.0</td>\n",
       "      <td>NaN</td>\n",
       "      <td>10.0</td>\n",
       "      <td>0</td>\n",
       "      <td>0</td>\n",
       "      <td>18:00:00</td>\n",
       "      <td>10.0</td>\n",
       "    </tr>\n",
       "    <tr>\n",
       "      <th>1</th>\n",
       "      <td>400</td>\n",
       "      <td>강남</td>\n",
       "      <td>2019-08-31 10:00:00</td>\n",
       "      <td>서울특별시 강남구 일원동</td>\n",
       "      <td>강남구</td>\n",
       "      <td>25.1</td>\n",
       "      <td>0.9</td>\n",
       "      <td>0.0</td>\n",
       "      <td>60.0</td>\n",
       "      <td>1.0</td>\n",
       "      <td>NaN</td>\n",
       "      <td>5.0</td>\n",
       "      <td>0</td>\n",
       "      <td>0</td>\n",
       "      <td>10:00:00</td>\n",
       "      <td>5.0</td>\n",
       "    </tr>\n",
       "    <tr>\n",
       "      <th>2</th>\n",
       "      <td>400</td>\n",
       "      <td>강남</td>\n",
       "      <td>2019-09-08 10:00:00</td>\n",
       "      <td>서울특별시 강남구 일원동</td>\n",
       "      <td>강남구</td>\n",
       "      <td>26.3</td>\n",
       "      <td>1.5</td>\n",
       "      <td>0.0</td>\n",
       "      <td>69.0</td>\n",
       "      <td>0.6</td>\n",
       "      <td>NaN</td>\n",
       "      <td>8.0</td>\n",
       "      <td>0</td>\n",
       "      <td>0</td>\n",
       "      <td>10:00:00</td>\n",
       "      <td>8.0</td>\n",
       "    </tr>\n",
       "    <tr>\n",
       "      <th>3</th>\n",
       "      <td>400</td>\n",
       "      <td>강남</td>\n",
       "      <td>2018-04-15 02:00:00</td>\n",
       "      <td>서울특별시 강남구 일원동</td>\n",
       "      <td>강남구</td>\n",
       "      <td>8.0</td>\n",
       "      <td>2.4</td>\n",
       "      <td>0.0</td>\n",
       "      <td>80.0</td>\n",
       "      <td>0.0</td>\n",
       "      <td>NaN</td>\n",
       "      <td>NaN</td>\n",
       "      <td>0</td>\n",
       "      <td>0</td>\n",
       "      <td>02:00:00</td>\n",
       "      <td>3.0</td>\n",
       "    </tr>\n",
       "    <tr>\n",
       "      <th>4</th>\n",
       "      <td>400</td>\n",
       "      <td>강남</td>\n",
       "      <td>2019-09-08 07:00:00</td>\n",
       "      <td>서울특별시 강남구 일원동</td>\n",
       "      <td>강남구</td>\n",
       "      <td>23.7</td>\n",
       "      <td>0.9</td>\n",
       "      <td>0.0</td>\n",
       "      <td>86.0</td>\n",
       "      <td>0.0</td>\n",
       "      <td>NaN</td>\n",
       "      <td>9.0</td>\n",
       "      <td>0</td>\n",
       "      <td>0</td>\n",
       "      <td>07:00:00</td>\n",
       "      <td>9.0</td>\n",
       "    </tr>\n",
       "    <tr>\n",
       "      <th>...</th>\n",
       "      <td>...</td>\n",
       "      <td>...</td>\n",
       "      <td>...</td>\n",
       "      <td>...</td>\n",
       "      <td>...</td>\n",
       "      <td>...</td>\n",
       "      <td>...</td>\n",
       "      <td>...</td>\n",
       "      <td>...</td>\n",
       "      <td>...</td>\n",
       "      <td>...</td>\n",
       "      <td>...</td>\n",
       "      <td>...</td>\n",
       "      <td>...</td>\n",
       "      <td>...</td>\n",
       "      <td>...</td>\n",
       "    </tr>\n",
       "    <tr>\n",
       "      <th>125</th>\n",
       "      <td>419</td>\n",
       "      <td>중구</td>\n",
       "      <td>2017-04-02 07:00:00</td>\n",
       "      <td>서울특별시 중구 예장동</td>\n",
       "      <td>중구</td>\n",
       "      <td>5.0</td>\n",
       "      <td>1.2</td>\n",
       "      <td>0.0</td>\n",
       "      <td>83.0</td>\n",
       "      <td>0.2</td>\n",
       "      <td>NaN</td>\n",
       "      <td>0.0</td>\n",
       "      <td>0</td>\n",
       "      <td>0</td>\n",
       "      <td>07:00:00</td>\n",
       "      <td>0.0</td>\n",
       "    </tr>\n",
       "    <tr>\n",
       "      <th>126</th>\n",
       "      <td>419</td>\n",
       "      <td>중구</td>\n",
       "      <td>2019-09-19 07:00:00</td>\n",
       "      <td>서울특별시 중구 예장동</td>\n",
       "      <td>중구</td>\n",
       "      <td>16.7</td>\n",
       "      <td>2.1</td>\n",
       "      <td>0.0</td>\n",
       "      <td>56.0</td>\n",
       "      <td>0.4</td>\n",
       "      <td>NaN</td>\n",
       "      <td>0.0</td>\n",
       "      <td>0</td>\n",
       "      <td>0</td>\n",
       "      <td>07:00:00</td>\n",
       "      <td>0.0</td>\n",
       "    </tr>\n",
       "    <tr>\n",
       "      <th>127</th>\n",
       "      <td>419</td>\n",
       "      <td>중구</td>\n",
       "      <td>2019-11-04 10:00:00</td>\n",
       "      <td>서울특별시 중구 예장동</td>\n",
       "      <td>중구</td>\n",
       "      <td>14.1</td>\n",
       "      <td>1.8</td>\n",
       "      <td>0.0</td>\n",
       "      <td>52.0</td>\n",
       "      <td>1.0</td>\n",
       "      <td>NaN</td>\n",
       "      <td>0.0</td>\n",
       "      <td>0</td>\n",
       "      <td>0</td>\n",
       "      <td>10:00:00</td>\n",
       "      <td>0.0</td>\n",
       "    </tr>\n",
       "    <tr>\n",
       "      <th>128</th>\n",
       "      <td>419</td>\n",
       "      <td>중구</td>\n",
       "      <td>2018-09-01 13:00:00</td>\n",
       "      <td>서울특별시 중구 예장동</td>\n",
       "      <td>중구</td>\n",
       "      <td>28.0</td>\n",
       "      <td>3.2</td>\n",
       "      <td>0.0</td>\n",
       "      <td>48.0</td>\n",
       "      <td>1.0</td>\n",
       "      <td>NaN</td>\n",
       "      <td>2.0</td>\n",
       "      <td>0</td>\n",
       "      <td>0</td>\n",
       "      <td>13:00:00</td>\n",
       "      <td>2.0</td>\n",
       "    </tr>\n",
       "    <tr>\n",
       "      <th>129</th>\n",
       "      <td>419</td>\n",
       "      <td>중구</td>\n",
       "      <td>2019-10-03 11:00:00</td>\n",
       "      <td>서울특별시 중구 예장동</td>\n",
       "      <td>중구</td>\n",
       "      <td>24.4</td>\n",
       "      <td>3.1</td>\n",
       "      <td>0.0</td>\n",
       "      <td>66.0</td>\n",
       "      <td>0.6</td>\n",
       "      <td>NaN</td>\n",
       "      <td>9.0</td>\n",
       "      <td>0</td>\n",
       "      <td>0</td>\n",
       "      <td>11:00:00</td>\n",
       "      <td>9.0</td>\n",
       "    </tr>\n",
       "  </tbody>\n",
       "</table>\n",
       "<p>1838 rows × 16 columns</p>\n",
       "</div>"
      ],
      "text/plain": [
       "      지점 지점명                   일시             주소    구    기온  풍속(m/s)  강수량(mm)  \\\n",
       "0    400  강남  2019-09-05 18:00:00  서울특별시 강남구 일원동  강남구  22.3      1.0      2.0   \n",
       "1    400  강남  2019-08-31 10:00:00  서울특별시 강남구 일원동  강남구  25.1      0.9      0.0   \n",
       "2    400  강남  2019-09-08 10:00:00  서울특별시 강남구 일원동  강남구  26.3      1.5      0.0   \n",
       "3    400  강남  2018-04-15 02:00:00  서울특별시 강남구 일원동  강남구   8.0      2.4      0.0   \n",
       "4    400  강남  2019-09-08 07:00:00  서울특별시 강남구 일원동  강남구  23.7      0.9      0.0   \n",
       "..   ...  ..                  ...            ...  ...   ...      ...      ...   \n",
       "125  419  중구  2017-04-02 07:00:00   서울특별시 중구 예장동   중구   5.0      1.2      0.0   \n",
       "126  419  중구  2019-09-19 07:00:00   서울특별시 중구 예장동   중구  16.7      2.1      0.0   \n",
       "127  419  중구  2019-11-04 10:00:00   서울특별시 중구 예장동   중구  14.1      1.8      0.0   \n",
       "128  419  중구  2018-09-01 13:00:00   서울특별시 중구 예장동   중구  28.0      3.2      0.0   \n",
       "129  419  중구  2019-10-03 11:00:00   서울특별시 중구 예장동   중구  24.4      3.1      0.0   \n",
       "\n",
       "     습도(%)  일조(hr)  적설(cm)  전운량(10분위)  눈내림  눈내림2        시간  전운량(10분위)2  \n",
       "0     97.0     0.0     NaN       10.0    0     0  18:00:00        10.0  \n",
       "1     60.0     1.0     NaN        5.0    0     0  10:00:00         5.0  \n",
       "2     69.0     0.6     NaN        8.0    0     0  10:00:00         8.0  \n",
       "3     80.0     0.0     NaN        NaN    0     0  02:00:00         3.0  \n",
       "4     86.0     0.0     NaN        9.0    0     0  07:00:00         9.0  \n",
       "..     ...     ...     ...        ...  ...   ...       ...         ...  \n",
       "125   83.0     0.2     NaN        0.0    0     0  07:00:00         0.0  \n",
       "126   56.0     0.4     NaN        0.0    0     0  07:00:00         0.0  \n",
       "127   52.0     1.0     NaN        0.0    0     0  10:00:00         0.0  \n",
       "128   48.0     1.0     NaN        2.0    0     0  13:00:00         2.0  \n",
       "129   66.0     0.6     NaN        9.0    0     0  11:00:00         9.0  \n",
       "\n",
       "[1838 rows x 16 columns]"
      ]
     },
     "execution_count": 350,
     "metadata": {},
     "output_type": "execute_result"
    }
   ],
   "source": [
    "m = pd.concat([m1,m2,m3,m4,m5,m6,m7,m8,m9,m10])\n",
    "m"
   ]
  },
  {
   "cell_type": "code",
   "execution_count": 351,
   "metadata": {
    "ExecuteTime": {
     "end_time": "2020-07-05T13:36:04.833178Z",
     "start_time": "2020-07-05T13:36:04.826201Z"
    }
   },
   "outputs": [
    {
     "data": {
      "text/plain": [
       "(1838, 16)"
      ]
     },
     "execution_count": 351,
     "metadata": {},
     "output_type": "execute_result"
    }
   ],
   "source": [
    "m.shape"
   ]
  },
  {
   "cell_type": "code",
   "execution_count": 352,
   "metadata": {
    "ExecuteTime": {
     "end_time": "2020-07-05T13:36:15.656489Z",
     "start_time": "2020-07-05T13:36:15.643490Z"
    }
   },
   "outputs": [
    {
     "data": {
      "text/plain": [
       "지점               0\n",
       "지점명              0\n",
       "일시               0\n",
       "주소               0\n",
       "구                0\n",
       "기온               0\n",
       "풍속(m/s)          0\n",
       "강수량(mm)          0\n",
       "습도(%)            0\n",
       "일조(hr)           0\n",
       "적설(cm)        1737\n",
       "전운량(10분위)      119\n",
       "눈내림              0\n",
       "눈내림2             0\n",
       "시간               0\n",
       "전운량(10분위)2       0\n",
       "dtype: int64"
      ]
     },
     "execution_count": 352,
     "metadata": {},
     "output_type": "execute_result"
    }
   ],
   "source": [
    "m.isnull().sum()"
   ]
  },
  {
   "cell_type": "markdown",
   "metadata": {},
   "source": [
    "## 날씨에 행추가 방식으로 merge"
   ]
  },
  {
   "cell_type": "code",
   "execution_count": null,
   "metadata": {},
   "outputs": [],
   "source": [
    "weater = tmp2_w2.copy()"
   ]
  },
  {
   "cell_type": "code",
   "execution_count": 357,
   "metadata": {
    "ExecuteTime": {
     "end_time": "2020-07-05T13:39:43.855131Z",
     "start_time": "2020-07-05T13:39:43.847157Z"
    }
   },
   "outputs": [
    {
     "data": {
      "text/plain": [
       "(628882, 16)"
      ]
     },
     "execution_count": 357,
     "metadata": {},
     "output_type": "execute_result"
    }
   ],
   "source": [
    "weather.shape"
   ]
  },
  {
   "cell_type": "code",
   "execution_count": 355,
   "metadata": {
    "ExecuteTime": {
     "end_time": "2020-07-05T13:37:16.259653Z",
     "start_time": "2020-07-05T13:37:16.247683Z"
    }
   },
   "outputs": [
    {
     "data": {
      "text/plain": [
       "Index(['지점', '지점명', '일시', '기온', '풍속(m/s)', '강수량(mm)', '습도(%)', '일조(hr)',\n",
       "       '적설(cm)', '전운량(10분위)', '주소', '구', '눈내림', '눈내림2', '시간', '전운량(10분위)2'],\n",
       "      dtype='object')"
      ]
     },
     "execution_count": 355,
     "metadata": {},
     "output_type": "execute_result"
    }
   ],
   "source": [
    "weather.columns"
   ]
  },
  {
   "cell_type": "code",
   "execution_count": 356,
   "metadata": {
    "ExecuteTime": {
     "end_time": "2020-07-05T13:39:00.480477Z",
     "start_time": "2020-07-05T13:38:58.804256Z"
    }
   },
   "outputs": [
    {
     "data": {
      "text/html": [
       "<div>\n",
       "<style scoped>\n",
       "    .dataframe tbody tr th:only-of-type {\n",
       "        vertical-align: middle;\n",
       "    }\n",
       "\n",
       "    .dataframe tbody tr th {\n",
       "        vertical-align: top;\n",
       "    }\n",
       "\n",
       "    .dataframe thead th {\n",
       "        text-align: right;\n",
       "    }\n",
       "</style>\n",
       "<table border=\"1\" class=\"dataframe\">\n",
       "  <thead>\n",
       "    <tr style=\"text-align: right;\">\n",
       "      <th></th>\n",
       "      <th>지점</th>\n",
       "      <th>지점명</th>\n",
       "      <th>주소</th>\n",
       "      <th>구</th>\n",
       "      <th>일시</th>\n",
       "      <th>시간</th>\n",
       "      <th>기온</th>\n",
       "      <th>풍속(m/s)</th>\n",
       "      <th>강수량(mm)</th>\n",
       "      <th>습도(%)</th>\n",
       "      <th>일조(hr)</th>\n",
       "      <th>적설(cm)</th>\n",
       "      <th>전운량(10분위)</th>\n",
       "      <th>전운량(10분위)2</th>\n",
       "      <th>눈내림</th>\n",
       "      <th>눈내림2</th>\n",
       "    </tr>\n",
       "  </thead>\n",
       "  <tbody>\n",
       "    <tr>\n",
       "      <th>0</th>\n",
       "      <td>400</td>\n",
       "      <td>강남</td>\n",
       "      <td>서울특별시 강남구 일원동</td>\n",
       "      <td>강남구</td>\n",
       "      <td>2017-01-01 00:00:00</td>\n",
       "      <td>00:00:00</td>\n",
       "      <td>1.7</td>\n",
       "      <td>1.3</td>\n",
       "      <td>0.0</td>\n",
       "      <td>79.0</td>\n",
       "      <td>0.0</td>\n",
       "      <td>NaN</td>\n",
       "      <td>7.0</td>\n",
       "      <td>7.0</td>\n",
       "      <td>0</td>\n",
       "      <td>0</td>\n",
       "    </tr>\n",
       "    <tr>\n",
       "      <th>1</th>\n",
       "      <td>400</td>\n",
       "      <td>강남</td>\n",
       "      <td>서울특별시 강남구 일원동</td>\n",
       "      <td>강남구</td>\n",
       "      <td>2017-01-01 01:00:00</td>\n",
       "      <td>01:00:00</td>\n",
       "      <td>1.4</td>\n",
       "      <td>1.3</td>\n",
       "      <td>0.0</td>\n",
       "      <td>78.0</td>\n",
       "      <td>0.0</td>\n",
       "      <td>NaN</td>\n",
       "      <td>NaN</td>\n",
       "      <td>7.0</td>\n",
       "      <td>0</td>\n",
       "      <td>0</td>\n",
       "    </tr>\n",
       "    <tr>\n",
       "      <th>2</th>\n",
       "      <td>400</td>\n",
       "      <td>강남</td>\n",
       "      <td>서울특별시 강남구 일원동</td>\n",
       "      <td>강남구</td>\n",
       "      <td>2017-01-01 02:00:00</td>\n",
       "      <td>02:00:00</td>\n",
       "      <td>1.2</td>\n",
       "      <td>1.6</td>\n",
       "      <td>0.0</td>\n",
       "      <td>81.0</td>\n",
       "      <td>0.0</td>\n",
       "      <td>NaN</td>\n",
       "      <td>NaN</td>\n",
       "      <td>7.0</td>\n",
       "      <td>0</td>\n",
       "      <td>0</td>\n",
       "    </tr>\n",
       "    <tr>\n",
       "      <th>3</th>\n",
       "      <td>400</td>\n",
       "      <td>강남</td>\n",
       "      <td>서울특별시 강남구 일원동</td>\n",
       "      <td>강남구</td>\n",
       "      <td>2017-01-01 03:00:00</td>\n",
       "      <td>03:00:00</td>\n",
       "      <td>0.5</td>\n",
       "      <td>1.5</td>\n",
       "      <td>0.0</td>\n",
       "      <td>84.0</td>\n",
       "      <td>0.0</td>\n",
       "      <td>NaN</td>\n",
       "      <td>0.0</td>\n",
       "      <td>0.0</td>\n",
       "      <td>0</td>\n",
       "      <td>0</td>\n",
       "    </tr>\n",
       "    <tr>\n",
       "      <th>4</th>\n",
       "      <td>400</td>\n",
       "      <td>강남</td>\n",
       "      <td>서울특별시 강남구 일원동</td>\n",
       "      <td>강남구</td>\n",
       "      <td>2017-01-01 04:00:00</td>\n",
       "      <td>04:00:00</td>\n",
       "      <td>0.6</td>\n",
       "      <td>0.5</td>\n",
       "      <td>0.0</td>\n",
       "      <td>85.0</td>\n",
       "      <td>0.0</td>\n",
       "      <td>NaN</td>\n",
       "      <td>0.0</td>\n",
       "      <td>0.0</td>\n",
       "      <td>0</td>\n",
       "      <td>0</td>\n",
       "    </tr>\n",
       "  </tbody>\n",
       "</table>\n",
       "</div>"
      ],
      "text/plain": [
       "    지점 지점명             주소    구                   일시        시간   기온  풍속(m/s)  \\\n",
       "0  400  강남  서울특별시 강남구 일원동  강남구  2017-01-01 00:00:00  00:00:00  1.7      1.3   \n",
       "1  400  강남  서울특별시 강남구 일원동  강남구  2017-01-01 01:00:00  01:00:00  1.4      1.3   \n",
       "2  400  강남  서울특별시 강남구 일원동  강남구  2017-01-01 02:00:00  02:00:00  1.2      1.6   \n",
       "3  400  강남  서울특별시 강남구 일원동  강남구  2017-01-01 03:00:00  03:00:00  0.5      1.5   \n",
       "4  400  강남  서울특별시 강남구 일원동  강남구  2017-01-01 04:00:00  04:00:00  0.6      0.5   \n",
       "\n",
       "   강수량(mm)  습도(%)  일조(hr)  적설(cm)  전운량(10분위)  전운량(10분위)2  눈내림  눈내림2  \n",
       "0      0.0   79.0     0.0     NaN        7.0         7.0    0     0  \n",
       "1      0.0   78.0     0.0     NaN        NaN         7.0    0     0  \n",
       "2      0.0   81.0     0.0     NaN        NaN         7.0    0     0  \n",
       "3      0.0   84.0     0.0     NaN        0.0         0.0    0     0  \n",
       "4      0.0   85.0     0.0     NaN        0.0         0.0    0     0  "
      ]
     },
     "execution_count": 356,
     "metadata": {},
     "output_type": "execute_result"
    }
   ],
   "source": [
    "weather = weather[['지점', '지점명', '주소', '구', '일시', '시간', '기온', '풍속(m/s)', '강수량(mm)', '습도(%)', '일조(hr)', '적설(cm)', '전운량(10분위)', '전운량(10분위)2', '눈내림', '눈내림2']]\n",
    "weather.head()"
   ]
  },
  {
   "cell_type": "code",
   "execution_count": 358,
   "metadata": {
    "ExecuteTime": {
     "end_time": "2020-07-05T13:39:51.954409Z",
     "start_time": "2020-07-05T13:39:51.948423Z"
    }
   },
   "outputs": [
    {
     "data": {
      "text/plain": [
       "(1838, 16)"
      ]
     },
     "execution_count": 358,
     "metadata": {},
     "output_type": "execute_result"
    }
   ],
   "source": [
    "m.shape"
   ]
  },
  {
   "cell_type": "code",
   "execution_count": 359,
   "metadata": {
    "ExecuteTime": {
     "end_time": "2020-07-05T13:39:54.013105Z",
     "start_time": "2020-07-05T13:39:53.977203Z"
    }
   },
   "outputs": [
    {
     "data": {
      "text/html": [
       "<div>\n",
       "<style scoped>\n",
       "    .dataframe tbody tr th:only-of-type {\n",
       "        vertical-align: middle;\n",
       "    }\n",
       "\n",
       "    .dataframe tbody tr th {\n",
       "        vertical-align: top;\n",
       "    }\n",
       "\n",
       "    .dataframe thead th {\n",
       "        text-align: right;\n",
       "    }\n",
       "</style>\n",
       "<table border=\"1\" class=\"dataframe\">\n",
       "  <thead>\n",
       "    <tr style=\"text-align: right;\">\n",
       "      <th></th>\n",
       "      <th>지점</th>\n",
       "      <th>지점명</th>\n",
       "      <th>주소</th>\n",
       "      <th>구</th>\n",
       "      <th>일시</th>\n",
       "      <th>시간</th>\n",
       "      <th>기온</th>\n",
       "      <th>풍속(m/s)</th>\n",
       "      <th>강수량(mm)</th>\n",
       "      <th>습도(%)</th>\n",
       "      <th>일조(hr)</th>\n",
       "      <th>적설(cm)</th>\n",
       "      <th>전운량(10분위)</th>\n",
       "      <th>전운량(10분위)2</th>\n",
       "      <th>눈내림</th>\n",
       "      <th>눈내림2</th>\n",
       "    </tr>\n",
       "  </thead>\n",
       "  <tbody>\n",
       "    <tr>\n",
       "      <th>0</th>\n",
       "      <td>400</td>\n",
       "      <td>강남</td>\n",
       "      <td>서울특별시 강남구 일원동</td>\n",
       "      <td>강남구</td>\n",
       "      <td>2019-09-05 18:00:00</td>\n",
       "      <td>18:00:00</td>\n",
       "      <td>22.3</td>\n",
       "      <td>1.0</td>\n",
       "      <td>2.0</td>\n",
       "      <td>97.0</td>\n",
       "      <td>0.0</td>\n",
       "      <td>NaN</td>\n",
       "      <td>10.0</td>\n",
       "      <td>10.0</td>\n",
       "      <td>0</td>\n",
       "      <td>0</td>\n",
       "    </tr>\n",
       "    <tr>\n",
       "      <th>1</th>\n",
       "      <td>400</td>\n",
       "      <td>강남</td>\n",
       "      <td>서울특별시 강남구 일원동</td>\n",
       "      <td>강남구</td>\n",
       "      <td>2019-08-31 10:00:00</td>\n",
       "      <td>10:00:00</td>\n",
       "      <td>25.1</td>\n",
       "      <td>0.9</td>\n",
       "      <td>0.0</td>\n",
       "      <td>60.0</td>\n",
       "      <td>1.0</td>\n",
       "      <td>NaN</td>\n",
       "      <td>5.0</td>\n",
       "      <td>5.0</td>\n",
       "      <td>0</td>\n",
       "      <td>0</td>\n",
       "    </tr>\n",
       "    <tr>\n",
       "      <th>2</th>\n",
       "      <td>400</td>\n",
       "      <td>강남</td>\n",
       "      <td>서울특별시 강남구 일원동</td>\n",
       "      <td>강남구</td>\n",
       "      <td>2019-09-08 10:00:00</td>\n",
       "      <td>10:00:00</td>\n",
       "      <td>26.3</td>\n",
       "      <td>1.5</td>\n",
       "      <td>0.0</td>\n",
       "      <td>69.0</td>\n",
       "      <td>0.6</td>\n",
       "      <td>NaN</td>\n",
       "      <td>8.0</td>\n",
       "      <td>8.0</td>\n",
       "      <td>0</td>\n",
       "      <td>0</td>\n",
       "    </tr>\n",
       "    <tr>\n",
       "      <th>3</th>\n",
       "      <td>400</td>\n",
       "      <td>강남</td>\n",
       "      <td>서울특별시 강남구 일원동</td>\n",
       "      <td>강남구</td>\n",
       "      <td>2018-04-15 02:00:00</td>\n",
       "      <td>02:00:00</td>\n",
       "      <td>8.0</td>\n",
       "      <td>2.4</td>\n",
       "      <td>0.0</td>\n",
       "      <td>80.0</td>\n",
       "      <td>0.0</td>\n",
       "      <td>NaN</td>\n",
       "      <td>NaN</td>\n",
       "      <td>3.0</td>\n",
       "      <td>0</td>\n",
       "      <td>0</td>\n",
       "    </tr>\n",
       "    <tr>\n",
       "      <th>4</th>\n",
       "      <td>400</td>\n",
       "      <td>강남</td>\n",
       "      <td>서울특별시 강남구 일원동</td>\n",
       "      <td>강남구</td>\n",
       "      <td>2019-09-08 07:00:00</td>\n",
       "      <td>07:00:00</td>\n",
       "      <td>23.7</td>\n",
       "      <td>0.9</td>\n",
       "      <td>0.0</td>\n",
       "      <td>86.0</td>\n",
       "      <td>0.0</td>\n",
       "      <td>NaN</td>\n",
       "      <td>9.0</td>\n",
       "      <td>9.0</td>\n",
       "      <td>0</td>\n",
       "      <td>0</td>\n",
       "    </tr>\n",
       "  </tbody>\n",
       "</table>\n",
       "</div>"
      ],
      "text/plain": [
       "    지점 지점명             주소    구                   일시        시간    기온  풍속(m/s)  \\\n",
       "0  400  강남  서울특별시 강남구 일원동  강남구  2019-09-05 18:00:00  18:00:00  22.3      1.0   \n",
       "1  400  강남  서울특별시 강남구 일원동  강남구  2019-08-31 10:00:00  10:00:00  25.1      0.9   \n",
       "2  400  강남  서울특별시 강남구 일원동  강남구  2019-09-08 10:00:00  10:00:00  26.3      1.5   \n",
       "3  400  강남  서울특별시 강남구 일원동  강남구  2018-04-15 02:00:00  02:00:00   8.0      2.4   \n",
       "4  400  강남  서울특별시 강남구 일원동  강남구  2019-09-08 07:00:00  07:00:00  23.7      0.9   \n",
       "\n",
       "   강수량(mm)  습도(%)  일조(hr)  적설(cm)  전운량(10분위)  전운량(10분위)2  눈내림  눈내림2  \n",
       "0      2.0   97.0     0.0     NaN       10.0        10.0    0     0  \n",
       "1      0.0   60.0     1.0     NaN        5.0         5.0    0     0  \n",
       "2      0.0   69.0     0.6     NaN        8.0         8.0    0     0  \n",
       "3      0.0   80.0     0.0     NaN        NaN         3.0    0     0  \n",
       "4      0.0   86.0     0.0     NaN        9.0         9.0    0     0  "
      ]
     },
     "execution_count": 359,
     "metadata": {},
     "output_type": "execute_result"
    }
   ],
   "source": [
    "m = m[['지점', '지점명', '주소', '구', '일시', '시간', '기온', '풍속(m/s)', '강수량(mm)', '습도(%)', '일조(hr)', '적설(cm)', '전운량(10분위)', '전운량(10분위)2', '눈내림', '눈내림2']]\n",
    "m.head()"
   ]
  },
  {
   "cell_type": "code",
   "execution_count": 361,
   "metadata": {
    "ExecuteTime": {
     "end_time": "2020-07-05T13:41:14.725117Z",
     "start_time": "2020-07-05T13:41:14.565544Z"
    }
   },
   "outputs": [
    {
     "name": "stdout",
     "output_type": "stream",
     "text": [
      "(630720, 16)\n"
     ]
    },
    {
     "data": {
      "text/html": [
       "<div>\n",
       "<style scoped>\n",
       "    .dataframe tbody tr th:only-of-type {\n",
       "        vertical-align: middle;\n",
       "    }\n",
       "\n",
       "    .dataframe tbody tr th {\n",
       "        vertical-align: top;\n",
       "    }\n",
       "\n",
       "    .dataframe thead th {\n",
       "        text-align: right;\n",
       "    }\n",
       "</style>\n",
       "<table border=\"1\" class=\"dataframe\">\n",
       "  <thead>\n",
       "    <tr style=\"text-align: right;\">\n",
       "      <th></th>\n",
       "      <th>지점</th>\n",
       "      <th>지점명</th>\n",
       "      <th>주소</th>\n",
       "      <th>구</th>\n",
       "      <th>일시</th>\n",
       "      <th>시간</th>\n",
       "      <th>기온</th>\n",
       "      <th>풍속(m/s)</th>\n",
       "      <th>강수량(mm)</th>\n",
       "      <th>습도(%)</th>\n",
       "      <th>일조(hr)</th>\n",
       "      <th>적설(cm)</th>\n",
       "      <th>전운량(10분위)</th>\n",
       "      <th>전운량(10분위)2</th>\n",
       "      <th>눈내림</th>\n",
       "      <th>눈내림2</th>\n",
       "    </tr>\n",
       "  </thead>\n",
       "  <tbody>\n",
       "    <tr>\n",
       "      <th>0</th>\n",
       "      <td>400</td>\n",
       "      <td>강남</td>\n",
       "      <td>서울특별시 강남구 일원동</td>\n",
       "      <td>강남구</td>\n",
       "      <td>2017-01-01 00:00:00</td>\n",
       "      <td>00:00:00</td>\n",
       "      <td>1.7</td>\n",
       "      <td>1.3</td>\n",
       "      <td>0.0</td>\n",
       "      <td>79.0</td>\n",
       "      <td>0.0</td>\n",
       "      <td>NaN</td>\n",
       "      <td>7.0</td>\n",
       "      <td>7.0</td>\n",
       "      <td>0</td>\n",
       "      <td>0</td>\n",
       "    </tr>\n",
       "    <tr>\n",
       "      <th>1</th>\n",
       "      <td>400</td>\n",
       "      <td>강남</td>\n",
       "      <td>서울특별시 강남구 일원동</td>\n",
       "      <td>강남구</td>\n",
       "      <td>2017-01-01 01:00:00</td>\n",
       "      <td>01:00:00</td>\n",
       "      <td>1.4</td>\n",
       "      <td>1.3</td>\n",
       "      <td>0.0</td>\n",
       "      <td>78.0</td>\n",
       "      <td>0.0</td>\n",
       "      <td>NaN</td>\n",
       "      <td>NaN</td>\n",
       "      <td>7.0</td>\n",
       "      <td>0</td>\n",
       "      <td>0</td>\n",
       "    </tr>\n",
       "    <tr>\n",
       "      <th>2</th>\n",
       "      <td>400</td>\n",
       "      <td>강남</td>\n",
       "      <td>서울특별시 강남구 일원동</td>\n",
       "      <td>강남구</td>\n",
       "      <td>2017-01-01 02:00:00</td>\n",
       "      <td>02:00:00</td>\n",
       "      <td>1.2</td>\n",
       "      <td>1.6</td>\n",
       "      <td>0.0</td>\n",
       "      <td>81.0</td>\n",
       "      <td>0.0</td>\n",
       "      <td>NaN</td>\n",
       "      <td>NaN</td>\n",
       "      <td>7.0</td>\n",
       "      <td>0</td>\n",
       "      <td>0</td>\n",
       "    </tr>\n",
       "    <tr>\n",
       "      <th>3</th>\n",
       "      <td>400</td>\n",
       "      <td>강남</td>\n",
       "      <td>서울특별시 강남구 일원동</td>\n",
       "      <td>강남구</td>\n",
       "      <td>2017-01-01 03:00:00</td>\n",
       "      <td>03:00:00</td>\n",
       "      <td>0.5</td>\n",
       "      <td>1.5</td>\n",
       "      <td>0.0</td>\n",
       "      <td>84.0</td>\n",
       "      <td>0.0</td>\n",
       "      <td>NaN</td>\n",
       "      <td>0.0</td>\n",
       "      <td>0.0</td>\n",
       "      <td>0</td>\n",
       "      <td>0</td>\n",
       "    </tr>\n",
       "    <tr>\n",
       "      <th>4</th>\n",
       "      <td>400</td>\n",
       "      <td>강남</td>\n",
       "      <td>서울특별시 강남구 일원동</td>\n",
       "      <td>강남구</td>\n",
       "      <td>2017-01-01 04:00:00</td>\n",
       "      <td>04:00:00</td>\n",
       "      <td>0.6</td>\n",
       "      <td>0.5</td>\n",
       "      <td>0.0</td>\n",
       "      <td>85.0</td>\n",
       "      <td>0.0</td>\n",
       "      <td>NaN</td>\n",
       "      <td>0.0</td>\n",
       "      <td>0.0</td>\n",
       "      <td>0</td>\n",
       "      <td>0</td>\n",
       "    </tr>\n",
       "  </tbody>\n",
       "</table>\n",
       "</div>"
      ],
      "text/plain": [
       "    지점 지점명             주소    구                   일시        시간   기온  풍속(m/s)  \\\n",
       "0  400  강남  서울특별시 강남구 일원동  강남구  2017-01-01 00:00:00  00:00:00  1.7      1.3   \n",
       "1  400  강남  서울특별시 강남구 일원동  강남구  2017-01-01 01:00:00  01:00:00  1.4      1.3   \n",
       "2  400  강남  서울특별시 강남구 일원동  강남구  2017-01-01 02:00:00  02:00:00  1.2      1.6   \n",
       "3  400  강남  서울특별시 강남구 일원동  강남구  2017-01-01 03:00:00  03:00:00  0.5      1.5   \n",
       "4  400  강남  서울특별시 강남구 일원동  강남구  2017-01-01 04:00:00  04:00:00  0.6      0.5   \n",
       "\n",
       "   강수량(mm)  습도(%)  일조(hr)  적설(cm)  전운량(10분위)  전운량(10분위)2  눈내림  눈내림2  \n",
       "0      0.0   79.0     0.0     NaN        7.0         7.0    0     0  \n",
       "1      0.0   78.0     0.0     NaN        NaN         7.0    0     0  \n",
       "2      0.0   81.0     0.0     NaN        NaN         7.0    0     0  \n",
       "3      0.0   84.0     0.0     NaN        0.0         0.0    0     0  \n",
       "4      0.0   85.0     0.0     NaN        0.0         0.0    0     0  "
      ]
     },
     "execution_count": 361,
     "metadata": {},
     "output_type": "execute_result"
    }
   ],
   "source": [
    "# 행추가방식으로 병합\n",
    "weather = pd.concat([weather, m])\n",
    "print(weather.shape)\n",
    "weather.head()"
   ]
  },
  {
   "cell_type": "code",
   "execution_count": 360,
   "metadata": {
    "ExecuteTime": {
     "end_time": "2020-07-05T13:41:12.622564Z",
     "start_time": "2020-07-05T13:41:12.614584Z"
    }
   },
   "outputs": [
    {
     "data": {
      "text/plain": [
       "630720"
      ]
     },
     "execution_count": 360,
     "metadata": {},
     "output_type": "execute_result"
    }
   ],
   "source": [
    "1838 + 628882"
   ]
  },
  {
   "cell_type": "code",
   "execution_count": 362,
   "metadata": {
    "ExecuteTime": {
     "end_time": "2020-07-05T13:41:26.474423Z",
     "start_time": "2020-07-05T13:41:25.652401Z"
    }
   },
   "outputs": [
    {
     "data": {
      "text/plain": [
       "0"
      ]
     },
     "execution_count": 362,
     "metadata": {},
     "output_type": "execute_result"
    }
   ],
   "source": [
    "# 중복값 조회\n",
    "tmp_w2.duplicated().sum()"
   ]
  },
  {
   "cell_type": "code",
   "execution_count": 363,
   "metadata": {
    "ExecuteTime": {
     "end_time": "2020-07-05T13:41:53.840319Z",
     "start_time": "2020-07-05T13:41:53.738593Z"
    }
   },
   "outputs": [
    {
     "data": {
      "text/plain": [
       "서초     26280\n",
       "용산     26280\n",
       "영등포    26280\n",
       "도봉     26280\n",
       "중랑     26280\n",
       "성북     26280\n",
       "은평     26280\n",
       "노원     26280\n",
       "송파     26280\n",
       "강북     26280\n",
       "강남     26280\n",
       "성동     26280\n",
       "양천     26280\n",
       "구로     26280\n",
       "중구     26280\n",
       "강동     26280\n",
       "남현     26280\n",
       "동대문    26280\n",
       "광진     26280\n",
       "마포     26280\n",
       "서대문    26280\n",
       "강서     26280\n",
       "기상청    26280\n",
       "금천     26280\n",
       "Name: 지점명, dtype: int64"
      ]
     },
     "execution_count": 363,
     "metadata": {},
     "output_type": "execute_result"
    }
   ],
   "source": [
    "# 지점별 행개수 똑같나 확인\n",
    "weather['지점명'].value_counts()"
   ]
  },
  {
   "cell_type": "markdown",
   "metadata": {},
   "source": [
    "# 종로구 -> 중구 data로 대체\n",
    "- 종로구 data가 없었음 (있어도 산에 관측소가 있어서 삭제함)"
   ]
  },
  {
   "cell_type": "code",
   "execution_count": 365,
   "metadata": {
    "ExecuteTime": {
     "end_time": "2020-07-05T13:49:16.564727Z",
     "start_time": "2020-07-05T13:49:16.404127Z"
    }
   },
   "outputs": [
    {
     "data": {
      "text/html": [
       "<div>\n",
       "<style scoped>\n",
       "    .dataframe tbody tr th:only-of-type {\n",
       "        vertical-align: middle;\n",
       "    }\n",
       "\n",
       "    .dataframe tbody tr th {\n",
       "        vertical-align: top;\n",
       "    }\n",
       "\n",
       "    .dataframe thead th {\n",
       "        text-align: right;\n",
       "    }\n",
       "</style>\n",
       "<table border=\"1\" class=\"dataframe\">\n",
       "  <thead>\n",
       "    <tr style=\"text-align: right;\">\n",
       "      <th></th>\n",
       "      <th>지점</th>\n",
       "      <th>지점명</th>\n",
       "      <th>주소</th>\n",
       "      <th>구</th>\n",
       "      <th>일시</th>\n",
       "      <th>시간</th>\n",
       "      <th>기온</th>\n",
       "      <th>풍속(m/s)</th>\n",
       "      <th>강수량(mm)</th>\n",
       "      <th>습도(%)</th>\n",
       "      <th>일조(hr)</th>\n",
       "      <th>적설(cm)</th>\n",
       "      <th>전운량(10분위)</th>\n",
       "      <th>전운량(10분위)2</th>\n",
       "      <th>눈내림</th>\n",
       "      <th>눈내림2</th>\n",
       "    </tr>\n",
       "  </thead>\n",
       "  <tbody>\n",
       "    <tr>\n",
       "      <th>38872</th>\n",
       "      <td>419</td>\n",
       "      <td>중구</td>\n",
       "      <td>서울특별시 중구 예장동</td>\n",
       "      <td>중구</td>\n",
       "      <td>2017-01-01 00:00:00</td>\n",
       "      <td>00:00:00</td>\n",
       "      <td>1.0</td>\n",
       "      <td>2.5</td>\n",
       "      <td>0.0</td>\n",
       "      <td>79.0</td>\n",
       "      <td>0.0</td>\n",
       "      <td>NaN</td>\n",
       "      <td>7.0</td>\n",
       "      <td>7.0</td>\n",
       "      <td>0</td>\n",
       "      <td>0</td>\n",
       "    </tr>\n",
       "    <tr>\n",
       "      <th>38873</th>\n",
       "      <td>419</td>\n",
       "      <td>중구</td>\n",
       "      <td>서울특별시 중구 예장동</td>\n",
       "      <td>중구</td>\n",
       "      <td>2017-01-01 01:00:00</td>\n",
       "      <td>01:00:00</td>\n",
       "      <td>1.6</td>\n",
       "      <td>1.3</td>\n",
       "      <td>0.0</td>\n",
       "      <td>78.0</td>\n",
       "      <td>0.0</td>\n",
       "      <td>NaN</td>\n",
       "      <td>NaN</td>\n",
       "      <td>7.0</td>\n",
       "      <td>0</td>\n",
       "      <td>0</td>\n",
       "    </tr>\n",
       "    <tr>\n",
       "      <th>38874</th>\n",
       "      <td>419</td>\n",
       "      <td>중구</td>\n",
       "      <td>서울특별시 중구 예장동</td>\n",
       "      <td>중구</td>\n",
       "      <td>2017-01-01 02:00:00</td>\n",
       "      <td>02:00:00</td>\n",
       "      <td>1.0</td>\n",
       "      <td>1.2</td>\n",
       "      <td>0.0</td>\n",
       "      <td>81.0</td>\n",
       "      <td>0.0</td>\n",
       "      <td>NaN</td>\n",
       "      <td>NaN</td>\n",
       "      <td>7.0</td>\n",
       "      <td>0</td>\n",
       "      <td>0</td>\n",
       "    </tr>\n",
       "    <tr>\n",
       "      <th>38875</th>\n",
       "      <td>419</td>\n",
       "      <td>중구</td>\n",
       "      <td>서울특별시 중구 예장동</td>\n",
       "      <td>중구</td>\n",
       "      <td>2017-01-01 03:00:00</td>\n",
       "      <td>03:00:00</td>\n",
       "      <td>1.4</td>\n",
       "      <td>0.8</td>\n",
       "      <td>0.0</td>\n",
       "      <td>84.0</td>\n",
       "      <td>0.0</td>\n",
       "      <td>NaN</td>\n",
       "      <td>0.0</td>\n",
       "      <td>0.0</td>\n",
       "      <td>0</td>\n",
       "      <td>0</td>\n",
       "    </tr>\n",
       "    <tr>\n",
       "      <th>38876</th>\n",
       "      <td>419</td>\n",
       "      <td>중구</td>\n",
       "      <td>서울특별시 중구 예장동</td>\n",
       "      <td>중구</td>\n",
       "      <td>2017-01-01 04:00:00</td>\n",
       "      <td>04:00:00</td>\n",
       "      <td>2.0</td>\n",
       "      <td>1.2</td>\n",
       "      <td>0.0</td>\n",
       "      <td>85.0</td>\n",
       "      <td>0.0</td>\n",
       "      <td>NaN</td>\n",
       "      <td>0.0</td>\n",
       "      <td>0.0</td>\n",
       "      <td>0</td>\n",
       "      <td>0</td>\n",
       "    </tr>\n",
       "    <tr>\n",
       "      <th>...</th>\n",
       "      <td>...</td>\n",
       "      <td>...</td>\n",
       "      <td>...</td>\n",
       "      <td>...</td>\n",
       "      <td>...</td>\n",
       "      <td>...</td>\n",
       "      <td>...</td>\n",
       "      <td>...</td>\n",
       "      <td>...</td>\n",
       "      <td>...</td>\n",
       "      <td>...</td>\n",
       "      <td>...</td>\n",
       "      <td>...</td>\n",
       "      <td>...</td>\n",
       "      <td>...</td>\n",
       "      <td>...</td>\n",
       "    </tr>\n",
       "    <tr>\n",
       "      <th>125</th>\n",
       "      <td>419</td>\n",
       "      <td>중구</td>\n",
       "      <td>서울특별시 중구 예장동</td>\n",
       "      <td>중구</td>\n",
       "      <td>2017-04-02 07:00:00</td>\n",
       "      <td>07:00:00</td>\n",
       "      <td>5.0</td>\n",
       "      <td>1.2</td>\n",
       "      <td>0.0</td>\n",
       "      <td>83.0</td>\n",
       "      <td>0.2</td>\n",
       "      <td>NaN</td>\n",
       "      <td>0.0</td>\n",
       "      <td>0.0</td>\n",
       "      <td>0</td>\n",
       "      <td>0</td>\n",
       "    </tr>\n",
       "    <tr>\n",
       "      <th>126</th>\n",
       "      <td>419</td>\n",
       "      <td>중구</td>\n",
       "      <td>서울특별시 중구 예장동</td>\n",
       "      <td>중구</td>\n",
       "      <td>2019-09-19 07:00:00</td>\n",
       "      <td>07:00:00</td>\n",
       "      <td>16.7</td>\n",
       "      <td>2.1</td>\n",
       "      <td>0.0</td>\n",
       "      <td>56.0</td>\n",
       "      <td>0.4</td>\n",
       "      <td>NaN</td>\n",
       "      <td>0.0</td>\n",
       "      <td>0.0</td>\n",
       "      <td>0</td>\n",
       "      <td>0</td>\n",
       "    </tr>\n",
       "    <tr>\n",
       "      <th>127</th>\n",
       "      <td>419</td>\n",
       "      <td>중구</td>\n",
       "      <td>서울특별시 중구 예장동</td>\n",
       "      <td>중구</td>\n",
       "      <td>2019-11-04 10:00:00</td>\n",
       "      <td>10:00:00</td>\n",
       "      <td>14.1</td>\n",
       "      <td>1.8</td>\n",
       "      <td>0.0</td>\n",
       "      <td>52.0</td>\n",
       "      <td>1.0</td>\n",
       "      <td>NaN</td>\n",
       "      <td>0.0</td>\n",
       "      <td>0.0</td>\n",
       "      <td>0</td>\n",
       "      <td>0</td>\n",
       "    </tr>\n",
       "    <tr>\n",
       "      <th>128</th>\n",
       "      <td>419</td>\n",
       "      <td>중구</td>\n",
       "      <td>서울특별시 중구 예장동</td>\n",
       "      <td>중구</td>\n",
       "      <td>2018-09-01 13:00:00</td>\n",
       "      <td>13:00:00</td>\n",
       "      <td>28.0</td>\n",
       "      <td>3.2</td>\n",
       "      <td>0.0</td>\n",
       "      <td>48.0</td>\n",
       "      <td>1.0</td>\n",
       "      <td>NaN</td>\n",
       "      <td>2.0</td>\n",
       "      <td>2.0</td>\n",
       "      <td>0</td>\n",
       "      <td>0</td>\n",
       "    </tr>\n",
       "    <tr>\n",
       "      <th>129</th>\n",
       "      <td>419</td>\n",
       "      <td>중구</td>\n",
       "      <td>서울특별시 중구 예장동</td>\n",
       "      <td>중구</td>\n",
       "      <td>2019-10-03 11:00:00</td>\n",
       "      <td>11:00:00</td>\n",
       "      <td>24.4</td>\n",
       "      <td>3.1</td>\n",
       "      <td>0.0</td>\n",
       "      <td>66.0</td>\n",
       "      <td>0.6</td>\n",
       "      <td>NaN</td>\n",
       "      <td>9.0</td>\n",
       "      <td>9.0</td>\n",
       "      <td>0</td>\n",
       "      <td>0</td>\n",
       "    </tr>\n",
       "  </tbody>\n",
       "</table>\n",
       "<p>26280 rows × 16 columns</p>\n",
       "</div>"
      ],
      "text/plain": [
       "        지점 지점명            주소   구                   일시        시간    기온  \\\n",
       "38872  419  중구  서울특별시 중구 예장동  중구  2017-01-01 00:00:00  00:00:00   1.0   \n",
       "38873  419  중구  서울특별시 중구 예장동  중구  2017-01-01 01:00:00  01:00:00   1.6   \n",
       "38874  419  중구  서울특별시 중구 예장동  중구  2017-01-01 02:00:00  02:00:00   1.0   \n",
       "38875  419  중구  서울특별시 중구 예장동  중구  2017-01-01 03:00:00  03:00:00   1.4   \n",
       "38876  419  중구  서울특별시 중구 예장동  중구  2017-01-01 04:00:00  04:00:00   2.0   \n",
       "...    ...  ..           ...  ..                  ...       ...   ...   \n",
       "125    419  중구  서울특별시 중구 예장동  중구  2017-04-02 07:00:00  07:00:00   5.0   \n",
       "126    419  중구  서울특별시 중구 예장동  중구  2019-09-19 07:00:00  07:00:00  16.7   \n",
       "127    419  중구  서울특별시 중구 예장동  중구  2019-11-04 10:00:00  10:00:00  14.1   \n",
       "128    419  중구  서울특별시 중구 예장동  중구  2018-09-01 13:00:00  13:00:00  28.0   \n",
       "129    419  중구  서울특별시 중구 예장동  중구  2019-10-03 11:00:00  11:00:00  24.4   \n",
       "\n",
       "       풍속(m/s)  강수량(mm)  습도(%)  일조(hr)  적설(cm)  전운량(10분위)  전운량(10분위)2  눈내림  \\\n",
       "38872      2.5      0.0   79.0     0.0     NaN        7.0         7.0    0   \n",
       "38873      1.3      0.0   78.0     0.0     NaN        NaN         7.0    0   \n",
       "38874      1.2      0.0   81.0     0.0     NaN        NaN         7.0    0   \n",
       "38875      0.8      0.0   84.0     0.0     NaN        0.0         0.0    0   \n",
       "38876      1.2      0.0   85.0     0.0     NaN        0.0         0.0    0   \n",
       "...        ...      ...    ...     ...     ...        ...         ...  ...   \n",
       "125        1.2      0.0   83.0     0.2     NaN        0.0         0.0    0   \n",
       "126        2.1      0.0   56.0     0.4     NaN        0.0         0.0    0   \n",
       "127        1.8      0.0   52.0     1.0     NaN        0.0         0.0    0   \n",
       "128        3.2      0.0   48.0     1.0     NaN        2.0         2.0    0   \n",
       "129        3.1      0.0   66.0     0.6     NaN        9.0         9.0    0   \n",
       "\n",
       "       눈내림2  \n",
       "38872     0  \n",
       "38873     0  \n",
       "38874     0  \n",
       "38875     0  \n",
       "38876     0  \n",
       "...     ...  \n",
       "125       0  \n",
       "126       0  \n",
       "127       0  \n",
       "128       0  \n",
       "129       0  \n",
       "\n",
       "[26280 rows x 16 columns]"
      ]
     },
     "execution_count": 365,
     "metadata": {},
     "output_type": "execute_result"
    }
   ],
   "source": [
    "#420(임의 번호) #종로 #서울특별시 종로구 송월동 #종로구\n",
    "tmp = weather[weather['지점명'] == '중구'].copy()\n",
    "tmp"
   ]
  },
  {
   "cell_type": "code",
   "execution_count": 369,
   "metadata": {
    "ExecuteTime": {
     "end_time": "2020-07-05T13:50:55.770508Z",
     "start_time": "2020-07-05T13:50:55.761567Z"
    }
   },
   "outputs": [],
   "source": [
    "tmp['지점'] = 420\n",
    "tmp['지점명'] = '종로'\n",
    "tmp['주소'] = '서울특별시 종로구 송월동'\n",
    "tmp['구'] = '종로구'"
   ]
  },
  {
   "cell_type": "code",
   "execution_count": 371,
   "metadata": {
    "ExecuteTime": {
     "end_time": "2020-07-05T13:52:05.152781Z",
     "start_time": "2020-07-05T13:52:05.147794Z"
    }
   },
   "outputs": [
    {
     "data": {
      "text/plain": [
       "(26280, 17)"
      ]
     },
     "execution_count": 371,
     "metadata": {},
     "output_type": "execute_result"
    }
   ],
   "source": [
    "tmp.shape"
   ]
  },
  {
   "cell_type": "code",
   "execution_count": 372,
   "metadata": {
    "ExecuteTime": {
     "end_time": "2020-07-05T13:52:16.386175Z",
     "start_time": "2020-07-05T13:52:16.376204Z"
    }
   },
   "outputs": [
    {
     "data": {
      "text/plain": [
       "(630720, 16)"
      ]
     },
     "execution_count": 372,
     "metadata": {},
     "output_type": "execute_result"
    }
   ],
   "source": [
    "weather.shape"
   ]
  },
  {
   "cell_type": "code",
   "execution_count": 375,
   "metadata": {
    "ExecuteTime": {
     "end_time": "2020-07-05T13:52:40.953570Z",
     "start_time": "2020-07-05T13:52:40.752110Z"
    }
   },
   "outputs": [
    {
     "name": "stdout",
     "output_type": "stream",
     "text": [
      "(657000, 17)\n"
     ]
    },
    {
     "data": {
      "text/html": [
       "<div>\n",
       "<style scoped>\n",
       "    .dataframe tbody tr th:only-of-type {\n",
       "        vertical-align: middle;\n",
       "    }\n",
       "\n",
       "    .dataframe tbody tr th {\n",
       "        vertical-align: top;\n",
       "    }\n",
       "\n",
       "    .dataframe thead th {\n",
       "        text-align: right;\n",
       "    }\n",
       "</style>\n",
       "<table border=\"1\" class=\"dataframe\">\n",
       "  <thead>\n",
       "    <tr style=\"text-align: right;\">\n",
       "      <th></th>\n",
       "      <th>지점</th>\n",
       "      <th>지점명</th>\n",
       "      <th>주소</th>\n",
       "      <th>구</th>\n",
       "      <th>일시</th>\n",
       "      <th>시간</th>\n",
       "      <th>기온</th>\n",
       "      <th>풍속(m/s)</th>\n",
       "      <th>강수량(mm)</th>\n",
       "      <th>습도(%)</th>\n",
       "      <th>일조(hr)</th>\n",
       "      <th>적설(cm)</th>\n",
       "      <th>전운량(10분위)</th>\n",
       "      <th>전운량(10분위)2</th>\n",
       "      <th>눈내림</th>\n",
       "      <th>눈내림2</th>\n",
       "      <th>지정명</th>\n",
       "    </tr>\n",
       "  </thead>\n",
       "  <tbody>\n",
       "    <tr>\n",
       "      <th>0</th>\n",
       "      <td>400</td>\n",
       "      <td>강남</td>\n",
       "      <td>서울특별시 강남구 일원동</td>\n",
       "      <td>강남구</td>\n",
       "      <td>2017-01-01 00:00:00</td>\n",
       "      <td>00:00:00</td>\n",
       "      <td>1.7</td>\n",
       "      <td>1.3</td>\n",
       "      <td>0.0</td>\n",
       "      <td>79.0</td>\n",
       "      <td>0.0</td>\n",
       "      <td>NaN</td>\n",
       "      <td>7.0</td>\n",
       "      <td>7.0</td>\n",
       "      <td>0</td>\n",
       "      <td>0</td>\n",
       "      <td>NaN</td>\n",
       "    </tr>\n",
       "    <tr>\n",
       "      <th>1</th>\n",
       "      <td>400</td>\n",
       "      <td>강남</td>\n",
       "      <td>서울특별시 강남구 일원동</td>\n",
       "      <td>강남구</td>\n",
       "      <td>2017-01-01 01:00:00</td>\n",
       "      <td>01:00:00</td>\n",
       "      <td>1.4</td>\n",
       "      <td>1.3</td>\n",
       "      <td>0.0</td>\n",
       "      <td>78.0</td>\n",
       "      <td>0.0</td>\n",
       "      <td>NaN</td>\n",
       "      <td>NaN</td>\n",
       "      <td>7.0</td>\n",
       "      <td>0</td>\n",
       "      <td>0</td>\n",
       "      <td>NaN</td>\n",
       "    </tr>\n",
       "    <tr>\n",
       "      <th>2</th>\n",
       "      <td>400</td>\n",
       "      <td>강남</td>\n",
       "      <td>서울특별시 강남구 일원동</td>\n",
       "      <td>강남구</td>\n",
       "      <td>2017-01-01 02:00:00</td>\n",
       "      <td>02:00:00</td>\n",
       "      <td>1.2</td>\n",
       "      <td>1.6</td>\n",
       "      <td>0.0</td>\n",
       "      <td>81.0</td>\n",
       "      <td>0.0</td>\n",
       "      <td>NaN</td>\n",
       "      <td>NaN</td>\n",
       "      <td>7.0</td>\n",
       "      <td>0</td>\n",
       "      <td>0</td>\n",
       "      <td>NaN</td>\n",
       "    </tr>\n",
       "    <tr>\n",
       "      <th>3</th>\n",
       "      <td>400</td>\n",
       "      <td>강남</td>\n",
       "      <td>서울특별시 강남구 일원동</td>\n",
       "      <td>강남구</td>\n",
       "      <td>2017-01-01 03:00:00</td>\n",
       "      <td>03:00:00</td>\n",
       "      <td>0.5</td>\n",
       "      <td>1.5</td>\n",
       "      <td>0.0</td>\n",
       "      <td>84.0</td>\n",
       "      <td>0.0</td>\n",
       "      <td>NaN</td>\n",
       "      <td>0.0</td>\n",
       "      <td>0.0</td>\n",
       "      <td>0</td>\n",
       "      <td>0</td>\n",
       "      <td>NaN</td>\n",
       "    </tr>\n",
       "    <tr>\n",
       "      <th>4</th>\n",
       "      <td>400</td>\n",
       "      <td>강남</td>\n",
       "      <td>서울특별시 강남구 일원동</td>\n",
       "      <td>강남구</td>\n",
       "      <td>2017-01-01 04:00:00</td>\n",
       "      <td>04:00:00</td>\n",
       "      <td>0.6</td>\n",
       "      <td>0.5</td>\n",
       "      <td>0.0</td>\n",
       "      <td>85.0</td>\n",
       "      <td>0.0</td>\n",
       "      <td>NaN</td>\n",
       "      <td>0.0</td>\n",
       "      <td>0.0</td>\n",
       "      <td>0</td>\n",
       "      <td>0</td>\n",
       "      <td>NaN</td>\n",
       "    </tr>\n",
       "  </tbody>\n",
       "</table>\n",
       "</div>"
      ],
      "text/plain": [
       "    지점 지점명             주소    구                   일시        시간   기온  풍속(m/s)  \\\n",
       "0  400  강남  서울특별시 강남구 일원동  강남구  2017-01-01 00:00:00  00:00:00  1.7      1.3   \n",
       "1  400  강남  서울특별시 강남구 일원동  강남구  2017-01-01 01:00:00  01:00:00  1.4      1.3   \n",
       "2  400  강남  서울특별시 강남구 일원동  강남구  2017-01-01 02:00:00  02:00:00  1.2      1.6   \n",
       "3  400  강남  서울특별시 강남구 일원동  강남구  2017-01-01 03:00:00  03:00:00  0.5      1.5   \n",
       "4  400  강남  서울특별시 강남구 일원동  강남구  2017-01-01 04:00:00  04:00:00  0.6      0.5   \n",
       "\n",
       "   강수량(mm)  습도(%)  일조(hr)  적설(cm)  전운량(10분위)  전운량(10분위)2  눈내림  눈내림2  지정명  \n",
       "0      0.0   79.0     0.0     NaN        7.0         7.0    0     0  NaN  \n",
       "1      0.0   78.0     0.0     NaN        NaN         7.0    0     0  NaN  \n",
       "2      0.0   81.0     0.0     NaN        NaN         7.0    0     0  NaN  \n",
       "3      0.0   84.0     0.0     NaN        0.0         0.0    0     0  NaN  \n",
       "4      0.0   85.0     0.0     NaN        0.0         0.0    0     0  NaN  "
      ]
     },
     "execution_count": 375,
     "metadata": {},
     "output_type": "execute_result"
    }
   ],
   "source": [
    "# 행추가방식으로 병합\n",
    "weather = pd.concat([weather, tmp])\n",
    "print(weather.shape)\n",
    "weather.head()"
   ]
  },
  {
   "cell_type": "code",
   "execution_count": 374,
   "metadata": {
    "ExecuteTime": {
     "end_time": "2020-07-05T13:52:29.685082Z",
     "start_time": "2020-07-05T13:52:29.679100Z"
    }
   },
   "outputs": [
    {
     "data": {
      "text/plain": [
       "657000"
      ]
     },
     "execution_count": 374,
     "metadata": {},
     "output_type": "execute_result"
    }
   ],
   "source": [
    "630720 + 26280"
   ]
  },
  {
   "cell_type": "code",
   "execution_count": 379,
   "metadata": {
    "ExecuteTime": {
     "end_time": "2020-07-05T13:55:37.374132Z",
     "start_time": "2020-07-05T13:55:37.234505Z"
    }
   },
   "outputs": [
    {
     "data": {
      "text/plain": [
       "서초     26280\n",
       "기상청    26280\n",
       "중랑     26280\n",
       "성북     26280\n",
       "강북     26280\n",
       "강남     26280\n",
       "종로     26280\n",
       "구로     26280\n",
       "강동     26280\n",
       "남현     26280\n",
       "마포     26280\n",
       "서대문    26280\n",
       "용산     26280\n",
       "강서     26280\n",
       "금천     26280\n",
       "도봉     26280\n",
       "은평     26280\n",
       "노원     26280\n",
       "송파     26280\n",
       "성동     26280\n",
       "양천     26280\n",
       "중구     26280\n",
       "동대문    26280\n",
       "광진     26280\n",
       "영등포    26280\n",
       "Name: 지점명, dtype: int64"
      ]
     },
     "execution_count": 379,
     "metadata": {},
     "output_type": "execute_result"
    }
   ],
   "source": [
    "weather['지점명'].value_counts()   #25개"
   ]
  },
  {
   "cell_type": "code",
   "execution_count": null,
   "metadata": {},
   "outputs": [],
   "source": [
    "# index_reset\n",
    "weather = weather.reset_index()\n",
    "weather"
   ]
  },
  {
   "cell_type": "code",
   "execution_count": null,
   "metadata": {},
   "outputs": [],
   "source": [
    "weather.drop('index',axis=1,inplace=True)\n",
    "weatherㅌ"
   ]
  },
  {
   "cell_type": "code",
   "execution_count": 391,
   "metadata": {
    "ExecuteTime": {
     "end_time": "2020-07-05T13:59:36.604482Z",
     "start_time": "2020-07-05T13:59:36.352160Z"
    },
    "scrolled": false
   },
   "outputs": [
    {
     "data": {
      "text/html": [
       "<div>\n",
       "<style scoped>\n",
       "    .dataframe tbody tr th:only-of-type {\n",
       "        vertical-align: middle;\n",
       "    }\n",
       "\n",
       "    .dataframe tbody tr th {\n",
       "        vertical-align: top;\n",
       "    }\n",
       "\n",
       "    .dataframe thead th {\n",
       "        text-align: right;\n",
       "    }\n",
       "</style>\n",
       "<table border=\"1\" class=\"dataframe\">\n",
       "  <thead>\n",
       "    <tr style=\"text-align: right;\">\n",
       "      <th></th>\n",
       "      <th>지점</th>\n",
       "      <th>지점명</th>\n",
       "      <th>주소</th>\n",
       "      <th>구</th>\n",
       "      <th>일시</th>\n",
       "      <th>시간</th>\n",
       "      <th>기온</th>\n",
       "      <th>풍속(m/s)</th>\n",
       "      <th>강수량(mm)</th>\n",
       "      <th>습도(%)</th>\n",
       "      <th>일조(hr)</th>\n",
       "      <th>적설(cm)</th>\n",
       "      <th>전운량(10분위)</th>\n",
       "      <th>전운량(10분위)2</th>\n",
       "      <th>눈내림</th>\n",
       "      <th>눈내림2</th>\n",
       "    </tr>\n",
       "  </thead>\n",
       "  <tbody>\n",
       "    <tr>\n",
       "      <th>0</th>\n",
       "      <td>400</td>\n",
       "      <td>강남</td>\n",
       "      <td>서울특별시 강남구 일원동</td>\n",
       "      <td>강남구</td>\n",
       "      <td>2017-01-01 00:00:00</td>\n",
       "      <td>00:00:00</td>\n",
       "      <td>1.7</td>\n",
       "      <td>1.3</td>\n",
       "      <td>0.0</td>\n",
       "      <td>79.0</td>\n",
       "      <td>0.0</td>\n",
       "      <td>NaN</td>\n",
       "      <td>7.0</td>\n",
       "      <td>7.0</td>\n",
       "      <td>0</td>\n",
       "      <td>0</td>\n",
       "    </tr>\n",
       "    <tr>\n",
       "      <th>1</th>\n",
       "      <td>400</td>\n",
       "      <td>강남</td>\n",
       "      <td>서울특별시 강남구 일원동</td>\n",
       "      <td>강남구</td>\n",
       "      <td>2017-01-01 01:00:00</td>\n",
       "      <td>01:00:00</td>\n",
       "      <td>1.4</td>\n",
       "      <td>1.3</td>\n",
       "      <td>0.0</td>\n",
       "      <td>78.0</td>\n",
       "      <td>0.0</td>\n",
       "      <td>NaN</td>\n",
       "      <td>NaN</td>\n",
       "      <td>7.0</td>\n",
       "      <td>0</td>\n",
       "      <td>0</td>\n",
       "    </tr>\n",
       "    <tr>\n",
       "      <th>2</th>\n",
       "      <td>400</td>\n",
       "      <td>강남</td>\n",
       "      <td>서울특별시 강남구 일원동</td>\n",
       "      <td>강남구</td>\n",
       "      <td>2017-01-01 02:00:00</td>\n",
       "      <td>02:00:00</td>\n",
       "      <td>1.2</td>\n",
       "      <td>1.6</td>\n",
       "      <td>0.0</td>\n",
       "      <td>81.0</td>\n",
       "      <td>0.0</td>\n",
       "      <td>NaN</td>\n",
       "      <td>NaN</td>\n",
       "      <td>7.0</td>\n",
       "      <td>0</td>\n",
       "      <td>0</td>\n",
       "    </tr>\n",
       "    <tr>\n",
       "      <th>3</th>\n",
       "      <td>400</td>\n",
       "      <td>강남</td>\n",
       "      <td>서울특별시 강남구 일원동</td>\n",
       "      <td>강남구</td>\n",
       "      <td>2017-01-01 03:00:00</td>\n",
       "      <td>03:00:00</td>\n",
       "      <td>0.5</td>\n",
       "      <td>1.5</td>\n",
       "      <td>0.0</td>\n",
       "      <td>84.0</td>\n",
       "      <td>0.0</td>\n",
       "      <td>NaN</td>\n",
       "      <td>0.0</td>\n",
       "      <td>0.0</td>\n",
       "      <td>0</td>\n",
       "      <td>0</td>\n",
       "    </tr>\n",
       "    <tr>\n",
       "      <th>4</th>\n",
       "      <td>400</td>\n",
       "      <td>강남</td>\n",
       "      <td>서울특별시 강남구 일원동</td>\n",
       "      <td>강남구</td>\n",
       "      <td>2017-01-01 04:00:00</td>\n",
       "      <td>04:00:00</td>\n",
       "      <td>0.6</td>\n",
       "      <td>0.5</td>\n",
       "      <td>0.0</td>\n",
       "      <td>85.0</td>\n",
       "      <td>0.0</td>\n",
       "      <td>NaN</td>\n",
       "      <td>0.0</td>\n",
       "      <td>0.0</td>\n",
       "      <td>0</td>\n",
       "      <td>0</td>\n",
       "    </tr>\n",
       "    <tr>\n",
       "      <th>...</th>\n",
       "      <td>...</td>\n",
       "      <td>...</td>\n",
       "      <td>...</td>\n",
       "      <td>...</td>\n",
       "      <td>...</td>\n",
       "      <td>...</td>\n",
       "      <td>...</td>\n",
       "      <td>...</td>\n",
       "      <td>...</td>\n",
       "      <td>...</td>\n",
       "      <td>...</td>\n",
       "      <td>...</td>\n",
       "      <td>...</td>\n",
       "      <td>...</td>\n",
       "      <td>...</td>\n",
       "      <td>...</td>\n",
       "    </tr>\n",
       "    <tr>\n",
       "      <th>656995</th>\n",
       "      <td>409</td>\n",
       "      <td>중랑</td>\n",
       "      <td>서울특별시 중랑구 면목동</td>\n",
       "      <td>중랑구</td>\n",
       "      <td>2019-12-31 19:00:00</td>\n",
       "      <td>19:00:00</td>\n",
       "      <td>-5.5</td>\n",
       "      <td>2.6</td>\n",
       "      <td>0.0</td>\n",
       "      <td>38.0</td>\n",
       "      <td>0.0</td>\n",
       "      <td>NaN</td>\n",
       "      <td>0.0</td>\n",
       "      <td>0.0</td>\n",
       "      <td>0</td>\n",
       "      <td>0</td>\n",
       "    </tr>\n",
       "    <tr>\n",
       "      <th>656996</th>\n",
       "      <td>409</td>\n",
       "      <td>중랑</td>\n",
       "      <td>서울특별시 중랑구 면목동</td>\n",
       "      <td>중랑구</td>\n",
       "      <td>2019-12-31 20:00:00</td>\n",
       "      <td>20:00:00</td>\n",
       "      <td>-5.6</td>\n",
       "      <td>2.4</td>\n",
       "      <td>0.0</td>\n",
       "      <td>41.0</td>\n",
       "      <td>0.0</td>\n",
       "      <td>NaN</td>\n",
       "      <td>0.0</td>\n",
       "      <td>0.0</td>\n",
       "      <td>0</td>\n",
       "      <td>0</td>\n",
       "    </tr>\n",
       "    <tr>\n",
       "      <th>656997</th>\n",
       "      <td>409</td>\n",
       "      <td>중랑</td>\n",
       "      <td>서울특별시 중랑구 면목동</td>\n",
       "      <td>중랑구</td>\n",
       "      <td>2019-12-31 21:00:00</td>\n",
       "      <td>21:00:00</td>\n",
       "      <td>-5.6</td>\n",
       "      <td>1.6</td>\n",
       "      <td>0.0</td>\n",
       "      <td>43.0</td>\n",
       "      <td>0.0</td>\n",
       "      <td>NaN</td>\n",
       "      <td>0.0</td>\n",
       "      <td>0.0</td>\n",
       "      <td>0</td>\n",
       "      <td>0</td>\n",
       "    </tr>\n",
       "    <tr>\n",
       "      <th>656998</th>\n",
       "      <td>409</td>\n",
       "      <td>중랑</td>\n",
       "      <td>서울특별시 중랑구 면목동</td>\n",
       "      <td>중랑구</td>\n",
       "      <td>2019-12-31 22:00:00</td>\n",
       "      <td>22:00:00</td>\n",
       "      <td>-5.8</td>\n",
       "      <td>1.3</td>\n",
       "      <td>0.0</td>\n",
       "      <td>42.0</td>\n",
       "      <td>0.0</td>\n",
       "      <td>NaN</td>\n",
       "      <td>0.0</td>\n",
       "      <td>0.0</td>\n",
       "      <td>0</td>\n",
       "      <td>0</td>\n",
       "    </tr>\n",
       "    <tr>\n",
       "      <th>656999</th>\n",
       "      <td>409</td>\n",
       "      <td>중랑</td>\n",
       "      <td>서울특별시 중랑구 면목동</td>\n",
       "      <td>중랑구</td>\n",
       "      <td>2019-12-31 23:00:00</td>\n",
       "      <td>23:00:00</td>\n",
       "      <td>-5.9</td>\n",
       "      <td>1.3</td>\n",
       "      <td>0.0</td>\n",
       "      <td>45.0</td>\n",
       "      <td>0.0</td>\n",
       "      <td>NaN</td>\n",
       "      <td>9.0</td>\n",
       "      <td>9.0</td>\n",
       "      <td>0</td>\n",
       "      <td>0</td>\n",
       "    </tr>\n",
       "  </tbody>\n",
       "</table>\n",
       "<p>657000 rows × 16 columns</p>\n",
       "</div>"
      ],
      "text/plain": [
       "         지점 지점명             주소    구                   일시        시간   기온  \\\n",
       "0       400  강남  서울특별시 강남구 일원동  강남구  2017-01-01 00:00:00  00:00:00  1.7   \n",
       "1       400  강남  서울특별시 강남구 일원동  강남구  2017-01-01 01:00:00  01:00:00  1.4   \n",
       "2       400  강남  서울특별시 강남구 일원동  강남구  2017-01-01 02:00:00  02:00:00  1.2   \n",
       "3       400  강남  서울특별시 강남구 일원동  강남구  2017-01-01 03:00:00  03:00:00  0.5   \n",
       "4       400  강남  서울특별시 강남구 일원동  강남구  2017-01-01 04:00:00  04:00:00  0.6   \n",
       "...     ...  ..            ...  ...                  ...       ...  ...   \n",
       "656995  409  중랑  서울특별시 중랑구 면목동  중랑구  2019-12-31 19:00:00  19:00:00 -5.5   \n",
       "656996  409  중랑  서울특별시 중랑구 면목동  중랑구  2019-12-31 20:00:00  20:00:00 -5.6   \n",
       "656997  409  중랑  서울특별시 중랑구 면목동  중랑구  2019-12-31 21:00:00  21:00:00 -5.6   \n",
       "656998  409  중랑  서울특별시 중랑구 면목동  중랑구  2019-12-31 22:00:00  22:00:00 -5.8   \n",
       "656999  409  중랑  서울특별시 중랑구 면목동  중랑구  2019-12-31 23:00:00  23:00:00 -5.9   \n",
       "\n",
       "        풍속(m/s)  강수량(mm)  습도(%)  일조(hr)  적설(cm)  전운량(10분위)  전운량(10분위)2  눈내림  \\\n",
       "0           1.3      0.0   79.0     0.0     NaN        7.0         7.0    0   \n",
       "1           1.3      0.0   78.0     0.0     NaN        NaN         7.0    0   \n",
       "2           1.6      0.0   81.0     0.0     NaN        NaN         7.0    0   \n",
       "3           1.5      0.0   84.0     0.0     NaN        0.0         0.0    0   \n",
       "4           0.5      0.0   85.0     0.0     NaN        0.0         0.0    0   \n",
       "...         ...      ...    ...     ...     ...        ...         ...  ...   \n",
       "656995      2.6      0.0   38.0     0.0     NaN        0.0         0.0    0   \n",
       "656996      2.4      0.0   41.0     0.0     NaN        0.0         0.0    0   \n",
       "656997      1.6      0.0   43.0     0.0     NaN        0.0         0.0    0   \n",
       "656998      1.3      0.0   42.0     0.0     NaN        0.0         0.0    0   \n",
       "656999      1.3      0.0   45.0     0.0     NaN        9.0         9.0    0   \n",
       "\n",
       "        눈내림2  \n",
       "0          0  \n",
       "1          0  \n",
       "2          0  \n",
       "3          0  \n",
       "4          0  \n",
       "...      ...  \n",
       "656995     0  \n",
       "656996     0  \n",
       "656997     0  \n",
       "656998     0  \n",
       "656999     0  \n",
       "\n",
       "[657000 rows x 16 columns]"
      ]
     },
     "execution_count": 391,
     "metadata": {},
     "output_type": "execute_result"
    }
   ],
   "source": [
    "weather.drop('index',axis=1,inplace=True)\n",
    "weather"
   ]
  },
  {
   "cell_type": "code",
   "execution_count": 416,
   "metadata": {
    "ExecuteTime": {
     "end_time": "2020-07-05T14:26:58.347240Z",
     "start_time": "2020-07-05T14:26:58.228528Z"
    }
   },
   "outputs": [],
   "source": [
    "weather = weather[['지점', '지점명', '주소', '구', '일시', '시간', '기온', '풍속(m/s)', '강수량(mm)', '습도(%)',\n",
    "       '일조(hr)', '전운량(10분위)', '전운량(10분위)2', '적설(cm)', '눈내림(시간별)', '눈내림(일별)']]"
   ]
  },
  {
   "cell_type": "code",
   "execution_count": 417,
   "metadata": {
    "ExecuteTime": {
     "end_time": "2020-07-05T14:27:05.609569Z",
     "start_time": "2020-07-05T14:27:05.565688Z"
    }
   },
   "outputs": [
    {
     "data": {
      "text/html": [
       "<div>\n",
       "<style scoped>\n",
       "    .dataframe tbody tr th:only-of-type {\n",
       "        vertical-align: middle;\n",
       "    }\n",
       "\n",
       "    .dataframe tbody tr th {\n",
       "        vertical-align: top;\n",
       "    }\n",
       "\n",
       "    .dataframe thead th {\n",
       "        text-align: right;\n",
       "    }\n",
       "</style>\n",
       "<table border=\"1\" class=\"dataframe\">\n",
       "  <thead>\n",
       "    <tr style=\"text-align: right;\">\n",
       "      <th></th>\n",
       "      <th>지점</th>\n",
       "      <th>지점명</th>\n",
       "      <th>주소</th>\n",
       "      <th>구</th>\n",
       "      <th>일시</th>\n",
       "      <th>시간</th>\n",
       "      <th>기온</th>\n",
       "      <th>풍속(m/s)</th>\n",
       "      <th>강수량(mm)</th>\n",
       "      <th>습도(%)</th>\n",
       "      <th>일조(hr)</th>\n",
       "      <th>전운량(10분위)</th>\n",
       "      <th>전운량(10분위)2</th>\n",
       "      <th>적설(cm)</th>\n",
       "      <th>눈내림(시간별)</th>\n",
       "      <th>눈내림(일별)</th>\n",
       "    </tr>\n",
       "  </thead>\n",
       "  <tbody>\n",
       "    <tr>\n",
       "      <th>0</th>\n",
       "      <td>400</td>\n",
       "      <td>강남</td>\n",
       "      <td>서울특별시 강남구 일원동</td>\n",
       "      <td>강남구</td>\n",
       "      <td>2017-01-01 00:00:00</td>\n",
       "      <td>00:00:00</td>\n",
       "      <td>1.7</td>\n",
       "      <td>1.3</td>\n",
       "      <td>0.0</td>\n",
       "      <td>79.0</td>\n",
       "      <td>0.0</td>\n",
       "      <td>7.0</td>\n",
       "      <td>7.0</td>\n",
       "      <td>NaN</td>\n",
       "      <td>0</td>\n",
       "      <td>0</td>\n",
       "    </tr>\n",
       "    <tr>\n",
       "      <th>1</th>\n",
       "      <td>400</td>\n",
       "      <td>강남</td>\n",
       "      <td>서울특별시 강남구 일원동</td>\n",
       "      <td>강남구</td>\n",
       "      <td>2017-01-01 01:00:00</td>\n",
       "      <td>01:00:00</td>\n",
       "      <td>1.4</td>\n",
       "      <td>1.3</td>\n",
       "      <td>0.0</td>\n",
       "      <td>78.0</td>\n",
       "      <td>0.0</td>\n",
       "      <td>NaN</td>\n",
       "      <td>7.0</td>\n",
       "      <td>NaN</td>\n",
       "      <td>0</td>\n",
       "      <td>0</td>\n",
       "    </tr>\n",
       "    <tr>\n",
       "      <th>2</th>\n",
       "      <td>400</td>\n",
       "      <td>강남</td>\n",
       "      <td>서울특별시 강남구 일원동</td>\n",
       "      <td>강남구</td>\n",
       "      <td>2017-01-01 02:00:00</td>\n",
       "      <td>02:00:00</td>\n",
       "      <td>1.2</td>\n",
       "      <td>1.6</td>\n",
       "      <td>0.0</td>\n",
       "      <td>81.0</td>\n",
       "      <td>0.0</td>\n",
       "      <td>NaN</td>\n",
       "      <td>7.0</td>\n",
       "      <td>NaN</td>\n",
       "      <td>0</td>\n",
       "      <td>0</td>\n",
       "    </tr>\n",
       "    <tr>\n",
       "      <th>3</th>\n",
       "      <td>400</td>\n",
       "      <td>강남</td>\n",
       "      <td>서울특별시 강남구 일원동</td>\n",
       "      <td>강남구</td>\n",
       "      <td>2017-01-01 03:00:00</td>\n",
       "      <td>03:00:00</td>\n",
       "      <td>0.5</td>\n",
       "      <td>1.5</td>\n",
       "      <td>0.0</td>\n",
       "      <td>84.0</td>\n",
       "      <td>0.0</td>\n",
       "      <td>0.0</td>\n",
       "      <td>0.0</td>\n",
       "      <td>NaN</td>\n",
       "      <td>0</td>\n",
       "      <td>0</td>\n",
       "    </tr>\n",
       "    <tr>\n",
       "      <th>4</th>\n",
       "      <td>400</td>\n",
       "      <td>강남</td>\n",
       "      <td>서울특별시 강남구 일원동</td>\n",
       "      <td>강남구</td>\n",
       "      <td>2017-01-01 04:00:00</td>\n",
       "      <td>04:00:00</td>\n",
       "      <td>0.6</td>\n",
       "      <td>0.5</td>\n",
       "      <td>0.0</td>\n",
       "      <td>85.0</td>\n",
       "      <td>0.0</td>\n",
       "      <td>0.0</td>\n",
       "      <td>0.0</td>\n",
       "      <td>NaN</td>\n",
       "      <td>0</td>\n",
       "      <td>0</td>\n",
       "    </tr>\n",
       "    <tr>\n",
       "      <th>...</th>\n",
       "      <td>...</td>\n",
       "      <td>...</td>\n",
       "      <td>...</td>\n",
       "      <td>...</td>\n",
       "      <td>...</td>\n",
       "      <td>...</td>\n",
       "      <td>...</td>\n",
       "      <td>...</td>\n",
       "      <td>...</td>\n",
       "      <td>...</td>\n",
       "      <td>...</td>\n",
       "      <td>...</td>\n",
       "      <td>...</td>\n",
       "      <td>...</td>\n",
       "      <td>...</td>\n",
       "      <td>...</td>\n",
       "    </tr>\n",
       "    <tr>\n",
       "      <th>656995</th>\n",
       "      <td>409</td>\n",
       "      <td>중랑</td>\n",
       "      <td>서울특별시 중랑구 면목동</td>\n",
       "      <td>중랑구</td>\n",
       "      <td>2019-12-31 19:00:00</td>\n",
       "      <td>19:00:00</td>\n",
       "      <td>-5.5</td>\n",
       "      <td>2.6</td>\n",
       "      <td>0.0</td>\n",
       "      <td>38.0</td>\n",
       "      <td>0.0</td>\n",
       "      <td>0.0</td>\n",
       "      <td>0.0</td>\n",
       "      <td>NaN</td>\n",
       "      <td>0</td>\n",
       "      <td>0</td>\n",
       "    </tr>\n",
       "    <tr>\n",
       "      <th>656996</th>\n",
       "      <td>409</td>\n",
       "      <td>중랑</td>\n",
       "      <td>서울특별시 중랑구 면목동</td>\n",
       "      <td>중랑구</td>\n",
       "      <td>2019-12-31 20:00:00</td>\n",
       "      <td>20:00:00</td>\n",
       "      <td>-5.6</td>\n",
       "      <td>2.4</td>\n",
       "      <td>0.0</td>\n",
       "      <td>41.0</td>\n",
       "      <td>0.0</td>\n",
       "      <td>0.0</td>\n",
       "      <td>0.0</td>\n",
       "      <td>NaN</td>\n",
       "      <td>0</td>\n",
       "      <td>0</td>\n",
       "    </tr>\n",
       "    <tr>\n",
       "      <th>656997</th>\n",
       "      <td>409</td>\n",
       "      <td>중랑</td>\n",
       "      <td>서울특별시 중랑구 면목동</td>\n",
       "      <td>중랑구</td>\n",
       "      <td>2019-12-31 21:00:00</td>\n",
       "      <td>21:00:00</td>\n",
       "      <td>-5.6</td>\n",
       "      <td>1.6</td>\n",
       "      <td>0.0</td>\n",
       "      <td>43.0</td>\n",
       "      <td>0.0</td>\n",
       "      <td>0.0</td>\n",
       "      <td>0.0</td>\n",
       "      <td>NaN</td>\n",
       "      <td>0</td>\n",
       "      <td>0</td>\n",
       "    </tr>\n",
       "    <tr>\n",
       "      <th>656998</th>\n",
       "      <td>409</td>\n",
       "      <td>중랑</td>\n",
       "      <td>서울특별시 중랑구 면목동</td>\n",
       "      <td>중랑구</td>\n",
       "      <td>2019-12-31 22:00:00</td>\n",
       "      <td>22:00:00</td>\n",
       "      <td>-5.8</td>\n",
       "      <td>1.3</td>\n",
       "      <td>0.0</td>\n",
       "      <td>42.0</td>\n",
       "      <td>0.0</td>\n",
       "      <td>0.0</td>\n",
       "      <td>0.0</td>\n",
       "      <td>NaN</td>\n",
       "      <td>0</td>\n",
       "      <td>0</td>\n",
       "    </tr>\n",
       "    <tr>\n",
       "      <th>656999</th>\n",
       "      <td>409</td>\n",
       "      <td>중랑</td>\n",
       "      <td>서울특별시 중랑구 면목동</td>\n",
       "      <td>중랑구</td>\n",
       "      <td>2019-12-31 23:00:00</td>\n",
       "      <td>23:00:00</td>\n",
       "      <td>-5.9</td>\n",
       "      <td>1.3</td>\n",
       "      <td>0.0</td>\n",
       "      <td>45.0</td>\n",
       "      <td>0.0</td>\n",
       "      <td>9.0</td>\n",
       "      <td>9.0</td>\n",
       "      <td>NaN</td>\n",
       "      <td>0</td>\n",
       "      <td>0</td>\n",
       "    </tr>\n",
       "  </tbody>\n",
       "</table>\n",
       "<p>657000 rows × 16 columns</p>\n",
       "</div>"
      ],
      "text/plain": [
       "         지점 지점명             주소    구                   일시        시간   기온  \\\n",
       "0       400  강남  서울특별시 강남구 일원동  강남구  2017-01-01 00:00:00  00:00:00  1.7   \n",
       "1       400  강남  서울특별시 강남구 일원동  강남구  2017-01-01 01:00:00  01:00:00  1.4   \n",
       "2       400  강남  서울특별시 강남구 일원동  강남구  2017-01-01 02:00:00  02:00:00  1.2   \n",
       "3       400  강남  서울특별시 강남구 일원동  강남구  2017-01-01 03:00:00  03:00:00  0.5   \n",
       "4       400  강남  서울특별시 강남구 일원동  강남구  2017-01-01 04:00:00  04:00:00  0.6   \n",
       "...     ...  ..            ...  ...                  ...       ...  ...   \n",
       "656995  409  중랑  서울특별시 중랑구 면목동  중랑구  2019-12-31 19:00:00  19:00:00 -5.5   \n",
       "656996  409  중랑  서울특별시 중랑구 면목동  중랑구  2019-12-31 20:00:00  20:00:00 -5.6   \n",
       "656997  409  중랑  서울특별시 중랑구 면목동  중랑구  2019-12-31 21:00:00  21:00:00 -5.6   \n",
       "656998  409  중랑  서울특별시 중랑구 면목동  중랑구  2019-12-31 22:00:00  22:00:00 -5.8   \n",
       "656999  409  중랑  서울특별시 중랑구 면목동  중랑구  2019-12-31 23:00:00  23:00:00 -5.9   \n",
       "\n",
       "        풍속(m/s)  강수량(mm)  습도(%)  일조(hr)  전운량(10분위)  전운량(10분위)2  적설(cm)  \\\n",
       "0           1.3      0.0   79.0     0.0        7.0         7.0     NaN   \n",
       "1           1.3      0.0   78.0     0.0        NaN         7.0     NaN   \n",
       "2           1.6      0.0   81.0     0.0        NaN         7.0     NaN   \n",
       "3           1.5      0.0   84.0     0.0        0.0         0.0     NaN   \n",
       "4           0.5      0.0   85.0     0.0        0.0         0.0     NaN   \n",
       "...         ...      ...    ...     ...        ...         ...     ...   \n",
       "656995      2.6      0.0   38.0     0.0        0.0         0.0     NaN   \n",
       "656996      2.4      0.0   41.0     0.0        0.0         0.0     NaN   \n",
       "656997      1.6      0.0   43.0     0.0        0.0         0.0     NaN   \n",
       "656998      1.3      0.0   42.0     0.0        0.0         0.0     NaN   \n",
       "656999      1.3      0.0   45.0     0.0        9.0         9.0     NaN   \n",
       "\n",
       "        눈내림(시간별)  눈내림(일별)  \n",
       "0              0        0  \n",
       "1              0        0  \n",
       "2              0        0  \n",
       "3              0        0  \n",
       "4              0        0  \n",
       "...          ...      ...  \n",
       "656995         0        0  \n",
       "656996         0        0  \n",
       "656997         0        0  \n",
       "656998         0        0  \n",
       "656999         0        0  \n",
       "\n",
       "[657000 rows x 16 columns]"
      ]
     },
     "execution_count": 417,
     "metadata": {},
     "output_type": "execute_result"
    }
   ],
   "source": [
    "weather"
   ]
  },
  {
   "cell_type": "code",
   "execution_count": 396,
   "metadata": {
    "ExecuteTime": {
     "end_time": "2020-07-05T14:05:23.864012Z",
     "start_time": "2020-07-05T14:05:23.671530Z"
    }
   },
   "outputs": [
    {
     "data": {
      "text/html": [
       "<div>\n",
       "<style scoped>\n",
       "    .dataframe tbody tr th:only-of-type {\n",
       "        vertical-align: middle;\n",
       "    }\n",
       "\n",
       "    .dataframe tbody tr th {\n",
       "        vertical-align: top;\n",
       "    }\n",
       "\n",
       "    .dataframe thead th {\n",
       "        text-align: right;\n",
       "    }\n",
       "</style>\n",
       "<table border=\"1\" class=\"dataframe\">\n",
       "  <thead>\n",
       "    <tr style=\"text-align: right;\">\n",
       "      <th></th>\n",
       "      <th>지점</th>\n",
       "      <th>지점명</th>\n",
       "      <th>주소</th>\n",
       "      <th>구</th>\n",
       "      <th>일시</th>\n",
       "      <th>시간</th>\n",
       "      <th>기온</th>\n",
       "      <th>풍속(m/s)</th>\n",
       "      <th>강수량(mm)</th>\n",
       "      <th>습도(%)</th>\n",
       "      <th>일조(hr)</th>\n",
       "      <th>적설(cm)</th>\n",
       "      <th>전운량(10분위)</th>\n",
       "      <th>전운량(10분위)2</th>\n",
       "      <th>눈내림(시간별)</th>\n",
       "      <th>눈내림(일별)</th>\n",
       "    </tr>\n",
       "  </thead>\n",
       "  <tbody>\n",
       "    <tr>\n",
       "      <th>0</th>\n",
       "      <td>400</td>\n",
       "      <td>강남</td>\n",
       "      <td>서울특별시 강남구 일원동</td>\n",
       "      <td>강남구</td>\n",
       "      <td>2017-01-01 00:00:00</td>\n",
       "      <td>00:00:00</td>\n",
       "      <td>1.7</td>\n",
       "      <td>1.3</td>\n",
       "      <td>0.0</td>\n",
       "      <td>79.0</td>\n",
       "      <td>0.0</td>\n",
       "      <td>NaN</td>\n",
       "      <td>7.0</td>\n",
       "      <td>7.0</td>\n",
       "      <td>0</td>\n",
       "      <td>0</td>\n",
       "    </tr>\n",
       "    <tr>\n",
       "      <th>1</th>\n",
       "      <td>400</td>\n",
       "      <td>강남</td>\n",
       "      <td>서울특별시 강남구 일원동</td>\n",
       "      <td>강남구</td>\n",
       "      <td>2017-01-01 01:00:00</td>\n",
       "      <td>01:00:00</td>\n",
       "      <td>1.4</td>\n",
       "      <td>1.3</td>\n",
       "      <td>0.0</td>\n",
       "      <td>78.0</td>\n",
       "      <td>0.0</td>\n",
       "      <td>NaN</td>\n",
       "      <td>NaN</td>\n",
       "      <td>7.0</td>\n",
       "      <td>0</td>\n",
       "      <td>0</td>\n",
       "    </tr>\n",
       "    <tr>\n",
       "      <th>2</th>\n",
       "      <td>400</td>\n",
       "      <td>강남</td>\n",
       "      <td>서울특별시 강남구 일원동</td>\n",
       "      <td>강남구</td>\n",
       "      <td>2017-01-01 02:00:00</td>\n",
       "      <td>02:00:00</td>\n",
       "      <td>1.2</td>\n",
       "      <td>1.6</td>\n",
       "      <td>0.0</td>\n",
       "      <td>81.0</td>\n",
       "      <td>0.0</td>\n",
       "      <td>NaN</td>\n",
       "      <td>NaN</td>\n",
       "      <td>7.0</td>\n",
       "      <td>0</td>\n",
       "      <td>0</td>\n",
       "    </tr>\n",
       "    <tr>\n",
       "      <th>3</th>\n",
       "      <td>400</td>\n",
       "      <td>강남</td>\n",
       "      <td>서울특별시 강남구 일원동</td>\n",
       "      <td>강남구</td>\n",
       "      <td>2017-01-01 03:00:00</td>\n",
       "      <td>03:00:00</td>\n",
       "      <td>0.5</td>\n",
       "      <td>1.5</td>\n",
       "      <td>0.0</td>\n",
       "      <td>84.0</td>\n",
       "      <td>0.0</td>\n",
       "      <td>NaN</td>\n",
       "      <td>0.0</td>\n",
       "      <td>0.0</td>\n",
       "      <td>0</td>\n",
       "      <td>0</td>\n",
       "    </tr>\n",
       "    <tr>\n",
       "      <th>4</th>\n",
       "      <td>400</td>\n",
       "      <td>강남</td>\n",
       "      <td>서울특별시 강남구 일원동</td>\n",
       "      <td>강남구</td>\n",
       "      <td>2017-01-01 04:00:00</td>\n",
       "      <td>04:00:00</td>\n",
       "      <td>0.6</td>\n",
       "      <td>0.5</td>\n",
       "      <td>0.0</td>\n",
       "      <td>85.0</td>\n",
       "      <td>0.0</td>\n",
       "      <td>NaN</td>\n",
       "      <td>0.0</td>\n",
       "      <td>0.0</td>\n",
       "      <td>0</td>\n",
       "      <td>0</td>\n",
       "    </tr>\n",
       "    <tr>\n",
       "      <th>...</th>\n",
       "      <td>...</td>\n",
       "      <td>...</td>\n",
       "      <td>...</td>\n",
       "      <td>...</td>\n",
       "      <td>...</td>\n",
       "      <td>...</td>\n",
       "      <td>...</td>\n",
       "      <td>...</td>\n",
       "      <td>...</td>\n",
       "      <td>...</td>\n",
       "      <td>...</td>\n",
       "      <td>...</td>\n",
       "      <td>...</td>\n",
       "      <td>...</td>\n",
       "      <td>...</td>\n",
       "      <td>...</td>\n",
       "    </tr>\n",
       "    <tr>\n",
       "      <th>656995</th>\n",
       "      <td>409</td>\n",
       "      <td>중랑</td>\n",
       "      <td>서울특별시 중랑구 면목동</td>\n",
       "      <td>중랑구</td>\n",
       "      <td>2019-12-31 19:00:00</td>\n",
       "      <td>19:00:00</td>\n",
       "      <td>-5.5</td>\n",
       "      <td>2.6</td>\n",
       "      <td>0.0</td>\n",
       "      <td>38.0</td>\n",
       "      <td>0.0</td>\n",
       "      <td>NaN</td>\n",
       "      <td>0.0</td>\n",
       "      <td>0.0</td>\n",
       "      <td>0</td>\n",
       "      <td>0</td>\n",
       "    </tr>\n",
       "    <tr>\n",
       "      <th>656996</th>\n",
       "      <td>409</td>\n",
       "      <td>중랑</td>\n",
       "      <td>서울특별시 중랑구 면목동</td>\n",
       "      <td>중랑구</td>\n",
       "      <td>2019-12-31 20:00:00</td>\n",
       "      <td>20:00:00</td>\n",
       "      <td>-5.6</td>\n",
       "      <td>2.4</td>\n",
       "      <td>0.0</td>\n",
       "      <td>41.0</td>\n",
       "      <td>0.0</td>\n",
       "      <td>NaN</td>\n",
       "      <td>0.0</td>\n",
       "      <td>0.0</td>\n",
       "      <td>0</td>\n",
       "      <td>0</td>\n",
       "    </tr>\n",
       "    <tr>\n",
       "      <th>656997</th>\n",
       "      <td>409</td>\n",
       "      <td>중랑</td>\n",
       "      <td>서울특별시 중랑구 면목동</td>\n",
       "      <td>중랑구</td>\n",
       "      <td>2019-12-31 21:00:00</td>\n",
       "      <td>21:00:00</td>\n",
       "      <td>-5.6</td>\n",
       "      <td>1.6</td>\n",
       "      <td>0.0</td>\n",
       "      <td>43.0</td>\n",
       "      <td>0.0</td>\n",
       "      <td>NaN</td>\n",
       "      <td>0.0</td>\n",
       "      <td>0.0</td>\n",
       "      <td>0</td>\n",
       "      <td>0</td>\n",
       "    </tr>\n",
       "    <tr>\n",
       "      <th>656998</th>\n",
       "      <td>409</td>\n",
       "      <td>중랑</td>\n",
       "      <td>서울특별시 중랑구 면목동</td>\n",
       "      <td>중랑구</td>\n",
       "      <td>2019-12-31 22:00:00</td>\n",
       "      <td>22:00:00</td>\n",
       "      <td>-5.8</td>\n",
       "      <td>1.3</td>\n",
       "      <td>0.0</td>\n",
       "      <td>42.0</td>\n",
       "      <td>0.0</td>\n",
       "      <td>NaN</td>\n",
       "      <td>0.0</td>\n",
       "      <td>0.0</td>\n",
       "      <td>0</td>\n",
       "      <td>0</td>\n",
       "    </tr>\n",
       "    <tr>\n",
       "      <th>656999</th>\n",
       "      <td>409</td>\n",
       "      <td>중랑</td>\n",
       "      <td>서울특별시 중랑구 면목동</td>\n",
       "      <td>중랑구</td>\n",
       "      <td>2019-12-31 23:00:00</td>\n",
       "      <td>23:00:00</td>\n",
       "      <td>-5.9</td>\n",
       "      <td>1.3</td>\n",
       "      <td>0.0</td>\n",
       "      <td>45.0</td>\n",
       "      <td>0.0</td>\n",
       "      <td>NaN</td>\n",
       "      <td>9.0</td>\n",
       "      <td>9.0</td>\n",
       "      <td>0</td>\n",
       "      <td>0</td>\n",
       "    </tr>\n",
       "  </tbody>\n",
       "</table>\n",
       "<p>657000 rows × 16 columns</p>\n",
       "</div>"
      ],
      "text/plain": [
       "         지점 지점명             주소    구                   일시        시간   기온  \\\n",
       "0       400  강남  서울특별시 강남구 일원동  강남구  2017-01-01 00:00:00  00:00:00  1.7   \n",
       "1       400  강남  서울특별시 강남구 일원동  강남구  2017-01-01 01:00:00  01:00:00  1.4   \n",
       "2       400  강남  서울특별시 강남구 일원동  강남구  2017-01-01 02:00:00  02:00:00  1.2   \n",
       "3       400  강남  서울특별시 강남구 일원동  강남구  2017-01-01 03:00:00  03:00:00  0.5   \n",
       "4       400  강남  서울특별시 강남구 일원동  강남구  2017-01-01 04:00:00  04:00:00  0.6   \n",
       "...     ...  ..            ...  ...                  ...       ...  ...   \n",
       "656995  409  중랑  서울특별시 중랑구 면목동  중랑구  2019-12-31 19:00:00  19:00:00 -5.5   \n",
       "656996  409  중랑  서울특별시 중랑구 면목동  중랑구  2019-12-31 20:00:00  20:00:00 -5.6   \n",
       "656997  409  중랑  서울특별시 중랑구 면목동  중랑구  2019-12-31 21:00:00  21:00:00 -5.6   \n",
       "656998  409  중랑  서울특별시 중랑구 면목동  중랑구  2019-12-31 22:00:00  22:00:00 -5.8   \n",
       "656999  409  중랑  서울특별시 중랑구 면목동  중랑구  2019-12-31 23:00:00  23:00:00 -5.9   \n",
       "\n",
       "        풍속(m/s)  강수량(mm)  습도(%)  일조(hr)  적설(cm)  전운량(10분위)  전운량(10분위)2  \\\n",
       "0           1.3      0.0   79.0     0.0     NaN        7.0         7.0   \n",
       "1           1.3      0.0   78.0     0.0     NaN        NaN         7.0   \n",
       "2           1.6      0.0   81.0     0.0     NaN        NaN         7.0   \n",
       "3           1.5      0.0   84.0     0.0     NaN        0.0         0.0   \n",
       "4           0.5      0.0   85.0     0.0     NaN        0.0         0.0   \n",
       "...         ...      ...    ...     ...     ...        ...         ...   \n",
       "656995      2.6      0.0   38.0     0.0     NaN        0.0         0.0   \n",
       "656996      2.4      0.0   41.0     0.0     NaN        0.0         0.0   \n",
       "656997      1.6      0.0   43.0     0.0     NaN        0.0         0.0   \n",
       "656998      1.3      0.0   42.0     0.0     NaN        0.0         0.0   \n",
       "656999      1.3      0.0   45.0     0.0     NaN        9.0         9.0   \n",
       "\n",
       "        눈내림(시간별)  눈내림(일별)  \n",
       "0              0        0  \n",
       "1              0        0  \n",
       "2              0        0  \n",
       "3              0        0  \n",
       "4              0        0  \n",
       "...          ...      ...  \n",
       "656995         0        0  \n",
       "656996         0        0  \n",
       "656997         0        0  \n",
       "656998         0        0  \n",
       "656999         0        0  \n",
       "\n",
       "[657000 rows x 16 columns]"
      ]
     },
     "execution_count": 396,
     "metadata": {},
     "output_type": "execute_result"
    }
   ],
   "source": [
    "weather.rename(columns = {'눈내림' : '눈내림(시간별)', '눈내림2': '눈내림(일별)'}, inplace = True)\n",
    "weather"
   ]
  },
  {
   "cell_type": "code",
   "execution_count": 401,
   "metadata": {
    "ExecuteTime": {
     "end_time": "2020-07-05T14:09:51.460905Z",
     "start_time": "2020-07-05T14:09:51.177357Z"
    }
   },
   "outputs": [
    {
     "name": "stdout",
     "output_type": "stream",
     "text": [
      "<class 'pandas.core.frame.DataFrame'>\n",
      "RangeIndex: 657000 entries, 0 to 656999\n",
      "Data columns (total 16 columns):\n",
      " #   Column      Non-Null Count   Dtype  \n",
      "---  ------      --------------   -----  \n",
      " 0   지점          657000 non-null  int64  \n",
      " 1   지점명         657000 non-null  object \n",
      " 2   주소          657000 non-null  object \n",
      " 3   구           657000 non-null  object \n",
      " 4   일시          657000 non-null  object \n",
      " 5   시간          657000 non-null  object \n",
      " 6   기온          657000 non-null  float64\n",
      " 7   풍속(m/s)     657000 non-null  float64\n",
      " 8   강수량(mm)     657000 non-null  float64\n",
      " 9   습도(%)       657000 non-null  float64\n",
      " 10  일조(hr)      657000 non-null  float64\n",
      " 11  적설(cm)      19750 non-null   float64\n",
      " 12  전운량(10분위)   580825 non-null  float64\n",
      " 13  전운량(10분위)2  657000 non-null  float64\n",
      " 14  눈내림(시간별)    657000 non-null  int64  \n",
      " 15  눈내림(일별)     657000 non-null  int64  \n",
      "dtypes: float64(8), int64(3), object(5)\n",
      "memory usage: 80.2+ MB\n"
     ]
    }
   ],
   "source": [
    "weather.info()"
   ]
  },
  {
   "cell_type": "markdown",
   "metadata": {},
   "source": [
    "# 최종 날씨 data set"
   ]
  },
  {
   "cell_type": "code",
   "execution_count": 454,
   "metadata": {
    "ExecuteTime": {
     "end_time": "2020-07-05T15:51:47.177751Z",
     "start_time": "2020-07-05T15:51:46.861595Z"
    }
   },
   "outputs": [
    {
     "data": {
      "text/plain": [
       "지점                 0\n",
       "지점명                0\n",
       "주소                 0\n",
       "구                  0\n",
       "일시                 0\n",
       "시간                 0\n",
       "기온                 0\n",
       "풍속(m/s)            0\n",
       "강수량(mm)            0\n",
       "습도(%)              0\n",
       "일조(hr)             0\n",
       "전운량(10분위)          0\n",
       "적설(cm)        637250\n",
       "눈내림여부(시간별)         0\n",
       "눈내림여부(일별)          0\n",
       "dtype: int64"
      ]
     },
     "execution_count": 454,
     "metadata": {},
     "output_type": "execute_result"
    }
   ],
   "source": [
    "weather.isnull().sum()"
   ]
  },
  {
   "cell_type": "code",
   "execution_count": 458,
   "metadata": {
    "ExecuteTime": {
     "end_time": "2020-07-05T15:52:26.018398Z",
     "start_time": "2020-07-05T15:52:25.809928Z"
    }
   },
   "outputs": [],
   "source": [
    "weather.fillna(value = 0, inplace=True)"
   ]
  },
  {
   "cell_type": "code",
   "execution_count": 459,
   "metadata": {
    "ExecuteTime": {
     "end_time": "2020-07-05T15:52:28.321289Z",
     "start_time": "2020-07-05T15:52:27.996094Z"
    }
   },
   "outputs": [
    {
     "data": {
      "text/plain": [
       "지점            0\n",
       "지점명           0\n",
       "주소            0\n",
       "구             0\n",
       "일시            0\n",
       "시간            0\n",
       "기온            0\n",
       "풍속(m/s)       0\n",
       "강수량(mm)       0\n",
       "습도(%)         0\n",
       "일조(hr)        0\n",
       "전운량(10분위)     0\n",
       "적설(cm)        0\n",
       "눈내림여부(시간별)    0\n",
       "눈내림여부(일별)     0\n",
       "dtype: int64"
      ]
     },
     "execution_count": 459,
     "metadata": {},
     "output_type": "execute_result"
    }
   ],
   "source": [
    "weather.isnull().sum()"
   ]
  },
  {
   "cell_type": "markdown",
   "metadata": {},
   "source": [
    "# 특성간 상관관계 파악"
   ]
  },
  {
   "cell_type": "code",
   "execution_count": 27,
   "metadata": {
    "ExecuteTime": {
     "end_time": "2020-07-06T00:30:09.323142Z",
     "start_time": "2020-07-06T00:30:07.801861Z"
    }
   },
   "outputs": [
    {
     "data": {
      "text/plain": [
       "<matplotlib.axes._subplots.AxesSubplot at 0x194a6aa2508>"
      ]
     },
     "execution_count": 27,
     "metadata": {},
     "output_type": "execute_result"
    },
    {
     "data": {
      "image/png": "[encoded data removed]",
      "text/plain": [
       "<Figure size 1440x1080 with 2 Axes>"
      ]
     },
     "metadata": {
      "image/png": {
       "height": 987,
       "width": 1193
      }
     },
     "output_type": "display_data"
    }
   ],
   "source": [
    "plt.figure(figsize=(20,15))\n",
    "# sns.set(font_scale=1.5)  # 야매로 변수명 폰트 사이즈 조정\n",
    "sns.heatmap(data = weather.corr(), annot=True, fmt = '.2f', linewidths=.5, cmap='Blues', annot_kws={\"fontsize\":13})"
   ]
  },
  {
   "cell_type": "markdown",
   "metadata": {},
   "source": [
    "- 일조량과 습도간 음의 상관관계 -0.54\n",
    "- 강수량과 적설량 상관관계 -0.0 => 아예 다른 변수라 할 수 있음 => 역시 둘다 가져가야될듯\n",
    "- 적설과 눈내림여부(일별), 눈내림여부(시간별) 높은 양의 상관관계를 보여서, '눈내림여부(일별), 눈내림여부(시간별)' 둘다 삭제해도될듯. 가져간다해도 '일별'이 나음\n",
    "- 눈내림여부(일별)과 눈내림여부(시간별) 양의 상관관계 0.79로 높음"
   ]
  },
  {
   "cell_type": "markdown",
   "metadata": {},
   "source": [
    "# 눈내림여부(시간별) drop"
   ]
  },
  {
   "cell_type": "code",
   "execution_count": 40,
   "metadata": {
    "ExecuteTime": {
     "end_time": "2020-07-06T02:47:03.455797Z",
     "start_time": "2020-07-06T02:47:03.350079Z"
    }
   },
   "outputs": [
    {
     "data": {
      "text/html": [
       "<div>\n",
       "<style scoped>\n",
       "    .dataframe tbody tr th:only-of-type {\n",
       "        vertical-align: middle;\n",
       "    }\n",
       "\n",
       "    .dataframe tbody tr th {\n",
       "        vertical-align: top;\n",
       "    }\n",
       "\n",
       "    .dataframe thead th {\n",
       "        text-align: right;\n",
       "    }\n",
       "</style>\n",
       "<table border=\"1\" class=\"dataframe\">\n",
       "  <thead>\n",
       "    <tr style=\"text-align: right;\">\n",
       "      <th></th>\n",
       "      <th>지점</th>\n",
       "      <th>지점명</th>\n",
       "      <th>주소</th>\n",
       "      <th>구</th>\n",
       "      <th>일시</th>\n",
       "      <th>시간</th>\n",
       "      <th>기온</th>\n",
       "      <th>풍속(m/s)</th>\n",
       "      <th>강수량(mm)</th>\n",
       "      <th>습도(%)</th>\n",
       "      <th>일조(hr)</th>\n",
       "      <th>전운량(10분위)</th>\n",
       "      <th>적설(cm)</th>\n",
       "      <th>눈내림여부(일별)</th>\n",
       "    </tr>\n",
       "  </thead>\n",
       "  <tbody>\n",
       "    <tr>\n",
       "      <th>0</th>\n",
       "      <td>400</td>\n",
       "      <td>강남</td>\n",
       "      <td>서울특별시 강남구 일원동</td>\n",
       "      <td>강남구</td>\n",
       "      <td>2017-01-01 00:00:00</td>\n",
       "      <td>00:00:00</td>\n",
       "      <td>1.7</td>\n",
       "      <td>1.3</td>\n",
       "      <td>0.0</td>\n",
       "      <td>79.0</td>\n",
       "      <td>0.0</td>\n",
       "      <td>7.0</td>\n",
       "      <td>0.0</td>\n",
       "      <td>0</td>\n",
       "    </tr>\n",
       "    <tr>\n",
       "      <th>1</th>\n",
       "      <td>400</td>\n",
       "      <td>강남</td>\n",
       "      <td>서울특별시 강남구 일원동</td>\n",
       "      <td>강남구</td>\n",
       "      <td>2017-01-01 01:00:00</td>\n",
       "      <td>01:00:00</td>\n",
       "      <td>1.4</td>\n",
       "      <td>1.3</td>\n",
       "      <td>0.0</td>\n",
       "      <td>78.0</td>\n",
       "      <td>0.0</td>\n",
       "      <td>7.0</td>\n",
       "      <td>0.0</td>\n",
       "      <td>0</td>\n",
       "    </tr>\n",
       "    <tr>\n",
       "      <th>2</th>\n",
       "      <td>400</td>\n",
       "      <td>강남</td>\n",
       "      <td>서울특별시 강남구 일원동</td>\n",
       "      <td>강남구</td>\n",
       "      <td>2017-01-01 02:00:00</td>\n",
       "      <td>02:00:00</td>\n",
       "      <td>1.2</td>\n",
       "      <td>1.6</td>\n",
       "      <td>0.0</td>\n",
       "      <td>81.0</td>\n",
       "      <td>0.0</td>\n",
       "      <td>7.0</td>\n",
       "      <td>0.0</td>\n",
       "      <td>0</td>\n",
       "    </tr>\n",
       "    <tr>\n",
       "      <th>3</th>\n",
       "      <td>400</td>\n",
       "      <td>강남</td>\n",
       "      <td>서울특별시 강남구 일원동</td>\n",
       "      <td>강남구</td>\n",
       "      <td>2017-01-01 03:00:00</td>\n",
       "      <td>03:00:00</td>\n",
       "      <td>0.5</td>\n",
       "      <td>1.5</td>\n",
       "      <td>0.0</td>\n",
       "      <td>84.0</td>\n",
       "      <td>0.0</td>\n",
       "      <td>0.0</td>\n",
       "      <td>0.0</td>\n",
       "      <td>0</td>\n",
       "    </tr>\n",
       "    <tr>\n",
       "      <th>4</th>\n",
       "      <td>400</td>\n",
       "      <td>강남</td>\n",
       "      <td>서울특별시 강남구 일원동</td>\n",
       "      <td>강남구</td>\n",
       "      <td>2017-01-01 04:00:00</td>\n",
       "      <td>04:00:00</td>\n",
       "      <td>0.6</td>\n",
       "      <td>0.5</td>\n",
       "      <td>0.0</td>\n",
       "      <td>85.0</td>\n",
       "      <td>0.0</td>\n",
       "      <td>0.0</td>\n",
       "      <td>0.0</td>\n",
       "      <td>0</td>\n",
       "    </tr>\n",
       "    <tr>\n",
       "      <th>...</th>\n",
       "      <td>...</td>\n",
       "      <td>...</td>\n",
       "      <td>...</td>\n",
       "      <td>...</td>\n",
       "      <td>...</td>\n",
       "      <td>...</td>\n",
       "      <td>...</td>\n",
       "      <td>...</td>\n",
       "      <td>...</td>\n",
       "      <td>...</td>\n",
       "      <td>...</td>\n",
       "      <td>...</td>\n",
       "      <td>...</td>\n",
       "      <td>...</td>\n",
       "    </tr>\n",
       "    <tr>\n",
       "      <th>656995</th>\n",
       "      <td>409</td>\n",
       "      <td>중랑</td>\n",
       "      <td>서울특별시 중랑구 면목동</td>\n",
       "      <td>중랑구</td>\n",
       "      <td>2019-12-31 19:00:00</td>\n",
       "      <td>19:00:00</td>\n",
       "      <td>-5.5</td>\n",
       "      <td>2.6</td>\n",
       "      <td>0.0</td>\n",
       "      <td>38.0</td>\n",
       "      <td>0.0</td>\n",
       "      <td>0.0</td>\n",
       "      <td>0.0</td>\n",
       "      <td>0</td>\n",
       "    </tr>\n",
       "    <tr>\n",
       "      <th>656996</th>\n",
       "      <td>409</td>\n",
       "      <td>중랑</td>\n",
       "      <td>서울특별시 중랑구 면목동</td>\n",
       "      <td>중랑구</td>\n",
       "      <td>2019-12-31 20:00:00</td>\n",
       "      <td>20:00:00</td>\n",
       "      <td>-5.6</td>\n",
       "      <td>2.4</td>\n",
       "      <td>0.0</td>\n",
       "      <td>41.0</td>\n",
       "      <td>0.0</td>\n",
       "      <td>0.0</td>\n",
       "      <td>0.0</td>\n",
       "      <td>0</td>\n",
       "    </tr>\n",
       "    <tr>\n",
       "      <th>656997</th>\n",
       "      <td>409</td>\n",
       "      <td>중랑</td>\n",
       "      <td>서울특별시 중랑구 면목동</td>\n",
       "      <td>중랑구</td>\n",
       "      <td>2019-12-31 21:00:00</td>\n",
       "      <td>21:00:00</td>\n",
       "      <td>-5.6</td>\n",
       "      <td>1.6</td>\n",
       "      <td>0.0</td>\n",
       "      <td>43.0</td>\n",
       "      <td>0.0</td>\n",
       "      <td>0.0</td>\n",
       "      <td>0.0</td>\n",
       "      <td>0</td>\n",
       "    </tr>\n",
       "    <tr>\n",
       "      <th>656998</th>\n",
       "      <td>409</td>\n",
       "      <td>중랑</td>\n",
       "      <td>서울특별시 중랑구 면목동</td>\n",
       "      <td>중랑구</td>\n",
       "      <td>2019-12-31 22:00:00</td>\n",
       "      <td>22:00:00</td>\n",
       "      <td>-5.8</td>\n",
       "      <td>1.3</td>\n",
       "      <td>0.0</td>\n",
       "      <td>42.0</td>\n",
       "      <td>0.0</td>\n",
       "      <td>0.0</td>\n",
       "      <td>0.0</td>\n",
       "      <td>0</td>\n",
       "    </tr>\n",
       "    <tr>\n",
       "      <th>656999</th>\n",
       "      <td>409</td>\n",
       "      <td>중랑</td>\n",
       "      <td>서울특별시 중랑구 면목동</td>\n",
       "      <td>중랑구</td>\n",
       "      <td>2019-12-31 23:00:00</td>\n",
       "      <td>23:00:00</td>\n",
       "      <td>-5.9</td>\n",
       "      <td>1.3</td>\n",
       "      <td>0.0</td>\n",
       "      <td>45.0</td>\n",
       "      <td>0.0</td>\n",
       "      <td>9.0</td>\n",
       "      <td>0.0</td>\n",
       "      <td>0</td>\n",
       "    </tr>\n",
       "  </tbody>\n",
       "</table>\n",
       "<p>657000 rows × 14 columns</p>\n",
       "</div>"
      ],
      "text/plain": [
       "         지점 지점명             주소    구                   일시        시간   기온  \\\n",
       "0       400  강남  서울특별시 강남구 일원동  강남구  2017-01-01 00:00:00  00:00:00  1.7   \n",
       "1       400  강남  서울특별시 강남구 일원동  강남구  2017-01-01 01:00:00  01:00:00  1.4   \n",
       "2       400  강남  서울특별시 강남구 일원동  강남구  2017-01-01 02:00:00  02:00:00  1.2   \n",
       "3       400  강남  서울특별시 강남구 일원동  강남구  2017-01-01 03:00:00  03:00:00  0.5   \n",
       "4       400  강남  서울특별시 강남구 일원동  강남구  2017-01-01 04:00:00  04:00:00  0.6   \n",
       "...     ...  ..            ...  ...                  ...       ...  ...   \n",
       "656995  409  중랑  서울특별시 중랑구 면목동  중랑구  2019-12-31 19:00:00  19:00:00 -5.5   \n",
       "656996  409  중랑  서울특별시 중랑구 면목동  중랑구  2019-12-31 20:00:00  20:00:00 -5.6   \n",
       "656997  409  중랑  서울특별시 중랑구 면목동  중랑구  2019-12-31 21:00:00  21:00:00 -5.6   \n",
       "656998  409  중랑  서울특별시 중랑구 면목동  중랑구  2019-12-31 22:00:00  22:00:00 -5.8   \n",
       "656999  409  중랑  서울특별시 중랑구 면목동  중랑구  2019-12-31 23:00:00  23:00:00 -5.9   \n",
       "\n",
       "        풍속(m/s)  강수량(mm)  습도(%)  일조(hr)  전운량(10분위)  적설(cm)  눈내림여부(일별)  \n",
       "0           1.3      0.0   79.0     0.0        7.0     0.0          0  \n",
       "1           1.3      0.0   78.0     0.0        7.0     0.0          0  \n",
       "2           1.6      0.0   81.0     0.0        7.0     0.0          0  \n",
       "3           1.5      0.0   84.0     0.0        0.0     0.0          0  \n",
       "4           0.5      0.0   85.0     0.0        0.0     0.0          0  \n",
       "...         ...      ...    ...     ...        ...     ...        ...  \n",
       "656995      2.6      0.0   38.0     0.0        0.0     0.0          0  \n",
       "656996      2.4      0.0   41.0     0.0        0.0     0.0          0  \n",
       "656997      1.6      0.0   43.0     0.0        0.0     0.0          0  \n",
       "656998      1.3      0.0   42.0     0.0        0.0     0.0          0  \n",
       "656999      1.3      0.0   45.0     0.0        9.0     0.0          0  \n",
       "\n",
       "[657000 rows x 14 columns]"
      ]
     },
     "execution_count": 40,
     "metadata": {},
     "output_type": "execute_result"
    }
   ],
   "source": [
    "weather.drop('눈내림여부(시간별)', axis=1, inplace=True)\n",
    "weather"
   ]
  },
  {
   "cell_type": "code",
   "execution_count": null,
   "metadata": {},
   "outputs": [],
   "source": [
    "weather.to_csv('final_weather.csv', encoding='cp949')"
   ]
  },
  {
   "cell_type": "code",
   "execution_count": null,
   "metadata": {},
   "outputs": [],
   "source": []
  }
 ],
 "metadata": {
  "kernelspec": {
   "display_name": "Python 3",
   "language": "python",
   "name": "python3"
  },
  "language_info": {
   "codemirror_mode": {
    "name": "ipython",
    "version": 3
   },
   "file_extension": ".py",
   "mimetype": "text/x-python",
   "name": "python",
   "nbconvert_exporter": "python",
   "pygments_lexer": "ipython3",
   "version": "3.7.6"
  },
  "toc": {
   "base_numbering": 1,
   "nav_menu": {},
   "number_sections": true,
   "sideBar": true,
   "skip_h1_title": false,
   "title_cell": "Table of Contents",
   "title_sidebar": "Contents",
   "toc_cell": true,
   "toc_position": {},
   "toc_section_display": true,
   "toc_window_display": false
  }
 },
 "nbformat": 4,
 "nbformat_minor": 4
}
